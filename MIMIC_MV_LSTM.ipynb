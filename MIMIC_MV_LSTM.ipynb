{
 "cells": [
  {
   "cell_type": "markdown",
   "metadata": {},
   "source": [
    "## Get Data"
   ]
  },
  {
   "cell_type": "code",
   "execution_count": 1,
   "metadata": {},
   "outputs": [],
   "source": [
    "import numpy as np\n",
    "import pandas as pd\n",
    "import psycopg2\n",
    "import os \n",
    "import random\n",
    "import datetime\n",
    "from sqlalchemy import create_engine\n",
    "import matplotlib.pyplot as plt\n",
    "\n",
    "%matplotlib inline\n",
    "\n",
    "random.seed(22891)\n",
    "\n",
    "# information used to create a database connection\n",
    "sqluser = 'postgres'\n",
    "dbname = 'mimic'\n",
    "schema_name = 'mimiciii'\n",
    "\n",
    "engine = create_engine(\"postgresql+psycopg2://{}:{}@/{}\".format(sqluser, sqluser, dbname))\n",
    "\n",
    "schema_name = 'mimiciii'\n",
    "conn = engine.connect()\n",
    "conn.execute('SET search_path to ' + schema_name)\n",
    "\n",
    "df = pd.read_sql(\"SELECT * FROM mimic_users_study;\", conn)\n",
    "\n",
    "conn.close()"
   ]
  },
  {
   "cell_type": "markdown",
   "metadata": {},
   "source": [
    "### Time Series Modeling"
   ]
  },
  {
   "cell_type": "markdown",
   "metadata": {},
   "source": [
    "#### Features"
   ]
  },
  {
   "cell_type": "code",
   "execution_count": 3,
   "metadata": {},
   "outputs": [],
   "source": [
    "vitals = ['heartrate_mean', 'sysbp_mean', 'diasbp_mean', 'meanbp_mean',\n",
    "          'resprate_mean', 'tempc_mean', 'spo2_mean', 'glucose_mean']\n",
    "labs = ['aniongap', 'albumin', 'bicarbonate', 'bilirubin', 'creatinine', \n",
    "        'chloride', 'glucose', 'hemoglobin', 'lactate', \n",
    "        'magnesium', 'phosphate', 'platelet', 'potassium', 'ptt', 'inr', \n",
    "        'pt', 'sodium', 'bun', 'wbc']  # -hematocrit\n",
    "comobs = ['congestive_heart_failure', 'chronic_pulmonary', 'pulmonary_circulation']\n",
    "others = ['age', 'gender']"
   ]
  },
  {
   "cell_type": "code",
   "execution_count": 4,
   "metadata": {},
   "outputs": [],
   "source": [
    "series_cols = vitals+labs+comobs+others\n",
    "df_series = df[['subject_id', 'timepoint'] + series_cols+['ventilated']].copy()"
   ]
  },
  {
   "cell_type": "markdown",
   "metadata": {},
   "source": [
    "#### Impute vitals+labs with mean and co-morbidities with 0"
   ]
  },
  {
   "cell_type": "code",
   "execution_count": 6,
   "metadata": {},
   "outputs": [],
   "source": [
    "df_series[vitals+labs] = df_series[vitals+labs].fillna(df_series[vitals+labs].mean())\n",
    "df_series[comobs] = df_series[comobs].fillna(0)"
   ]
  },
  {
   "cell_type": "markdown",
   "metadata": {},
   "source": [
    "#### Scale data"
   ]
  },
  {
   "cell_type": "code",
   "execution_count": 7,
   "metadata": {},
   "outputs": [
    {
     "name": "stderr",
     "output_type": "stream",
     "text": [
      "/Users/ag25710/miniconda3/envs/py36/lib/python3.6/site-packages/sklearn/utils/validation.py:595: DataConversionWarning: Data with input dtype int64 was converted to float64 by MinMaxScaler.\n",
      "  warnings.warn(msg, DataConversionWarning)\n"
     ]
    }
   ],
   "source": [
    "from sklearn import preprocessing\n",
    "\n",
    "for feat in vitals+labs+comobs+others:\n",
    "    df_series[feat] = preprocessing.MinMaxScaler().fit_transform(df_series[feat].values.reshape(-1, 1))"
   ]
  },
  {
   "cell_type": "code",
   "execution_count": 8,
   "metadata": {},
   "outputs": [],
   "source": [
    "df_series.set_index(['subject_id'], inplace=True)"
   ]
  },
  {
   "cell_type": "code",
   "execution_count": 9,
   "metadata": {},
   "outputs": [
    {
     "data": {
      "text/html": [
       "<div>\n",
       "<style scoped>\n",
       "    .dataframe tbody tr th:only-of-type {\n",
       "        vertical-align: middle;\n",
       "    }\n",
       "\n",
       "    .dataframe tbody tr th {\n",
       "        vertical-align: top;\n",
       "    }\n",
       "\n",
       "    .dataframe thead th {\n",
       "        text-align: right;\n",
       "    }\n",
       "</style>\n",
       "<table border=\"1\" class=\"dataframe\">\n",
       "  <thead>\n",
       "    <tr style=\"text-align: right;\">\n",
       "      <th></th>\n",
       "      <th>timepoint</th>\n",
       "      <th>heartrate_mean</th>\n",
       "      <th>sysbp_mean</th>\n",
       "      <th>diasbp_mean</th>\n",
       "      <th>meanbp_mean</th>\n",
       "      <th>resprate_mean</th>\n",
       "      <th>tempc_mean</th>\n",
       "      <th>spo2_mean</th>\n",
       "      <th>glucose_mean</th>\n",
       "      <th>aniongap</th>\n",
       "      <th>...</th>\n",
       "      <th>pt</th>\n",
       "      <th>sodium</th>\n",
       "      <th>bun</th>\n",
       "      <th>wbc</th>\n",
       "      <th>congestive_heart_failure</th>\n",
       "      <th>chronic_pulmonary</th>\n",
       "      <th>pulmonary_circulation</th>\n",
       "      <th>age</th>\n",
       "      <th>gender</th>\n",
       "      <th>ventilated</th>\n",
       "    </tr>\n",
       "    <tr>\n",
       "      <th>subject_id</th>\n",
       "      <th></th>\n",
       "      <th></th>\n",
       "      <th></th>\n",
       "      <th></th>\n",
       "      <th></th>\n",
       "      <th></th>\n",
       "      <th></th>\n",
       "      <th></th>\n",
       "      <th></th>\n",
       "      <th></th>\n",
       "      <th></th>\n",
       "      <th></th>\n",
       "      <th></th>\n",
       "      <th></th>\n",
       "      <th></th>\n",
       "      <th></th>\n",
       "      <th></th>\n",
       "      <th></th>\n",
       "      <th></th>\n",
       "      <th></th>\n",
       "      <th></th>\n",
       "    </tr>\n",
       "  </thead>\n",
       "  <tbody>\n",
       "    <tr>\n",
       "      <td>4</td>\n",
       "      <td>3</td>\n",
       "      <td>0.312030</td>\n",
       "      <td>0.433583</td>\n",
       "      <td>0.291667</td>\n",
       "      <td>0.304064</td>\n",
       "      <td>0.397059</td>\n",
       "      <td>0.672644</td>\n",
       "      <td>0.979167</td>\n",
       "      <td>0.063489</td>\n",
       "      <td>0.22</td>\n",
       "      <td>...</td>\n",
       "      <td>0.022017</td>\n",
       "      <td>0.453488</td>\n",
       "      <td>0.02952</td>\n",
       "      <td>0.014161</td>\n",
       "      <td>0.0</td>\n",
       "      <td>0.0</td>\n",
       "      <td>0.0</td>\n",
       "      <td>0.44</td>\n",
       "      <td>0.0</td>\n",
       "      <td>0</td>\n",
       "    </tr>\n",
       "    <tr>\n",
       "      <td>4</td>\n",
       "      <td>4</td>\n",
       "      <td>0.300752</td>\n",
       "      <td>0.439192</td>\n",
       "      <td>0.261139</td>\n",
       "      <td>0.280093</td>\n",
       "      <td>0.274872</td>\n",
       "      <td>0.672644</td>\n",
       "      <td>0.968750</td>\n",
       "      <td>0.062321</td>\n",
       "      <td>0.22</td>\n",
       "      <td>...</td>\n",
       "      <td>0.022017</td>\n",
       "      <td>0.453488</td>\n",
       "      <td>0.02952</td>\n",
       "      <td>0.014161</td>\n",
       "      <td>0.0</td>\n",
       "      <td>0.0</td>\n",
       "      <td>0.0</td>\n",
       "      <td>0.44</td>\n",
       "      <td>0.0</td>\n",
       "      <td>0</td>\n",
       "    </tr>\n",
       "    <tr>\n",
       "      <td>4</td>\n",
       "      <td>5</td>\n",
       "      <td>0.319549</td>\n",
       "      <td>0.484743</td>\n",
       "      <td>0.337963</td>\n",
       "      <td>0.344650</td>\n",
       "      <td>0.367647</td>\n",
       "      <td>0.672644</td>\n",
       "      <td>0.979167</td>\n",
       "      <td>0.063489</td>\n",
       "      <td>0.22</td>\n",
       "      <td>...</td>\n",
       "      <td>0.022017</td>\n",
       "      <td>0.453488</td>\n",
       "      <td>0.02952</td>\n",
       "      <td>0.014161</td>\n",
       "      <td>0.0</td>\n",
       "      <td>0.0</td>\n",
       "      <td>0.0</td>\n",
       "      <td>0.44</td>\n",
       "      <td>0.0</td>\n",
       "      <td>0</td>\n",
       "    </tr>\n",
       "    <tr>\n",
       "      <td>4</td>\n",
       "      <td>6</td>\n",
       "      <td>0.293233</td>\n",
       "      <td>0.439192</td>\n",
       "      <td>0.261139</td>\n",
       "      <td>0.280093</td>\n",
       "      <td>0.338235</td>\n",
       "      <td>0.664336</td>\n",
       "      <td>0.968750</td>\n",
       "      <td>0.063489</td>\n",
       "      <td>0.22</td>\n",
       "      <td>...</td>\n",
       "      <td>0.022017</td>\n",
       "      <td>0.453488</td>\n",
       "      <td>0.02952</td>\n",
       "      <td>0.014161</td>\n",
       "      <td>0.0</td>\n",
       "      <td>0.0</td>\n",
       "      <td>0.0</td>\n",
       "      <td>0.44</td>\n",
       "      <td>0.0</td>\n",
       "      <td>0</td>\n",
       "    </tr>\n",
       "    <tr>\n",
       "      <td>4</td>\n",
       "      <td>7</td>\n",
       "      <td>0.281955</td>\n",
       "      <td>0.506669</td>\n",
       "      <td>0.347222</td>\n",
       "      <td>0.356586</td>\n",
       "      <td>0.352941</td>\n",
       "      <td>0.672644</td>\n",
       "      <td>0.968750</td>\n",
       "      <td>0.063489</td>\n",
       "      <td>0.22</td>\n",
       "      <td>...</td>\n",
       "      <td>0.022017</td>\n",
       "      <td>0.453488</td>\n",
       "      <td>0.02952</td>\n",
       "      <td>0.014161</td>\n",
       "      <td>0.0</td>\n",
       "      <td>0.0</td>\n",
       "      <td>0.0</td>\n",
       "      <td>0.44</td>\n",
       "      <td>0.0</td>\n",
       "      <td>0</td>\n",
       "    </tr>\n",
       "  </tbody>\n",
       "</table>\n",
       "<p>5 rows × 34 columns</p>\n",
       "</div>"
      ],
      "text/plain": [
       "            timepoint  heartrate_mean  sysbp_mean  diasbp_mean  meanbp_mean  \\\n",
       "subject_id                                                                    \n",
       "4                   3        0.312030    0.433583     0.291667     0.304064   \n",
       "4                   4        0.300752    0.439192     0.261139     0.280093   \n",
       "4                   5        0.319549    0.484743     0.337963     0.344650   \n",
       "4                   6        0.293233    0.439192     0.261139     0.280093   \n",
       "4                   7        0.281955    0.506669     0.347222     0.356586   \n",
       "\n",
       "            resprate_mean  tempc_mean  spo2_mean  glucose_mean  aniongap  ...  \\\n",
       "subject_id                                                                ...   \n",
       "4                0.397059    0.672644   0.979167      0.063489      0.22  ...   \n",
       "4                0.274872    0.672644   0.968750      0.062321      0.22  ...   \n",
       "4                0.367647    0.672644   0.979167      0.063489      0.22  ...   \n",
       "4                0.338235    0.664336   0.968750      0.063489      0.22  ...   \n",
       "4                0.352941    0.672644   0.968750      0.063489      0.22  ...   \n",
       "\n",
       "                  pt    sodium      bun       wbc  congestive_heart_failure  \\\n",
       "subject_id                                                                    \n",
       "4           0.022017  0.453488  0.02952  0.014161                       0.0   \n",
       "4           0.022017  0.453488  0.02952  0.014161                       0.0   \n",
       "4           0.022017  0.453488  0.02952  0.014161                       0.0   \n",
       "4           0.022017  0.453488  0.02952  0.014161                       0.0   \n",
       "4           0.022017  0.453488  0.02952  0.014161                       0.0   \n",
       "\n",
       "            chronic_pulmonary  pulmonary_circulation   age  gender  ventilated  \n",
       "subject_id                                                                      \n",
       "4                         0.0                    0.0  0.44     0.0           0  \n",
       "4                         0.0                    0.0  0.44     0.0           0  \n",
       "4                         0.0                    0.0  0.44     0.0           0  \n",
       "4                         0.0                    0.0  0.44     0.0           0  \n",
       "4                         0.0                    0.0  0.44     0.0           0  \n",
       "\n",
       "[5 rows x 34 columns]"
      ]
     },
     "execution_count": 9,
     "metadata": {},
     "output_type": "execute_result"
    }
   ],
   "source": [
    "df_series.head()"
   ]
  },
  {
   "cell_type": "markdown",
   "metadata": {},
   "source": [
    "#### Train/Valid data prep"
   ]
  },
  {
   "cell_type": "code",
   "execution_count": 10,
   "metadata": {},
   "outputs": [],
   "source": [
    "x_train = list()\n",
    "y_train = list()\n",
    "x_test = list()\n",
    "y_test = list()\n",
    "\n",
    "for _, fname in df_series.groupby(level=0, group_keys=False):\n",
    "    tmp = fname[series_cols].astype(float).values\n",
    "    x_data = np.zeros([25, tmp.shape[1]])\n",
    "    x_data[:tmp.shape[0],:] = tmp\n",
    "    \n",
    "    tmp = fname['ventilated'].values\n",
    "    y_data = np.array(fname['ventilated'].values[0])\n",
    "    \n",
    "    if np.random.uniform() < 0.2:\n",
    "        x_test.append(x_data)\n",
    "        y_test.append(y_data)\n",
    "    else:\n",
    "        x_train.append(x_data)\n",
    "        y_train.append(y_data)\n",
    "        \n",
    "x_train = np.array(x_train)\n",
    "y_train = np.array(y_train)\n",
    "x_test = np.array(x_test)\n",
    "y_test = np.array(y_test)"
   ]
  },
  {
   "cell_type": "code",
   "execution_count": 11,
   "metadata": {},
   "outputs": [
    {
     "data": {
      "text/plain": [
       "((8258, 25, 32), (2157, 25, 32), (8258,), (2157,))"
      ]
     },
     "execution_count": 11,
     "metadata": {},
     "output_type": "execute_result"
    }
   ],
   "source": [
    "x_train.shape, x_test.shape, y_train.shape, y_test.shape"
   ]
  },
  {
   "cell_type": "code",
   "execution_count": 15,
   "metadata": {},
   "outputs": [
    {
     "data": {
      "text/plain": [
       "((array([0, 1]), array([6674, 1584])), (array([0, 1]), array([1721,  436])))"
      ]
     },
     "execution_count": 15,
     "metadata": {},
     "output_type": "execute_result"
    }
   ],
   "source": [
    "np.unique(y_train, return_counts=True), np.unique(y_test, return_counts=True)"
   ]
  },
  {
   "cell_type": "code",
   "execution_count": 30,
   "metadata": {},
   "outputs": [
    {
     "data": {
      "text/plain": [
       "array([0.61866946, 2.60669192])"
      ]
     },
     "execution_count": 30,
     "metadata": {},
     "output_type": "execute_result"
    }
   ],
   "source": [
    "from sklearn.utils import class_weight\n",
    "class_weights = class_weight.compute_class_weight('balanced', np.unique(y_train), y_train)\n",
    "class_weights"
   ]
  },
  {
   "cell_type": "markdown",
   "metadata": {},
   "source": [
    "#### LSTM model"
   ]
  },
  {
   "cell_type": "code",
   "execution_count": 32,
   "metadata": {},
   "outputs": [],
   "source": [
    "from keras.models import Sequential\n",
    "from keras.layers import Dense, Embedding\n",
    "from keras.layers import LSTM\n",
    "from keras.wrappers.scikit_learn import KerasClassifier\n",
    "from sklearn.model_selection import StratifiedKFold\n",
    "from sklearn.model_selection import cross_val_score\n",
    "\n",
    "def create_lstm():\n",
    "    model = Sequential()\n",
    "    model.add(LSTM(128, dropout=0.5, recurrent_dropout=0.2, input_shape=x_train.shape[1:]))\n",
    "    model.add(Dense(1, activation='sigmoid'))\n",
    "    model.compile(loss='binary_crossentropy',\n",
    "                  loss_weights=[class_weights[1]],\n",
    "                  optimizer='adam', \n",
    "                  metrics=['accuracy'])\n",
    "    return model"
   ]
  },
  {
   "cell_type": "markdown",
   "metadata": {},
   "source": [
    "#### Train/Test"
   ]
  },
  {
   "cell_type": "code",
   "execution_count": 40,
   "metadata": {},
   "outputs": [],
   "source": [
    "lstm = create_lstm()\n",
    "history = lstm.fit(x_train, y_train,\n",
    "                   batch_size=64,\n",
    "                   epochs=200,\n",
    "                   validation_data=(x_test, y_test),  \n",
    "                   verbose=0)"
   ]
  },
  {
   "cell_type": "code",
   "execution_count": 41,
   "metadata": {},
   "outputs": [
    {
     "data": {
      "image/png": "[encoded data removed]",
      "text/plain": [
       "<Figure size 864x432 with 2 Axes>"
      ]
     },
     "metadata": {
      "needs_background": "light"
     },
     "output_type": "display_data"
    }
   ],
   "source": [
    "# Plot training & validation accuracy values\n",
    "# Create two subplots and unpack the output array immediately\n",
    "f, (ax1, ax2) = plt.subplots(1, 2, sharex=True, figsize=[12,6])\n",
    "\n",
    "ax2.plot(history.history['accuracy'])\n",
    "ax2.plot(history.history['val_accuracy'])\n",
    "ax2.set_title('Model accuracy')\n",
    "ax2.set_ylabel('Accuracy')\n",
    "ax2.set_xlabel('Epoch')\n",
    "ax2.legend(['Train', 'Test'])\n",
    "ax2.grid('on')\n",
    "\n",
    "# Plot training & validation loss values\n",
    "ax1.plot(history.history['loss'])\n",
    "ax1.plot(history.history['val_loss'])\n",
    "ax1.set_title('Model loss')\n",
    "ax1.set_ylabel('Loss')\n",
    "ax1.set_xlabel('Epoch')\n",
    "ax1.legend(['Train', 'Test'])\n",
    "ax1.grid('on');"
   ]
  },
  {
   "cell_type": "code",
   "execution_count": 42,
   "metadata": {},
   "outputs": [
    {
     "name": "stdout",
     "output_type": "stream",
     "text": [
      "Accuracy: 0.874363\n",
      "Precision: 0.863436\n",
      "Recall: 0.449541\n",
      "F1 score: 0.591252\n",
      "ROC AUC: 0.834545\n",
      "[[1690   31]\n",
      " [ 240  196]]\n"
     ]
    }
   ],
   "source": [
    "from sklearn.metrics import accuracy_score\n",
    "from sklearn.metrics import precision_score\n",
    "from sklearn.metrics import recall_score\n",
    "from sklearn.metrics import f1_score\n",
    "from sklearn.metrics import roc_auc_score\n",
    "from sklearn.metrics import confusion_matrix\n",
    "\n",
    "# predict probabilities for test set\n",
    "yhat_probs = lstm.predict(x_test, verbose=0)\n",
    "\n",
    "# predict classes for test set\n",
    "yhat_classes = lstm.predict_classes(x_test, verbose=0)\n",
    "\n",
    "# reduce to 1d array\n",
    "yhat_probs = yhat_probs[:, 0]\n",
    "yhat_classes = yhat_classes[:, 0]\n",
    " \n",
    "# accuracy: (tp + tn) / (p + n)\n",
    "accuracy = accuracy_score(y_test, yhat_classes)\n",
    "print('Accuracy: %f' % accuracy)\n",
    "\n",
    "# precision tp / (tp + fp)\n",
    "precision = precision_score(y_test, yhat_classes)\n",
    "print('Precision: %f' % precision)\n",
    "\n",
    "# recall: tp / (tp + fn)\n",
    "recall = recall_score(y_test, yhat_classes)\n",
    "print('Recall: %f' % recall)\n",
    "\n",
    "# f1: 2 tp / (2 tp + fp + fn)\n",
    "f1 = f1_score(y_test, yhat_classes)\n",
    "print('F1 score: %f' % f1)\n",
    "\n",
    "# ROC AUC\n",
    "auc = roc_auc_score(y_test, yhat_probs)\n",
    "print('ROC AUC: %f' % auc)\n",
    "\n",
    "# confusion matrix\n",
    "matrix = confusion_matrix(y_test, yhat_classes)\n",
    "print(matrix)"
   ]
  },
  {
   "cell_type": "code",
   "execution_count": 43,
   "metadata": {},
   "outputs": [
    {
     "name": "stdout",
     "output_type": "stream",
     "text": [
      "Saved model to disk\n"
     ]
    }
   ],
   "source": [
    "# serialize model to JSON\n",
    "model_json = lstm.to_json()\n",
    "with open(\"lstm.json\", \"w\") as json_file:\n",
    "    json_file.write(model_json)\n",
    "# serialize weights to HDF5\n",
    "lstm.save_weights(\"lstm.h5\")\n",
    "print(\"Saved model to disk\")"
   ]
  },
  {
   "cell_type": "code",
   "execution_count": null,
   "metadata": {},
   "outputs": [],
   "source": []
  }
 ],
 "metadata": {
  "kernelspec": {
   "display_name": "py36",
   "language": "python",
   "name": "py36"
  },
  "language_info": {
   "codemirror_mode": {
    "name": "ipython",
    "version": 3
   },
   "file_extension": ".py",
   "mimetype": "text/x-python",
   "name": "python",
   "nbconvert_exporter": "python",
   "pygments_lexer": "ipython3",
   "version": "3.6.0"
  }
 },
 "nbformat": 4,
 "nbformat_minor": 2
}
