{
 "cells": [
  {
   "cell_type": "markdown",
   "metadata": {},
   "source": [
    "## A method for computing Model Agnostic Effect Coefficients (MAgEC)"
   ]
  },
  {
   "cell_type": "code",
   "execution_count": 1,
   "metadata": {},
   "outputs": [],
   "source": [
    "import warnings\n",
    "warnings.filterwarnings('ignore') "
   ]
  },
  {
   "cell_type": "code",
   "execution_count": 2,
   "metadata": {},
   "outputs": [
    {
     "name": "stderr",
     "output_type": "stream",
     "text": [
      "Using TensorFlow backend.\n"
     ]
    }
   ],
   "source": [
    "import numpy as np\n",
    "import pandas as pd\n",
    "from keras.models import Sequential\n",
    "from keras.layers import Dense\n",
    "from keras.layers import Dropout\n",
    "from keras.wrappers.scikit_learn import KerasClassifier\n",
    "from sklearn.model_selection import train_test_split\n",
    "from sklearn.preprocessing import StandardScaler\n",
    "from sklearn.ensemble import RandomForestClassifier\n",
    "from sklearn.calibration import CalibratedClassifierCV\n",
    "from sklearn.linear_model import LogisticRegression\n",
    "from sklearn.metrics import roc_auc_score\n",
    "from sklearn.ensemble import VotingClassifier\n",
    "import magec_utils as mg\n",
    "import matplotlib.pyplot as plt\n",
    "%matplotlib inline"
   ]
  },
  {
   "cell_type": "markdown",
   "metadata": {},
   "source": [
    "### PIMA Dataset\n",
    "The Pima are a group of Native Americans living in Arizona. A genetic predisposition allowed this group to survive normally to a diet poor of carbohydrates for years. In the recent years, the PIMA have undergone of a sudden shift from traditional agricultural crops to processed foods, together with a decline in physical activity. The Pima have been under near-constant study since 1965 due to the high incidence rate of Diabetes in PIMA females. The dataset was originally published by the National Institute of Diabetes and Digestive and Kidney Diseases, consisting of 8 diagnostic measurements pertaining to 768 females of age greater than 20.(Smith et al, 1988) and a binary target variable marking whether that woman developed type 2 diabetes within the next 5 years. Three types of models: logistic regression, a random forest, and a deep neural network were trained on the data with two goals. First, to provide a simple dataset with which to access the fidelity of the MAGECS. Second, to directly compare any differences that these three statistical models might learn when trained on the same data!"
   ]
  },
  {
   "cell_type": "code",
   "execution_count": 3,
   "metadata": {},
   "outputs": [],
   "source": [
    "pima = pd.read_csv('diabetes.csv')\n",
    "seed = 7\n",
    "np.random.seed(seed)\n",
    "x = pima.iloc[:, 0:8]\n",
    "Y = pima.iloc[:,8]\n",
    "\n",
    "x_train, x_validation, Y_train, Y_validation = train_test_split(x, Y, test_size=0.2, random_state=seed)\n",
    "\n",
    "stsc = StandardScaler()\n",
    "xst_train = stsc.fit_transform(x_train)\n",
    "xst_train = pd.DataFrame(xst_train, index=x_train.index, columns=x_train.columns)\n",
    "xst_validation = stsc.transform(x_validation)\n",
    "xst_validation = pd.DataFrame(xst_validation, index=x_validation.index, columns=x_validation.columns)\n",
    "\n",
    "# Format\n",
    "x_validation_p = xst_validation.copy()\n",
    "x_validation_p['timepoint'] = 0\n",
    "x_validation_p['case'] = np.arange(len(x_validation_p))\n",
    "x_validation_p.set_index(['case','timepoint'], inplace=True)\n",
    "x_validation_p = x_validation_p.sort_index(axis=1)\n",
    "\n",
    "y_validation_p = pd.DataFrame(Y_validation.copy())\n",
    "y_validation_p['timepoint'] = 0\n",
    "y_validation_p['case'] = np.arange(len(x_validation_p))\n",
    "y_validation_p.set_index(['case','timepoint'], inplace=True)\n",
    "y_validation_p = y_validation_p.sort_index(axis=1)\n",
    "\n",
    "\n",
    "# Format\n",
    "x_train_p = xst_train.copy()\n",
    "x_train_p['timepoint'] = 0\n",
    "x_train_p['case'] = np.arange(len(x_train_p))\n",
    "x_train_p.set_index(['case','timepoint'], inplace=True)\n",
    "x_train_p = x_train_p.sort_index(axis=1)"
   ]
  },
  {
   "cell_type": "markdown",
   "metadata": {},
   "source": [
    "### MAgECs (\"case\" level)\n",
    "Given a model and a dataset with 'scaled' (Z-normalized) features, iterate over dataset rows and features (and timepoints if dataset is a longitudinal dataset) and compute MAgEC coefficients. For a binary classification task the MAgEC coefficient for a given prediction is equal to the difference between the predicted logit probability for that datapoint and the predicted logit probability of a Z-perturbed datapoint. The latter is defined as the original datapoint with a modified feature set to 0 (mean value of scaled feature)."
   ]
  },
  {
   "cell_type": "markdown",
   "metadata": {},
   "source": [
    "### Multi-Layer-Perceptron Model "
   ]
  },
  {
   "cell_type": "code",
   "execution_count": 4,
   "metadata": {},
   "outputs": [
    {
     "data": {
      "text/plain": [
       "<keras.callbacks.callbacks.History at 0x14359f8d0>"
      ]
     },
     "execution_count": 4,
     "metadata": {},
     "output_type": "execute_result"
    }
   ],
   "source": [
    "def create_mlp():\n",
    "    mlp = Sequential()\n",
    "    mlp.add(Dense(60, input_dim=len(xst_train.columns), activation='relu'))\n",
    "    mlp.add(Dropout(0.2))\n",
    "    mlp.add(Dense(30, input_dim=60, activation='relu'))\n",
    "    mlp.add(Dropout(0.2))\n",
    "    mlp.add(Dense(1, activation='sigmoid'))\n",
    "    mlp.compile(loss='binary_crossentropy', optimizer='adam', metrics=['accuracy'])\n",
    "    return mlp\n",
    "\n",
    "mlp = KerasClassifier(build_fn=create_mlp, epochs=100, batch_size=64, verbose=0)\n",
    "\n",
    "mlp.fit(x_train_p, Y_train)"
   ]
  },
  {
   "cell_type": "code",
   "execution_count": 5,
   "metadata": {},
   "outputs": [],
   "source": [
    "case_mlp = mg.case_magecs(mlp, x_validation_p, model_name='mlp')"
   ]
  },
  {
   "cell_type": "code",
   "execution_count": 6,
   "metadata": {},
   "outputs": [],
   "source": [
    "# use all feature to normalize MAgECS\n",
    "magecs_mlp = mg.normalize_magecs(case_mlp, features=None, model_name='mlp')"
   ]
  },
  {
   "cell_type": "code",
   "execution_count": 7,
   "metadata": {},
   "outputs": [],
   "source": [
    "magecs_mlp = magecs_mlp.merge(y_validation_p, left_on=['case', 'timepoint'], right_index=True)"
   ]
  },
  {
   "cell_type": "code",
   "execution_count": 8,
   "metadata": {},
   "outputs": [
    {
     "name": "stdout",
     "output_type": "stream",
     "text": [
      "Accuracy: 0.805195\n",
      "Precision: 0.800000\n",
      "Recall: 0.631579\n",
      "F1 score: 0.705882\n",
      "ROC AUC: 0.834328\n",
      "[[88  9]\n",
      " [21 36]]\n"
     ]
    }
   ],
   "source": [
    "mlp_accuracy, mlp_precision, mlp_recall, mlp_f1, mlp_auc = mg.evaluate(mlp, x_validation_p, y_validation_p)"
   ]
  },
  {
   "cell_type": "markdown",
   "metadata": {},
   "source": [
    "### Random Forest (calibrated)"
   ]
  },
  {
   "cell_type": "code",
   "execution_count": 9,
   "metadata": {},
   "outputs": [
    {
     "data": {
      "text/plain": [
       "CalibratedClassifierCV(base_estimator=RandomForestClassifier(bootstrap=True, class_weight=None, criterion='gini',\n",
       "            max_depth=None, max_features='auto', max_leaf_nodes=None,\n",
       "            min_impurity_decrease=0.0, min_impurity_split=None,\n",
       "            min_samples_leaf=1, min_samples_split=2,\n",
       "            min_weight_fraction_leaf=0.0, n_estimators=1000, n_jobs=None,\n",
       "            oob_score=False, random_state=None, verbose=0,\n",
       "            warm_start=False),\n",
       "            cv=5, method='sigmoid')"
      ]
     },
     "execution_count": 9,
     "metadata": {},
     "output_type": "execute_result"
    }
   ],
   "source": [
    "rf = RandomForestClassifier(n_estimators=1000)\n",
    "rf.fit(x_train_p, Y_train)\n",
    "sigmoidRF = CalibratedClassifierCV(RandomForestClassifier(n_estimators=1000), cv=5, method='sigmoid')\n",
    "sigmoidRF.fit(x_train_p, Y_train)"
   ]
  },
  {
   "cell_type": "code",
   "execution_count": 10,
   "metadata": {},
   "outputs": [],
   "source": [
    "case_rf = mg.case_magecs(sigmoidRF, x_validation_p, model_name='rf')\n",
    "magecs_rf = mg.normalize_magecs(case_rf, features=None, model_name='rf')\n",
    "magecs_rf = magecs_rf.merge(y_validation_p, left_on=['case', 'timepoint'], right_index=True)"
   ]
  },
  {
   "cell_type": "code",
   "execution_count": 11,
   "metadata": {},
   "outputs": [
    {
     "name": "stdout",
     "output_type": "stream",
     "text": [
      "Accuracy: 0.792208\n",
      "Precision: 0.790698\n",
      "Recall: 0.596491\n",
      "F1 score: 0.680000\n",
      "ROC AUC: 0.866884\n",
      "[[88  9]\n",
      " [23 34]]\n"
     ]
    }
   ],
   "source": [
    "rf_accuracy, rf_precision, rf_recall, rf_f1, rf_auc = mg.evaluate(sigmoidRF, x_validation_p, y_validation_p)"
   ]
  },
  {
   "cell_type": "markdown",
   "metadata": {},
   "source": [
    "### Logistic Regression"
   ]
  },
  {
   "cell_type": "code",
   "execution_count": 12,
   "metadata": {},
   "outputs": [
    {
     "data": {
      "text/plain": [
       "LogisticRegression(C=1.0, class_weight=None, dual=False, fit_intercept=True,\n",
       "          intercept_scaling=1, max_iter=100, multi_class='warn',\n",
       "          n_jobs=None, penalty='l2', random_state=None, solver='warn',\n",
       "          tol=0.0001, verbose=0, warm_start=False)"
      ]
     },
     "execution_count": 12,
     "metadata": {},
     "output_type": "execute_result"
    }
   ],
   "source": [
    "lr = LogisticRegression(C=1.)\n",
    "lr.fit(x_train_p, Y_train)"
   ]
  },
  {
   "cell_type": "code",
   "execution_count": 13,
   "metadata": {},
   "outputs": [],
   "source": [
    "case_lr = mg.case_magecs(lr, x_validation_p, model_name='lr')\n",
    "magecs_lr = mg.normalize_magecs(case_lr, features=None, model_name='lr')\n",
    "magecs_lr = magecs_lr.merge(y_validation_p, left_on=['case', 'timepoint'], right_index=True)"
   ]
  },
  {
   "cell_type": "code",
   "execution_count": 14,
   "metadata": {},
   "outputs": [
    {
     "name": "stdout",
     "output_type": "stream",
     "text": [
      "Accuracy: 0.785714\n",
      "Precision: 0.800000\n",
      "Recall: 0.561404\n",
      "F1 score: 0.659794\n",
      "ROC AUC: 0.842648\n",
      "[[89  8]\n",
      " [25 32]]\n"
     ]
    }
   ],
   "source": [
    "lr_accuracy, lr_precision, lr_recall, lr_f1, lr_auc = mg.evaluate(lr, x_validation_p, y_validation_p)"
   ]
  },
  {
   "cell_type": "markdown",
   "metadata": {},
   "source": [
    "### Ensemble of models"
   ]
  },
  {
   "cell_type": "code",
   "execution_count": 15,
   "metadata": {},
   "outputs": [],
   "source": [
    "#create a dictionary of our models\n",
    "estimators=[('lr', lr), ('rf', sigmoidRF), ('mlp', mlp)]\n",
    "#create our voting classifier, inputting our models\n",
    "ensemble = VotingClassifier(estimators, voting='soft')"
   ]
  },
  {
   "cell_type": "code",
   "execution_count": 16,
   "metadata": {},
   "outputs": [
    {
     "data": {
      "text/plain": [
       "VotingClassifier(estimators=[('lr', LogisticRegression(C=1.0, class_weight=None, dual=False, fit_intercept=True,\n",
       "          intercept_scaling=1, max_iter=100, multi_class='warn',\n",
       "          n_jobs=None, penalty='l2', random_state=None, solver='warn',\n",
       "          tol=0.0001, verbose=0, warm_start=False)), ('rf', Calibrat...5, method='sigmoid')), ('mlp', <keras.wrappers.scikit_learn.KerasClassifier object at 0x14232f400>)],\n",
       "         flatten_transform=None, n_jobs=None, voting='soft', weights=None)"
      ]
     },
     "execution_count": 16,
     "metadata": {},
     "output_type": "execute_result"
    }
   ],
   "source": [
    "ensemble.fit(x_train_p, Y_train)"
   ]
  },
  {
   "cell_type": "code",
   "execution_count": 17,
   "metadata": {},
   "outputs": [
    {
     "name": "stdout",
     "output_type": "stream",
     "text": [
      "Accuracy: 0.805195\n",
      "Precision: 0.829268\n",
      "Recall: 0.596491\n",
      "F1 score: 0.693878\n",
      "ROC AUC: 0.862543\n",
      "[[90  7]\n",
      " [23 34]]\n"
     ]
    }
   ],
   "source": [
    "ensemble_accuracy, ensemble_precision, ensemble_recall, ensemble_f1, ensemble_auc = \\\n",
    "    mg.evaluate(ensemble, x_validation_p, y_validation_p)"
   ]
  },
  {
   "cell_type": "markdown",
   "metadata": {},
   "source": [
    "## MAgEC Consensus"
   ]
  },
  {
   "cell_type": "code",
   "execution_count": 18,
   "metadata": {},
   "outputs": [],
   "source": [
    "features = ['BloodPressure', 'BMI', 'Glucose', 'Insulin', 'SkinThickness']"
   ]
  },
  {
   "cell_type": "code",
   "execution_count": 19,
   "metadata": {},
   "outputs": [],
   "source": [
    "joined = mg.magec_models(magecs_mlp, \n",
    "                         magecs_rf, \n",
    "                         magecs_lr, \n",
    "                         Xdata=x_validation_p, \n",
    "                         Ydata=y_validation_p, \n",
    "                         features=features)"
   ]
  },
  {
   "cell_type": "code",
   "execution_count": 20,
   "metadata": {},
   "outputs": [
    {
     "data": {
      "text/html": [
       "<div>\n",
       "<style scoped>\n",
       "    .dataframe tbody tr th:only-of-type {\n",
       "        vertical-align: middle;\n",
       "    }\n",
       "\n",
       "    .dataframe tbody tr th {\n",
       "        vertical-align: top;\n",
       "    }\n",
       "\n",
       "    .dataframe thead th {\n",
       "        text-align: right;\n",
       "    }\n",
       "</style>\n",
       "<table border=\"1\" class=\"dataframe\">\n",
       "  <thead>\n",
       "    <tr style=\"text-align: right;\">\n",
       "      <th></th>\n",
       "      <th>case</th>\n",
       "      <th>timepoint</th>\n",
       "      <th>mlp_BMI</th>\n",
       "      <th>mlp_BloodPressure</th>\n",
       "      <th>mlp_Glucose</th>\n",
       "      <th>mlp_Insulin</th>\n",
       "      <th>mlp_SkinThickness</th>\n",
       "      <th>perturb_BMI_prob_mlp</th>\n",
       "      <th>perturb_BloodPressure_prob_mlp</th>\n",
       "      <th>perturb_Glucose_prob_mlp</th>\n",
       "      <th>...</th>\n",
       "      <th>lr_BloodPressure</th>\n",
       "      <th>lr_Glucose</th>\n",
       "      <th>lr_Insulin</th>\n",
       "      <th>lr_SkinThickness</th>\n",
       "      <th>perturb_BMI_prob_lr</th>\n",
       "      <th>perturb_BloodPressure_prob_lr</th>\n",
       "      <th>perturb_Glucose_prob_lr</th>\n",
       "      <th>perturb_Insulin_prob_lr</th>\n",
       "      <th>perturb_SkinThickness_prob_lr</th>\n",
       "      <th>orig_prob_lr</th>\n",
       "    </tr>\n",
       "  </thead>\n",
       "  <tbody>\n",
       "    <tr>\n",
       "      <td>0</td>\n",
       "      <td>0</td>\n",
       "      <td>0</td>\n",
       "      <td>0.393156</td>\n",
       "      <td>-0.045745</td>\n",
       "      <td>0.623150</td>\n",
       "      <td>-0.109838</td>\n",
       "      <td>0.116497</td>\n",
       "      <td>0.026089</td>\n",
       "      <td>0.007170</td>\n",
       "      <td>0.050553</td>\n",
       "      <td>...</td>\n",
       "      <td>-0.077178</td>\n",
       "      <td>0.839120</td>\n",
       "      <td>-0.036688</td>\n",
       "      <td>0.015571</td>\n",
       "      <td>0.112591</td>\n",
       "      <td>0.066757</td>\n",
       "      <td>0.171329</td>\n",
       "      <td>0.069739</td>\n",
       "      <td>0.073770</td>\n",
       "      <td>0.072547</td>\n",
       "    </tr>\n",
       "    <tr>\n",
       "      <td>1</td>\n",
       "      <td>1</td>\n",
       "      <td>0</td>\n",
       "      <td>-0.086009</td>\n",
       "      <td>-0.265920</td>\n",
       "      <td>-0.894807</td>\n",
       "      <td>0.129395</td>\n",
       "      <td>-0.008604</td>\n",
       "      <td>0.779143</td>\n",
       "      <td>0.729568</td>\n",
       "      <td>0.513686</td>\n",
       "      <td>...</td>\n",
       "      <td>0.095277</td>\n",
       "      <td>-0.951876</td>\n",
       "      <td>0.070729</td>\n",
       "      <td>-0.000556</td>\n",
       "      <td>0.815877</td>\n",
       "      <td>0.885038</td>\n",
       "      <td>0.465754</td>\n",
       "      <td>0.879739</td>\n",
       "      <td>0.863147</td>\n",
       "      <td>0.863284</td>\n",
       "    </tr>\n",
       "    <tr>\n",
       "      <td>2</td>\n",
       "      <td>2</td>\n",
       "      <td>0</td>\n",
       "      <td>0.103474</td>\n",
       "      <td>-0.194728</td>\n",
       "      <td>-0.384969</td>\n",
       "      <td>0.006378</td>\n",
       "      <td>-0.143297</td>\n",
       "      <td>0.940783</td>\n",
       "      <td>0.894696</td>\n",
       "      <td>0.850731</td>\n",
       "      <td>...</td>\n",
       "      <td>0.163621</td>\n",
       "      <td>-0.614731</td>\n",
       "      <td>-0.035675</td>\n",
       "      <td>-0.015821</td>\n",
       "      <td>0.822721</td>\n",
       "      <td>0.784033</td>\n",
       "      <td>0.493356</td>\n",
       "      <td>0.721596</td>\n",
       "      <td>0.728289</td>\n",
       "      <td>0.733549</td>\n",
       "    </tr>\n",
       "  </tbody>\n",
       "</table>\n",
       "<p>3 rows × 44 columns</p>\n",
       "</div>"
      ],
      "text/plain": [
       "   case  timepoint   mlp_BMI  mlp_BloodPressure  mlp_Glucose  mlp_Insulin  \\\n",
       "0     0          0  0.393156          -0.045745     0.623150    -0.109838   \n",
       "1     1          0 -0.086009          -0.265920    -0.894807     0.129395   \n",
       "2     2          0  0.103474          -0.194728    -0.384969     0.006378   \n",
       "\n",
       "   mlp_SkinThickness  perturb_BMI_prob_mlp  perturb_BloodPressure_prob_mlp  \\\n",
       "0           0.116497              0.026089                        0.007170   \n",
       "1          -0.008604              0.779143                        0.729568   \n",
       "2          -0.143297              0.940783                        0.894696   \n",
       "\n",
       "   perturb_Glucose_prob_mlp  ...  lr_BloodPressure  lr_Glucose  lr_Insulin  \\\n",
       "0                  0.050553  ...         -0.077178    0.839120   -0.036688   \n",
       "1                  0.513686  ...          0.095277   -0.951876    0.070729   \n",
       "2                  0.850731  ...          0.163621   -0.614731   -0.035675   \n",
       "\n",
       "   lr_SkinThickness  perturb_BMI_prob_lr  perturb_BloodPressure_prob_lr  \\\n",
       "0          0.015571             0.112591                       0.066757   \n",
       "1         -0.000556             0.815877                       0.885038   \n",
       "2         -0.015821             0.822721                       0.784033   \n",
       "\n",
       "   perturb_Glucose_prob_lr  perturb_Insulin_prob_lr  \\\n",
       "0                 0.171329                 0.069739   \n",
       "1                 0.465754                 0.879739   \n",
       "2                 0.493356                 0.721596   \n",
       "\n",
       "   perturb_SkinThickness_prob_lr  orig_prob_lr  \n",
       "0                       0.073770      0.072547  \n",
       "1                       0.863147      0.863284  \n",
       "2                       0.728289      0.733549  \n",
       "\n",
       "[3 rows x 44 columns]"
      ]
     },
     "execution_count": 20,
     "metadata": {},
     "output_type": "execute_result"
    }
   ],
   "source": [
    "joined.head(3)"
   ]
  },
  {
   "cell_type": "code",
   "execution_count": 21,
   "metadata": {},
   "outputs": [],
   "source": [
    "# use AUC scores as weights\n",
    "weights = {'mlp': mlp_auc, 'rf': rf_auc, 'lr': lr_auc}"
   ]
  },
  {
   "cell_type": "markdown",
   "metadata": {},
   "source": [
    "### MAgEC individual examples"
   ]
  },
  {
   "cell_type": "code",
   "execution_count": 22,
   "metadata": {},
   "outputs": [
    {
     "data": {
      "text/plain": [
       "case                              2.000000\n",
       "timepoint                         0.000000\n",
       "mlp_BMI                           0.103474\n",
       "mlp_BloodPressure                -0.194728\n",
       "mlp_Glucose                      -0.384969\n",
       "mlp_Insulin                       0.006378\n",
       "mlp_SkinThickness                -0.143297\n",
       "perturb_BMI_prob_mlp              0.940783\n",
       "perturb_BloodPressure_prob_mlp    0.894696\n",
       "perturb_Glucose_prob_mlp          0.850731\n",
       "perturb_Insulin_prob_mlp          0.928357\n",
       "perturb_SkinThickness_prob_mlp    0.904441\n",
       "orig_prob_mlp                     0.927461\n",
       "Age                               0.881772\n",
       "BMI                              -0.697264\n",
       "BloodPressure                     1.112848\n",
       "DiabetesPedigreeFunction          0.816093\n",
       "Glucose                           0.992034\n",
       "Insulin                          -0.435478\n",
       "Pregnancies                       2.762247\n",
       "SkinThickness                     0.779127\n",
       "Outcome                           1.000000\n",
       "rf_BMI                            0.894152\n",
       "rf_BloodPressure                 -0.154509\n",
       "rf_Glucose                       -0.306621\n",
       "rf_Insulin                       -0.006228\n",
       "rf_SkinThickness                 -0.055597\n",
       "perturb_BMI_prob_rf               0.801945\n",
       "perturb_BloodPressure_prob_rf     0.430997\n",
       "perturb_Glucose_prob_rf           0.372634\n",
       "perturb_Insulin_prob_rf           0.489812\n",
       "perturb_SkinThickness_prob_rf     0.470117\n",
       "orig_prob_rf                      0.492300\n",
       "lr_BMI                            0.308874\n",
       "lr_BloodPressure                  0.163621\n",
       "lr_Glucose                       -0.614731\n",
       "lr_Insulin                       -0.035675\n",
       "lr_SkinThickness                 -0.015821\n",
       "perturb_BMI_prob_lr               0.822721\n",
       "perturb_BloodPressure_prob_lr     0.784033\n",
       "perturb_Glucose_prob_lr           0.493356\n",
       "perturb_Insulin_prob_lr           0.721596\n",
       "perturb_SkinThickness_prob_lr     0.728289\n",
       "orig_prob_lr                      0.733549\n",
       "Name: 2, dtype: float64"
      ]
     },
     "execution_count": 22,
     "metadata": {},
     "output_type": "execute_result"
    }
   ],
   "source": [
    "joined.iloc[2]"
   ]
  },
  {
   "cell_type": "markdown",
   "metadata": {},
   "source": [
    "## MAgEC Policy"
   ]
  },
  {
   "cell_type": "markdown",
   "metadata": {},
   "source": [
    "### Ranked MAgECs (rank=1)"
   ]
  },
  {
   "cell_type": "code",
   "execution_count": 23,
   "metadata": {},
   "outputs": [],
   "source": [
    "# ranks1 = mg.magec_rank(joined, rank=1, features=features)\n",
    "# compute ranked MAgECs\n",
    "# ranks1 = mg.magec_rank(joined[joined['Outcome'] == 1], rank=1, features=features)\n",
    "ranks1 = mg.magec_rank(joined, rank=1, features=features)"
   ]
  },
  {
   "cell_type": "code",
   "execution_count": 24,
   "metadata": {},
   "outputs": [
    {
     "data": {
      "text/html": [
       "<div>\n",
       "<style scoped>\n",
       "    .dataframe tbody tr th:only-of-type {\n",
       "        vertical-align: middle;\n",
       "    }\n",
       "\n",
       "    .dataframe tbody tr th {\n",
       "        vertical-align: top;\n",
       "    }\n",
       "\n",
       "    .dataframe thead th {\n",
       "        text-align: right;\n",
       "    }\n",
       "</style>\n",
       "<table border=\"1\" class=\"dataframe\">\n",
       "  <thead>\n",
       "    <tr style=\"text-align: right;\">\n",
       "      <th></th>\n",
       "      <th>case</th>\n",
       "      <th>timepoint</th>\n",
       "      <th>Outcome</th>\n",
       "      <th>mlp_magec</th>\n",
       "      <th>mlp_feat</th>\n",
       "      <th>rf_magec</th>\n",
       "      <th>rf_feat</th>\n",
       "      <th>lr_magec</th>\n",
       "      <th>lr_feat</th>\n",
       "      <th>perturb_BloodPressure_prob_mlp</th>\n",
       "      <th>...</th>\n",
       "      <th>perturb_SkinThickness_prob_rf</th>\n",
       "      <th>perturb_SkinThickness_prob_lr</th>\n",
       "      <th>orig_prob_mlp</th>\n",
       "      <th>orig_prob_rf</th>\n",
       "      <th>orig_prob_lr</th>\n",
       "      <th>BloodPressure</th>\n",
       "      <th>BMI</th>\n",
       "      <th>Glucose</th>\n",
       "      <th>Insulin</th>\n",
       "      <th>SkinThickness</th>\n",
       "    </tr>\n",
       "  </thead>\n",
       "  <tbody>\n",
       "    <tr>\n",
       "      <td>0</td>\n",
       "      <td>0</td>\n",
       "      <td>0</td>\n",
       "      <td>0</td>\n",
       "      <td>-0.109838</td>\n",
       "      <td>Insulin</td>\n",
       "      <td>-0.053342</td>\n",
       "      <td>SkinThickness</td>\n",
       "      <td>-0.077178</td>\n",
       "      <td>BloodPressure</td>\n",
       "      <td>0.007170</td>\n",
       "      <td>...</td>\n",
       "      <td>0.081905</td>\n",
       "      <td>0.073770</td>\n",
       "      <td>0.008211</td>\n",
       "      <td>0.084613</td>\n",
       "      <td>0.072547</td>\n",
       "      <td>-0.359644</td>\n",
       "      <td>-0.645827</td>\n",
       "      <td>-0.927785</td>\n",
       "      <td>-0.306836</td>\n",
       "      <td>-0.525387</td>\n",
       "    </tr>\n",
       "    <tr>\n",
       "      <td>1</td>\n",
       "      <td>1</td>\n",
       "      <td>0</td>\n",
       "      <td>1</td>\n",
       "      <td>-0.894807</td>\n",
       "      <td>Glucose</td>\n",
       "      <td>-0.964191</td>\n",
       "      <td>Glucose</td>\n",
       "      <td>-0.951876</td>\n",
       "      <td>Glucose</td>\n",
       "      <td>0.729568</td>\n",
       "      <td>...</td>\n",
       "      <td>0.848736</td>\n",
       "      <td>0.863147</td>\n",
       "      <td>0.800419</td>\n",
       "      <td>0.849556</td>\n",
       "      <td>0.863284</td>\n",
       "      <td>0.797314</td>\n",
       "      <td>0.472920</td>\n",
       "      <td>1.890014</td>\n",
       "      <td>1.062290</td>\n",
       "      <td>0.033690</td>\n",
       "    </tr>\n",
       "    <tr>\n",
       "      <td>2</td>\n",
       "      <td>2</td>\n",
       "      <td>0</td>\n",
       "      <td>1</td>\n",
       "      <td>-0.384969</td>\n",
       "      <td>Glucose</td>\n",
       "      <td>-0.306621</td>\n",
       "      <td>Glucose</td>\n",
       "      <td>-0.614731</td>\n",
       "      <td>Glucose</td>\n",
       "      <td>0.894696</td>\n",
       "      <td>...</td>\n",
       "      <td>0.470117</td>\n",
       "      <td>0.728289</td>\n",
       "      <td>0.927461</td>\n",
       "      <td>0.492300</td>\n",
       "      <td>0.733549</td>\n",
       "      <td>1.112848</td>\n",
       "      <td>-0.697264</td>\n",
       "      <td>0.992034</td>\n",
       "      <td>-0.435478</td>\n",
       "      <td>0.779127</td>\n",
       "    </tr>\n",
       "  </tbody>\n",
       "</table>\n",
       "<p>3 rows × 32 columns</p>\n",
       "</div>"
      ],
      "text/plain": [
       "   case  timepoint  Outcome  mlp_magec mlp_feat  rf_magec        rf_feat  \\\n",
       "0     0          0        0  -0.109838  Insulin -0.053342  SkinThickness   \n",
       "1     1          0        1  -0.894807  Glucose -0.964191        Glucose   \n",
       "2     2          0        1  -0.384969  Glucose -0.306621        Glucose   \n",
       "\n",
       "   lr_magec        lr_feat  perturb_BloodPressure_prob_mlp  ...  \\\n",
       "0 -0.077178  BloodPressure                        0.007170  ...   \n",
       "1 -0.951876        Glucose                        0.729568  ...   \n",
       "2 -0.614731        Glucose                        0.894696  ...   \n",
       "\n",
       "   perturb_SkinThickness_prob_rf  perturb_SkinThickness_prob_lr  \\\n",
       "0                       0.081905                       0.073770   \n",
       "1                       0.848736                       0.863147   \n",
       "2                       0.470117                       0.728289   \n",
       "\n",
       "   orig_prob_mlp  orig_prob_rf  orig_prob_lr  BloodPressure       BMI  \\\n",
       "0       0.008211      0.084613      0.072547      -0.359644 -0.645827   \n",
       "1       0.800419      0.849556      0.863284       0.797314  0.472920   \n",
       "2       0.927461      0.492300      0.733549       1.112848 -0.697264   \n",
       "\n",
       "    Glucose   Insulin  SkinThickness  \n",
       "0 -0.927785 -0.306836      -0.525387  \n",
       "1  1.890014  1.062290       0.033690  \n",
       "2  0.992034 -0.435478       0.779127  \n",
       "\n",
       "[3 rows x 32 columns]"
      ]
     },
     "execution_count": 24,
     "metadata": {},
     "output_type": "execute_result"
    }
   ],
   "source": [
    "ranks1.head(3)"
   ]
  },
  {
   "cell_type": "code",
   "execution_count": 25,
   "metadata": {},
   "outputs": [
    {
     "name": "stdout",
     "output_type": "stream",
     "text": [
      "\t mlp MAgEC Stats\n",
      "**** mlp_feat ****\n",
      "Glucose          56\n",
      "Insulin          35\n",
      "BMI              26\n",
      "SkinThickness    22\n",
      "BloodPressure    14\n",
      "not_found         1\n",
      "Name: mlp_feat, dtype: int64\n",
      "***********\n",
      "\t rf MAgEC Stats\n",
      "**** rf_feat ****\n",
      "Glucose          56\n",
      "Insulin          52\n",
      "BloodPressure    25\n",
      "SkinThickness    19\n",
      "BMI               2\n",
      "Name: rf_feat, dtype: int64\n",
      "***********\n",
      "\t lr MAgEC Stats\n",
      "**** lr_feat ****\n",
      "Glucose          63\n",
      "BMI              31\n",
      "Insulin          31\n",
      "BloodPressure    26\n",
      "not_found         2\n",
      "SkinThickness     1\n",
      "Name: lr_feat, dtype: int64\n",
      "***********\n"
     ]
    }
   ],
   "source": [
    "mg.print_ranks_stats(ranks1)"
   ]
  },
  {
   "cell_type": "markdown",
   "metadata": {},
   "source": [
    "### Consensus using rank=1 and 'sum' policy"
   ]
  },
  {
   "cell_type": "code",
   "execution_count": 26,
   "metadata": {},
   "outputs": [],
   "source": [
    "consensus1a = mg.magec_consensus(ranks1, use_weights=True, weights=weights)"
   ]
  },
  {
   "cell_type": "code",
   "execution_count": 27,
   "metadata": {},
   "outputs": [
    {
     "data": {
      "text/html": [
       "<div>\n",
       "<style scoped>\n",
       "    .dataframe tbody tr th:only-of-type {\n",
       "        vertical-align: middle;\n",
       "    }\n",
       "\n",
       "    .dataframe tbody tr th {\n",
       "        vertical-align: top;\n",
       "    }\n",
       "\n",
       "    .dataframe thead th {\n",
       "        text-align: right;\n",
       "    }\n",
       "</style>\n",
       "<table border=\"1\" class=\"dataframe\">\n",
       "  <thead>\n",
       "    <tr style=\"text-align: right;\">\n",
       "      <th></th>\n",
       "      <th>case</th>\n",
       "      <th>timepoint</th>\n",
       "      <th>winner</th>\n",
       "      <th>score</th>\n",
       "      <th>consensus</th>\n",
       "      <th>models</th>\n",
       "      <th>avg_percent_consensus</th>\n",
       "      <th>avg_percent_all</th>\n",
       "    </tr>\n",
       "  </thead>\n",
       "  <tbody>\n",
       "    <tr>\n",
       "      <td>0</td>\n",
       "      <td>0</td>\n",
       "      <td>0</td>\n",
       "      <td>Insulin</td>\n",
       "      <td>0.091641</td>\n",
       "      <td>1</td>\n",
       "      <td>[mlp]</td>\n",
       "      <td>27.801759</td>\n",
       "      <td>11.064431</td>\n",
       "    </tr>\n",
       "    <tr>\n",
       "      <td>1</td>\n",
       "      <td>1</td>\n",
       "      <td>0</td>\n",
       "      <td>Glucose</td>\n",
       "      <td>2.384500</td>\n",
       "      <td>3</td>\n",
       "      <td>[lr, mlp, rf]</td>\n",
       "      <td>38.103785</td>\n",
       "      <td>38.103785</td>\n",
       "    </tr>\n",
       "    <tr>\n",
       "      <td>2</td>\n",
       "      <td>2</td>\n",
       "      <td>0</td>\n",
       "      <td>Glucose</td>\n",
       "      <td>1.104998</td>\n",
       "      <td>3</td>\n",
       "      <td>[lr, mlp, rf]</td>\n",
       "      <td>21.774934</td>\n",
       "      <td>21.774934</td>\n",
       "    </tr>\n",
       "  </tbody>\n",
       "</table>\n",
       "</div>"
      ],
      "text/plain": [
       "   case  timepoint   winner     score  consensus         models  \\\n",
       "0     0          0  Insulin  0.091641          1          [mlp]   \n",
       "1     1          0  Glucose  2.384500          3  [lr, mlp, rf]   \n",
       "2     2          0  Glucose  1.104998          3  [lr, mlp, rf]   \n",
       "\n",
       "   avg_percent_consensus  avg_percent_all  \n",
       "0              27.801759        11.064431  \n",
       "1              38.103785        38.103785  \n",
       "2              21.774934        21.774934  "
      ]
     },
     "execution_count": 27,
     "metadata": {},
     "output_type": "execute_result"
    }
   ],
   "source": [
    "consensus1a.head(3)"
   ]
  },
  {
   "cell_type": "code",
   "execution_count": 28,
   "metadata": {},
   "outputs": [
    {
     "data": {
      "text/plain": [
       "Glucose          59\n",
       "Insulin          35\n",
       "BMI              26\n",
       "BloodPressure    21\n",
       "SkinThickness    13\n",
       "Name: winner, dtype: int64"
      ]
     },
     "execution_count": 28,
     "metadata": {},
     "output_type": "execute_result"
    }
   ],
   "source": [
    "consensus1a.winner.value_counts()"
   ]
  },
  {
   "cell_type": "code",
   "execution_count": 29,
   "metadata": {},
   "outputs": [
    {
     "data": {
      "text/html": [
       "<div>\n",
       "<style scoped>\n",
       "    .dataframe tbody tr th:only-of-type {\n",
       "        vertical-align: middle;\n",
       "    }\n",
       "\n",
       "    .dataframe tbody tr th {\n",
       "        vertical-align: top;\n",
       "    }\n",
       "\n",
       "    .dataframe thead tr th {\n",
       "        text-align: left;\n",
       "    }\n",
       "\n",
       "    .dataframe thead tr:last-of-type th {\n",
       "        text-align: right;\n",
       "    }\n",
       "</style>\n",
       "<table border=\"1\" class=\"dataframe\">\n",
       "  <thead>\n",
       "    <tr>\n",
       "      <th></th>\n",
       "      <th colspan=\"3\" halign=\"left\">score</th>\n",
       "      <th colspan=\"3\" halign=\"left\">consensus</th>\n",
       "    </tr>\n",
       "    <tr>\n",
       "      <th></th>\n",
       "      <th>mean</th>\n",
       "      <th>std</th>\n",
       "      <th>count</th>\n",
       "      <th>mean</th>\n",
       "      <th>std</th>\n",
       "      <th>count</th>\n",
       "    </tr>\n",
       "    <tr>\n",
       "      <th>winner</th>\n",
       "      <th></th>\n",
       "      <th></th>\n",
       "      <th></th>\n",
       "      <th></th>\n",
       "      <th></th>\n",
       "      <th></th>\n",
       "    </tr>\n",
       "  </thead>\n",
       "  <tbody>\n",
       "    <tr>\n",
       "      <td>BMI</td>\n",
       "      <td>0.932031</td>\n",
       "      <td>0.381254</td>\n",
       "      <td>26</td>\n",
       "      <td>2.038462</td>\n",
       "      <td>0.344182</td>\n",
       "      <td>26</td>\n",
       "    </tr>\n",
       "    <tr>\n",
       "      <td>BloodPressure</td>\n",
       "      <td>0.378146</td>\n",
       "      <td>0.327698</td>\n",
       "      <td>21</td>\n",
       "      <td>1.904762</td>\n",
       "      <td>0.768424</td>\n",
       "      <td>21</td>\n",
       "    </tr>\n",
       "    <tr>\n",
       "      <td>Glucose</td>\n",
       "      <td>1.505350</td>\n",
       "      <td>0.724830</td>\n",
       "      <td>59</td>\n",
       "      <td>2.711864</td>\n",
       "      <td>0.493085</td>\n",
       "      <td>59</td>\n",
       "    </tr>\n",
       "    <tr>\n",
       "      <td>Insulin</td>\n",
       "      <td>0.397070</td>\n",
       "      <td>0.280706</td>\n",
       "      <td>35</td>\n",
       "      <td>2.028571</td>\n",
       "      <td>0.785370</td>\n",
       "      <td>35</td>\n",
       "    </tr>\n",
       "    <tr>\n",
       "      <td>SkinThickness</td>\n",
       "      <td>0.496151</td>\n",
       "      <td>0.263572</td>\n",
       "      <td>13</td>\n",
       "      <td>1.384615</td>\n",
       "      <td>0.506370</td>\n",
       "      <td>13</td>\n",
       "    </tr>\n",
       "  </tbody>\n",
       "</table>\n",
       "</div>"
      ],
      "text/plain": [
       "                  score                 consensus                \n",
       "                   mean       std count      mean       std count\n",
       "winner                                                           \n",
       "BMI            0.932031  0.381254    26  2.038462  0.344182    26\n",
       "BloodPressure  0.378146  0.327698    21  1.904762  0.768424    21\n",
       "Glucose        1.505350  0.724830    59  2.711864  0.493085    59\n",
       "Insulin        0.397070  0.280706    35  2.028571  0.785370    35\n",
       "SkinThickness  0.496151  0.263572    13  1.384615  0.506370    13"
      ]
     },
     "execution_count": 29,
     "metadata": {},
     "output_type": "execute_result"
    }
   ],
   "source": [
    "consensus1a[['winner','score','consensus']].groupby(['winner']).agg(['mean','std', 'count'])"
   ]
  },
  {
   "cell_type": "markdown",
   "metadata": {},
   "source": [
    "### Consensus using rank=1 and 'mean' policy"
   ]
  },
  {
   "cell_type": "code",
   "execution_count": 30,
   "metadata": {},
   "outputs": [],
   "source": [
    "consensus1b = mg.magec_consensus(ranks1, use_weights=True, weights=weights, policy='mean')"
   ]
  },
  {
   "cell_type": "code",
   "execution_count": 31,
   "metadata": {},
   "outputs": [
    {
     "data": {
      "text/html": [
       "<div>\n",
       "<style scoped>\n",
       "    .dataframe tbody tr th:only-of-type {\n",
       "        vertical-align: middle;\n",
       "    }\n",
       "\n",
       "    .dataframe tbody tr th {\n",
       "        vertical-align: top;\n",
       "    }\n",
       "\n",
       "    .dataframe thead th {\n",
       "        text-align: right;\n",
       "    }\n",
       "</style>\n",
       "<table border=\"1\" class=\"dataframe\">\n",
       "  <thead>\n",
       "    <tr style=\"text-align: right;\">\n",
       "      <th></th>\n",
       "      <th>case</th>\n",
       "      <th>timepoint</th>\n",
       "      <th>winner</th>\n",
       "      <th>score</th>\n",
       "      <th>consensus</th>\n",
       "      <th>models</th>\n",
       "      <th>avg_percent_consensus</th>\n",
       "      <th>avg_percent_all</th>\n",
       "    </tr>\n",
       "  </thead>\n",
       "  <tbody>\n",
       "    <tr>\n",
       "      <td>0</td>\n",
       "      <td>0</td>\n",
       "      <td>0</td>\n",
       "      <td>Insulin</td>\n",
       "      <td>0.091641</td>\n",
       "      <td>1</td>\n",
       "      <td>[mlp]</td>\n",
       "      <td>27.801759</td>\n",
       "      <td>11.064431</td>\n",
       "    </tr>\n",
       "    <tr>\n",
       "      <td>1</td>\n",
       "      <td>1</td>\n",
       "      <td>0</td>\n",
       "      <td>Glucose</td>\n",
       "      <td>0.794833</td>\n",
       "      <td>3</td>\n",
       "      <td>[lr, mlp, rf]</td>\n",
       "      <td>38.103785</td>\n",
       "      <td>38.103785</td>\n",
       "    </tr>\n",
       "    <tr>\n",
       "      <td>2</td>\n",
       "      <td>2</td>\n",
       "      <td>0</td>\n",
       "      <td>Glucose</td>\n",
       "      <td>0.368333</td>\n",
       "      <td>3</td>\n",
       "      <td>[lr, mlp, rf]</td>\n",
       "      <td>21.774934</td>\n",
       "      <td>21.774934</td>\n",
       "    </tr>\n",
       "  </tbody>\n",
       "</table>\n",
       "</div>"
      ],
      "text/plain": [
       "   case  timepoint   winner     score  consensus         models  \\\n",
       "0     0          0  Insulin  0.091641          1          [mlp]   \n",
       "1     1          0  Glucose  0.794833          3  [lr, mlp, rf]   \n",
       "2     2          0  Glucose  0.368333          3  [lr, mlp, rf]   \n",
       "\n",
       "   avg_percent_consensus  avg_percent_all  \n",
       "0              27.801759        11.064431  \n",
       "1              38.103785        38.103785  \n",
       "2              21.774934        21.774934  "
      ]
     },
     "execution_count": 31,
     "metadata": {},
     "output_type": "execute_result"
    }
   ],
   "source": [
    "consensus1b.head(3)"
   ]
  },
  {
   "cell_type": "code",
   "execution_count": 32,
   "metadata": {},
   "outputs": [
    {
     "data": {
      "text/plain": [
       "Glucose          51\n",
       "Insulin          41\n",
       "BMI              22\n",
       "BloodPressure    22\n",
       "SkinThickness    18\n",
       "Name: winner, dtype: int64"
      ]
     },
     "execution_count": 32,
     "metadata": {},
     "output_type": "execute_result"
    }
   ],
   "source": [
    "consensus1b.winner.value_counts()"
   ]
  },
  {
   "cell_type": "code",
   "execution_count": 33,
   "metadata": {},
   "outputs": [
    {
     "data": {
      "text/html": [
       "<div>\n",
       "<style scoped>\n",
       "    .dataframe tbody tr th:only-of-type {\n",
       "        vertical-align: middle;\n",
       "    }\n",
       "\n",
       "    .dataframe tbody tr th {\n",
       "        vertical-align: top;\n",
       "    }\n",
       "\n",
       "    .dataframe thead tr th {\n",
       "        text-align: left;\n",
       "    }\n",
       "\n",
       "    .dataframe thead tr:last-of-type th {\n",
       "        text-align: right;\n",
       "    }\n",
       "</style>\n",
       "<table border=\"1\" class=\"dataframe\">\n",
       "  <thead>\n",
       "    <tr>\n",
       "      <th></th>\n",
       "      <th colspan=\"3\" halign=\"left\">score</th>\n",
       "      <th colspan=\"3\" halign=\"left\">consensus</th>\n",
       "    </tr>\n",
       "    <tr>\n",
       "      <th></th>\n",
       "      <th>mean</th>\n",
       "      <th>std</th>\n",
       "      <th>count</th>\n",
       "      <th>mean</th>\n",
       "      <th>std</th>\n",
       "      <th>count</th>\n",
       "    </tr>\n",
       "    <tr>\n",
       "      <th>winner</th>\n",
       "      <th></th>\n",
       "      <th></th>\n",
       "      <th></th>\n",
       "      <th></th>\n",
       "      <th></th>\n",
       "      <th></th>\n",
       "    </tr>\n",
       "  </thead>\n",
       "  <tbody>\n",
       "    <tr>\n",
       "      <td>BMI</td>\n",
       "      <td>0.463531</td>\n",
       "      <td>0.158843</td>\n",
       "      <td>22</td>\n",
       "      <td>2.000000</td>\n",
       "      <td>0.436436</td>\n",
       "      <td>22</td>\n",
       "    </tr>\n",
       "    <tr>\n",
       "      <td>BloodPressure</td>\n",
       "      <td>0.202457</td>\n",
       "      <td>0.162005</td>\n",
       "      <td>22</td>\n",
       "      <td>1.863636</td>\n",
       "      <td>0.774317</td>\n",
       "      <td>22</td>\n",
       "    </tr>\n",
       "    <tr>\n",
       "      <td>Glucose</td>\n",
       "      <td>0.571218</td>\n",
       "      <td>0.217167</td>\n",
       "      <td>51</td>\n",
       "      <td>2.803922</td>\n",
       "      <td>0.490698</td>\n",
       "      <td>51</td>\n",
       "    </tr>\n",
       "    <tr>\n",
       "      <td>Insulin</td>\n",
       "      <td>0.269718</td>\n",
       "      <td>0.204164</td>\n",
       "      <td>41</td>\n",
       "      <td>1.804878</td>\n",
       "      <td>0.843194</td>\n",
       "      <td>41</td>\n",
       "    </tr>\n",
       "    <tr>\n",
       "      <td>SkinThickness</td>\n",
       "      <td>0.408650</td>\n",
       "      <td>0.145522</td>\n",
       "      <td>18</td>\n",
       "      <td>1.222222</td>\n",
       "      <td>0.427793</td>\n",
       "      <td>18</td>\n",
       "    </tr>\n",
       "  </tbody>\n",
       "</table>\n",
       "</div>"
      ],
      "text/plain": [
       "                  score                 consensus                \n",
       "                   mean       std count      mean       std count\n",
       "winner                                                           \n",
       "BMI            0.463531  0.158843    22  2.000000  0.436436    22\n",
       "BloodPressure  0.202457  0.162005    22  1.863636  0.774317    22\n",
       "Glucose        0.571218  0.217167    51  2.803922  0.490698    51\n",
       "Insulin        0.269718  0.204164    41  1.804878  0.843194    41\n",
       "SkinThickness  0.408650  0.145522    18  1.222222  0.427793    18"
      ]
     },
     "execution_count": 33,
     "metadata": {},
     "output_type": "execute_result"
    }
   ],
   "source": [
    "consensus1b[['winner','score','consensus']].groupby(['winner']).agg(['mean','std', 'count'])"
   ]
  },
  {
   "cell_type": "markdown",
   "metadata": {},
   "source": [
    "### Ranked MAgECs (rank=3)"
   ]
  },
  {
   "cell_type": "code",
   "execution_count": 34,
   "metadata": {},
   "outputs": [],
   "source": [
    "# ranks3 = mg.magec_rank(joined, rank=3)\n",
    "# ranks3 = mg.magec_rank(joined[joined['Outcome'] == 1], rank=3, features=features)\n",
    "ranks3 = mg.magec_rank(joined, rank=3, features=features)"
   ]
  },
  {
   "cell_type": "code",
   "execution_count": 35,
   "metadata": {},
   "outputs": [
    {
     "data": {
      "text/html": [
       "<div>\n",
       "<style scoped>\n",
       "    .dataframe tbody tr th:only-of-type {\n",
       "        vertical-align: middle;\n",
       "    }\n",
       "\n",
       "    .dataframe tbody tr th {\n",
       "        vertical-align: top;\n",
       "    }\n",
       "\n",
       "    .dataframe thead th {\n",
       "        text-align: right;\n",
       "    }\n",
       "</style>\n",
       "<table border=\"1\" class=\"dataframe\">\n",
       "  <thead>\n",
       "    <tr style=\"text-align: right;\">\n",
       "      <th></th>\n",
       "      <th>case</th>\n",
       "      <th>timepoint</th>\n",
       "      <th>Outcome</th>\n",
       "      <th>mlp_magec_3</th>\n",
       "      <th>mlp_feat_3</th>\n",
       "      <th>mlp_magec_2</th>\n",
       "      <th>mlp_feat_2</th>\n",
       "      <th>mlp_magec_1</th>\n",
       "      <th>mlp_feat_1</th>\n",
       "      <th>rf_magec_3</th>\n",
       "      <th>...</th>\n",
       "      <th>perturb_SkinThickness_prob_rf</th>\n",
       "      <th>perturb_SkinThickness_prob_lr</th>\n",
       "      <th>orig_prob_mlp</th>\n",
       "      <th>orig_prob_rf</th>\n",
       "      <th>orig_prob_lr</th>\n",
       "      <th>BloodPressure</th>\n",
       "      <th>BMI</th>\n",
       "      <th>Glucose</th>\n",
       "      <th>Insulin</th>\n",
       "      <th>SkinThickness</th>\n",
       "    </tr>\n",
       "  </thead>\n",
       "  <tbody>\n",
       "    <tr>\n",
       "      <td>0</td>\n",
       "      <td>0</td>\n",
       "      <td>0</td>\n",
       "      <td>0</td>\n",
       "      <td>NaN</td>\n",
       "      <td>not_found</td>\n",
       "      <td>-0.045745</td>\n",
       "      <td>BloodPressure</td>\n",
       "      <td>-0.109838</td>\n",
       "      <td>Insulin</td>\n",
       "      <td>-0.025156</td>\n",
       "      <td>...</td>\n",
       "      <td>0.081905</td>\n",
       "      <td>0.073770</td>\n",
       "      <td>0.008211</td>\n",
       "      <td>0.084613</td>\n",
       "      <td>0.072547</td>\n",
       "      <td>-0.359644</td>\n",
       "      <td>-0.645827</td>\n",
       "      <td>-0.927785</td>\n",
       "      <td>-0.306836</td>\n",
       "      <td>-0.525387</td>\n",
       "    </tr>\n",
       "    <tr>\n",
       "      <td>1</td>\n",
       "      <td>1</td>\n",
       "      <td>0</td>\n",
       "      <td>1</td>\n",
       "      <td>-0.086009</td>\n",
       "      <td>BMI</td>\n",
       "      <td>-0.265920</td>\n",
       "      <td>BloodPressure</td>\n",
       "      <td>-0.894807</td>\n",
       "      <td>Glucose</td>\n",
       "      <td>-0.119684</td>\n",
       "      <td>...</td>\n",
       "      <td>0.848736</td>\n",
       "      <td>0.863147</td>\n",
       "      <td>0.800419</td>\n",
       "      <td>0.849556</td>\n",
       "      <td>0.863284</td>\n",
       "      <td>0.797314</td>\n",
       "      <td>0.472920</td>\n",
       "      <td>1.890014</td>\n",
       "      <td>1.062290</td>\n",
       "      <td>0.033690</td>\n",
       "    </tr>\n",
       "    <tr>\n",
       "      <td>2</td>\n",
       "      <td>2</td>\n",
       "      <td>0</td>\n",
       "      <td>1</td>\n",
       "      <td>-0.143297</td>\n",
       "      <td>SkinThickness</td>\n",
       "      <td>-0.194728</td>\n",
       "      <td>BloodPressure</td>\n",
       "      <td>-0.384969</td>\n",
       "      <td>Glucose</td>\n",
       "      <td>-0.055597</td>\n",
       "      <td>...</td>\n",
       "      <td>0.470117</td>\n",
       "      <td>0.728289</td>\n",
       "      <td>0.927461</td>\n",
       "      <td>0.492300</td>\n",
       "      <td>0.733549</td>\n",
       "      <td>1.112848</td>\n",
       "      <td>-0.697264</td>\n",
       "      <td>0.992034</td>\n",
       "      <td>-0.435478</td>\n",
       "      <td>0.779127</td>\n",
       "    </tr>\n",
       "    <tr>\n",
       "      <td>3</td>\n",
       "      <td>3</td>\n",
       "      <td>0</td>\n",
       "      <td>0</td>\n",
       "      <td>-0.076149</td>\n",
       "      <td>Insulin</td>\n",
       "      <td>-0.183624</td>\n",
       "      <td>SkinThickness</td>\n",
       "      <td>-0.275396</td>\n",
       "      <td>BloodPressure</td>\n",
       "      <td>-0.003233</td>\n",
       "      <td>...</td>\n",
       "      <td>0.110920</td>\n",
       "      <td>0.139840</td>\n",
       "      <td>0.126700</td>\n",
       "      <td>0.135150</td>\n",
       "      <td>0.142306</td>\n",
       "      <td>-0.990712</td>\n",
       "      <td>-0.452940</td>\n",
       "      <td>-0.834890</td>\n",
       "      <td>-0.113872</td>\n",
       "      <td>0.592768</td>\n",
       "    </tr>\n",
       "    <tr>\n",
       "      <td>4</td>\n",
       "      <td>4</td>\n",
       "      <td>0</td>\n",
       "      <td>1</td>\n",
       "      <td>-0.009749</td>\n",
       "      <td>BloodPressure</td>\n",
       "      <td>-0.012205</td>\n",
       "      <td>Insulin</td>\n",
       "      <td>-0.099520</td>\n",
       "      <td>Glucose</td>\n",
       "      <td>NaN</td>\n",
       "      <td>...</td>\n",
       "      <td>0.473518</td>\n",
       "      <td>0.348880</td>\n",
       "      <td>0.185720</td>\n",
       "      <td>0.502357</td>\n",
       "      <td>0.354004</td>\n",
       "      <td>0.481780</td>\n",
       "      <td>-0.594391</td>\n",
       "      <td>0.155984</td>\n",
       "      <td>-0.701953</td>\n",
       "      <td>0.654887</td>\n",
       "    </tr>\n",
       "  </tbody>\n",
       "</table>\n",
       "<p>5 rows × 44 columns</p>\n",
       "</div>"
      ],
      "text/plain": [
       "   case  timepoint  Outcome  mlp_magec_3     mlp_feat_3  mlp_magec_2  \\\n",
       "0     0          0        0          NaN      not_found    -0.045745   \n",
       "1     1          0        1    -0.086009            BMI    -0.265920   \n",
       "2     2          0        1    -0.143297  SkinThickness    -0.194728   \n",
       "3     3          0        0    -0.076149        Insulin    -0.183624   \n",
       "4     4          0        1    -0.009749  BloodPressure    -0.012205   \n",
       "\n",
       "      mlp_feat_2  mlp_magec_1     mlp_feat_1  rf_magec_3  ...  \\\n",
       "0  BloodPressure    -0.109838        Insulin   -0.025156  ...   \n",
       "1  BloodPressure    -0.894807        Glucose   -0.119684  ...   \n",
       "2  BloodPressure    -0.384969        Glucose   -0.055597  ...   \n",
       "3  SkinThickness    -0.275396  BloodPressure   -0.003233  ...   \n",
       "4        Insulin    -0.099520        Glucose         NaN  ...   \n",
       "\n",
       "  perturb_SkinThickness_prob_rf  perturb_SkinThickness_prob_lr orig_prob_mlp  \\\n",
       "0                      0.081905                       0.073770      0.008211   \n",
       "1                      0.848736                       0.863147      0.800419   \n",
       "2                      0.470117                       0.728289      0.927461   \n",
       "3                      0.110920                       0.139840      0.126700   \n",
       "4                      0.473518                       0.348880      0.185720   \n",
       "\n",
       "   orig_prob_rf orig_prob_lr  BloodPressure       BMI   Glucose   Insulin  \\\n",
       "0      0.084613     0.072547      -0.359644 -0.645827 -0.927785 -0.306836   \n",
       "1      0.849556     0.863284       0.797314  0.472920  1.890014  1.062290   \n",
       "2      0.492300     0.733549       1.112848 -0.697264  0.992034 -0.435478   \n",
       "3      0.135150     0.142306      -0.990712 -0.452940 -0.834890 -0.113872   \n",
       "4      0.502357     0.354004       0.481780 -0.594391  0.155984 -0.701953   \n",
       "\n",
       "   SkinThickness  \n",
       "0      -0.525387  \n",
       "1       0.033690  \n",
       "2       0.779127  \n",
       "3       0.592768  \n",
       "4       0.654887  \n",
       "\n",
       "[5 rows x 44 columns]"
      ]
     },
     "execution_count": 35,
     "metadata": {},
     "output_type": "execute_result"
    }
   ],
   "source": [
    "ranks3.head()"
   ]
  },
  {
   "cell_type": "code",
   "execution_count": 36,
   "metadata": {},
   "outputs": [
    {
     "name": "stdout",
     "output_type": "stream",
     "text": [
      "\t mlp MAgEC Stats\n",
      "**** mlp_feat_3 ****\n",
      "not_found        72\n",
      "BloodPressure    31\n",
      "SkinThickness    19\n",
      "Insulin          15\n",
      "BMI              10\n",
      "Glucose           7\n",
      "Name: mlp_feat_3, dtype: int64\n",
      "***********\n",
      "**** mlp_feat_2 ****\n",
      "SkinThickness    39\n",
      "BloodPressure    35\n",
      "Insulin          33\n",
      "not_found        19\n",
      "Glucose          15\n",
      "BMI              13\n",
      "Name: mlp_feat_2, dtype: int64\n",
      "***********\n",
      "**** mlp_feat_1 ****\n",
      "Glucose          56\n",
      "Insulin          35\n",
      "BMI              26\n",
      "SkinThickness    22\n",
      "BloodPressure    14\n",
      "not_found         1\n",
      "Name: mlp_feat_1, dtype: int64\n",
      "***********\n",
      "\t rf MAgEC Stats\n",
      "**** rf_feat_3 ****\n",
      "not_found        48\n",
      "Insulin          34\n",
      "BloodPressure    31\n",
      "SkinThickness    28\n",
      "BMI               7\n",
      "Glucose           6\n",
      "Name: rf_feat_3, dtype: int64\n",
      "***********\n",
      "**** rf_feat_2 ****\n",
      "SkinThickness    61\n",
      "Insulin          40\n",
      "BloodPressure    23\n",
      "BMI              12\n",
      "Glucose          11\n",
      "not_found         7\n",
      "Name: rf_feat_2, dtype: int64\n",
      "***********\n",
      "**** rf_feat_1 ****\n",
      "Glucose          56\n",
      "Insulin          52\n",
      "BloodPressure    25\n",
      "SkinThickness    19\n",
      "BMI               2\n",
      "Name: rf_feat_1, dtype: int64\n",
      "***********\n",
      "\t lr MAgEC Stats\n",
      "**** lr_feat_3 ****\n",
      "not_found        74\n",
      "SkinThickness    53\n",
      "Insulin          17\n",
      "BloodPressure     6\n",
      "BMI               2\n",
      "Glucose           2\n",
      "Name: lr_feat_3, dtype: int64\n",
      "***********\n",
      "**** lr_feat_2 ****\n",
      "Insulin          42\n",
      "BMI              31\n",
      "SkinThickness    26\n",
      "BloodPressure    22\n",
      "not_found        19\n",
      "Glucose          14\n",
      "Name: lr_feat_2, dtype: int64\n",
      "***********\n",
      "**** lr_feat_1 ****\n",
      "Glucose          63\n",
      "BMI              31\n",
      "Insulin          31\n",
      "BloodPressure    26\n",
      "not_found         2\n",
      "SkinThickness     1\n",
      "Name: lr_feat_1, dtype: int64\n",
      "***********\n"
     ]
    }
   ],
   "source": [
    "mg.print_ranks_stats(ranks3)"
   ]
  },
  {
   "cell_type": "markdown",
   "metadata": {},
   "source": [
    "### Consensus using rank=3 and 'sum' policy"
   ]
  },
  {
   "cell_type": "code",
   "execution_count": 37,
   "metadata": {},
   "outputs": [],
   "source": [
    "consensus3a = mg.magec_consensus(ranks3, use_weights=True, weights=weights)"
   ]
  },
  {
   "cell_type": "code",
   "execution_count": 38,
   "metadata": {},
   "outputs": [
    {
     "data": {
      "text/html": [
       "<div>\n",
       "<style scoped>\n",
       "    .dataframe tbody tr th:only-of-type {\n",
       "        vertical-align: middle;\n",
       "    }\n",
       "\n",
       "    .dataframe tbody tr th {\n",
       "        vertical-align: top;\n",
       "    }\n",
       "\n",
       "    .dataframe thead th {\n",
       "        text-align: right;\n",
       "    }\n",
       "</style>\n",
       "<table border=\"1\" class=\"dataframe\">\n",
       "  <thead>\n",
       "    <tr style=\"text-align: right;\">\n",
       "      <th></th>\n",
       "      <th>case</th>\n",
       "      <th>timepoint</th>\n",
       "      <th>winner</th>\n",
       "      <th>score</th>\n",
       "      <th>consensus</th>\n",
       "      <th>models</th>\n",
       "      <th>avg_percent_consensus</th>\n",
       "      <th>avg_percent_all</th>\n",
       "    </tr>\n",
       "  </thead>\n",
       "  <tbody>\n",
       "    <tr>\n",
       "      <td>0</td>\n",
       "      <td>0</td>\n",
       "      <td>0</td>\n",
       "      <td>Insulin</td>\n",
       "      <td>0.144363</td>\n",
       "      <td>3</td>\n",
       "      <td>[lr, mlp, rf]</td>\n",
       "      <td>11.064431</td>\n",
       "      <td>11.064431</td>\n",
       "    </tr>\n",
       "    <tr>\n",
       "      <td>1</td>\n",
       "      <td>1</td>\n",
       "      <td>0</td>\n",
       "      <td>Glucose</td>\n",
       "      <td>2.384500</td>\n",
       "      <td>3</td>\n",
       "      <td>[lr, mlp, rf]</td>\n",
       "      <td>38.103785</td>\n",
       "      <td>38.103785</td>\n",
       "    </tr>\n",
       "    <tr>\n",
       "      <td>2</td>\n",
       "      <td>2</td>\n",
       "      <td>0</td>\n",
       "      <td>Glucose</td>\n",
       "      <td>1.104998</td>\n",
       "      <td>3</td>\n",
       "      <td>[lr, mlp, rf]</td>\n",
       "      <td>21.774934</td>\n",
       "      <td>21.774934</td>\n",
       "    </tr>\n",
       "    <tr>\n",
       "      <td>3</td>\n",
       "      <td>3</td>\n",
       "      <td>0</td>\n",
       "      <td>BloodPressure</td>\n",
       "      <td>0.721741</td>\n",
       "      <td>3</td>\n",
       "      <td>[lr, mlp, rf]</td>\n",
       "      <td>24.843628</td>\n",
       "      <td>24.843628</td>\n",
       "    </tr>\n",
       "    <tr>\n",
       "      <td>4</td>\n",
       "      <td>4</td>\n",
       "      <td>0</td>\n",
       "      <td>Insulin</td>\n",
       "      <td>0.514738</td>\n",
       "      <td>3</td>\n",
       "      <td>[lr, mlp, rf]</td>\n",
       "      <td>10.084611</td>\n",
       "      <td>10.084611</td>\n",
       "    </tr>\n",
       "  </tbody>\n",
       "</table>\n",
       "</div>"
      ],
      "text/plain": [
       "   case  timepoint         winner     score  consensus         models  \\\n",
       "0     0          0        Insulin  0.144363          3  [lr, mlp, rf]   \n",
       "1     1          0        Glucose  2.384500          3  [lr, mlp, rf]   \n",
       "2     2          0        Glucose  1.104998          3  [lr, mlp, rf]   \n",
       "3     3          0  BloodPressure  0.721741          3  [lr, mlp, rf]   \n",
       "4     4          0        Insulin  0.514738          3  [lr, mlp, rf]   \n",
       "\n",
       "   avg_percent_consensus  avg_percent_all  \n",
       "0              11.064431        11.064431  \n",
       "1              38.103785        38.103785  \n",
       "2              21.774934        21.774934  \n",
       "3              24.843628        24.843628  \n",
       "4              10.084611        10.084611  "
      ]
     },
     "execution_count": 38,
     "metadata": {},
     "output_type": "execute_result"
    }
   ],
   "source": [
    "consensus3a.head()"
   ]
  },
  {
   "cell_type": "code",
   "execution_count": 39,
   "metadata": {},
   "outputs": [
    {
     "data": {
      "text/html": [
       "<div>\n",
       "<style scoped>\n",
       "    .dataframe tbody tr th:only-of-type {\n",
       "        vertical-align: middle;\n",
       "    }\n",
       "\n",
       "    .dataframe tbody tr th {\n",
       "        vertical-align: top;\n",
       "    }\n",
       "\n",
       "    .dataframe thead tr th {\n",
       "        text-align: left;\n",
       "    }\n",
       "\n",
       "    .dataframe thead tr:last-of-type th {\n",
       "        text-align: right;\n",
       "    }\n",
       "</style>\n",
       "<table border=\"1\" class=\"dataframe\">\n",
       "  <thead>\n",
       "    <tr>\n",
       "      <th></th>\n",
       "      <th colspan=\"3\" halign=\"left\">score</th>\n",
       "      <th colspan=\"3\" halign=\"left\">consensus</th>\n",
       "    </tr>\n",
       "    <tr>\n",
       "      <th></th>\n",
       "      <th>mean</th>\n",
       "      <th>std</th>\n",
       "      <th>count</th>\n",
       "      <th>mean</th>\n",
       "      <th>std</th>\n",
       "      <th>count</th>\n",
       "    </tr>\n",
       "    <tr>\n",
       "      <th>winner</th>\n",
       "      <th></th>\n",
       "      <th></th>\n",
       "      <th></th>\n",
       "      <th></th>\n",
       "      <th></th>\n",
       "      <th></th>\n",
       "    </tr>\n",
       "  </thead>\n",
       "  <tbody>\n",
       "    <tr>\n",
       "      <td>BMI</td>\n",
       "      <td>1.019836</td>\n",
       "      <td>0.424949</td>\n",
       "      <td>24</td>\n",
       "      <td>2.375000</td>\n",
       "      <td>0.494535</td>\n",
       "      <td>24</td>\n",
       "    </tr>\n",
       "    <tr>\n",
       "      <td>BloodPressure</td>\n",
       "      <td>0.406724</td>\n",
       "      <td>0.376555</td>\n",
       "      <td>22</td>\n",
       "      <td>2.363636</td>\n",
       "      <td>0.789542</td>\n",
       "      <td>22</td>\n",
       "    </tr>\n",
       "    <tr>\n",
       "      <td>Glucose</td>\n",
       "      <td>1.550071</td>\n",
       "      <td>0.687620</td>\n",
       "      <td>61</td>\n",
       "      <td>2.934426</td>\n",
       "      <td>0.249590</td>\n",
       "      <td>61</td>\n",
       "    </tr>\n",
       "    <tr>\n",
       "      <td>Insulin</td>\n",
       "      <td>0.446895</td>\n",
       "      <td>0.278078</td>\n",
       "      <td>35</td>\n",
       "      <td>2.800000</td>\n",
       "      <td>0.472789</td>\n",
       "      <td>35</td>\n",
       "    </tr>\n",
       "    <tr>\n",
       "      <td>SkinThickness</td>\n",
       "      <td>0.617320</td>\n",
       "      <td>0.245097</td>\n",
       "      <td>12</td>\n",
       "      <td>2.583333</td>\n",
       "      <td>0.514929</td>\n",
       "      <td>12</td>\n",
       "    </tr>\n",
       "  </tbody>\n",
       "</table>\n",
       "</div>"
      ],
      "text/plain": [
       "                  score                 consensus                \n",
       "                   mean       std count      mean       std count\n",
       "winner                                                           \n",
       "BMI            1.019836  0.424949    24  2.375000  0.494535    24\n",
       "BloodPressure  0.406724  0.376555    22  2.363636  0.789542    22\n",
       "Glucose        1.550071  0.687620    61  2.934426  0.249590    61\n",
       "Insulin        0.446895  0.278078    35  2.800000  0.472789    35\n",
       "SkinThickness  0.617320  0.245097    12  2.583333  0.514929    12"
      ]
     },
     "execution_count": 39,
     "metadata": {},
     "output_type": "execute_result"
    }
   ],
   "source": [
    "consensus3a[['winner','score','consensus']].groupby(['winner']).agg(['mean','std', 'count'])"
   ]
  },
  {
   "cell_type": "code",
   "execution_count": 40,
   "metadata": {},
   "outputs": [
    {
     "data": {
      "text/plain": [
       "Glucose          61\n",
       "Insulin          35\n",
       "BMI              24\n",
       "BloodPressure    22\n",
       "SkinThickness    12\n",
       "Name: winner, dtype: int64"
      ]
     },
     "execution_count": 40,
     "metadata": {},
     "output_type": "execute_result"
    }
   ],
   "source": [
    "consensus3a.winner.value_counts()"
   ]
  },
  {
   "cell_type": "markdown",
   "metadata": {},
   "source": [
    "### Consensus using rank=3 and 'mean' policy"
   ]
  },
  {
   "cell_type": "code",
   "execution_count": 41,
   "metadata": {},
   "outputs": [],
   "source": [
    "consensus3b = mg.magec_consensus(ranks3, use_weights=True, weights=weights, policy='mean')"
   ]
  },
  {
   "cell_type": "code",
   "execution_count": 42,
   "metadata": {},
   "outputs": [
    {
     "data": {
      "text/html": [
       "<div>\n",
       "<style scoped>\n",
       "    .dataframe tbody tr th:only-of-type {\n",
       "        vertical-align: middle;\n",
       "    }\n",
       "\n",
       "    .dataframe tbody tr th {\n",
       "        vertical-align: top;\n",
       "    }\n",
       "\n",
       "    .dataframe thead th {\n",
       "        text-align: right;\n",
       "    }\n",
       "</style>\n",
       "<table border=\"1\" class=\"dataframe\">\n",
       "  <thead>\n",
       "    <tr style=\"text-align: right;\">\n",
       "      <th></th>\n",
       "      <th>case</th>\n",
       "      <th>timepoint</th>\n",
       "      <th>winner</th>\n",
       "      <th>score</th>\n",
       "      <th>consensus</th>\n",
       "      <th>models</th>\n",
       "      <th>avg_percent_consensus</th>\n",
       "      <th>avg_percent_all</th>\n",
       "    </tr>\n",
       "  </thead>\n",
       "  <tbody>\n",
       "    <tr>\n",
       "      <td>0</td>\n",
       "      <td>0</td>\n",
       "      <td>0</td>\n",
       "      <td>Insulin</td>\n",
       "      <td>0.048121</td>\n",
       "      <td>3</td>\n",
       "      <td>[lr, mlp, rf]</td>\n",
       "      <td>11.064431</td>\n",
       "      <td>11.064431</td>\n",
       "    </tr>\n",
       "    <tr>\n",
       "      <td>1</td>\n",
       "      <td>1</td>\n",
       "      <td>0</td>\n",
       "      <td>Glucose</td>\n",
       "      <td>0.794833</td>\n",
       "      <td>3</td>\n",
       "      <td>[lr, mlp, rf]</td>\n",
       "      <td>38.103785</td>\n",
       "      <td>38.103785</td>\n",
       "    </tr>\n",
       "    <tr>\n",
       "      <td>2</td>\n",
       "      <td>2</td>\n",
       "      <td>0</td>\n",
       "      <td>Glucose</td>\n",
       "      <td>0.368333</td>\n",
       "      <td>3</td>\n",
       "      <td>[lr, mlp, rf]</td>\n",
       "      <td>21.774934</td>\n",
       "      <td>21.774934</td>\n",
       "    </tr>\n",
       "    <tr>\n",
       "      <td>3</td>\n",
       "      <td>3</td>\n",
       "      <td>0</td>\n",
       "      <td>BloodPressure</td>\n",
       "      <td>0.240580</td>\n",
       "      <td>3</td>\n",
       "      <td>[lr, mlp, rf]</td>\n",
       "      <td>24.843628</td>\n",
       "      <td>24.843628</td>\n",
       "    </tr>\n",
       "    <tr>\n",
       "      <td>4</td>\n",
       "      <td>4</td>\n",
       "      <td>0</td>\n",
       "      <td>Insulin</td>\n",
       "      <td>0.171579</td>\n",
       "      <td>3</td>\n",
       "      <td>[lr, mlp, rf]</td>\n",
       "      <td>10.084611</td>\n",
       "      <td>10.084611</td>\n",
       "    </tr>\n",
       "  </tbody>\n",
       "</table>\n",
       "</div>"
      ],
      "text/plain": [
       "   case  timepoint         winner     score  consensus         models  \\\n",
       "0     0          0        Insulin  0.048121          3  [lr, mlp, rf]   \n",
       "1     1          0        Glucose  0.794833          3  [lr, mlp, rf]   \n",
       "2     2          0        Glucose  0.368333          3  [lr, mlp, rf]   \n",
       "3     3          0  BloodPressure  0.240580          3  [lr, mlp, rf]   \n",
       "4     4          0        Insulin  0.171579          3  [lr, mlp, rf]   \n",
       "\n",
       "   avg_percent_consensus  avg_percent_all  \n",
       "0              11.064431        11.064431  \n",
       "1              38.103785        38.103785  \n",
       "2              21.774934        21.774934  \n",
       "3              24.843628        24.843628  \n",
       "4              10.084611        10.084611  "
      ]
     },
     "execution_count": 42,
     "metadata": {},
     "output_type": "execute_result"
    }
   ],
   "source": [
    "consensus3b.head()"
   ]
  },
  {
   "cell_type": "code",
   "execution_count": 43,
   "metadata": {},
   "outputs": [
    {
     "data": {
      "text/html": [
       "<div>\n",
       "<style scoped>\n",
       "    .dataframe tbody tr th:only-of-type {\n",
       "        vertical-align: middle;\n",
       "    }\n",
       "\n",
       "    .dataframe tbody tr th {\n",
       "        vertical-align: top;\n",
       "    }\n",
       "\n",
       "    .dataframe thead tr th {\n",
       "        text-align: left;\n",
       "    }\n",
       "\n",
       "    .dataframe thead tr:last-of-type th {\n",
       "        text-align: right;\n",
       "    }\n",
       "</style>\n",
       "<table border=\"1\" class=\"dataframe\">\n",
       "  <thead>\n",
       "    <tr>\n",
       "      <th></th>\n",
       "      <th colspan=\"3\" halign=\"left\">score</th>\n",
       "      <th colspan=\"3\" halign=\"left\">consensus</th>\n",
       "    </tr>\n",
       "    <tr>\n",
       "      <th></th>\n",
       "      <th>mean</th>\n",
       "      <th>std</th>\n",
       "      <th>count</th>\n",
       "      <th>mean</th>\n",
       "      <th>std</th>\n",
       "      <th>count</th>\n",
       "    </tr>\n",
       "    <tr>\n",
       "      <th>winner</th>\n",
       "      <th></th>\n",
       "      <th></th>\n",
       "      <th></th>\n",
       "      <th></th>\n",
       "      <th></th>\n",
       "      <th></th>\n",
       "    </tr>\n",
       "  </thead>\n",
       "  <tbody>\n",
       "    <tr>\n",
       "      <td>BMI</td>\n",
       "      <td>0.417003</td>\n",
       "      <td>0.147994</td>\n",
       "      <td>26</td>\n",
       "      <td>2.269231</td>\n",
       "      <td>0.533494</td>\n",
       "      <td>26</td>\n",
       "    </tr>\n",
       "    <tr>\n",
       "      <td>BloodPressure</td>\n",
       "      <td>0.168923</td>\n",
       "      <td>0.119574</td>\n",
       "      <td>21</td>\n",
       "      <td>2.333333</td>\n",
       "      <td>0.795822</td>\n",
       "      <td>21</td>\n",
       "    </tr>\n",
       "    <tr>\n",
       "      <td>Glucose</td>\n",
       "      <td>0.561674</td>\n",
       "      <td>0.210445</td>\n",
       "      <td>53</td>\n",
       "      <td>2.943396</td>\n",
       "      <td>0.233295</td>\n",
       "      <td>53</td>\n",
       "    </tr>\n",
       "    <tr>\n",
       "      <td>Insulin</td>\n",
       "      <td>0.184647</td>\n",
       "      <td>0.147018</td>\n",
       "      <td>39</td>\n",
       "      <td>2.512821</td>\n",
       "      <td>0.756439</td>\n",
       "      <td>39</td>\n",
       "    </tr>\n",
       "    <tr>\n",
       "      <td>SkinThickness</td>\n",
       "      <td>0.277562</td>\n",
       "      <td>0.120078</td>\n",
       "      <td>15</td>\n",
       "      <td>2.133333</td>\n",
       "      <td>0.743223</td>\n",
       "      <td>15</td>\n",
       "    </tr>\n",
       "  </tbody>\n",
       "</table>\n",
       "</div>"
      ],
      "text/plain": [
       "                  score                 consensus                \n",
       "                   mean       std count      mean       std count\n",
       "winner                                                           \n",
       "BMI            0.417003  0.147994    26  2.269231  0.533494    26\n",
       "BloodPressure  0.168923  0.119574    21  2.333333  0.795822    21\n",
       "Glucose        0.561674  0.210445    53  2.943396  0.233295    53\n",
       "Insulin        0.184647  0.147018    39  2.512821  0.756439    39\n",
       "SkinThickness  0.277562  0.120078    15  2.133333  0.743223    15"
      ]
     },
     "execution_count": 43,
     "metadata": {},
     "output_type": "execute_result"
    }
   ],
   "source": [
    "consensus3b[['winner','score','consensus']].groupby(['winner']).agg(['mean','std', 'count'])"
   ]
  },
  {
   "cell_type": "code",
   "execution_count": 44,
   "metadata": {},
   "outputs": [
    {
     "data": {
      "text/plain": [
       "Glucose          53\n",
       "Insulin          39\n",
       "BMI              26\n",
       "BloodPressure    21\n",
       "SkinThickness    15\n",
       "Name: winner, dtype: int64"
      ]
     },
     "execution_count": 44,
     "metadata": {},
     "output_type": "execute_result"
    }
   ],
   "source": [
    "consensus3b.winner.value_counts()"
   ]
  },
  {
   "cell_type": "markdown",
   "metadata": {},
   "source": [
    "### MAgEC Bar Plot"
   ]
  },
  {
   "cell_type": "code",
   "execution_count": 45,
   "metadata": {},
   "outputs": [],
   "source": [
    "def ranked_stats(ranks):\n",
    "    columns = ranks.columns\n",
    "    stats = {}\n",
    "    for model in ['lr', 'rf', 'mlp']:\n",
    "        cols = [col for col in columns if col.startswith(model + '_' + 'feat')]\n",
    "        if len(cols):\n",
    "            for col in cols:\n",
    "                tmp = ranks[col].value_counts()\n",
    "                for z in zip(tmp.index.values.tolist(), tmp.values.tolist()):\n",
    "                    if z[0] in stats:\n",
    "                        stats[z[0]].append((z[1], model))\n",
    "                    else:\n",
    "                        stats[z[0]] = [(z[1], model)]\n",
    "    return stats\n",
    "\n",
    "\n",
    "def con_stats(consensus, label='CON@1'):\n",
    "    conf = consensus.winner.value_counts().index.values.tolist()\n",
    "    conv = consensus.winner.value_counts().values.tolist()\n",
    "    con = {z[0]:(z[1],label) for z in zip(conf, conv)}\n",
    "    return con\n",
    "\n",
    "\n",
    "def df_stats(stats, con1, con3):\n",
    "    \n",
    "    def feat_num(feat, stats, model):\n",
    "        if feat in stats and np.any([model in x[1] for x in stats[feat]]):\n",
    "            return [x[0] for x in stats[feat] if x[1] == model][0]\n",
    "        else:\n",
    "            return 0\n",
    "    \n",
    "    \n",
    "    dfplot = pd.DataFrame(columns=['Feature', 'LR', 'RF', 'MLP', 'CON@1', 'CON@3'], \n",
    "                          data=[['Glucose',\n",
    "                                 feat_num('Glucose', stats, 'lr'),\n",
    "                                 feat_num('Glucose', stats, 'rf'),\n",
    "                                 feat_num('Glucose', stats, 'mlp'),\n",
    "                                 con1['Glucose'][0] if 'Glucose' in con1 else 0,\n",
    "                                 con3['Glucose'][0] if 'Glucose' in con3 else 0],\n",
    "                                ['Insulin',\n",
    "                                 feat_num('Insulin', stats, 'lr'),\n",
    "                                 feat_num('Insulin', stats, 'rf'),\n",
    "                                 feat_num('Insulin', stats, 'mlp'),\n",
    "                                 con1['Insulin'][0] if 'Insulin' in con1 else 0,\n",
    "                                 con3['Insulin'][0] if 'Insulin' in con3 else 0],\n",
    "                                ['BMI',\n",
    "                                 feat_num('BMI', stats, 'lr'),\n",
    "                                 feat_num('BMI', stats, 'rf'),\n",
    "                                 feat_num('BMI', stats, 'mlp'),\n",
    "                                 con1['BMI'][0] if 'BMI' in con1 else 0,\n",
    "                                 con3['BMI'][0] if 'BMI' in con3 else 0],\n",
    "                                ['BloodPressure',\n",
    "                                 feat_num('BloodPressure', stats, 'lr'),\n",
    "                                 feat_num('BloodPressure', stats, 'rf'),\n",
    "                                 feat_num('BloodPressure', stats, 'mlp'),\n",
    "                                 con1['BloodPressure'][0] if 'BloodPressure' in con1 else 0,\n",
    "                                 con3['BloodPressure'][0] if 'BloodPressure' in con3 else 0],\n",
    "                                ['SkinThickness',\n",
    "                                 feat_num('SkinThickness', stats, 'lr'),\n",
    "                                 feat_num('SkinThickness', stats, 'rf'),\n",
    "                                 feat_num('SkinThickness', stats, 'mlp'),\n",
    "                                 con1['SkinThickness'][0] if 'SkinThickness' in con1 else 0,\n",
    "                                 con3['SkinThickness'][0] if 'SkinThickness' in con3 else 0],\n",
    "                                ['not_found',\n",
    "                                 feat_num('not_found', stats, 'lr'),\n",
    "                                 feat_num('not_found', stats, 'rf'),\n",
    "                                 feat_num('not_found', stats, 'mlp'),\n",
    "                                 con1['not_found'][0] if 'not_found' in con1 else 0,\n",
    "                                 con3['not_found'][0] if 'not_found' in con3 else 0]])\n",
    "    return dfplot\n",
    "\n",
    "\n",
    "def plot_stats(dfplot, save=False):\n",
    "    dfplot = dfplot.set_index('Feature')\n",
    "    dfplot.plot(kind='bar', \n",
    "            stacked=True, \n",
    "            figsize=(10,6), \n",
    "            title='MAgEC (best) features by model and policy', \n",
    "            rot=45)\n",
    "    if save:\n",
    "        plt.savefig('pima_magec_stats.png', bbox_inches='tight')\n",
    "    return"
   ]
  },
  {
   "cell_type": "code",
   "execution_count": 46,
   "metadata": {},
   "outputs": [
    {
     "data": {
      "image/png": "[encoded data removed]",
      "text/plain": [
       "<Figure size 720x432 with 1 Axes>"
      ]
     },
     "metadata": {
      "needs_background": "light"
     },
     "output_type": "display_data"
    }
   ],
   "source": [
    "stats = ranked_stats(ranks1)\n",
    "con1 = con_stats(consensus1a)\n",
    "con3 = con_stats(consensus3a, label='CON@3')\n",
    "dfplot = df_stats(stats, con1, con3)\n",
    "plot_stats(dfplot, True)"
   ]
  },
  {
   "cell_type": "markdown",
   "metadata": {},
   "source": [
    "## MAgEC individual 'case'"
   ]
  },
  {
   "cell_type": "code",
   "execution_count": 47,
   "metadata": {},
   "outputs": [],
   "source": [
    "case = 47"
   ]
  },
  {
   "cell_type": "code",
   "execution_count": 48,
   "metadata": {},
   "outputs": [
    {
     "data": {
      "text/plain": [
       "case                                    47\n",
       "timepoint                                0\n",
       "Outcome                                  1\n",
       "mlp_magec                        -0.357131\n",
       "mlp_feat                           Glucose\n",
       "rf_magec                         -0.589986\n",
       "rf_feat                            Glucose\n",
       "lr_magec                         -0.648005\n",
       "lr_feat                            Glucose\n",
       "perturb_BloodPressure_prob_mlp    0.364314\n",
       "perturb_BloodPressure_prob_rf     0.510444\n",
       "perturb_BloodPressure_prob_lr     0.319419\n",
       "perturb_BMI_prob_mlp              0.331614\n",
       "perturb_BMI_prob_rf                0.51027\n",
       "perturb_BMI_prob_lr               0.297848\n",
       "perturb_Glucose_prob_mlp           0.19476\n",
       "perturb_Glucose_prob_rf           0.419034\n",
       "perturb_Glucose_prob_lr           0.148306\n",
       "perturb_Insulin_prob_mlp          0.203335\n",
       "perturb_Insulin_prob_rf           0.424247\n",
       "perturb_Insulin_prob_lr           0.372988\n",
       "perturb_SkinThickness_prob_mlp    0.297741\n",
       "perturb_SkinThickness_prob_rf     0.509521\n",
       "perturb_SkinThickness_prob_lr     0.261031\n",
       "orig_prob_mlp                     0.298119\n",
       "orig_prob_rf                      0.527806\n",
       "orig_prob_lr                       0.26249\n",
       "BloodPressure                      1.11285\n",
       "BMI                              -0.234334\n",
       "Glucose                           0.682386\n",
       "Insulin                            3.70865\n",
       "SkinThickness                     0.220049\n",
       "Name: 47, dtype: object"
      ]
     },
     "execution_count": 48,
     "metadata": {},
     "output_type": "execute_result"
    }
   ],
   "source": [
    "ranks1[ranks1['case'] == case].iloc[0]"
   ]
  },
  {
   "cell_type": "code",
   "execution_count": 49,
   "metadata": {},
   "outputs": [
    {
     "data": {
      "text/plain": [
       "case                                         47\n",
       "timepoint                                     0\n",
       "Outcome                                       1\n",
       "mlp_magec_3                         -0.00114673\n",
       "mlp_feat_3                        SkinThickness\n",
       "mlp_magec_2                           -0.323012\n",
       "mlp_feat_2                              Insulin\n",
       "mlp_magec_1                           -0.357131\n",
       "mlp_feat_1                              Glucose\n",
       "rf_magec_3                           -0.0986526\n",
       "rf_feat_3                         SkinThickness\n",
       "rf_magec_2                            -0.561197\n",
       "rf_feat_2                               Insulin\n",
       "rf_magec_1                            -0.589986\n",
       "rf_feat_1                               Glucose\n",
       "lr_magec_3                                  NaN\n",
       "lr_feat_3                             not_found\n",
       "lr_magec_2                          -0.00684746\n",
       "lr_feat_2                         SkinThickness\n",
       "lr_magec_1                            -0.648005\n",
       "lr_feat_1                               Glucose\n",
       "perturb_BloodPressure_prob_mlp         0.364314\n",
       "perturb_BloodPressure_prob_rf          0.510444\n",
       "perturb_BloodPressure_prob_lr          0.319419\n",
       "perturb_BMI_prob_mlp                   0.331614\n",
       "perturb_BMI_prob_rf                     0.51027\n",
       "perturb_BMI_prob_lr                    0.297848\n",
       "perturb_Glucose_prob_mlp                0.19476\n",
       "perturb_Glucose_prob_rf                0.419034\n",
       "perturb_Glucose_prob_lr                0.148306\n",
       "perturb_Insulin_prob_mlp               0.203335\n",
       "perturb_Insulin_prob_rf                0.424247\n",
       "perturb_Insulin_prob_lr                0.372988\n",
       "perturb_SkinThickness_prob_mlp         0.297741\n",
       "perturb_SkinThickness_prob_rf          0.509521\n",
       "perturb_SkinThickness_prob_lr          0.261031\n",
       "orig_prob_mlp                          0.298119\n",
       "orig_prob_rf                           0.527806\n",
       "orig_prob_lr                            0.26249\n",
       "BloodPressure                           1.11285\n",
       "BMI                                   -0.234334\n",
       "Glucose                                0.682386\n",
       "Insulin                                 3.70865\n",
       "SkinThickness                          0.220049\n",
       "Name: 47, dtype: object"
      ]
     },
     "execution_count": 49,
     "metadata": {},
     "output_type": "execute_result"
    }
   ],
   "source": [
    "ranks3[ranks3['case'] == case].iloc[0]"
   ]
  },
  {
   "cell_type": "code",
   "execution_count": 50,
   "metadata": {},
   "outputs": [
    {
     "data": {
      "text/html": [
       "<div>\n",
       "<style scoped>\n",
       "    .dataframe tbody tr th:only-of-type {\n",
       "        vertical-align: middle;\n",
       "    }\n",
       "\n",
       "    .dataframe tbody tr th {\n",
       "        vertical-align: top;\n",
       "    }\n",
       "\n",
       "    .dataframe thead th {\n",
       "        text-align: right;\n",
       "    }\n",
       "</style>\n",
       "<table border=\"1\" class=\"dataframe\">\n",
       "  <thead>\n",
       "    <tr style=\"text-align: right;\">\n",
       "      <th></th>\n",
       "      <th>case</th>\n",
       "      <th>timepoint</th>\n",
       "      <th>winner</th>\n",
       "      <th>score</th>\n",
       "      <th>consensus</th>\n",
       "      <th>models</th>\n",
       "      <th>avg_percent_consensus</th>\n",
       "      <th>avg_percent_all</th>\n",
       "    </tr>\n",
       "  </thead>\n",
       "  <tbody>\n",
       "    <tr>\n",
       "      <td>47</td>\n",
       "      <td>47</td>\n",
       "      <td>0</td>\n",
       "      <td>Glucose</td>\n",
       "      <td>1.355453</td>\n",
       "      <td>3</td>\n",
       "      <td>[lr, mlp, rf]</td>\n",
       "      <td>32.92644</td>\n",
       "      <td>32.92644</td>\n",
       "    </tr>\n",
       "  </tbody>\n",
       "</table>\n",
       "</div>"
      ],
      "text/plain": [
       "    case  timepoint   winner     score  consensus         models  \\\n",
       "47    47          0  Glucose  1.355453          3  [lr, mlp, rf]   \n",
       "\n",
       "    avg_percent_consensus  avg_percent_all  \n",
       "47               32.92644         32.92644  "
      ]
     },
     "execution_count": 50,
     "metadata": {},
     "output_type": "execute_result"
    }
   ],
   "source": [
    "consensus1a[consensus1a['case'] == case]"
   ]
  },
  {
   "cell_type": "code",
   "execution_count": 51,
   "metadata": {},
   "outputs": [
    {
     "data": {
      "text/html": [
       "<div>\n",
       "<style scoped>\n",
       "    .dataframe tbody tr th:only-of-type {\n",
       "        vertical-align: middle;\n",
       "    }\n",
       "\n",
       "    .dataframe tbody tr th {\n",
       "        vertical-align: top;\n",
       "    }\n",
       "\n",
       "    .dataframe thead th {\n",
       "        text-align: right;\n",
       "    }\n",
       "</style>\n",
       "<table border=\"1\" class=\"dataframe\">\n",
       "  <thead>\n",
       "    <tr style=\"text-align: right;\">\n",
       "      <th></th>\n",
       "      <th>case</th>\n",
       "      <th>timepoint</th>\n",
       "      <th>winner</th>\n",
       "      <th>score</th>\n",
       "      <th>consensus</th>\n",
       "      <th>models</th>\n",
       "      <th>avg_percent_consensus</th>\n",
       "      <th>avg_percent_all</th>\n",
       "    </tr>\n",
       "  </thead>\n",
       "  <tbody>\n",
       "    <tr>\n",
       "      <td>47</td>\n",
       "      <td>47</td>\n",
       "      <td>0</td>\n",
       "      <td>Glucose</td>\n",
       "      <td>0.451818</td>\n",
       "      <td>3</td>\n",
       "      <td>[lr, mlp, rf]</td>\n",
       "      <td>32.92644</td>\n",
       "      <td>32.92644</td>\n",
       "    </tr>\n",
       "  </tbody>\n",
       "</table>\n",
       "</div>"
      ],
      "text/plain": [
       "    case  timepoint   winner     score  consensus         models  \\\n",
       "47    47          0  Glucose  0.451818          3  [lr, mlp, rf]   \n",
       "\n",
       "    avg_percent_consensus  avg_percent_all  \n",
       "47               32.92644         32.92644  "
      ]
     },
     "execution_count": 51,
     "metadata": {},
     "output_type": "execute_result"
    }
   ],
   "source": [
    "consensus1b[consensus1b['case'] == case]"
   ]
  },
  {
   "cell_type": "code",
   "execution_count": 52,
   "metadata": {},
   "outputs": [
    {
     "data": {
      "text/html": [
       "<div>\n",
       "<style scoped>\n",
       "    .dataframe tbody tr th:only-of-type {\n",
       "        vertical-align: middle;\n",
       "    }\n",
       "\n",
       "    .dataframe tbody tr th {\n",
       "        vertical-align: top;\n",
       "    }\n",
       "\n",
       "    .dataframe thead th {\n",
       "        text-align: right;\n",
       "    }\n",
       "</style>\n",
       "<table border=\"1\" class=\"dataframe\">\n",
       "  <thead>\n",
       "    <tr style=\"text-align: right;\">\n",
       "      <th></th>\n",
       "      <th>case</th>\n",
       "      <th>timepoint</th>\n",
       "      <th>winner</th>\n",
       "      <th>score</th>\n",
       "      <th>consensus</th>\n",
       "      <th>models</th>\n",
       "      <th>avg_percent_consensus</th>\n",
       "      <th>avg_percent_all</th>\n",
       "    </tr>\n",
       "  </thead>\n",
       "  <tbody>\n",
       "    <tr>\n",
       "      <td>47</td>\n",
       "      <td>47</td>\n",
       "      <td>0</td>\n",
       "      <td>Glucose</td>\n",
       "      <td>1.355453</td>\n",
       "      <td>3</td>\n",
       "      <td>[lr, mlp, rf]</td>\n",
       "      <td>32.92644</td>\n",
       "      <td>32.92644</td>\n",
       "    </tr>\n",
       "  </tbody>\n",
       "</table>\n",
       "</div>"
      ],
      "text/plain": [
       "    case  timepoint   winner     score  consensus         models  \\\n",
       "47    47          0  Glucose  1.355453          3  [lr, mlp, rf]   \n",
       "\n",
       "    avg_percent_consensus  avg_percent_all  \n",
       "47               32.92644         32.92644  "
      ]
     },
     "execution_count": 52,
     "metadata": {},
     "output_type": "execute_result"
    }
   ],
   "source": [
    "consensus3a[consensus3a['case'] == case]"
   ]
  },
  {
   "cell_type": "code",
   "execution_count": 53,
   "metadata": {},
   "outputs": [
    {
     "data": {
      "text/html": [
       "<div>\n",
       "<style scoped>\n",
       "    .dataframe tbody tr th:only-of-type {\n",
       "        vertical-align: middle;\n",
       "    }\n",
       "\n",
       "    .dataframe tbody tr th {\n",
       "        vertical-align: top;\n",
       "    }\n",
       "\n",
       "    .dataframe thead th {\n",
       "        text-align: right;\n",
       "    }\n",
       "</style>\n",
       "<table border=\"1\" class=\"dataframe\">\n",
       "  <thead>\n",
       "    <tr style=\"text-align: right;\">\n",
       "      <th></th>\n",
       "      <th>case</th>\n",
       "      <th>timepoint</th>\n",
       "      <th>winner</th>\n",
       "      <th>score</th>\n",
       "      <th>consensus</th>\n",
       "      <th>models</th>\n",
       "      <th>avg_percent_consensus</th>\n",
       "      <th>avg_percent_all</th>\n",
       "    </tr>\n",
       "  </thead>\n",
       "  <tbody>\n",
       "    <tr>\n",
       "      <td>47</td>\n",
       "      <td>47</td>\n",
       "      <td>0</td>\n",
       "      <td>Glucose</td>\n",
       "      <td>0.451818</td>\n",
       "      <td>3</td>\n",
       "      <td>[lr, mlp, rf]</td>\n",
       "      <td>32.92644</td>\n",
       "      <td>32.92644</td>\n",
       "    </tr>\n",
       "  </tbody>\n",
       "</table>\n",
       "</div>"
      ],
      "text/plain": [
       "    case  timepoint   winner     score  consensus         models  \\\n",
       "47    47          0  Glucose  0.451818          3  [lr, mlp, rf]   \n",
       "\n",
       "    avg_percent_consensus  avg_percent_all  \n",
       "47               32.92644         32.92644  "
      ]
     },
     "execution_count": 53,
     "metadata": {},
     "output_type": "execute_result"
    }
   ],
   "source": [
    "consensus3b[consensus3b['case'] == case]"
   ]
  },
  {
   "cell_type": "markdown",
   "metadata": {},
   "source": [
    "### MAgEC correlations"
   ]
  },
  {
   "cell_type": "code",
   "execution_count": 54,
   "metadata": {},
   "outputs": [],
   "source": [
    "corr = joined[joined.columns[2:]].corr()"
   ]
  },
  {
   "cell_type": "code",
   "execution_count": 55,
   "metadata": {},
   "outputs": [
    {
     "data": {
      "image/png": "[encoded data removed]",
      "text/plain": [
       "<Figure size 864x864 with 2 Axes>"
      ]
     },
     "metadata": {
      "needs_background": "light"
     },
     "output_type": "display_data"
    }
   ],
   "source": [
    "plt.figure(figsize=[12,12])\n",
    "plt.style.use('ggplot')\n",
    "plt.imshow(corr, cmap=plt.cm.Reds, interpolation='nearest')\n",
    "plt.colorbar()\n",
    "tick_marks = [i for i in range(len(joined.columns[2:]))]\n",
    "plt.xticks(tick_marks, joined.columns[2:], rotation='vertical')\n",
    "plt.yticks(tick_marks, joined.columns[2:]);"
   ]
  },
  {
   "cell_type": "markdown",
   "metadata": {},
   "source": [
    "## MAgECs population similarity"
   ]
  },
  {
   "cell_type": "code",
   "execution_count": 56,
   "metadata": {},
   "outputs": [],
   "source": [
    "sim_mlp = mg.magec_similarity(magecs_mlp, x_validation_p, model_name='mlp')\n",
    "sim_rf = mg.magec_similarity(magecs_rf, x_validation_p, model_name='rf')\n",
    "sim_lr = mg.magec_similarity(magecs_lr, x_validation_p, model_name='lr')"
   ]
  },
  {
   "cell_type": "code",
   "execution_count": 57,
   "metadata": {},
   "outputs": [
    {
     "name": "stdout",
     "output_type": "stream",
     "text": [
      "Top Absolute Correlationsin in MLP model\n",
      "mlp_Glucose                   Glucose                     0.922471\n",
      "mlp_BMI                       BMI                         0.855947\n",
      "mlp_DiabetesPedigreeFunction  DiabetesPedigreeFunction    0.719182\n",
      "Glucose                       Outcome                     0.544038\n",
      "mlp_Glucose                   Outcome                     0.531237\n",
      "BMI                           SkinThickness               0.509936\n",
      "Glucose                       Insulin                     0.470695\n",
      "mlp_BloodPressure             BloodPressure               0.445010\n",
      "mlp_BMI                       SkinThickness               0.428410\n",
      "Insulin                       SkinThickness               0.407630\n",
      "dtype: float64\n"
     ]
    }
   ],
   "source": [
    "print(\"Top Absolute Correlationsin in MLP model\")\n",
    "print(mg.get_top_abs_correlations(sim_mlp, 10))"
   ]
  },
  {
   "cell_type": "code",
   "execution_count": 58,
   "metadata": {},
   "outputs": [
    {
     "name": "stdout",
     "output_type": "stream",
     "text": [
      "Top Absolute Correlationsin in RF model\n",
      "rf_Glucose                   Glucose                     0.921324\n",
      "rf_BMI                       BMI                         0.732446\n",
      "rf_DiabetesPedigreeFunction  DiabetesPedigreeFunction    0.614214\n",
      "Glucose                      Outcome                     0.544038\n",
      "BMI                          SkinThickness               0.509936\n",
      "dtype: float64\n"
     ]
    }
   ],
   "source": [
    "print(\"Top Absolute Correlationsin in RF model\")\n",
    "print(mg.get_top_abs_correlations(sim_rf, 5))"
   ]
  },
  {
   "cell_type": "code",
   "execution_count": 59,
   "metadata": {},
   "outputs": [
    {
     "name": "stdout",
     "output_type": "stream",
     "text": [
      "Top Absolute Correlationsin LR model\n",
      "lr_Glucose                   Glucose                     0.921184\n",
      "lr_BloodPressure             BloodPressure               0.895361\n",
      "lr_DiabetesPedigreeFunction  DiabetesPedigreeFunction    0.892023\n",
      "lr_SkinThickness             SkinThickness               0.871342\n",
      "lr_BMI                       BMI                         0.871290\n",
      "dtype: float64\n"
     ]
    }
   ],
   "source": [
    "print(\"Top Absolute Correlationsin LR model\")\n",
    "print(mg.get_top_abs_correlations(sim_lr, 5))"
   ]
  },
  {
   "cell_type": "markdown",
   "metadata": {},
   "source": [
    "### PIMA Exploratory Data Analysis (EDA)"
   ]
  },
  {
   "cell_type": "code",
   "execution_count": 60,
   "metadata": {},
   "outputs": [
    {
     "data": {
      "image/png": "[encoded data removed]",
      "text/plain": [
       "<Figure size 1008x864 with 6 Axes>"
      ]
     },
     "metadata": {},
     "output_type": "display_data"
    }
   ],
   "source": [
    "mg.plot_pima_features(pima);"
   ]
  },
  {
   "cell_type": "code",
   "execution_count": 61,
   "metadata": {},
   "outputs": [
    {
     "data": {
      "image/png": "[encoded data removed]",
      "text/plain": [
       "<Figure size 720x576 with 1 Axes>"
      ]
     },
     "metadata": {},
     "output_type": "display_data"
    }
   ],
   "source": [
    "mg.plot_train_valid(x_train_p, x_validation_p, 'BMI')"
   ]
  },
  {
   "cell_type": "code",
   "execution_count": 62,
   "metadata": {},
   "outputs": [
    {
     "data": {
      "image/png": "[encoded data removed]",
      "text/plain": [
       "<Figure size 720x576 with 1 Axes>"
      ]
     },
     "metadata": {},
     "output_type": "display_data"
    }
   ],
   "source": [
    "mg.plot_train_valid(x_train_p, x_validation_p, 'BloodPressure')"
   ]
  },
  {
   "cell_type": "code",
   "execution_count": 63,
   "metadata": {},
   "outputs": [
    {
     "data": {
      "image/png": "[encoded data removed]",
      "text/plain": [
       "<Figure size 720x576 with 1 Axes>"
      ]
     },
     "metadata": {},
     "output_type": "display_data"
    }
   ],
   "source": [
    "mg.plot_train_valid(x_train_p, x_validation_p, 'DiabetesPedigreeFunction')"
   ]
  },
  {
   "cell_type": "code",
   "execution_count": 64,
   "metadata": {},
   "outputs": [
    {
     "data": {
      "image/png": "[encoded data removed]",
      "text/plain": [
       "<Figure size 720x576 with 1 Axes>"
      ]
     },
     "metadata": {},
     "output_type": "display_data"
    }
   ],
   "source": [
    "mg.plot_train_valid(x_train_p, x_validation_p, 'Glucose')"
   ]
  },
  {
   "cell_type": "code",
   "execution_count": 65,
   "metadata": {},
   "outputs": [
    {
     "data": {
      "image/png": "[encoded data removed]",
      "text/plain": [
       "<Figure size 720x576 with 1 Axes>"
      ]
     },
     "metadata": {},
     "output_type": "display_data"
    }
   ],
   "source": [
    "mg.plot_train_valid(x_train_p, x_validation_p, 'Insulin')"
   ]
  },
  {
   "cell_type": "code",
   "execution_count": 66,
   "metadata": {},
   "outputs": [
    {
     "data": {
      "image/png": "[encoded data removed]",
      "text/plain": [
       "<Figure size 720x576 with 1 Axes>"
      ]
     },
     "metadata": {},
     "output_type": "display_data"
    }
   ],
   "source": [
    "mg.plot_train_valid(x_train_p, x_validation_p, 'SkinThickness')"
   ]
  }
 ],
 "metadata": {
  "kernelspec": {
   "display_name": "py36",
   "language": "python",
   "name": "py36"
  },
  "language_info": {
   "codemirror_mode": {
    "name": "ipython",
    "version": 3
   },
   "file_extension": ".py",
   "mimetype": "text/x-python",
   "name": "python",
   "nbconvert_exporter": "python",
   "pygments_lexer": "ipython3",
   "version": "3.6.0"
  }
 },
 "nbformat": 4,
 "nbformat_minor": 2
}
