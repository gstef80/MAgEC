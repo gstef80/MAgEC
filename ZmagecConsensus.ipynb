{
 "cells": [
  {
   "cell_type": "markdown",
   "metadata": {},
   "source": [
    "## A method for computing Model Agnostic Effect Coefficients (MAgEC)"
   ]
  },
  {
   "cell_type": "code",
   "execution_count": 1,
   "metadata": {},
   "outputs": [],
   "source": [
    "import warnings\n",
    "warnings.filterwarnings('ignore') "
   ]
  },
  {
   "cell_type": "code",
   "execution_count": 2,
   "metadata": {},
   "outputs": [
    {
     "name": "stderr",
     "output_type": "stream",
     "text": [
      "Using TensorFlow backend.\n"
     ]
    }
   ],
   "source": [
    "import numpy as np\n",
    "import pandas as pd\n",
    "from keras.models import load_model\n",
    "from sklearn.model_selection import train_test_split\n",
    "from sklearn.preprocessing import StandardScaler\n",
    "from sklearn.ensemble import RandomForestClassifier\n",
    "from sklearn.calibration import CalibratedClassifierCV\n",
    "from sklearn.linear_model import LogisticRegression\n",
    "from sklearn.metrics import roc_auc_score\n",
    "import magec_utils as mg\n",
    "import matplotlib.pyplot as plt\n",
    "%matplotlib inline"
   ]
  },
  {
   "cell_type": "markdown",
   "metadata": {},
   "source": [
    "### PIMA Dataset\n",
    "The Pima are a group of Native Americans living in Arizona. A genetic predisposition allowed this group to survive normally to a diet poor of carbohydrates for years. In the recent years, the PIMA have undergone of a sudden shift from traditional agricultural crops to processed foods, together with a decline in physical activity. The Pima have been under near-constant study since 1965 due to the high incidence rate of Diabetes in PIMA females. The dataset was originally published by the National Institute of Diabetes and Digestive and Kidney Diseases, consisting of 8 diagnostic measurements pertaining to 768 females of age greater than 20.(Smith et al, 1988) and a binary target variable marking whether that woman developed type 2 diabetes within the next 5 years. Three types of models: logistic regression, a random forest, and a deep neural network were trained on the data with two goals. First, to provide a simple dataset with which to access the fidelity of the MAGECS. Second, to directly compare any differences that these three statistical models might learn when trained on the same data!"
   ]
  },
  {
   "cell_type": "code",
   "execution_count": 3,
   "metadata": {},
   "outputs": [],
   "source": [
    "pima = pd.read_csv('diabetes.csv')\n",
    "seed = 7\n",
    "np.random.seed(seed)\n",
    "x = pima.iloc[:, 0:8]\n",
    "Y = pima.iloc[:,8]\n",
    "\n",
    "x_train, x_validation, Y_train, Y_validation = train_test_split(x, Y, test_size=0.2, random_state=seed)\n",
    "\n",
    "stsc = StandardScaler()\n",
    "xst_train = stsc.fit_transform(x_train)\n",
    "xst_train = pd.DataFrame(xst_train, index=x_train.index, columns=x_train.columns)\n",
    "xst_validation = stsc.transform(x_validation)\n",
    "xst_validation = pd.DataFrame(xst_validation, index=x_validation.index, columns=x_validation.columns)\n",
    "\n",
    "# Format\n",
    "x_validation_p = xst_validation.copy()\n",
    "x_validation_p['timepoint'] = 0\n",
    "x_validation_p['case'] = np.arange(len(x_validation_p))\n",
    "x_validation_p.set_index(['case','timepoint'], inplace=True)\n",
    "x_validation_p = x_validation_p.sort_index(axis=1)\n",
    "\n",
    "y_validation_p = pd.DataFrame(Y_validation.copy())\n",
    "y_validation_p['timepoint'] = 0\n",
    "y_validation_p['case'] = np.arange(len(x_validation_p))\n",
    "y_validation_p.set_index(['case','timepoint'], inplace=True)\n",
    "y_validation_p = y_validation_p.sort_index(axis=1)\n",
    "\n",
    "\n",
    "# Format\n",
    "x_train_p = xst_train.copy()\n",
    "x_train_p['timepoint'] = 0\n",
    "x_train_p['case'] = np.arange(len(x_train_p))\n",
    "x_train_p.set_index(['case','timepoint'], inplace=True)\n",
    "x_train_p = x_train_p.sort_index(axis=1)"
   ]
  },
  {
   "cell_type": "code",
   "execution_count": 4,
   "metadata": {},
   "outputs": [],
   "source": [
    "# Xst = pd.concat([xst_train, xst_validation])\n",
    "# Yst = pd.concat([Y_train, Y_validation])"
   ]
  },
  {
   "cell_type": "code",
   "execution_count": 5,
   "metadata": {},
   "outputs": [
    {
     "data": {
      "text/html": [
       "<div>\n",
       "<style scoped>\n",
       "    .dataframe tbody tr th:only-of-type {\n",
       "        vertical-align: middle;\n",
       "    }\n",
       "\n",
       "    .dataframe tbody tr th {\n",
       "        vertical-align: top;\n",
       "    }\n",
       "\n",
       "    .dataframe thead th {\n",
       "        text-align: right;\n",
       "    }\n",
       "</style>\n",
       "<table border=\"1\" class=\"dataframe\">\n",
       "  <thead>\n",
       "    <tr style=\"text-align: right;\">\n",
       "      <th></th>\n",
       "      <th>Pregnancies</th>\n",
       "      <th>Glucose</th>\n",
       "      <th>BloodPressure</th>\n",
       "      <th>SkinThickness</th>\n",
       "      <th>Insulin</th>\n",
       "      <th>BMI</th>\n",
       "      <th>DiabetesPedigreeFunction</th>\n",
       "      <th>Age</th>\n",
       "    </tr>\n",
       "  </thead>\n",
       "  <tbody>\n",
       "    <tr>\n",
       "      <td>353</td>\n",
       "      <td>1</td>\n",
       "      <td>90</td>\n",
       "      <td>62</td>\n",
       "      <td>12</td>\n",
       "      <td>43</td>\n",
       "      <td>27.2</td>\n",
       "      <td>0.580</td>\n",
       "      <td>24</td>\n",
       "    </tr>\n",
       "    <tr>\n",
       "      <td>236</td>\n",
       "      <td>7</td>\n",
       "      <td>181</td>\n",
       "      <td>84</td>\n",
       "      <td>21</td>\n",
       "      <td>192</td>\n",
       "      <td>35.9</td>\n",
       "      <td>0.586</td>\n",
       "      <td>51</td>\n",
       "    </tr>\n",
       "    <tr>\n",
       "      <td>323</td>\n",
       "      <td>13</td>\n",
       "      <td>152</td>\n",
       "      <td>90</td>\n",
       "      <td>33</td>\n",
       "      <td>29</td>\n",
       "      <td>26.8</td>\n",
       "      <td>0.731</td>\n",
       "      <td>43</td>\n",
       "    </tr>\n",
       "    <tr>\n",
       "      <td>98</td>\n",
       "      <td>6</td>\n",
       "      <td>93</td>\n",
       "      <td>50</td>\n",
       "      <td>30</td>\n",
       "      <td>64</td>\n",
       "      <td>28.7</td>\n",
       "      <td>0.356</td>\n",
       "      <td>23</td>\n",
       "    </tr>\n",
       "    <tr>\n",
       "      <td>701</td>\n",
       "      <td>6</td>\n",
       "      <td>125</td>\n",
       "      <td>78</td>\n",
       "      <td>31</td>\n",
       "      <td>0</td>\n",
       "      <td>27.6</td>\n",
       "      <td>0.565</td>\n",
       "      <td>49</td>\n",
       "    </tr>\n",
       "  </tbody>\n",
       "</table>\n",
       "</div>"
      ],
      "text/plain": [
       "     Pregnancies  Glucose  BloodPressure  SkinThickness  Insulin   BMI  \\\n",
       "353            1       90             62             12       43  27.2   \n",
       "236            7      181             84             21      192  35.9   \n",
       "323           13      152             90             33       29  26.8   \n",
       "98             6       93             50             30       64  28.7   \n",
       "701            6      125             78             31        0  27.6   \n",
       "\n",
       "     DiabetesPedigreeFunction  Age  \n",
       "353                     0.580   24  \n",
       "236                     0.586   51  \n",
       "323                     0.731   43  \n",
       "98                      0.356   23  \n",
       "701                     0.565   49  "
      ]
     },
     "execution_count": 5,
     "metadata": {},
     "output_type": "execute_result"
    }
   ],
   "source": [
    "x_validation.head()"
   ]
  },
  {
   "cell_type": "code",
   "execution_count": 6,
   "metadata": {},
   "outputs": [
    {
     "data": {
      "text/html": [
       "<div>\n",
       "<style scoped>\n",
       "    .dataframe tbody tr th:only-of-type {\n",
       "        vertical-align: middle;\n",
       "    }\n",
       "\n",
       "    .dataframe tbody tr th {\n",
       "        vertical-align: top;\n",
       "    }\n",
       "\n",
       "    .dataframe thead th {\n",
       "        text-align: right;\n",
       "    }\n",
       "</style>\n",
       "<table border=\"1\" class=\"dataframe\">\n",
       "  <thead>\n",
       "    <tr style=\"text-align: right;\">\n",
       "      <th></th>\n",
       "      <th></th>\n",
       "      <th>Age</th>\n",
       "      <th>BMI</th>\n",
       "      <th>BloodPressure</th>\n",
       "      <th>DiabetesPedigreeFunction</th>\n",
       "      <th>Glucose</th>\n",
       "      <th>Insulin</th>\n",
       "      <th>Pregnancies</th>\n",
       "      <th>SkinThickness</th>\n",
       "    </tr>\n",
       "    <tr>\n",
       "      <th>case</th>\n",
       "      <th>timepoint</th>\n",
       "      <th></th>\n",
       "      <th></th>\n",
       "      <th></th>\n",
       "      <th></th>\n",
       "      <th></th>\n",
       "      <th></th>\n",
       "      <th></th>\n",
       "      <th></th>\n",
       "    </tr>\n",
       "  </thead>\n",
       "  <tbody>\n",
       "    <tr>\n",
       "      <td>0</td>\n",
       "      <td>0</td>\n",
       "      <td>-0.773377</td>\n",
       "      <td>-0.645827</td>\n",
       "      <td>-0.359644</td>\n",
       "      <td>0.353425</td>\n",
       "      <td>-0.927785</td>\n",
       "      <td>-0.306836</td>\n",
       "      <td>-0.848867</td>\n",
       "      <td>-0.525387</td>\n",
       "    </tr>\n",
       "    <tr>\n",
       "      <td>1</td>\n",
       "      <td>0</td>\n",
       "      <td>1.578677</td>\n",
       "      <td>0.472920</td>\n",
       "      <td>0.797314</td>\n",
       "      <td>0.371810</td>\n",
       "      <td>1.890014</td>\n",
       "      <td>1.062290</td>\n",
       "      <td>0.956690</td>\n",
       "      <td>0.033690</td>\n",
       "    </tr>\n",
       "    <tr>\n",
       "      <td>2</td>\n",
       "      <td>0</td>\n",
       "      <td>0.881772</td>\n",
       "      <td>-0.697264</td>\n",
       "      <td>1.112848</td>\n",
       "      <td>0.816093</td>\n",
       "      <td>0.992034</td>\n",
       "      <td>-0.435478</td>\n",
       "      <td>2.762247</td>\n",
       "      <td>0.779127</td>\n",
       "    </tr>\n",
       "    <tr>\n",
       "      <td>3</td>\n",
       "      <td>0</td>\n",
       "      <td>-0.860490</td>\n",
       "      <td>-0.452940</td>\n",
       "      <td>-0.990712</td>\n",
       "      <td>-0.332915</td>\n",
       "      <td>-0.834890</td>\n",
       "      <td>-0.113872</td>\n",
       "      <td>0.655764</td>\n",
       "      <td>0.592768</td>\n",
       "    </tr>\n",
       "    <tr>\n",
       "      <td>4</td>\n",
       "      <td>0</td>\n",
       "      <td>1.404451</td>\n",
       "      <td>-0.594391</td>\n",
       "      <td>0.481780</td>\n",
       "      <td>0.307465</td>\n",
       "      <td>0.155984</td>\n",
       "      <td>-0.701953</td>\n",
       "      <td>0.655764</td>\n",
       "      <td>0.654887</td>\n",
       "    </tr>\n",
       "  </tbody>\n",
       "</table>\n",
       "</div>"
      ],
      "text/plain": [
       "                     Age       BMI  BloodPressure  DiabetesPedigreeFunction  \\\n",
       "case timepoint                                                                \n",
       "0    0         -0.773377 -0.645827      -0.359644                  0.353425   \n",
       "1    0          1.578677  0.472920       0.797314                  0.371810   \n",
       "2    0          0.881772 -0.697264       1.112848                  0.816093   \n",
       "3    0         -0.860490 -0.452940      -0.990712                 -0.332915   \n",
       "4    0          1.404451 -0.594391       0.481780                  0.307465   \n",
       "\n",
       "                 Glucose   Insulin  Pregnancies  SkinThickness  \n",
       "case timepoint                                                  \n",
       "0    0         -0.927785 -0.306836    -0.848867      -0.525387  \n",
       "1    0          1.890014  1.062290     0.956690       0.033690  \n",
       "2    0          0.992034 -0.435478     2.762247       0.779127  \n",
       "3    0         -0.834890 -0.113872     0.655764       0.592768  \n",
       "4    0          0.155984 -0.701953     0.655764       0.654887  "
      ]
     },
     "execution_count": 6,
     "metadata": {},
     "output_type": "execute_result"
    }
   ],
   "source": [
    "x_validation_p.head()"
   ]
  },
  {
   "cell_type": "markdown",
   "metadata": {},
   "source": [
    "### MAgECs (\"case\" level)\n",
    "Given a model and a dataset with 'scaled' (Z-normalized) features, iterate over dataset rows and features (and timepoints if dataset is a longitudinal dataset) and compute MAgEC coefficients. For a binary classification task the MAgEC coefficient for a given prediction is equal to the difference between the predicted logit probability for that datapoint and the predicted logit probability of a Z-perturbed datapoint. The latter is defined as the original datapoint with a modified feature set to 0 (mean value of scaled feature)."
   ]
  },
  {
   "cell_type": "markdown",
   "metadata": {},
   "source": [
    "### Multi-Layer-Perceptron Model "
   ]
  },
  {
   "cell_type": "code",
   "execution_count": 7,
   "metadata": {},
   "outputs": [],
   "source": [
    "model = load_model('pima_model_sts.h5')"
   ]
  },
  {
   "cell_type": "code",
   "execution_count": 8,
   "metadata": {},
   "outputs": [
    {
     "data": {
      "text/plain": [
       "0.6952432627961656"
      ]
     },
     "execution_count": 8,
     "metadata": {},
     "output_type": "execute_result"
    }
   ],
   "source": [
    "mlp_score = roc_auc_score(y_validation_p, model.predict(x_validation_p))\n",
    "mlp_score"
   ]
  },
  {
   "cell_type": "code",
   "execution_count": 9,
   "metadata": {},
   "outputs": [],
   "source": [
    "# from functools import partial\n",
    "# from keras.wrappers.scikit_learn import KerasClassifier\n",
    "# def pima_keras(model):\n",
    "#     return model\n",
    "# pima_keras = KerasClassifier(partial(pima_keras, model), verbose=0, batch_size=16)"
   ]
  },
  {
   "cell_type": "code",
   "execution_count": 10,
   "metadata": {},
   "outputs": [],
   "source": [
    "# mg.model_performance(pima_keras, Xst, Yst, 'MLP')"
   ]
  },
  {
   "cell_type": "code",
   "execution_count": 11,
   "metadata": {},
   "outputs": [],
   "source": [
    "case_mlp = mg.case_magecs(model, x_validation_p, model_name='mlp')"
   ]
  },
  {
   "cell_type": "code",
   "execution_count": 12,
   "metadata": {},
   "outputs": [],
   "source": [
    "features = ['BloodPressure', 'BMI', 'Glucose', 'Insulin', 'SkinThickness']"
   ]
  },
  {
   "cell_type": "code",
   "execution_count": 13,
   "metadata": {},
   "outputs": [],
   "source": [
    "# use all feature to normalize MAgECS\n",
    "magecs_mlp = mg.normalize_magecs(case_mlp, features=None, model_name='mlp')"
   ]
  },
  {
   "cell_type": "code",
   "execution_count": 14,
   "metadata": {},
   "outputs": [
    {
     "data": {
      "text/html": [
       "<div>\n",
       "<style scoped>\n",
       "    .dataframe tbody tr th:only-of-type {\n",
       "        vertical-align: middle;\n",
       "    }\n",
       "\n",
       "    .dataframe tbody tr th {\n",
       "        vertical-align: top;\n",
       "    }\n",
       "\n",
       "    .dataframe thead th {\n",
       "        text-align: right;\n",
       "    }\n",
       "</style>\n",
       "<table border=\"1\" class=\"dataframe\">\n",
       "  <thead>\n",
       "    <tr style=\"text-align: right;\">\n",
       "      <th>features</th>\n",
       "      <th>case</th>\n",
       "      <th>timepoint</th>\n",
       "      <th>mlp_Age</th>\n",
       "      <th>mlp_BMI</th>\n",
       "      <th>mlp_BloodPressure</th>\n",
       "      <th>mlp_DiabetesPedigreeFunction</th>\n",
       "      <th>mlp_Glucose</th>\n",
       "      <th>mlp_Insulin</th>\n",
       "      <th>mlp_Pregnancies</th>\n",
       "      <th>mlp_SkinThickness</th>\n",
       "      <th>perturb_Age_prob_mlp</th>\n",
       "      <th>orig_prob_mlp</th>\n",
       "      <th>perturb_BMI_prob_mlp</th>\n",
       "      <th>perturb_BloodPressure_prob_mlp</th>\n",
       "      <th>perturb_DiabetesPedigreeFunction_prob_mlp</th>\n",
       "      <th>perturb_Glucose_prob_mlp</th>\n",
       "      <th>perturb_Insulin_prob_mlp</th>\n",
       "      <th>perturb_Pregnancies_prob_mlp</th>\n",
       "      <th>perturb_SkinThickness_prob_mlp</th>\n",
       "    </tr>\n",
       "  </thead>\n",
       "  <tbody>\n",
       "    <tr>\n",
       "      <td>0</td>\n",
       "      <td>0</td>\n",
       "      <td>0</td>\n",
       "      <td>0.249736</td>\n",
       "      <td>0.718566</td>\n",
       "      <td>-0.037057</td>\n",
       "      <td>0.006918</td>\n",
       "      <td>-0.025844</td>\n",
       "      <td>0.233703</td>\n",
       "      <td>0.520776</td>\n",
       "      <td>0.305584</td>\n",
       "      <td>0.081521</td>\n",
       "      <td>0.063786</td>\n",
       "      <td>0.127258</td>\n",
       "      <td>0.061483</td>\n",
       "      <td>0.064225</td>\n",
       "      <td>0.062171</td>\n",
       "      <td>0.080258</td>\n",
       "      <td>0.105754</td>\n",
       "      <td>0.086059</td>\n",
       "    </tr>\n",
       "    <tr>\n",
       "      <td>1</td>\n",
       "      <td>1</td>\n",
       "      <td>0</td>\n",
       "      <td>-0.782240</td>\n",
       "      <td>-0.420515</td>\n",
       "      <td>0.112158</td>\n",
       "      <td>-0.095649</td>\n",
       "      <td>0.194162</td>\n",
       "      <td>-0.251709</td>\n",
       "      <td>-0.297298</td>\n",
       "      <td>-0.009868</td>\n",
       "      <td>0.521750</td>\n",
       "      <td>0.744293</td>\n",
       "      <td>0.632011</td>\n",
       "      <td>0.770142</td>\n",
       "      <td>0.720795</td>\n",
       "      <td>0.787846</td>\n",
       "      <td>0.679751</td>\n",
       "      <td>0.667174</td>\n",
       "      <td>0.741930</td>\n",
       "    </tr>\n",
       "    <tr>\n",
       "      <td>2</td>\n",
       "      <td>2</td>\n",
       "      <td>0</td>\n",
       "      <td>-0.280346</td>\n",
       "      <td>0.386273</td>\n",
       "      <td>0.157763</td>\n",
       "      <td>-0.229775</td>\n",
       "      <td>0.030192</td>\n",
       "      <td>0.060988</td>\n",
       "      <td>-0.814133</td>\n",
       "      <td>-0.164530</td>\n",
       "      <td>0.464860</td>\n",
       "      <td>0.591666</td>\n",
       "      <td>0.745703</td>\n",
       "      <td>0.658987</td>\n",
       "      <td>0.487878</td>\n",
       "      <td>0.604908</td>\n",
       "      <td>0.618258</td>\n",
       "      <td>0.246943</td>\n",
       "      <td>0.517638</td>\n",
       "    </tr>\n",
       "  </tbody>\n",
       "</table>\n",
       "</div>"
      ],
      "text/plain": [
       "features  case  timepoint   mlp_Age   mlp_BMI  mlp_BloodPressure  \\\n",
       "0            0          0  0.249736  0.718566          -0.037057   \n",
       "1            1          0 -0.782240 -0.420515           0.112158   \n",
       "2            2          0 -0.280346  0.386273           0.157763   \n",
       "\n",
       "features  mlp_DiabetesPedigreeFunction  mlp_Glucose  mlp_Insulin  \\\n",
       "0                             0.006918    -0.025844     0.233703   \n",
       "1                            -0.095649     0.194162    -0.251709   \n",
       "2                            -0.229775     0.030192     0.060988   \n",
       "\n",
       "features  mlp_Pregnancies  mlp_SkinThickness  perturb_Age_prob_mlp  \\\n",
       "0                0.520776           0.305584              0.081521   \n",
       "1               -0.297298          -0.009868              0.521750   \n",
       "2               -0.814133          -0.164530              0.464860   \n",
       "\n",
       "features  orig_prob_mlp  perturb_BMI_prob_mlp  perturb_BloodPressure_prob_mlp  \\\n",
       "0              0.063786              0.127258                        0.061483   \n",
       "1              0.744293              0.632011                        0.770142   \n",
       "2              0.591666              0.745703                        0.658987   \n",
       "\n",
       "features  perturb_DiabetesPedigreeFunction_prob_mlp  perturb_Glucose_prob_mlp  \\\n",
       "0                                          0.064225                  0.062171   \n",
       "1                                          0.720795                  0.787846   \n",
       "2                                          0.487878                  0.604908   \n",
       "\n",
       "features  perturb_Insulin_prob_mlp  perturb_Pregnancies_prob_mlp  \\\n",
       "0                         0.080258                      0.105754   \n",
       "1                         0.679751                      0.667174   \n",
       "2                         0.618258                      0.246943   \n",
       "\n",
       "features  perturb_SkinThickness_prob_mlp  \n",
       "0                               0.086059  \n",
       "1                               0.741930  \n",
       "2                               0.517638  "
      ]
     },
     "execution_count": 14,
     "metadata": {},
     "output_type": "execute_result"
    }
   ],
   "source": [
    "magecs_mlp.head(3)"
   ]
  },
  {
   "cell_type": "code",
   "execution_count": 15,
   "metadata": {},
   "outputs": [
    {
     "data": {
      "text/plain": [
       "1.0000002179759764"
      ]
     },
     "execution_count": 15,
     "metadata": {},
     "output_type": "execute_result"
    }
   ],
   "source": [
    "np.linalg.norm([0.249736,0.718566,-0.037057,0.006919,-0.025843,0.233703,0.520776,0.305584])"
   ]
  },
  {
   "cell_type": "code",
   "execution_count": 16,
   "metadata": {},
   "outputs": [],
   "source": [
    "magecs_mlp = magecs_mlp.merge(y_validation_p, left_on=['case', 'timepoint'], right_index=True)"
   ]
  },
  {
   "cell_type": "code",
   "execution_count": 17,
   "metadata": {},
   "outputs": [],
   "source": [
    "# mg.plot_all_violin(magecs_mlp, features=features, model_name='mlp')"
   ]
  },
  {
   "cell_type": "markdown",
   "metadata": {},
   "source": [
    "### Random Forest (calibrated)"
   ]
  },
  {
   "cell_type": "code",
   "execution_count": 18,
   "metadata": {},
   "outputs": [
    {
     "data": {
      "text/plain": [
       "CalibratedClassifierCV(base_estimator=RandomForestClassifier(bootstrap=True, class_weight=None, criterion='gini',\n",
       "            max_depth=None, max_features='auto', max_leaf_nodes=None,\n",
       "            min_impurity_decrease=0.0, min_impurity_split=None,\n",
       "            min_samples_leaf=1, min_samples_split=2,\n",
       "            min_weight_fraction_leaf=0.0, n_estimators=1000, n_jobs=None,\n",
       "            oob_score=False, random_state=None, verbose=0,\n",
       "            warm_start=False),\n",
       "            cv=5, method='sigmoid')"
      ]
     },
     "execution_count": 18,
     "metadata": {},
     "output_type": "execute_result"
    }
   ],
   "source": [
    "rf = RandomForestClassifier(n_estimators=1000)\n",
    "rf.fit(x_train_p, Y_train)\n",
    "sigmoidRF = CalibratedClassifierCV(RandomForestClassifier(n_estimators=1000), cv=5, method='sigmoid')\n",
    "sigmoidRF.fit(x_train_p, Y_train)"
   ]
  },
  {
   "cell_type": "code",
   "execution_count": 19,
   "metadata": {},
   "outputs": [],
   "source": [
    "case_rf = mg.case_magecs(sigmoidRF, x_validation_p, model_name='rf')\n",
    "magecs_rf = mg.normalize_magecs(case_rf, features=None, model_name='rf')\n",
    "magecs_rf = magecs_rf.merge(y_validation_p, left_on=['case', 'timepoint'], right_index=True)\n",
    "# mg.plot_all_violin(magecs_rf, features=features, model_name='rf')"
   ]
  },
  {
   "cell_type": "code",
   "execution_count": 20,
   "metadata": {},
   "outputs": [
    {
     "data": {
      "text/plain": [
       "0.7518538614577681"
      ]
     },
     "execution_count": 20,
     "metadata": {},
     "output_type": "execute_result"
    }
   ],
   "source": [
    "rf_score = roc_auc_score(y_validation_p, sigmoidRF.predict(x_validation_p))\n",
    "rf_score"
   ]
  },
  {
   "cell_type": "code",
   "execution_count": 21,
   "metadata": {},
   "outputs": [],
   "source": [
    "# mg.model_performance(sigmoidRF, Xst, Yst, 'RF')"
   ]
  },
  {
   "cell_type": "markdown",
   "metadata": {},
   "source": [
    "### Logistic Regression"
   ]
  },
  {
   "cell_type": "code",
   "execution_count": 22,
   "metadata": {},
   "outputs": [
    {
     "data": {
      "text/plain": [
       "LogisticRegression(C=1.0, class_weight=None, dual=False, fit_intercept=True,\n",
       "          intercept_scaling=1, max_iter=100, multi_class='warn',\n",
       "          n_jobs=None, penalty='l2', random_state=None, solver='warn',\n",
       "          tol=0.0001, verbose=0, warm_start=False)"
      ]
     },
     "execution_count": 22,
     "metadata": {},
     "output_type": "execute_result"
    }
   ],
   "source": [
    "lr = LogisticRegression(C=1.)\n",
    "lr.fit(x_train_p, Y_train)"
   ]
  },
  {
   "cell_type": "code",
   "execution_count": 23,
   "metadata": {},
   "outputs": [
    {
     "data": {
      "text/plain": [
       "0.739464640983903"
      ]
     },
     "execution_count": 23,
     "metadata": {},
     "output_type": "execute_result"
    }
   ],
   "source": [
    "lr_score = roc_auc_score(y_validation_p, lr.predict(x_validation_p))\n",
    "lr_score"
   ]
  },
  {
   "cell_type": "code",
   "execution_count": 24,
   "metadata": {},
   "outputs": [],
   "source": [
    "case_lr = mg.case_magecs(lr, x_validation_p, model_name='lr')\n",
    "magecs_lr = mg.normalize_magecs(case_lr, features=None, model_name='lr')\n",
    "magecs_lr = magecs_lr.merge(y_validation_p, left_on=['case', 'timepoint'], right_index=True)\n",
    "# mg.plot_all_violin(magecs_lr, features=features, model_name='lr')"
   ]
  },
  {
   "cell_type": "markdown",
   "metadata": {},
   "source": [
    "## MAgEC Consensus"
   ]
  },
  {
   "cell_type": "code",
   "execution_count": 25,
   "metadata": {},
   "outputs": [],
   "source": [
    "joined = mg.magec_models(magecs_mlp, \n",
    "                         magecs_rf, \n",
    "                         magecs_lr, \n",
    "                         Xdata=x_validation_p, \n",
    "                         Ydata=y_validation_p, \n",
    "                         features=['Age', 'BloodPressure', 'BMI', 'Glucose', 'Insulin',\n",
    "                                      'SkinThickness', 'DiabetesPedigreeFunction'])"
   ]
  },
  {
   "cell_type": "code",
   "execution_count": 26,
   "metadata": {},
   "outputs": [
    {
     "data": {
      "text/html": [
       "<div>\n",
       "<style scoped>\n",
       "    .dataframe tbody tr th:only-of-type {\n",
       "        vertical-align: middle;\n",
       "    }\n",
       "\n",
       "    .dataframe tbody tr th {\n",
       "        vertical-align: top;\n",
       "    }\n",
       "\n",
       "    .dataframe thead th {\n",
       "        text-align: right;\n",
       "    }\n",
       "</style>\n",
       "<table border=\"1\" class=\"dataframe\">\n",
       "  <thead>\n",
       "    <tr style=\"text-align: right;\">\n",
       "      <th></th>\n",
       "      <th>case</th>\n",
       "      <th>timepoint</th>\n",
       "      <th>mlp_Age</th>\n",
       "      <th>mlp_BMI</th>\n",
       "      <th>mlp_BloodPressure</th>\n",
       "      <th>mlp_DiabetesPedigreeFunction</th>\n",
       "      <th>mlp_Glucose</th>\n",
       "      <th>mlp_Insulin</th>\n",
       "      <th>mlp_SkinThickness</th>\n",
       "      <th>perturb_Age_prob_mlp</th>\n",
       "      <th>...</th>\n",
       "      <th>lr_Insulin</th>\n",
       "      <th>lr_SkinThickness</th>\n",
       "      <th>perturb_Age_prob_lr</th>\n",
       "      <th>perturb_BMI_prob_lr</th>\n",
       "      <th>perturb_BloodPressure_prob_lr</th>\n",
       "      <th>perturb_DiabetesPedigreeFunction_prob_lr</th>\n",
       "      <th>perturb_Glucose_prob_lr</th>\n",
       "      <th>perturb_Insulin_prob_lr</th>\n",
       "      <th>perturb_SkinThickness_prob_lr</th>\n",
       "      <th>orig_prob_lr</th>\n",
       "    </tr>\n",
       "  </thead>\n",
       "  <tbody>\n",
       "    <tr>\n",
       "      <td>0</td>\n",
       "      <td>0</td>\n",
       "      <td>0</td>\n",
       "      <td>0.249736</td>\n",
       "      <td>0.718566</td>\n",
       "      <td>-0.037057</td>\n",
       "      <td>0.006918</td>\n",
       "      <td>-0.025844</td>\n",
       "      <td>0.233703</td>\n",
       "      <td>0.305584</td>\n",
       "      <td>0.081521</td>\n",
       "      <td>...</td>\n",
       "      <td>-0.036688</td>\n",
       "      <td>0.015571</td>\n",
       "      <td>0.079574</td>\n",
       "      <td>0.112591</td>\n",
       "      <td>0.066757</td>\n",
       "      <td>0.063725</td>\n",
       "      <td>0.171329</td>\n",
       "      <td>0.069739</td>\n",
       "      <td>0.073770</td>\n",
       "      <td>0.072547</td>\n",
       "    </tr>\n",
       "    <tr>\n",
       "      <td>1</td>\n",
       "      <td>1</td>\n",
       "      <td>0</td>\n",
       "      <td>-0.782240</td>\n",
       "      <td>-0.420515</td>\n",
       "      <td>0.112158</td>\n",
       "      <td>-0.095649</td>\n",
       "      <td>0.194162</td>\n",
       "      <td>-0.251709</td>\n",
       "      <td>-0.009868</td>\n",
       "      <td>0.521750</td>\n",
       "      <td>...</td>\n",
       "      <td>0.070729</td>\n",
       "      <td>-0.000556</td>\n",
       "      <td>0.837343</td>\n",
       "      <td>0.815877</td>\n",
       "      <td>0.885038</td>\n",
       "      <td>0.845075</td>\n",
       "      <td>0.465754</td>\n",
       "      <td>0.879739</td>\n",
       "      <td>0.863147</td>\n",
       "      <td>0.863284</td>\n",
       "    </tr>\n",
       "    <tr>\n",
       "      <td>2</td>\n",
       "      <td>2</td>\n",
       "      <td>0</td>\n",
       "      <td>-0.280346</td>\n",
       "      <td>0.386273</td>\n",
       "      <td>0.157763</td>\n",
       "      <td>-0.229775</td>\n",
       "      <td>0.030192</td>\n",
       "      <td>0.060988</td>\n",
       "      <td>-0.164530</td>\n",
       "      <td>0.464860</td>\n",
       "      <td>...</td>\n",
       "      <td>-0.035675</td>\n",
       "      <td>-0.015821</td>\n",
       "      <td>0.710667</td>\n",
       "      <td>0.822721</td>\n",
       "      <td>0.784033</td>\n",
       "      <td>0.666296</td>\n",
       "      <td>0.493356</td>\n",
       "      <td>0.721596</td>\n",
       "      <td>0.728289</td>\n",
       "      <td>0.733549</td>\n",
       "    </tr>\n",
       "  </tbody>\n",
       "</table>\n",
       "<p>3 rows × 56 columns</p>\n",
       "</div>"
      ],
      "text/plain": [
       "   case  timepoint   mlp_Age   mlp_BMI  mlp_BloodPressure  \\\n",
       "0     0          0  0.249736  0.718566          -0.037057   \n",
       "1     1          0 -0.782240 -0.420515           0.112158   \n",
       "2     2          0 -0.280346  0.386273           0.157763   \n",
       "\n",
       "   mlp_DiabetesPedigreeFunction  mlp_Glucose  mlp_Insulin  mlp_SkinThickness  \\\n",
       "0                      0.006918    -0.025844     0.233703           0.305584   \n",
       "1                     -0.095649     0.194162    -0.251709          -0.009868   \n",
       "2                     -0.229775     0.030192     0.060988          -0.164530   \n",
       "\n",
       "   perturb_Age_prob_mlp  ...  lr_Insulin  lr_SkinThickness  \\\n",
       "0              0.081521  ...   -0.036688          0.015571   \n",
       "1              0.521750  ...    0.070729         -0.000556   \n",
       "2              0.464860  ...   -0.035675         -0.015821   \n",
       "\n",
       "   perturb_Age_prob_lr  perturb_BMI_prob_lr  perturb_BloodPressure_prob_lr  \\\n",
       "0             0.079574             0.112591                       0.066757   \n",
       "1             0.837343             0.815877                       0.885038   \n",
       "2             0.710667             0.822721                       0.784033   \n",
       "\n",
       "   perturb_DiabetesPedigreeFunction_prob_lr  perturb_Glucose_prob_lr  \\\n",
       "0                                  0.063725                 0.171329   \n",
       "1                                  0.845075                 0.465754   \n",
       "2                                  0.666296                 0.493356   \n",
       "\n",
       "   perturb_Insulin_prob_lr  perturb_SkinThickness_prob_lr  orig_prob_lr  \n",
       "0                 0.069739                       0.073770      0.072547  \n",
       "1                 0.879739                       0.863147      0.863284  \n",
       "2                 0.721596                       0.728289      0.733549  \n",
       "\n",
       "[3 rows x 56 columns]"
      ]
     },
     "execution_count": 26,
     "metadata": {},
     "output_type": "execute_result"
    }
   ],
   "source": [
    "joined.head(3)"
   ]
  },
  {
   "cell_type": "code",
   "execution_count": 27,
   "metadata": {},
   "outputs": [],
   "source": [
    "# use AUC scores as weights\n",
    "weights = {'mlp': mlp_score, 'rf': rf_score, 'lr': lr_score}"
   ]
  },
  {
   "cell_type": "markdown",
   "metadata": {},
   "source": [
    "### MAgEC individual examples"
   ]
  },
  {
   "cell_type": "code",
   "execution_count": 28,
   "metadata": {},
   "outputs": [
    {
     "data": {
      "text/plain": [
       "case                                         2.000000\n",
       "timepoint                                    0.000000\n",
       "mlp_Age                                     -0.280346\n",
       "mlp_BMI                                      0.386273\n",
       "mlp_BloodPressure                            0.157763\n",
       "mlp_DiabetesPedigreeFunction                -0.229775\n",
       "mlp_Glucose                                  0.030192\n",
       "mlp_Insulin                                  0.060988\n",
       "mlp_SkinThickness                           -0.164530\n",
       "perturb_Age_prob_mlp                         0.464860\n",
       "perturb_BMI_prob_mlp                         0.745703\n",
       "perturb_BloodPressure_prob_mlp               0.658987\n",
       "perturb_DiabetesPedigreeFunction_prob_mlp    0.487878\n",
       "perturb_Glucose_prob_mlp                     0.604908\n",
       "perturb_Insulin_prob_mlp                     0.618258\n",
       "perturb_SkinThickness_prob_mlp               0.517638\n",
       "orig_prob_mlp                                0.591666\n",
       "Age                                          0.881772\n",
       "BMI                                         -0.697264\n",
       "BloodPressure                                1.112848\n",
       "DiabetesPedigreeFunction                     0.816093\n",
       "Glucose                                      0.992034\n",
       "Insulin                                     -0.435478\n",
       "Pregnancies                                  2.762247\n",
       "SkinThickness                                0.779127\n",
       "Outcome                                      1.000000\n",
       "rf_Age                                       0.040300\n",
       "rf_BMI                                       0.897163\n",
       "rf_BloodPressure                            -0.152834\n",
       "rf_DiabetesPedigreeFunction                 -0.143458\n",
       "rf_Glucose                                  -0.282895\n",
       "rf_Insulin                                  -0.022242\n",
       "rf_SkinThickness                            -0.051160\n",
       "perturb_Age_prob_rf                          0.509429\n",
       "perturb_BMI_prob_rf                          0.802258\n",
       "perturb_BloodPressure_prob_rf                0.433044\n",
       "perturb_DiabetesPedigreeFunction_prob_rf     0.436709\n",
       "perturb_Glucose_prob_rf                      0.383129\n",
       "perturb_Insulin_prob_rf                      0.484568\n",
       "perturb_SkinThickness_prob_rf                0.473091\n",
       "orig_prob_rf                                 0.493407\n",
       "lr_Age                                      -0.067478\n",
       "lr_BMI                                       0.308874\n",
       "lr_BloodPressure                             0.163621\n",
       "lr_DiabetesPedigreeFunction                 -0.190002\n",
       "lr_Glucose                                  -0.614731\n",
       "lr_Insulin                                  -0.035675\n",
       "lr_SkinThickness                            -0.015821\n",
       "perturb_Age_prob_lr                          0.710667\n",
       "perturb_BMI_prob_lr                          0.822721\n",
       "perturb_BloodPressure_prob_lr                0.784033\n",
       "perturb_DiabetesPedigreeFunction_prob_lr     0.666296\n",
       "perturb_Glucose_prob_lr                      0.493356\n",
       "perturb_Insulin_prob_lr                      0.721596\n",
       "perturb_SkinThickness_prob_lr                0.728289\n",
       "orig_prob_lr                                 0.733549\n",
       "Name: 2, dtype: float64"
      ]
     },
     "execution_count": 28,
     "metadata": {},
     "output_type": "execute_result"
    }
   ],
   "source": [
    "joined.iloc[2]"
   ]
  },
  {
   "cell_type": "markdown",
   "metadata": {},
   "source": [
    "## MAgEC Policy"
   ]
  },
  {
   "cell_type": "markdown",
   "metadata": {},
   "source": [
    "### Ranked MAgECs (rank=1)"
   ]
  },
  {
   "cell_type": "code",
   "execution_count": 29,
   "metadata": {},
   "outputs": [],
   "source": [
    "# ranks1 = mg.magec_rank(joined, rank=1, features=features)\n",
    "# compute ranked MAgECs\n",
    "# ranks1 = mg.magec_rank(joined[joined['Outcome'] == 1], rank=1, features=features)\n",
    "ranks1 = mg.magec_rank(joined, rank=1, features=features)"
   ]
  },
  {
   "cell_type": "code",
   "execution_count": 30,
   "metadata": {},
   "outputs": [
    {
     "data": {
      "text/html": [
       "<div>\n",
       "<style scoped>\n",
       "    .dataframe tbody tr th:only-of-type {\n",
       "        vertical-align: middle;\n",
       "    }\n",
       "\n",
       "    .dataframe tbody tr th {\n",
       "        vertical-align: top;\n",
       "    }\n",
       "\n",
       "    .dataframe thead th {\n",
       "        text-align: right;\n",
       "    }\n",
       "</style>\n",
       "<table border=\"1\" class=\"dataframe\">\n",
       "  <thead>\n",
       "    <tr style=\"text-align: right;\">\n",
       "      <th></th>\n",
       "      <th>case</th>\n",
       "      <th>timepoint</th>\n",
       "      <th>Outcome</th>\n",
       "      <th>mlp_magec</th>\n",
       "      <th>mlp_feat</th>\n",
       "      <th>rf_magec</th>\n",
       "      <th>rf_feat</th>\n",
       "      <th>lr_magec</th>\n",
       "      <th>lr_feat</th>\n",
       "      <th>perturb_BloodPressure_prob_mlp</th>\n",
       "      <th>...</th>\n",
       "      <th>perturb_SkinThickness_prob_rf</th>\n",
       "      <th>perturb_SkinThickness_prob_lr</th>\n",
       "      <th>orig_prob_mlp</th>\n",
       "      <th>orig_prob_rf</th>\n",
       "      <th>orig_prob_lr</th>\n",
       "      <th>BloodPressure</th>\n",
       "      <th>BMI</th>\n",
       "      <th>Glucose</th>\n",
       "      <th>Insulin</th>\n",
       "      <th>SkinThickness</th>\n",
       "    </tr>\n",
       "  </thead>\n",
       "  <tbody>\n",
       "    <tr>\n",
       "      <td>0</td>\n",
       "      <td>0</td>\n",
       "      <td>0</td>\n",
       "      <td>0</td>\n",
       "      <td>-0.037057</td>\n",
       "      <td>BloodPressure</td>\n",
       "      <td>-0.078988</td>\n",
       "      <td>SkinThickness</td>\n",
       "      <td>-0.077178</td>\n",
       "      <td>BloodPressure</td>\n",
       "      <td>0.061483</td>\n",
       "      <td>...</td>\n",
       "      <td>0.081861</td>\n",
       "      <td>0.073770</td>\n",
       "      <td>0.063786</td>\n",
       "      <td>0.085829</td>\n",
       "      <td>0.072547</td>\n",
       "      <td>-0.359644</td>\n",
       "      <td>-0.645827</td>\n",
       "      <td>-0.927785</td>\n",
       "      <td>-0.306836</td>\n",
       "      <td>-0.525387</td>\n",
       "    </tr>\n",
       "    <tr>\n",
       "      <td>1</td>\n",
       "      <td>1</td>\n",
       "      <td>0</td>\n",
       "      <td>1</td>\n",
       "      <td>-0.420515</td>\n",
       "      <td>BMI</td>\n",
       "      <td>-0.958529</td>\n",
       "      <td>Glucose</td>\n",
       "      <td>-0.951876</td>\n",
       "      <td>Glucose</td>\n",
       "      <td>0.770142</td>\n",
       "      <td>...</td>\n",
       "      <td>0.849998</td>\n",
       "      <td>0.863147</td>\n",
       "      <td>0.744293</td>\n",
       "      <td>0.850585</td>\n",
       "      <td>0.863284</td>\n",
       "      <td>0.797314</td>\n",
       "      <td>0.472920</td>\n",
       "      <td>1.890014</td>\n",
       "      <td>1.062290</td>\n",
       "      <td>0.033690</td>\n",
       "    </tr>\n",
       "    <tr>\n",
       "      <td>2</td>\n",
       "      <td>2</td>\n",
       "      <td>0</td>\n",
       "      <td>1</td>\n",
       "      <td>-0.164530</td>\n",
       "      <td>SkinThickness</td>\n",
       "      <td>-0.282895</td>\n",
       "      <td>Glucose</td>\n",
       "      <td>-0.614731</td>\n",
       "      <td>Glucose</td>\n",
       "      <td>0.658987</td>\n",
       "      <td>...</td>\n",
       "      <td>0.473091</td>\n",
       "      <td>0.728289</td>\n",
       "      <td>0.591666</td>\n",
       "      <td>0.493407</td>\n",
       "      <td>0.733549</td>\n",
       "      <td>1.112848</td>\n",
       "      <td>-0.697264</td>\n",
       "      <td>0.992034</td>\n",
       "      <td>-0.435478</td>\n",
       "      <td>0.779127</td>\n",
       "    </tr>\n",
       "  </tbody>\n",
       "</table>\n",
       "<p>3 rows × 32 columns</p>\n",
       "</div>"
      ],
      "text/plain": [
       "   case  timepoint  Outcome  mlp_magec       mlp_feat  rf_magec  \\\n",
       "0     0          0        0  -0.037057  BloodPressure -0.078988   \n",
       "1     1          0        1  -0.420515            BMI -0.958529   \n",
       "2     2          0        1  -0.164530  SkinThickness -0.282895   \n",
       "\n",
       "         rf_feat  lr_magec        lr_feat  perturb_BloodPressure_prob_mlp  \\\n",
       "0  SkinThickness -0.077178  BloodPressure                        0.061483   \n",
       "1        Glucose -0.951876        Glucose                        0.770142   \n",
       "2        Glucose -0.614731        Glucose                        0.658987   \n",
       "\n",
       "   ...  perturb_SkinThickness_prob_rf  perturb_SkinThickness_prob_lr  \\\n",
       "0  ...                       0.081861                       0.073770   \n",
       "1  ...                       0.849998                       0.863147   \n",
       "2  ...                       0.473091                       0.728289   \n",
       "\n",
       "   orig_prob_mlp  orig_prob_rf  orig_prob_lr  BloodPressure       BMI  \\\n",
       "0       0.063786      0.085829      0.072547      -0.359644 -0.645827   \n",
       "1       0.744293      0.850585      0.863284       0.797314  0.472920   \n",
       "2       0.591666      0.493407      0.733549       1.112848 -0.697264   \n",
       "\n",
       "    Glucose   Insulin  SkinThickness  \n",
       "0 -0.927785 -0.306836      -0.525387  \n",
       "1  1.890014  1.062290       0.033690  \n",
       "2  0.992034 -0.435478       0.779127  \n",
       "\n",
       "[3 rows x 32 columns]"
      ]
     },
     "execution_count": 30,
     "metadata": {},
     "output_type": "execute_result"
    }
   ],
   "source": [
    "ranks1.head(3)"
   ]
  },
  {
   "cell_type": "code",
   "execution_count": 31,
   "metadata": {},
   "outputs": [
    {
     "name": "stdout",
     "output_type": "stream",
     "text": [
      "\t mlp MAgEC Stats\n",
      "**** mlp_feat ****\n",
      "BMI              40\n",
      "Insulin          38\n",
      "SkinThickness    24\n",
      "BloodPressure    22\n",
      "Glucose          17\n",
      "not_found        13\n",
      "Name: mlp_feat, dtype: int64\n",
      "***********\n",
      "\t rf MAgEC Stats\n",
      "**** rf_feat ****\n",
      "Glucose          56\n",
      "Insulin          47\n",
      "BloodPressure    25\n",
      "SkinThickness    23\n",
      "BMI               2\n",
      "not_found         1\n",
      "Name: rf_feat, dtype: int64\n",
      "***********\n",
      "\t lr MAgEC Stats\n",
      "**** lr_feat ****\n",
      "Glucose          63\n",
      "Insulin          31\n",
      "BMI              31\n",
      "BloodPressure    26\n",
      "not_found         2\n",
      "SkinThickness     1\n",
      "Name: lr_feat, dtype: int64\n",
      "***********\n"
     ]
    }
   ],
   "source": [
    "mg.print_ranks_stats(ranks1)"
   ]
  },
  {
   "cell_type": "markdown",
   "metadata": {},
   "source": [
    "### Consensus using rank=1 and 'sum' policy"
   ]
  },
  {
   "cell_type": "code",
   "execution_count": 32,
   "metadata": {},
   "outputs": [],
   "source": [
    "consensus1a = mg.magec_consensus(ranks1, use_weights=True, weights=weights)"
   ]
  },
  {
   "cell_type": "code",
   "execution_count": 33,
   "metadata": {},
   "outputs": [
    {
     "data": {
      "text/html": [
       "<div>\n",
       "<style scoped>\n",
       "    .dataframe tbody tr th:only-of-type {\n",
       "        vertical-align: middle;\n",
       "    }\n",
       "\n",
       "    .dataframe tbody tr th {\n",
       "        vertical-align: top;\n",
       "    }\n",
       "\n",
       "    .dataframe thead th {\n",
       "        text-align: right;\n",
       "    }\n",
       "</style>\n",
       "<table border=\"1\" class=\"dataframe\">\n",
       "  <thead>\n",
       "    <tr style=\"text-align: right;\">\n",
       "      <th></th>\n",
       "      <th>case</th>\n",
       "      <th>timepoint</th>\n",
       "      <th>winner</th>\n",
       "      <th>score</th>\n",
       "      <th>consensus</th>\n",
       "      <th>models</th>\n",
       "      <th>avg_percent_consensus</th>\n",
       "      <th>avg_percent_all</th>\n",
       "    </tr>\n",
       "  </thead>\n",
       "  <tbody>\n",
       "    <tr>\n",
       "      <td>0</td>\n",
       "      <td>0</td>\n",
       "      <td>0</td>\n",
       "      <td>BloodPressure</td>\n",
       "      <td>0.082834</td>\n",
       "      <td>2</td>\n",
       "      <td>[lr, mlp]</td>\n",
       "      <td>5.796109</td>\n",
       "      <td>4.856736</td>\n",
       "    </tr>\n",
       "    <tr>\n",
       "      <td>1</td>\n",
       "      <td>1</td>\n",
       "      <td>0</td>\n",
       "      <td>Glucose</td>\n",
       "      <td>1.424552</td>\n",
       "      <td>2</td>\n",
       "      <td>[lr, rf]</td>\n",
       "      <td>38.104730</td>\n",
       "      <td>23.452655</td>\n",
       "    </tr>\n",
       "    <tr>\n",
       "      <td>2</td>\n",
       "      <td>2</td>\n",
       "      <td>0</td>\n",
       "      <td>Glucose</td>\n",
       "      <td>0.667268</td>\n",
       "      <td>2</td>\n",
       "      <td>[lr, rf]</td>\n",
       "      <td>27.547160</td>\n",
       "      <td>17.618737</td>\n",
       "    </tr>\n",
       "  </tbody>\n",
       "</table>\n",
       "</div>"
      ],
      "text/plain": [
       "   case  timepoint         winner     score  consensus     models  \\\n",
       "0     0          0  BloodPressure  0.082834          2  [lr, mlp]   \n",
       "1     1          0        Glucose  1.424552          2   [lr, rf]   \n",
       "2     2          0        Glucose  0.667268          2   [lr, rf]   \n",
       "\n",
       "   avg_percent_consensus  avg_percent_all  \n",
       "0               5.796109         4.856736  \n",
       "1              38.104730        23.452655  \n",
       "2              27.547160        17.618737  "
      ]
     },
     "execution_count": 33,
     "metadata": {},
     "output_type": "execute_result"
    }
   ],
   "source": [
    "consensus1a.head(3)"
   ]
  },
  {
   "cell_type": "code",
   "execution_count": 34,
   "metadata": {},
   "outputs": [
    {
     "data": {
      "text/plain": [
       "Glucose          53\n",
       "Insulin          39\n",
       "BMI              24\n",
       "BloodPressure    23\n",
       "SkinThickness    15\n",
       "Name: winner, dtype: int64"
      ]
     },
     "execution_count": 34,
     "metadata": {},
     "output_type": "execute_result"
    }
   ],
   "source": [
    "consensus1a.winner.value_counts()"
   ]
  },
  {
   "cell_type": "code",
   "execution_count": 35,
   "metadata": {},
   "outputs": [
    {
     "data": {
      "text/html": [
       "<div>\n",
       "<style scoped>\n",
       "    .dataframe tbody tr th:only-of-type {\n",
       "        vertical-align: middle;\n",
       "    }\n",
       "\n",
       "    .dataframe tbody tr th {\n",
       "        vertical-align: top;\n",
       "    }\n",
       "\n",
       "    .dataframe thead tr th {\n",
       "        text-align: left;\n",
       "    }\n",
       "\n",
       "    .dataframe thead tr:last-of-type th {\n",
       "        text-align: right;\n",
       "    }\n",
       "</style>\n",
       "<table border=\"1\" class=\"dataframe\">\n",
       "  <thead>\n",
       "    <tr>\n",
       "      <th></th>\n",
       "      <th colspan=\"3\" halign=\"left\">score</th>\n",
       "      <th colspan=\"3\" halign=\"left\">consensus</th>\n",
       "    </tr>\n",
       "    <tr>\n",
       "      <th></th>\n",
       "      <th>mean</th>\n",
       "      <th>std</th>\n",
       "      <th>count</th>\n",
       "      <th>mean</th>\n",
       "      <th>std</th>\n",
       "      <th>count</th>\n",
       "    </tr>\n",
       "    <tr>\n",
       "      <th>winner</th>\n",
       "      <th></th>\n",
       "      <th></th>\n",
       "      <th></th>\n",
       "      <th></th>\n",
       "      <th></th>\n",
       "      <th></th>\n",
       "    </tr>\n",
       "  </thead>\n",
       "  <tbody>\n",
       "    <tr>\n",
       "      <td>BMI</td>\n",
       "      <td>1.004380</td>\n",
       "      <td>0.352818</td>\n",
       "      <td>24</td>\n",
       "      <td>2.041667</td>\n",
       "      <td>0.358641</td>\n",
       "      <td>24</td>\n",
       "    </tr>\n",
       "    <tr>\n",
       "      <td>BloodPressure</td>\n",
       "      <td>0.380406</td>\n",
       "      <td>0.350086</td>\n",
       "      <td>23</td>\n",
       "      <td>1.913043</td>\n",
       "      <td>0.792754</td>\n",
       "      <td>23</td>\n",
       "    </tr>\n",
       "    <tr>\n",
       "      <td>Glucose</td>\n",
       "      <td>0.951578</td>\n",
       "      <td>0.430154</td>\n",
       "      <td>53</td>\n",
       "      <td>1.924528</td>\n",
       "      <td>0.384760</td>\n",
       "      <td>53</td>\n",
       "    </tr>\n",
       "    <tr>\n",
       "      <td>Insulin</td>\n",
       "      <td>0.439026</td>\n",
       "      <td>0.305643</td>\n",
       "      <td>39</td>\n",
       "      <td>1.692308</td>\n",
       "      <td>0.467572</td>\n",
       "      <td>39</td>\n",
       "    </tr>\n",
       "    <tr>\n",
       "      <td>SkinThickness</td>\n",
       "      <td>0.500764</td>\n",
       "      <td>0.277151</td>\n",
       "      <td>15</td>\n",
       "      <td>1.600000</td>\n",
       "      <td>0.507093</td>\n",
       "      <td>15</td>\n",
       "    </tr>\n",
       "  </tbody>\n",
       "</table>\n",
       "</div>"
      ],
      "text/plain": [
       "                  score                 consensus                \n",
       "                   mean       std count      mean       std count\n",
       "winner                                                           \n",
       "BMI            1.004380  0.352818    24  2.041667  0.358641    24\n",
       "BloodPressure  0.380406  0.350086    23  1.913043  0.792754    23\n",
       "Glucose        0.951578  0.430154    53  1.924528  0.384760    53\n",
       "Insulin        0.439026  0.305643    39  1.692308  0.467572    39\n",
       "SkinThickness  0.500764  0.277151    15  1.600000  0.507093    15"
      ]
     },
     "execution_count": 35,
     "metadata": {},
     "output_type": "execute_result"
    }
   ],
   "source": [
    "consensus1a[['winner','score','consensus']].groupby(['winner']).agg(['mean','std', 'count'])"
   ]
  },
  {
   "cell_type": "markdown",
   "metadata": {},
   "source": [
    "### Consensus using rank=1 and 'mean' policy"
   ]
  },
  {
   "cell_type": "code",
   "execution_count": 36,
   "metadata": {},
   "outputs": [],
   "source": [
    "consensus1b = mg.magec_consensus(ranks1, use_weights=True, weights=weights, policy='mean')"
   ]
  },
  {
   "cell_type": "code",
   "execution_count": 37,
   "metadata": {},
   "outputs": [
    {
     "data": {
      "text/html": [
       "<div>\n",
       "<style scoped>\n",
       "    .dataframe tbody tr th:only-of-type {\n",
       "        vertical-align: middle;\n",
       "    }\n",
       "\n",
       "    .dataframe tbody tr th {\n",
       "        vertical-align: top;\n",
       "    }\n",
       "\n",
       "    .dataframe thead th {\n",
       "        text-align: right;\n",
       "    }\n",
       "</style>\n",
       "<table border=\"1\" class=\"dataframe\">\n",
       "  <thead>\n",
       "    <tr style=\"text-align: right;\">\n",
       "      <th></th>\n",
       "      <th>case</th>\n",
       "      <th>timepoint</th>\n",
       "      <th>winner</th>\n",
       "      <th>score</th>\n",
       "      <th>consensus</th>\n",
       "      <th>models</th>\n",
       "      <th>avg_percent_consensus</th>\n",
       "      <th>avg_percent_all</th>\n",
       "    </tr>\n",
       "  </thead>\n",
       "  <tbody>\n",
       "    <tr>\n",
       "      <td>0</td>\n",
       "      <td>0</td>\n",
       "      <td>0</td>\n",
       "      <td>SkinThickness</td>\n",
       "      <td>0.059388</td>\n",
       "      <td>1</td>\n",
       "      <td>[rf]</td>\n",
       "      <td>4.623407</td>\n",
       "      <td>-10.660321</td>\n",
       "    </tr>\n",
       "    <tr>\n",
       "      <td>1</td>\n",
       "      <td>1</td>\n",
       "      <td>0</td>\n",
       "      <td>Glucose</td>\n",
       "      <td>0.712276</td>\n",
       "      <td>2</td>\n",
       "      <td>[lr, rf]</td>\n",
       "      <td>38.104730</td>\n",
       "      <td>23.452655</td>\n",
       "    </tr>\n",
       "    <tr>\n",
       "      <td>2</td>\n",
       "      <td>2</td>\n",
       "      <td>0</td>\n",
       "      <td>Glucose</td>\n",
       "      <td>0.333634</td>\n",
       "      <td>2</td>\n",
       "      <td>[lr, rf]</td>\n",
       "      <td>27.547160</td>\n",
       "      <td>17.618737</td>\n",
       "    </tr>\n",
       "  </tbody>\n",
       "</table>\n",
       "</div>"
      ],
      "text/plain": [
       "   case  timepoint         winner     score  consensus    models  \\\n",
       "0     0          0  SkinThickness  0.059388          1      [rf]   \n",
       "1     1          0        Glucose  0.712276          2  [lr, rf]   \n",
       "2     2          0        Glucose  0.333634          2  [lr, rf]   \n",
       "\n",
       "   avg_percent_consensus  avg_percent_all  \n",
       "0               4.623407       -10.660321  \n",
       "1              38.104730        23.452655  \n",
       "2              27.547160        17.618737  "
      ]
     },
     "execution_count": 37,
     "metadata": {},
     "output_type": "execute_result"
    }
   ],
   "source": [
    "consensus1b.head(3)"
   ]
  },
  {
   "cell_type": "code",
   "execution_count": 38,
   "metadata": {},
   "outputs": [
    {
     "data": {
      "text/plain": [
       "Glucose          48\n",
       "Insulin          44\n",
       "BMI              25\n",
       "SkinThickness    20\n",
       "BloodPressure    17\n",
       "Name: winner, dtype: int64"
      ]
     },
     "execution_count": 38,
     "metadata": {},
     "output_type": "execute_result"
    }
   ],
   "source": [
    "consensus1b.winner.value_counts()"
   ]
  },
  {
   "cell_type": "code",
   "execution_count": 39,
   "metadata": {},
   "outputs": [
    {
     "data": {
      "text/html": [
       "<div>\n",
       "<style scoped>\n",
       "    .dataframe tbody tr th:only-of-type {\n",
       "        vertical-align: middle;\n",
       "    }\n",
       "\n",
       "    .dataframe tbody tr th {\n",
       "        vertical-align: top;\n",
       "    }\n",
       "\n",
       "    .dataframe thead tr th {\n",
       "        text-align: left;\n",
       "    }\n",
       "\n",
       "    .dataframe thead tr:last-of-type th {\n",
       "        text-align: right;\n",
       "    }\n",
       "</style>\n",
       "<table border=\"1\" class=\"dataframe\">\n",
       "  <thead>\n",
       "    <tr>\n",
       "      <th></th>\n",
       "      <th colspan=\"3\" halign=\"left\">score</th>\n",
       "      <th colspan=\"3\" halign=\"left\">consensus</th>\n",
       "    </tr>\n",
       "    <tr>\n",
       "      <th></th>\n",
       "      <th>mean</th>\n",
       "      <th>std</th>\n",
       "      <th>count</th>\n",
       "      <th>mean</th>\n",
       "      <th>std</th>\n",
       "      <th>count</th>\n",
       "    </tr>\n",
       "    <tr>\n",
       "      <th>winner</th>\n",
       "      <th></th>\n",
       "      <th></th>\n",
       "      <th></th>\n",
       "      <th></th>\n",
       "      <th></th>\n",
       "      <th></th>\n",
       "    </tr>\n",
       "  </thead>\n",
       "  <tbody>\n",
       "    <tr>\n",
       "      <td>BMI</td>\n",
       "      <td>0.497463</td>\n",
       "      <td>0.130257</td>\n",
       "      <td>25</td>\n",
       "      <td>1.960000</td>\n",
       "      <td>0.454606</td>\n",
       "      <td>25</td>\n",
       "    </tr>\n",
       "    <tr>\n",
       "      <td>BloodPressure</td>\n",
       "      <td>0.170682</td>\n",
       "      <td>0.118618</td>\n",
       "      <td>17</td>\n",
       "      <td>1.882353</td>\n",
       "      <td>0.927520</td>\n",
       "      <td>17</td>\n",
       "    </tr>\n",
       "    <tr>\n",
       "      <td>Glucose</td>\n",
       "      <td>0.508872</td>\n",
       "      <td>0.204485</td>\n",
       "      <td>48</td>\n",
       "      <td>1.854167</td>\n",
       "      <td>0.460785</td>\n",
       "      <td>48</td>\n",
       "    </tr>\n",
       "    <tr>\n",
       "      <td>Insulin</td>\n",
       "      <td>0.308372</td>\n",
       "      <td>0.205708</td>\n",
       "      <td>44</td>\n",
       "      <td>1.522727</td>\n",
       "      <td>0.505258</td>\n",
       "      <td>44</td>\n",
       "    </tr>\n",
       "    <tr>\n",
       "      <td>SkinThickness</td>\n",
       "      <td>0.280911</td>\n",
       "      <td>0.142562</td>\n",
       "      <td>20</td>\n",
       "      <td>1.450000</td>\n",
       "      <td>0.510418</td>\n",
       "      <td>20</td>\n",
       "    </tr>\n",
       "  </tbody>\n",
       "</table>\n",
       "</div>"
      ],
      "text/plain": [
       "                  score                 consensus                \n",
       "                   mean       std count      mean       std count\n",
       "winner                                                           \n",
       "BMI            0.497463  0.130257    25  1.960000  0.454606    25\n",
       "BloodPressure  0.170682  0.118618    17  1.882353  0.927520    17\n",
       "Glucose        0.508872  0.204485    48  1.854167  0.460785    48\n",
       "Insulin        0.308372  0.205708    44  1.522727  0.505258    44\n",
       "SkinThickness  0.280911  0.142562    20  1.450000  0.510418    20"
      ]
     },
     "execution_count": 39,
     "metadata": {},
     "output_type": "execute_result"
    }
   ],
   "source": [
    "consensus1b[['winner','score','consensus']].groupby(['winner']).agg(['mean','std', 'count'])"
   ]
  },
  {
   "cell_type": "markdown",
   "metadata": {},
   "source": [
    "### Ranked MAgECs (rank=3)"
   ]
  },
  {
   "cell_type": "code",
   "execution_count": 40,
   "metadata": {},
   "outputs": [],
   "source": [
    "# ranks3 = mg.magec_rank(joined, rank=3)\n",
    "# ranks3 = mg.magec_rank(joined[joined['Outcome'] == 1], rank=3, features=features)\n",
    "ranks3 = mg.magec_rank(joined, rank=3, features=features)"
   ]
  },
  {
   "cell_type": "code",
   "execution_count": 41,
   "metadata": {},
   "outputs": [
    {
     "data": {
      "text/html": [
       "<div>\n",
       "<style scoped>\n",
       "    .dataframe tbody tr th:only-of-type {\n",
       "        vertical-align: middle;\n",
       "    }\n",
       "\n",
       "    .dataframe tbody tr th {\n",
       "        vertical-align: top;\n",
       "    }\n",
       "\n",
       "    .dataframe thead th {\n",
       "        text-align: right;\n",
       "    }\n",
       "</style>\n",
       "<table border=\"1\" class=\"dataframe\">\n",
       "  <thead>\n",
       "    <tr style=\"text-align: right;\">\n",
       "      <th></th>\n",
       "      <th>case</th>\n",
       "      <th>timepoint</th>\n",
       "      <th>Outcome</th>\n",
       "      <th>mlp_magec_3</th>\n",
       "      <th>mlp_feat_3</th>\n",
       "      <th>mlp_magec_2</th>\n",
       "      <th>mlp_feat_2</th>\n",
       "      <th>mlp_magec_1</th>\n",
       "      <th>mlp_feat_1</th>\n",
       "      <th>rf_magec_3</th>\n",
       "      <th>...</th>\n",
       "      <th>perturb_SkinThickness_prob_rf</th>\n",
       "      <th>perturb_SkinThickness_prob_lr</th>\n",
       "      <th>orig_prob_mlp</th>\n",
       "      <th>orig_prob_rf</th>\n",
       "      <th>orig_prob_lr</th>\n",
       "      <th>BloodPressure</th>\n",
       "      <th>BMI</th>\n",
       "      <th>Glucose</th>\n",
       "      <th>Insulin</th>\n",
       "      <th>SkinThickness</th>\n",
       "    </tr>\n",
       "  </thead>\n",
       "  <tbody>\n",
       "    <tr>\n",
       "      <td>0</td>\n",
       "      <td>0</td>\n",
       "      <td>0</td>\n",
       "      <td>0</td>\n",
       "      <td>NaN</td>\n",
       "      <td>not_found</td>\n",
       "      <td>-0.025844</td>\n",
       "      <td>Glucose</td>\n",
       "      <td>-0.037057</td>\n",
       "      <td>BloodPressure</td>\n",
       "      <td>-0.032573</td>\n",
       "      <td>...</td>\n",
       "      <td>0.081861</td>\n",
       "      <td>0.073770</td>\n",
       "      <td>0.063786</td>\n",
       "      <td>0.085829</td>\n",
       "      <td>0.072547</td>\n",
       "      <td>-0.359644</td>\n",
       "      <td>-0.645827</td>\n",
       "      <td>-0.927785</td>\n",
       "      <td>-0.306836</td>\n",
       "      <td>-0.525387</td>\n",
       "    </tr>\n",
       "    <tr>\n",
       "      <td>1</td>\n",
       "      <td>1</td>\n",
       "      <td>0</td>\n",
       "      <td>1</td>\n",
       "      <td>-0.009868</td>\n",
       "      <td>SkinThickness</td>\n",
       "      <td>-0.251709</td>\n",
       "      <td>Insulin</td>\n",
       "      <td>-0.420515</td>\n",
       "      <td>BMI</td>\n",
       "      <td>-0.124540</td>\n",
       "      <td>...</td>\n",
       "      <td>0.849998</td>\n",
       "      <td>0.863147</td>\n",
       "      <td>0.744293</td>\n",
       "      <td>0.850585</td>\n",
       "      <td>0.863284</td>\n",
       "      <td>0.797314</td>\n",
       "      <td>0.472920</td>\n",
       "      <td>1.890014</td>\n",
       "      <td>1.062290</td>\n",
       "      <td>0.033690</td>\n",
       "    </tr>\n",
       "    <tr>\n",
       "      <td>2</td>\n",
       "      <td>2</td>\n",
       "      <td>0</td>\n",
       "      <td>1</td>\n",
       "      <td>NaN</td>\n",
       "      <td>not_found</td>\n",
       "      <td>NaN</td>\n",
       "      <td>not_found</td>\n",
       "      <td>-0.164530</td>\n",
       "      <td>SkinThickness</td>\n",
       "      <td>-0.051160</td>\n",
       "      <td>...</td>\n",
       "      <td>0.473091</td>\n",
       "      <td>0.728289</td>\n",
       "      <td>0.591666</td>\n",
       "      <td>0.493407</td>\n",
       "      <td>0.733549</td>\n",
       "      <td>1.112848</td>\n",
       "      <td>-0.697264</td>\n",
       "      <td>0.992034</td>\n",
       "      <td>-0.435478</td>\n",
       "      <td>0.779127</td>\n",
       "    </tr>\n",
       "    <tr>\n",
       "      <td>3</td>\n",
       "      <td>3</td>\n",
       "      <td>0</td>\n",
       "      <td>0</td>\n",
       "      <td>-0.350918</td>\n",
       "      <td>BloodPressure</td>\n",
       "      <td>-0.402479</td>\n",
       "      <td>Glucose</td>\n",
       "      <td>-0.567668</td>\n",
       "      <td>SkinThickness</td>\n",
       "      <td>-0.012398</td>\n",
       "      <td>...</td>\n",
       "      <td>0.114262</td>\n",
       "      <td>0.139840</td>\n",
       "      <td>0.326575</td>\n",
       "      <td>0.137435</td>\n",
       "      <td>0.142306</td>\n",
       "      <td>-0.990712</td>\n",
       "      <td>-0.452940</td>\n",
       "      <td>-0.834890</td>\n",
       "      <td>-0.113872</td>\n",
       "      <td>0.592768</td>\n",
       "    </tr>\n",
       "    <tr>\n",
       "      <td>4</td>\n",
       "      <td>4</td>\n",
       "      <td>0</td>\n",
       "      <td>1</td>\n",
       "      <td>-0.000797</td>\n",
       "      <td>Glucose</td>\n",
       "      <td>-0.038680</td>\n",
       "      <td>BloodPressure</td>\n",
       "      <td>-0.054893</td>\n",
       "      <td>SkinThickness</td>\n",
       "      <td>-0.010401</td>\n",
       "      <td>...</td>\n",
       "      <td>0.471435</td>\n",
       "      <td>0.348880</td>\n",
       "      <td>0.355166</td>\n",
       "      <td>0.490020</td>\n",
       "      <td>0.354004</td>\n",
       "      <td>0.481780</td>\n",
       "      <td>-0.594391</td>\n",
       "      <td>0.155984</td>\n",
       "      <td>-0.701953</td>\n",
       "      <td>0.654887</td>\n",
       "    </tr>\n",
       "  </tbody>\n",
       "</table>\n",
       "<p>5 rows × 44 columns</p>\n",
       "</div>"
      ],
      "text/plain": [
       "   case  timepoint  Outcome  mlp_magec_3     mlp_feat_3  mlp_magec_2  \\\n",
       "0     0          0        0          NaN      not_found    -0.025844   \n",
       "1     1          0        1    -0.009868  SkinThickness    -0.251709   \n",
       "2     2          0        1          NaN      not_found          NaN   \n",
       "3     3          0        0    -0.350918  BloodPressure    -0.402479   \n",
       "4     4          0        1    -0.000797        Glucose    -0.038680   \n",
       "\n",
       "      mlp_feat_2  mlp_magec_1     mlp_feat_1  rf_magec_3  ...  \\\n",
       "0        Glucose    -0.037057  BloodPressure   -0.032573  ...   \n",
       "1        Insulin    -0.420515            BMI   -0.124540  ...   \n",
       "2      not_found    -0.164530  SkinThickness   -0.051160  ...   \n",
       "3        Glucose    -0.567668  SkinThickness   -0.012398  ...   \n",
       "4  BloodPressure    -0.054893  SkinThickness   -0.010401  ...   \n",
       "\n",
       "  perturb_SkinThickness_prob_rf  perturb_SkinThickness_prob_lr orig_prob_mlp  \\\n",
       "0                      0.081861                       0.073770      0.063786   \n",
       "1                      0.849998                       0.863147      0.744293   \n",
       "2                      0.473091                       0.728289      0.591666   \n",
       "3                      0.114262                       0.139840      0.326575   \n",
       "4                      0.471435                       0.348880      0.355166   \n",
       "\n",
       "   orig_prob_rf orig_prob_lr  BloodPressure       BMI   Glucose   Insulin  \\\n",
       "0      0.085829     0.072547      -0.359644 -0.645827 -0.927785 -0.306836   \n",
       "1      0.850585     0.863284       0.797314  0.472920  1.890014  1.062290   \n",
       "2      0.493407     0.733549       1.112848 -0.697264  0.992034 -0.435478   \n",
       "3      0.137435     0.142306      -0.990712 -0.452940 -0.834890 -0.113872   \n",
       "4      0.490020     0.354004       0.481780 -0.594391  0.155984 -0.701953   \n",
       "\n",
       "   SkinThickness  \n",
       "0      -0.525387  \n",
       "1       0.033690  \n",
       "2       0.779127  \n",
       "3       0.592768  \n",
       "4       0.654887  \n",
       "\n",
       "[5 rows x 44 columns]"
      ]
     },
     "execution_count": 41,
     "metadata": {},
     "output_type": "execute_result"
    }
   ],
   "source": [
    "ranks3.head()"
   ]
  },
  {
   "cell_type": "code",
   "execution_count": 42,
   "metadata": {},
   "outputs": [
    {
     "name": "stdout",
     "output_type": "stream",
     "text": [
      "\t mlp MAgEC Stats\n",
      "**** mlp_feat_3 ****\n",
      "not_found        92\n",
      "SkinThickness    22\n",
      "Glucose          18\n",
      "BloodPressure    14\n",
      "BMI               6\n",
      "Insulin           2\n",
      "Name: mlp_feat_3, dtype: int64\n",
      "***********\n",
      "**** mlp_feat_2 ****\n",
      "not_found        36\n",
      "Glucose          31\n",
      "SkinThickness    27\n",
      "BloodPressure    24\n",
      "Insulin          20\n",
      "BMI              16\n",
      "Name: mlp_feat_2, dtype: int64\n",
      "***********\n",
      "**** mlp_feat_1 ****\n",
      "BMI              40\n",
      "Insulin          38\n",
      "SkinThickness    24\n",
      "BloodPressure    22\n",
      "Glucose          17\n",
      "not_found        13\n",
      "Name: mlp_feat_1, dtype: int64\n",
      "***********\n",
      "\t rf MAgEC Stats\n",
      "**** rf_feat_3 ****\n",
      "not_found        45\n",
      "SkinThickness    36\n",
      "Insulin          30\n",
      "BloodPressure    29\n",
      "BMI               8\n",
      "Glucose           6\n",
      "Name: rf_feat_3, dtype: int64\n",
      "***********\n",
      "**** rf_feat_2 ****\n",
      "Insulin          50\n",
      "SkinThickness    50\n",
      "BloodPressure    25\n",
      "BMI              13\n",
      "Glucose           9\n",
      "not_found         7\n",
      "Name: rf_feat_2, dtype: int64\n",
      "***********\n",
      "**** rf_feat_1 ****\n",
      "Glucose          56\n",
      "Insulin          47\n",
      "BloodPressure    25\n",
      "SkinThickness    23\n",
      "BMI               2\n",
      "not_found         1\n",
      "Name: rf_feat_1, dtype: int64\n",
      "***********\n",
      "\t lr MAgEC Stats\n",
      "**** lr_feat_3 ****\n",
      "not_found        74\n",
      "SkinThickness    53\n",
      "Insulin          17\n",
      "BloodPressure     6\n",
      "BMI               2\n",
      "Glucose           2\n",
      "Name: lr_feat_3, dtype: int64\n",
      "***********\n",
      "**** lr_feat_2 ****\n",
      "Insulin          42\n",
      "BMI              31\n",
      "SkinThickness    26\n",
      "BloodPressure    22\n",
      "not_found        19\n",
      "Glucose          14\n",
      "Name: lr_feat_2, dtype: int64\n",
      "***********\n",
      "**** lr_feat_1 ****\n",
      "Glucose          63\n",
      "Insulin          31\n",
      "BMI              31\n",
      "BloodPressure    26\n",
      "not_found         2\n",
      "SkinThickness     1\n",
      "Name: lr_feat_1, dtype: int64\n",
      "***********\n"
     ]
    }
   ],
   "source": [
    "mg.print_ranks_stats(ranks3)"
   ]
  },
  {
   "cell_type": "markdown",
   "metadata": {},
   "source": [
    "### Consensus using rank=3 and 'sum' policy"
   ]
  },
  {
   "cell_type": "code",
   "execution_count": 43,
   "metadata": {},
   "outputs": [],
   "source": [
    "consensus3a = mg.magec_consensus(ranks3, use_weights=True, weights=weights)"
   ]
  },
  {
   "cell_type": "code",
   "execution_count": 44,
   "metadata": {},
   "outputs": [
    {
     "data": {
      "text/html": [
       "<div>\n",
       "<style scoped>\n",
       "    .dataframe tbody tr th:only-of-type {\n",
       "        vertical-align: middle;\n",
       "    }\n",
       "\n",
       "    .dataframe tbody tr th {\n",
       "        vertical-align: top;\n",
       "    }\n",
       "\n",
       "    .dataframe thead th {\n",
       "        text-align: right;\n",
       "    }\n",
       "</style>\n",
       "<table border=\"1\" class=\"dataframe\">\n",
       "  <thead>\n",
       "    <tr style=\"text-align: right;\">\n",
       "      <th></th>\n",
       "      <th>case</th>\n",
       "      <th>timepoint</th>\n",
       "      <th>winner</th>\n",
       "      <th>score</th>\n",
       "      <th>consensus</th>\n",
       "      <th>models</th>\n",
       "      <th>avg_percent_consensus</th>\n",
       "      <th>avg_percent_all</th>\n",
       "    </tr>\n",
       "  </thead>\n",
       "  <tbody>\n",
       "    <tr>\n",
       "      <td>0</td>\n",
       "      <td>0</td>\n",
       "      <td>0</td>\n",
       "      <td>BloodPressure</td>\n",
       "      <td>0.120792</td>\n",
       "      <td>3</td>\n",
       "      <td>[lr, mlp, rf]</td>\n",
       "      <td>4.856736</td>\n",
       "      <td>4.856736</td>\n",
       "    </tr>\n",
       "    <tr>\n",
       "      <td>1</td>\n",
       "      <td>1</td>\n",
       "      <td>0</td>\n",
       "      <td>Glucose</td>\n",
       "      <td>1.424552</td>\n",
       "      <td>2</td>\n",
       "      <td>[lr, rf]</td>\n",
       "      <td>38.104730</td>\n",
       "      <td>23.452655</td>\n",
       "    </tr>\n",
       "    <tr>\n",
       "      <td>2</td>\n",
       "      <td>2</td>\n",
       "      <td>0</td>\n",
       "      <td>Glucose</td>\n",
       "      <td>0.667268</td>\n",
       "      <td>2</td>\n",
       "      <td>[lr, rf]</td>\n",
       "      <td>27.547160</td>\n",
       "      <td>17.618737</td>\n",
       "    </tr>\n",
       "    <tr>\n",
       "      <td>3</td>\n",
       "      <td>3</td>\n",
       "      <td>0</td>\n",
       "      <td>BloodPressure</td>\n",
       "      <td>0.642625</td>\n",
       "      <td>3</td>\n",
       "      <td>[lr, mlp, rf]</td>\n",
       "      <td>19.966387</td>\n",
       "      <td>19.966387</td>\n",
       "    </tr>\n",
       "    <tr>\n",
       "      <td>4</td>\n",
       "      <td>4</td>\n",
       "      <td>0</td>\n",
       "      <td>Insulin</td>\n",
       "      <td>0.420519</td>\n",
       "      <td>2</td>\n",
       "      <td>[lr, rf]</td>\n",
       "      <td>13.554333</td>\n",
       "      <td>-2.986308</td>\n",
       "    </tr>\n",
       "  </tbody>\n",
       "</table>\n",
       "</div>"
      ],
      "text/plain": [
       "   case  timepoint         winner     score  consensus         models  \\\n",
       "0     0          0  BloodPressure  0.120792          3  [lr, mlp, rf]   \n",
       "1     1          0        Glucose  1.424552          2       [lr, rf]   \n",
       "2     2          0        Glucose  0.667268          2       [lr, rf]   \n",
       "3     3          0  BloodPressure  0.642625          3  [lr, mlp, rf]   \n",
       "4     4          0        Insulin  0.420519          2       [lr, rf]   \n",
       "\n",
       "   avg_percent_consensus  avg_percent_all  \n",
       "0               4.856736         4.856736  \n",
       "1              38.104730        23.452655  \n",
       "2              27.547160        17.618737  \n",
       "3              19.966387        19.966387  \n",
       "4              13.554333        -2.986308  "
      ]
     },
     "execution_count": 44,
     "metadata": {},
     "output_type": "execute_result"
    }
   ],
   "source": [
    "consensus3a.head()"
   ]
  },
  {
   "cell_type": "code",
   "execution_count": 45,
   "metadata": {},
   "outputs": [
    {
     "data": {
      "text/html": [
       "<div>\n",
       "<style scoped>\n",
       "    .dataframe tbody tr th:only-of-type {\n",
       "        vertical-align: middle;\n",
       "    }\n",
       "\n",
       "    .dataframe tbody tr th {\n",
       "        vertical-align: top;\n",
       "    }\n",
       "\n",
       "    .dataframe thead tr th {\n",
       "        text-align: left;\n",
       "    }\n",
       "\n",
       "    .dataframe thead tr:last-of-type th {\n",
       "        text-align: right;\n",
       "    }\n",
       "</style>\n",
       "<table border=\"1\" class=\"dataframe\">\n",
       "  <thead>\n",
       "    <tr>\n",
       "      <th></th>\n",
       "      <th colspan=\"3\" halign=\"left\">score</th>\n",
       "      <th colspan=\"3\" halign=\"left\">consensus</th>\n",
       "    </tr>\n",
       "    <tr>\n",
       "      <th></th>\n",
       "      <th>mean</th>\n",
       "      <th>std</th>\n",
       "      <th>count</th>\n",
       "      <th>mean</th>\n",
       "      <th>std</th>\n",
       "      <th>count</th>\n",
       "    </tr>\n",
       "    <tr>\n",
       "      <th>winner</th>\n",
       "      <th></th>\n",
       "      <th></th>\n",
       "      <th></th>\n",
       "      <th></th>\n",
       "      <th></th>\n",
       "      <th></th>\n",
       "    </tr>\n",
       "  </thead>\n",
       "  <tbody>\n",
       "    <tr>\n",
       "      <td>BMI</td>\n",
       "      <td>1.070824</td>\n",
       "      <td>0.368532</td>\n",
       "      <td>26</td>\n",
       "      <td>2.423077</td>\n",
       "      <td>0.503831</td>\n",
       "      <td>26</td>\n",
       "    </tr>\n",
       "    <tr>\n",
       "      <td>BloodPressure</td>\n",
       "      <td>0.444019</td>\n",
       "      <td>0.392067</td>\n",
       "      <td>23</td>\n",
       "      <td>2.347826</td>\n",
       "      <td>0.831685</td>\n",
       "      <td>23</td>\n",
       "    </tr>\n",
       "    <tr>\n",
       "      <td>Glucose</td>\n",
       "      <td>1.015697</td>\n",
       "      <td>0.395812</td>\n",
       "      <td>50</td>\n",
       "      <td>2.180000</td>\n",
       "      <td>0.481918</td>\n",
       "      <td>50</td>\n",
       "    </tr>\n",
       "    <tr>\n",
       "      <td>Insulin</td>\n",
       "      <td>0.418663</td>\n",
       "      <td>0.309904</td>\n",
       "      <td>40</td>\n",
       "      <td>1.925000</td>\n",
       "      <td>0.266747</td>\n",
       "      <td>40</td>\n",
       "    </tr>\n",
       "    <tr>\n",
       "      <td>SkinThickness</td>\n",
       "      <td>0.556259</td>\n",
       "      <td>0.280193</td>\n",
       "      <td>15</td>\n",
       "      <td>2.666667</td>\n",
       "      <td>0.723747</td>\n",
       "      <td>15</td>\n",
       "    </tr>\n",
       "  </tbody>\n",
       "</table>\n",
       "</div>"
      ],
      "text/plain": [
       "                  score                 consensus                \n",
       "                   mean       std count      mean       std count\n",
       "winner                                                           \n",
       "BMI            1.070824  0.368532    26  2.423077  0.503831    26\n",
       "BloodPressure  0.444019  0.392067    23  2.347826  0.831685    23\n",
       "Glucose        1.015697  0.395812    50  2.180000  0.481918    50\n",
       "Insulin        0.418663  0.309904    40  1.925000  0.266747    40\n",
       "SkinThickness  0.556259  0.280193    15  2.666667  0.723747    15"
      ]
     },
     "execution_count": 45,
     "metadata": {},
     "output_type": "execute_result"
    }
   ],
   "source": [
    "consensus3a[['winner','score','consensus']].groupby(['winner']).agg(['mean','std', 'count'])"
   ]
  },
  {
   "cell_type": "code",
   "execution_count": 46,
   "metadata": {},
   "outputs": [
    {
     "data": {
      "text/plain": [
       "Glucose          50\n",
       "Insulin          40\n",
       "BMI              26\n",
       "BloodPressure    23\n",
       "SkinThickness    15\n",
       "Name: winner, dtype: int64"
      ]
     },
     "execution_count": 46,
     "metadata": {},
     "output_type": "execute_result"
    }
   ],
   "source": [
    "consensus3a.winner.value_counts()"
   ]
  },
  {
   "cell_type": "markdown",
   "metadata": {},
   "source": [
    "### Consensus using rank=3 and 'mean' policy"
   ]
  },
  {
   "cell_type": "code",
   "execution_count": 47,
   "metadata": {},
   "outputs": [],
   "source": [
    "consensus3b = mg.magec_consensus(ranks3, use_weights=True, weights=weights, policy='mean')"
   ]
  },
  {
   "cell_type": "code",
   "execution_count": 48,
   "metadata": {},
   "outputs": [
    {
     "data": {
      "text/html": [
       "<div>\n",
       "<style scoped>\n",
       "    .dataframe tbody tr th:only-of-type {\n",
       "        vertical-align: middle;\n",
       "    }\n",
       "\n",
       "    .dataframe tbody tr th {\n",
       "        vertical-align: top;\n",
       "    }\n",
       "\n",
       "    .dataframe thead th {\n",
       "        text-align: right;\n",
       "    }\n",
       "</style>\n",
       "<table border=\"1\" class=\"dataframe\">\n",
       "  <thead>\n",
       "    <tr style=\"text-align: right;\">\n",
       "      <th></th>\n",
       "      <th>case</th>\n",
       "      <th>timepoint</th>\n",
       "      <th>winner</th>\n",
       "      <th>score</th>\n",
       "      <th>consensus</th>\n",
       "      <th>models</th>\n",
       "      <th>avg_percent_consensus</th>\n",
       "      <th>avg_percent_all</th>\n",
       "    </tr>\n",
       "  </thead>\n",
       "  <tbody>\n",
       "    <tr>\n",
       "      <td>0</td>\n",
       "      <td>0</td>\n",
       "      <td>0</td>\n",
       "      <td>SkinThickness</td>\n",
       "      <td>0.059388</td>\n",
       "      <td>1</td>\n",
       "      <td>[rf]</td>\n",
       "      <td>4.623407</td>\n",
       "      <td>-10.660321</td>\n",
       "    </tr>\n",
       "    <tr>\n",
       "      <td>1</td>\n",
       "      <td>1</td>\n",
       "      <td>0</td>\n",
       "      <td>Glucose</td>\n",
       "      <td>0.712276</td>\n",
       "      <td>2</td>\n",
       "      <td>[lr, rf]</td>\n",
       "      <td>38.104730</td>\n",
       "      <td>23.452655</td>\n",
       "    </tr>\n",
       "    <tr>\n",
       "      <td>2</td>\n",
       "      <td>2</td>\n",
       "      <td>0</td>\n",
       "      <td>Glucose</td>\n",
       "      <td>0.333634</td>\n",
       "      <td>2</td>\n",
       "      <td>[lr, rf]</td>\n",
       "      <td>27.547160</td>\n",
       "      <td>17.618737</td>\n",
       "    </tr>\n",
       "    <tr>\n",
       "      <td>3</td>\n",
       "      <td>3</td>\n",
       "      <td>0</td>\n",
       "      <td>Glucose</td>\n",
       "      <td>0.279821</td>\n",
       "      <td>1</td>\n",
       "      <td>[mlp]</td>\n",
       "      <td>26.383353</td>\n",
       "      <td>-42.800964</td>\n",
       "    </tr>\n",
       "    <tr>\n",
       "      <td>4</td>\n",
       "      <td>4</td>\n",
       "      <td>0</td>\n",
       "      <td>Insulin</td>\n",
       "      <td>0.210259</td>\n",
       "      <td>2</td>\n",
       "      <td>[lr, rf]</td>\n",
       "      <td>13.554333</td>\n",
       "      <td>-2.986308</td>\n",
       "    </tr>\n",
       "  </tbody>\n",
       "</table>\n",
       "</div>"
      ],
      "text/plain": [
       "   case  timepoint         winner     score  consensus    models  \\\n",
       "0     0          0  SkinThickness  0.059388          1      [rf]   \n",
       "1     1          0        Glucose  0.712276          2  [lr, rf]   \n",
       "2     2          0        Glucose  0.333634          2  [lr, rf]   \n",
       "3     3          0        Glucose  0.279821          1     [mlp]   \n",
       "4     4          0        Insulin  0.210259          2  [lr, rf]   \n",
       "\n",
       "   avg_percent_consensus  avg_percent_all  \n",
       "0               4.623407       -10.660321  \n",
       "1              38.104730        23.452655  \n",
       "2              27.547160        17.618737  \n",
       "3              26.383353       -42.800964  \n",
       "4              13.554333        -2.986308  "
      ]
     },
     "execution_count": 48,
     "metadata": {},
     "output_type": "execute_result"
    }
   ],
   "source": [
    "consensus3b.head()"
   ]
  },
  {
   "cell_type": "code",
   "execution_count": 49,
   "metadata": {},
   "outputs": [
    {
     "data": {
      "text/html": [
       "<div>\n",
       "<style scoped>\n",
       "    .dataframe tbody tr th:only-of-type {\n",
       "        vertical-align: middle;\n",
       "    }\n",
       "\n",
       "    .dataframe tbody tr th {\n",
       "        vertical-align: top;\n",
       "    }\n",
       "\n",
       "    .dataframe thead tr th {\n",
       "        text-align: left;\n",
       "    }\n",
       "\n",
       "    .dataframe thead tr:last-of-type th {\n",
       "        text-align: right;\n",
       "    }\n",
       "</style>\n",
       "<table border=\"1\" class=\"dataframe\">\n",
       "  <thead>\n",
       "    <tr>\n",
       "      <th></th>\n",
       "      <th colspan=\"3\" halign=\"left\">score</th>\n",
       "      <th colspan=\"3\" halign=\"left\">consensus</th>\n",
       "    </tr>\n",
       "    <tr>\n",
       "      <th></th>\n",
       "      <th>mean</th>\n",
       "      <th>std</th>\n",
       "      <th>count</th>\n",
       "      <th>mean</th>\n",
       "      <th>std</th>\n",
       "      <th>count</th>\n",
       "    </tr>\n",
       "    <tr>\n",
       "      <th>winner</th>\n",
       "      <th></th>\n",
       "      <th></th>\n",
       "      <th></th>\n",
       "      <th></th>\n",
       "      <th></th>\n",
       "      <th></th>\n",
       "    </tr>\n",
       "  </thead>\n",
       "  <tbody>\n",
       "    <tr>\n",
       "      <td>BMI</td>\n",
       "      <td>0.455528</td>\n",
       "      <td>0.129316</td>\n",
       "      <td>25</td>\n",
       "      <td>2.400000</td>\n",
       "      <td>0.500000</td>\n",
       "      <td>25</td>\n",
       "    </tr>\n",
       "    <tr>\n",
       "      <td>BloodPressure</td>\n",
       "      <td>0.191508</td>\n",
       "      <td>0.117062</td>\n",
       "      <td>17</td>\n",
       "      <td>2.000000</td>\n",
       "      <td>1.000000</td>\n",
       "      <td>17</td>\n",
       "    </tr>\n",
       "    <tr>\n",
       "      <td>Glucose</td>\n",
       "      <td>0.452885</td>\n",
       "      <td>0.209837</td>\n",
       "      <td>53</td>\n",
       "      <td>2.037736</td>\n",
       "      <td>0.587114</td>\n",
       "      <td>53</td>\n",
       "    </tr>\n",
       "    <tr>\n",
       "      <td>Insulin</td>\n",
       "      <td>0.254010</td>\n",
       "      <td>0.174743</td>\n",
       "      <td>45</td>\n",
       "      <td>1.777778</td>\n",
       "      <td>0.420437</td>\n",
       "      <td>45</td>\n",
       "    </tr>\n",
       "    <tr>\n",
       "      <td>SkinThickness</td>\n",
       "      <td>0.196382</td>\n",
       "      <td>0.103852</td>\n",
       "      <td>14</td>\n",
       "      <td>2.285714</td>\n",
       "      <td>0.994490</td>\n",
       "      <td>14</td>\n",
       "    </tr>\n",
       "  </tbody>\n",
       "</table>\n",
       "</div>"
      ],
      "text/plain": [
       "                  score                 consensus                \n",
       "                   mean       std count      mean       std count\n",
       "winner                                                           \n",
       "BMI            0.455528  0.129316    25  2.400000  0.500000    25\n",
       "BloodPressure  0.191508  0.117062    17  2.000000  1.000000    17\n",
       "Glucose        0.452885  0.209837    53  2.037736  0.587114    53\n",
       "Insulin        0.254010  0.174743    45  1.777778  0.420437    45\n",
       "SkinThickness  0.196382  0.103852    14  2.285714  0.994490    14"
      ]
     },
     "execution_count": 49,
     "metadata": {},
     "output_type": "execute_result"
    }
   ],
   "source": [
    "consensus3b[['winner','score','consensus']].groupby(['winner']).agg(['mean','std', 'count'])"
   ]
  },
  {
   "cell_type": "code",
   "execution_count": 50,
   "metadata": {},
   "outputs": [
    {
     "data": {
      "text/plain": [
       "Glucose          53\n",
       "Insulin          45\n",
       "BMI              25\n",
       "BloodPressure    17\n",
       "SkinThickness    14\n",
       "Name: winner, dtype: int64"
      ]
     },
     "execution_count": 50,
     "metadata": {},
     "output_type": "execute_result"
    }
   ],
   "source": [
    "consensus3b.winner.value_counts()"
   ]
  },
  {
   "cell_type": "markdown",
   "metadata": {},
   "source": [
    "### MAgEC Bar Plot"
   ]
  },
  {
   "cell_type": "code",
   "execution_count": 51,
   "metadata": {},
   "outputs": [],
   "source": [
    "def ranked_stats(ranks):\n",
    "    columns = ranks.columns\n",
    "    stats = {}\n",
    "    for model in ['lr', 'rf', 'mlp']:\n",
    "        cols = [col for col in columns if col.startswith(model + '_' + 'feat')]\n",
    "        if len(cols):\n",
    "            for col in cols:\n",
    "                tmp = ranks[col].value_counts()\n",
    "                for z in zip(tmp.index.values.tolist(), tmp.values.tolist()):\n",
    "                    if z[0] in stats:\n",
    "                        stats[z[0]].append((z[1], model))\n",
    "                    else:\n",
    "                        stats[z[0]] = [(z[1], model)]\n",
    "    return stats\n",
    "\n",
    "\n",
    "def con_stats(consensus, label='CON@1'):\n",
    "    conf = consensus.winner.value_counts().index.values.tolist()\n",
    "    conv = consensus.winner.value_counts().values.tolist()\n",
    "    con = {z[0]:(z[1],label) for z in zip(conf, conv)}\n",
    "    return con\n",
    "\n",
    "\n",
    "def df_stats(stats, con1, con3):\n",
    "    dfplot = pd.DataFrame(columns=['Feature', 'LR', 'RF', 'MLP', 'CON@1', 'CON@3'], \n",
    "                          data=[['Glucose',\n",
    "                                 stats['Glucose'][0][0],\n",
    "                                 stats['Glucose'][1][0],\n",
    "                                 stats['Glucose'][2][0], \n",
    "                                 con1['Glucose'][0],\n",
    "                                 con3['Glucose'][0]],\n",
    "                                ['Insulin',\n",
    "                                 stats['Insulin'][0][0],\n",
    "                                 stats['Insulin'][1][0],\n",
    "                                 stats['Insulin'][2][0], \n",
    "                                 con1['Insulin'][0],\n",
    "                                 con3['Insulin'][0]],\n",
    "                                ['BMI',\n",
    "                                 stats['BMI'][0][0],\n",
    "                                 stats['BMI'][1][0],\n",
    "                                 stats['BMI'][2][0], \n",
    "                                 con1['BMI'][0],\n",
    "                                 con3['BMI'][0]],\n",
    "                                ['BloodPressure',\n",
    "                                 stats['BloodPressure'][0][0],\n",
    "                                 stats['BloodPressure'][1][0],\n",
    "                                 stats['BloodPressure'][2][0], \n",
    "                                 con1['BloodPressure'][0],\n",
    "                                 con3['BloodPressure'][0]],\n",
    "                                ['SkinThickness',\n",
    "                                 stats['SkinThickness'][0][0],\n",
    "                                 stats['SkinThickness'][1][0],\n",
    "                                 stats['SkinThickness'][2][0], \n",
    "                                 con1['SkinThickness'][0],\n",
    "                                 con3['SkinThickness'][0]],\n",
    "                                ['not_found',\n",
    "                                 stats['not_found'][0][0],\n",
    "                                 stats['not_found'][1][0],\n",
    "                                 stats['not_found'][2][0],\n",
    "                                 0,\n",
    "                                 0]])\n",
    "    return dfplot\n",
    "\n",
    "\n",
    "def plot_stats(dfplot, save=False):\n",
    "    dfplot = dfplot.set_index('Feature')\n",
    "    dfplot.plot(kind='bar', \n",
    "            stacked=True, \n",
    "            figsize=(10,6), \n",
    "            title='MAgEC (best) features by model and policy', \n",
    "            rot=45)\n",
    "    if save:\n",
    "        plt.savefig('pima_magec_stats.png', bbox_inches='tight')\n",
    "    return"
   ]
  },
  {
   "cell_type": "code",
   "execution_count": 52,
   "metadata": {},
   "outputs": [
    {
     "data": {
      "image/png": "[encoded data removed]",
      "text/plain": [
       "<Figure size 720x432 with 1 Axes>"
      ]
     },
     "metadata": {
      "needs_background": "light"
     },
     "output_type": "display_data"
    }
   ],
   "source": [
    "stats = ranked_stats(ranks1)\n",
    "con1 = con_stats(consensus1a)\n",
    "con3 = con_stats(consensus3a, label='CON@3')\n",
    "dfplot = df_stats(stats, con1, con3)\n",
    "plot_stats(dfplot, True)"
   ]
  },
  {
   "cell_type": "markdown",
   "metadata": {},
   "source": [
    "## MAgEC individual 'case'"
   ]
  },
  {
   "cell_type": "code",
   "execution_count": 53,
   "metadata": {},
   "outputs": [],
   "source": [
    "case = 47"
   ]
  },
  {
   "cell_type": "code",
   "execution_count": 54,
   "metadata": {},
   "outputs": [
    {
     "data": {
      "text/plain": [
       "case                                    47\n",
       "timepoint                                0\n",
       "Outcome                                  1\n",
       "mlp_magec                         -0.89437\n",
       "mlp_feat                           Insulin\n",
       "rf_magec                         -0.570153\n",
       "rf_feat                            Insulin\n",
       "lr_magec                         -0.648005\n",
       "lr_feat                            Glucose\n",
       "perturb_BloodPressure_prob_mlp    0.753379\n",
       "perturb_BloodPressure_prob_rf      0.51382\n",
       "perturb_BloodPressure_prob_lr     0.319419\n",
       "perturb_BMI_prob_mlp              0.716757\n",
       "perturb_BMI_prob_rf               0.511948\n",
       "perturb_BMI_prob_lr               0.297848\n",
       "perturb_Glucose_prob_mlp          0.709918\n",
       "perturb_Glucose_prob_rf           0.421574\n",
       "perturb_Glucose_prob_lr           0.148306\n",
       "perturb_Insulin_prob_mlp          0.356204\n",
       "perturb_Insulin_prob_rf           0.415723\n",
       "perturb_Insulin_prob_lr           0.372988\n",
       "perturb_SkinThickness_prob_mlp    0.659232\n",
       "perturb_SkinThickness_prob_rf      0.50973\n",
       "perturb_SkinThickness_prob_lr     0.261031\n",
       "orig_prob_mlp                     0.680289\n",
       "orig_prob_rf                      0.525582\n",
       "orig_prob_lr                       0.26249\n",
       "BloodPressure                      1.11285\n",
       "BMI                              -0.234334\n",
       "Glucose                           0.682386\n",
       "Insulin                            3.70865\n",
       "SkinThickness                     0.220049\n",
       "Name: 47, dtype: object"
      ]
     },
     "execution_count": 54,
     "metadata": {},
     "output_type": "execute_result"
    }
   ],
   "source": [
    "ranks1[ranks1['case'] == case].iloc[0]"
   ]
  },
  {
   "cell_type": "code",
   "execution_count": 55,
   "metadata": {},
   "outputs": [
    {
     "data": {
      "text/plain": [
       "case                                         47\n",
       "timepoint                                     0\n",
       "Outcome                                       1\n",
       "mlp_magec_3                                 NaN\n",
       "mlp_feat_3                            not_found\n",
       "mlp_magec_2                          -0.0632291\n",
       "mlp_feat_2                        SkinThickness\n",
       "mlp_magec_1                            -0.89437\n",
       "mlp_feat_1                              Insulin\n",
       "rf_magec_3                           -0.0817596\n",
       "rf_feat_3                         SkinThickness\n",
       "rf_magec_2                            -0.539193\n",
       "rf_feat_2                               Glucose\n",
       "rf_magec_1                            -0.570153\n",
       "rf_feat_1                               Insulin\n",
       "lr_magec_3                                  NaN\n",
       "lr_feat_3                             not_found\n",
       "lr_magec_2                          -0.00684746\n",
       "lr_feat_2                         SkinThickness\n",
       "lr_magec_1                            -0.648005\n",
       "lr_feat_1                               Glucose\n",
       "perturb_BloodPressure_prob_mlp         0.753379\n",
       "perturb_BloodPressure_prob_rf           0.51382\n",
       "perturb_BloodPressure_prob_lr          0.319419\n",
       "perturb_BMI_prob_mlp                   0.716757\n",
       "perturb_BMI_prob_rf                    0.511948\n",
       "perturb_BMI_prob_lr                    0.297848\n",
       "perturb_Glucose_prob_mlp               0.709918\n",
       "perturb_Glucose_prob_rf                0.421574\n",
       "perturb_Glucose_prob_lr                0.148306\n",
       "perturb_Insulin_prob_mlp               0.356204\n",
       "perturb_Insulin_prob_rf                0.415723\n",
       "perturb_Insulin_prob_lr                0.372988\n",
       "perturb_SkinThickness_prob_mlp         0.659232\n",
       "perturb_SkinThickness_prob_rf           0.50973\n",
       "perturb_SkinThickness_prob_lr          0.261031\n",
       "orig_prob_mlp                          0.680289\n",
       "orig_prob_rf                           0.525582\n",
       "orig_prob_lr                            0.26249\n",
       "BloodPressure                           1.11285\n",
       "BMI                                   -0.234334\n",
       "Glucose                                0.682386\n",
       "Insulin                                 3.70865\n",
       "SkinThickness                          0.220049\n",
       "Name: 47, dtype: object"
      ]
     },
     "execution_count": 55,
     "metadata": {},
     "output_type": "execute_result"
    }
   ],
   "source": [
    "ranks3[ranks3['case'] == case].iloc[0]"
   ]
  },
  {
   "cell_type": "code",
   "execution_count": 56,
   "metadata": {},
   "outputs": [
    {
     "data": {
      "text/html": [
       "<div>\n",
       "<style scoped>\n",
       "    .dataframe tbody tr th:only-of-type {\n",
       "        vertical-align: middle;\n",
       "    }\n",
       "\n",
       "    .dataframe tbody tr th {\n",
       "        vertical-align: top;\n",
       "    }\n",
       "\n",
       "    .dataframe thead th {\n",
       "        text-align: right;\n",
       "    }\n",
       "</style>\n",
       "<table border=\"1\" class=\"dataframe\">\n",
       "  <thead>\n",
       "    <tr style=\"text-align: right;\">\n",
       "      <th></th>\n",
       "      <th>case</th>\n",
       "      <th>timepoint</th>\n",
       "      <th>winner</th>\n",
       "      <th>score</th>\n",
       "      <th>consensus</th>\n",
       "      <th>models</th>\n",
       "      <th>avg_percent_consensus</th>\n",
       "      <th>avg_percent_all</th>\n",
       "    </tr>\n",
       "  </thead>\n",
       "  <tbody>\n",
       "    <tr>\n",
       "      <td>47</td>\n",
       "      <td>47</td>\n",
       "      <td>0</td>\n",
       "      <td>Insulin</td>\n",
       "      <td>1.050476</td>\n",
       "      <td>2</td>\n",
       "      <td>[mlp, rf]</td>\n",
       "      <td>34.270883</td>\n",
       "      <td>8.81529</td>\n",
       "    </tr>\n",
       "  </tbody>\n",
       "</table>\n",
       "</div>"
      ],
      "text/plain": [
       "    case  timepoint   winner     score  consensus     models  \\\n",
       "47    47          0  Insulin  1.050476          2  [mlp, rf]   \n",
       "\n",
       "    avg_percent_consensus  avg_percent_all  \n",
       "47              34.270883          8.81529  "
      ]
     },
     "execution_count": 56,
     "metadata": {},
     "output_type": "execute_result"
    }
   ],
   "source": [
    "consensus1a[consensus1a['case'] == case]"
   ]
  },
  {
   "cell_type": "code",
   "execution_count": 57,
   "metadata": {},
   "outputs": [
    {
     "data": {
      "text/html": [
       "<div>\n",
       "<style scoped>\n",
       "    .dataframe tbody tr th:only-of-type {\n",
       "        vertical-align: middle;\n",
       "    }\n",
       "\n",
       "    .dataframe tbody tr th {\n",
       "        vertical-align: top;\n",
       "    }\n",
       "\n",
       "    .dataframe thead th {\n",
       "        text-align: right;\n",
       "    }\n",
       "</style>\n",
       "<table border=\"1\" class=\"dataframe\">\n",
       "  <thead>\n",
       "    <tr style=\"text-align: right;\">\n",
       "      <th></th>\n",
       "      <th>case</th>\n",
       "      <th>timepoint</th>\n",
       "      <th>winner</th>\n",
       "      <th>score</th>\n",
       "      <th>consensus</th>\n",
       "      <th>models</th>\n",
       "      <th>avg_percent_consensus</th>\n",
       "      <th>avg_percent_all</th>\n",
       "    </tr>\n",
       "  </thead>\n",
       "  <tbody>\n",
       "    <tr>\n",
       "      <td>47</td>\n",
       "      <td>47</td>\n",
       "      <td>0</td>\n",
       "      <td>Insulin</td>\n",
       "      <td>0.525238</td>\n",
       "      <td>2</td>\n",
       "      <td>[mlp, rf]</td>\n",
       "      <td>34.270883</td>\n",
       "      <td>8.81529</td>\n",
       "    </tr>\n",
       "  </tbody>\n",
       "</table>\n",
       "</div>"
      ],
      "text/plain": [
       "    case  timepoint   winner     score  consensus     models  \\\n",
       "47    47          0  Insulin  0.525238          2  [mlp, rf]   \n",
       "\n",
       "    avg_percent_consensus  avg_percent_all  \n",
       "47              34.270883          8.81529  "
      ]
     },
     "execution_count": 57,
     "metadata": {},
     "output_type": "execute_result"
    }
   ],
   "source": [
    "consensus1b[consensus1b['case'] == case]"
   ]
  },
  {
   "cell_type": "code",
   "execution_count": 58,
   "metadata": {},
   "outputs": [
    {
     "data": {
      "text/html": [
       "<div>\n",
       "<style scoped>\n",
       "    .dataframe tbody tr th:only-of-type {\n",
       "        vertical-align: middle;\n",
       "    }\n",
       "\n",
       "    .dataframe tbody tr th {\n",
       "        vertical-align: top;\n",
       "    }\n",
       "\n",
       "    .dataframe thead th {\n",
       "        text-align: right;\n",
       "    }\n",
       "</style>\n",
       "<table border=\"1\" class=\"dataframe\">\n",
       "  <thead>\n",
       "    <tr style=\"text-align: right;\">\n",
       "      <th></th>\n",
       "      <th>case</th>\n",
       "      <th>timepoint</th>\n",
       "      <th>winner</th>\n",
       "      <th>score</th>\n",
       "      <th>consensus</th>\n",
       "      <th>models</th>\n",
       "      <th>avg_percent_consensus</th>\n",
       "      <th>avg_percent_all</th>\n",
       "    </tr>\n",
       "  </thead>\n",
       "  <tbody>\n",
       "    <tr>\n",
       "      <td>47</td>\n",
       "      <td>47</td>\n",
       "      <td>0</td>\n",
       "      <td>Insulin</td>\n",
       "      <td>1.050476</td>\n",
       "      <td>2</td>\n",
       "      <td>[mlp, rf]</td>\n",
       "      <td>34.270883</td>\n",
       "      <td>8.81529</td>\n",
       "    </tr>\n",
       "  </tbody>\n",
       "</table>\n",
       "</div>"
      ],
      "text/plain": [
       "    case  timepoint   winner     score  consensus     models  \\\n",
       "47    47          0  Insulin  1.050476          2  [mlp, rf]   \n",
       "\n",
       "    avg_percent_consensus  avg_percent_all  \n",
       "47              34.270883          8.81529  "
      ]
     },
     "execution_count": 58,
     "metadata": {},
     "output_type": "execute_result"
    }
   ],
   "source": [
    "consensus3a[consensus3a['case'] == case]"
   ]
  },
  {
   "cell_type": "code",
   "execution_count": 59,
   "metadata": {},
   "outputs": [
    {
     "data": {
      "text/html": [
       "<div>\n",
       "<style scoped>\n",
       "    .dataframe tbody tr th:only-of-type {\n",
       "        vertical-align: middle;\n",
       "    }\n",
       "\n",
       "    .dataframe tbody tr th {\n",
       "        vertical-align: top;\n",
       "    }\n",
       "\n",
       "    .dataframe thead th {\n",
       "        text-align: right;\n",
       "    }\n",
       "</style>\n",
       "<table border=\"1\" class=\"dataframe\">\n",
       "  <thead>\n",
       "    <tr style=\"text-align: right;\">\n",
       "      <th></th>\n",
       "      <th>case</th>\n",
       "      <th>timepoint</th>\n",
       "      <th>winner</th>\n",
       "      <th>score</th>\n",
       "      <th>consensus</th>\n",
       "      <th>models</th>\n",
       "      <th>avg_percent_consensus</th>\n",
       "      <th>avg_percent_all</th>\n",
       "    </tr>\n",
       "  </thead>\n",
       "  <tbody>\n",
       "    <tr>\n",
       "      <td>47</td>\n",
       "      <td>47</td>\n",
       "      <td>0</td>\n",
       "      <td>Insulin</td>\n",
       "      <td>0.525238</td>\n",
       "      <td>2</td>\n",
       "      <td>[mlp, rf]</td>\n",
       "      <td>34.270883</td>\n",
       "      <td>8.81529</td>\n",
       "    </tr>\n",
       "  </tbody>\n",
       "</table>\n",
       "</div>"
      ],
      "text/plain": [
       "    case  timepoint   winner     score  consensus     models  \\\n",
       "47    47          0  Insulin  0.525238          2  [mlp, rf]   \n",
       "\n",
       "    avg_percent_consensus  avg_percent_all  \n",
       "47              34.270883          8.81529  "
      ]
     },
     "execution_count": 59,
     "metadata": {},
     "output_type": "execute_result"
    }
   ],
   "source": [
    "consensus3b[consensus3b['case'] == case]"
   ]
  },
  {
   "cell_type": "markdown",
   "metadata": {},
   "source": [
    "### MAgEC correlations"
   ]
  },
  {
   "cell_type": "code",
   "execution_count": 60,
   "metadata": {},
   "outputs": [],
   "source": [
    "corr = joined[joined.columns[2:]].corr()"
   ]
  },
  {
   "cell_type": "code",
   "execution_count": 61,
   "metadata": {},
   "outputs": [
    {
     "data": {
      "image/png": "[encoded data removed]",
      "text/plain": [
       "<Figure size 864x864 with 2 Axes>"
      ]
     },
     "metadata": {
      "needs_background": "light"
     },
     "output_type": "display_data"
    }
   ],
   "source": [
    "plt.figure(figsize=[12,12])\n",
    "plt.style.use('ggplot')\n",
    "plt.imshow(corr, cmap=plt.cm.Reds, interpolation='nearest')\n",
    "plt.colorbar()\n",
    "tick_marks = [i for i in range(len(joined.columns[2:]))]\n",
    "plt.xticks(tick_marks, joined.columns[2:], rotation='vertical')\n",
    "plt.yticks(tick_marks, joined.columns[2:]);"
   ]
  },
  {
   "cell_type": "markdown",
   "metadata": {},
   "source": [
    "## MAgECs population similarity"
   ]
  },
  {
   "cell_type": "code",
   "execution_count": 62,
   "metadata": {},
   "outputs": [],
   "source": [
    "sim_mlp = mg.magec_similarity(magecs_mlp, x_validation_p, model_name='mlp')\n",
    "sim_rf = mg.magec_similarity(magecs_rf, x_validation_p, model_name='rf')\n",
    "sim_lr = mg.magec_similarity(magecs_lr, x_validation_p, model_name='lr')"
   ]
  },
  {
   "cell_type": "code",
   "execution_count": 63,
   "metadata": {},
   "outputs": [
    {
     "name": "stdout",
     "output_type": "stream",
     "text": [
      "Top Absolute Correlationsin in MLP model\n",
      "mlp_BMI            BMI              0.862294\n",
      "mlp_Insulin        Insulin          0.797427\n",
      "mlp_SkinThickness  SkinThickness    0.730571\n",
      "mlp_BloodPressure  BloodPressure    0.659626\n",
      "mlp_Glucose        Glucose          0.653958\n",
      "Glucose            Outcome          0.544038\n",
      "BMI                SkinThickness    0.509936\n",
      "Glucose            Insulin          0.470695\n",
      "mlp_Glucose        Insulin          0.468632\n",
      "mlp_BMI            SkinThickness    0.444827\n",
      "dtype: float64\n"
     ]
    }
   ],
   "source": [
    "print(\"Top Absolute Correlationsin in MLP model\")\n",
    "print(mg.get_top_abs_correlations(sim_mlp, 10))"
   ]
  },
  {
   "cell_type": "code",
   "execution_count": 64,
   "metadata": {},
   "outputs": [
    {
     "name": "stdout",
     "output_type": "stream",
     "text": [
      "Top Absolute Correlationsin in RF model\n",
      "rf_Glucose                   Glucose                     0.922416\n",
      "rf_BMI                       BMI                         0.728756\n",
      "rf_DiabetesPedigreeFunction  DiabetesPedigreeFunction    0.614637\n",
      "Glucose                      Outcome                     0.544038\n",
      "rf_Glucose                   Outcome                     0.511843\n",
      "dtype: float64\n"
     ]
    }
   ],
   "source": [
    "print(\"Top Absolute Correlationsin in RF model\")\n",
    "print(mg.get_top_abs_correlations(sim_rf, 5))"
   ]
  },
  {
   "cell_type": "code",
   "execution_count": 65,
   "metadata": {},
   "outputs": [
    {
     "name": "stdout",
     "output_type": "stream",
     "text": [
      "Top Absolute Correlationsin LR model\n",
      "lr_Glucose                   Glucose                     0.921184\n",
      "lr_BloodPressure             BloodPressure               0.895361\n",
      "lr_DiabetesPedigreeFunction  DiabetesPedigreeFunction    0.892023\n",
      "lr_SkinThickness             SkinThickness               0.871342\n",
      "lr_BMI                       BMI                         0.871290\n",
      "dtype: float64\n"
     ]
    }
   ],
   "source": [
    "print(\"Top Absolute Correlationsin LR model\")\n",
    "print(mg.get_top_abs_correlations(sim_lr, 5))"
   ]
  },
  {
   "cell_type": "markdown",
   "metadata": {},
   "source": [
    "### PIMA Exploratory Data Analysis (EDA)"
   ]
  },
  {
   "cell_type": "code",
   "execution_count": 66,
   "metadata": {},
   "outputs": [
    {
     "data": {
      "image/png": "[encoded data removed]",
      "text/plain": [
       "<Figure size 1008x864 with 6 Axes>"
      ]
     },
     "metadata": {},
     "output_type": "display_data"
    }
   ],
   "source": [
    "mg.plot_pima_features(pima);"
   ]
  },
  {
   "cell_type": "code",
   "execution_count": 67,
   "metadata": {},
   "outputs": [
    {
     "data": {
      "image/png": "[encoded data removed]",
      "text/plain": [
       "<Figure size 720x576 with 1 Axes>"
      ]
     },
     "metadata": {},
     "output_type": "display_data"
    }
   ],
   "source": [
    "mg.plot_train_valid(x_train_p, x_validation_p, 'BMI')"
   ]
  },
  {
   "cell_type": "code",
   "execution_count": 68,
   "metadata": {},
   "outputs": [
    {
     "data": {
      "image/png": "[encoded data removed]",
      "text/plain": [
       "<Figure size 720x576 with 1 Axes>"
      ]
     },
     "metadata": {},
     "output_type": "display_data"
    }
   ],
   "source": [
    "mg.plot_train_valid(x_train_p, x_validation_p, 'BloodPressure')"
   ]
  },
  {
   "cell_type": "code",
   "execution_count": 69,
   "metadata": {},
   "outputs": [
    {
     "data": {
      "image/png": "[encoded data removed]",
      "text/plain": [
       "<Figure size 720x576 with 1 Axes>"
      ]
     },
     "metadata": {},
     "output_type": "display_data"
    }
   ],
   "source": [
    "mg.plot_train_valid(x_train_p, x_validation_p, 'DiabetesPedigreeFunction')"
   ]
  },
  {
   "cell_type": "code",
   "execution_count": 70,
   "metadata": {},
   "outputs": [
    {
     "data": {
      "image/png": "[encoded data removed]",
      "text/plain": [
       "<Figure size 720x576 with 1 Axes>"
      ]
     },
     "metadata": {},
     "output_type": "display_data"
    }
   ],
   "source": [
    "mg.plot_train_valid(x_train_p, x_validation_p, 'Glucose')"
   ]
  },
  {
   "cell_type": "code",
   "execution_count": 71,
   "metadata": {},
   "outputs": [
    {
     "data": {
      "image/png": "[encoded data removed]",
      "text/plain": [
       "<Figure size 720x576 with 1 Axes>"
      ]
     },
     "metadata": {},
     "output_type": "display_data"
    }
   ],
   "source": [
    "mg.plot_train_valid(x_train_p, x_validation_p, 'Insulin')"
   ]
  },
  {
   "cell_type": "code",
   "execution_count": 72,
   "metadata": {},
   "outputs": [
    {
     "data": {
      "image/png": "[encoded data removed]",
      "text/plain": [
       "<Figure size 720x576 with 1 Axes>"
      ]
     },
     "metadata": {},
     "output_type": "display_data"
    }
   ],
   "source": [
    "mg.plot_train_valid(x_train_p, x_validation_p, 'SkinThickness')"
   ]
  },
  {
   "cell_type": "code",
   "execution_count": null,
   "metadata": {},
   "outputs": [],
   "source": []
  }
 ],
 "metadata": {
  "kernelspec": {
   "display_name": "py36",
   "language": "python",
   "name": "py36"
  },
  "language_info": {
   "codemirror_mode": {
    "name": "ipython",
    "version": 3
   },
   "file_extension": ".py",
   "mimetype": "text/x-python",
   "name": "python",
   "nbconvert_exporter": "python",
   "pygments_lexer": "ipython3",
   "version": "3.6.0"
  }
 },
 "nbformat": 4,
 "nbformat_minor": 2
}
