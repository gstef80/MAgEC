{
 "cells": [
  {
   "cell_type": "markdown",
   "metadata": {},
   "source": [
    "## Mimic EDA\n",
    "#### Predicting and Understanding Unexpected Respiratory Decompensation in Critical Care Using Sparse and Heterogeneous Clinical Data"
   ]
  },
  {
   "cell_type": "code",
   "execution_count": 1,
   "metadata": {},
   "outputs": [
    {
     "name": "stderr",
     "output_type": "stream",
     "text": [
      "Using TensorFlow backend.\n"
     ]
    }
   ],
   "source": [
    "import numpy as np\n",
    "import pandas as pd\n",
    "import psycopg2\n",
    "import os \n",
    "import random\n",
    "import datetime\n",
    "from sqlalchemy import create_engine\n",
    "import mimic_utils as mimic\n",
    "import magec_utils as mg\n",
    "import matplotlib.pyplot as plt\n",
    "from adjustText import adjust_text\n",
    "\n",
    "pd.set_option('display.max_columns', None)\n",
    "\n",
    "random.seed(22891)\n",
    "\n",
    "%matplotlib inline"
   ]
  },
  {
   "cell_type": "markdown",
   "metadata": {},
   "source": [
    "### MIMIC-III Data"
   ]
  },
  {
   "cell_type": "code",
   "execution_count": 2,
   "metadata": {},
   "outputs": [],
   "source": [
    "# MIMIC-III\n",
    "df = mimic.get_mimic_data()"
   ]
  },
  {
   "cell_type": "markdown",
   "metadata": {},
   "source": [
    "### Get annotation data (if any) for patients in our cohort w/ advanced lung or heart disease"
   ]
  },
  {
   "cell_type": "code",
   "execution_count": 3,
   "metadata": {},
   "outputs": [
    {
     "data": {
      "text/plain": [
       "47"
      ]
     },
     "execution_count": 3,
     "metadata": {},
     "output_type": "execute_result"
    }
   ],
   "source": [
    "df_anno = pd.read_csv('physionet.org/files/phenotype-annotations-mimic/1.20.03/ACTdb102003.csv')\n",
    "df_anno = df_anno[((df_anno['ADVANCED.LUNG.DISEASE'] == 1) | \n",
    "                  (df_anno['ADVANCED.HEART.DISEASE'] == 1)) & \n",
    "                  (df_anno['ADVANCED.CANCER'] == 0)]\n",
    "users = list(set(df.subject_id.unique()).intersection(set(df_anno.SUBJECT_ID.unique())))\n",
    "len(users)"
   ]
  },
  {
   "cell_type": "code",
   "execution_count": 4,
   "metadata": {},
   "outputs": [],
   "source": [
    "np.save('case_users', users)"
   ]
  },
  {
   "cell_type": "markdown",
   "metadata": {},
   "source": [
    "### MIMIC-III Data Engineering"
   ]
  },
  {
   "cell_type": "code",
   "execution_count": 5,
   "metadata": {},
   "outputs": [],
   "source": [
    "vitals = ['heartrate_mean', 'sysbp_mean', 'diasbp_mean', 'meanbp_mean',\n",
    "          'resprate_mean', 'tempc_mean', 'spo2_mean', 'glucose_mean']\n",
    "\n",
    "labs = ['aniongap', 'albumin', 'bicarbonate', 'bilirubin', 'creatinine', \n",
    "        'chloride', 'glucose', 'hemoglobin', 'lactate', \n",
    "        'magnesium', 'phosphate', 'platelet', 'potassium', 'ptt', 'inr', \n",
    "        'pt', 'sodium', 'bun', 'wbc']  # -hematocrit\n",
    "\n",
    "comobs = ['congestive_heart_failure', 'chronic_pulmonary', 'pulmonary_circulation']\n",
    "\n",
    "others = ['age', 'gender']\n",
    "\n",
    "features = vitals+labs\n",
    "\n",
    "# Data featurized using 'last' measurements\n",
    "df_ml = mimic.get_ml_data(df)\n",
    "\n",
    "# Data featurized as time-series\n",
    "df_time = mimic.get_ml_series_data(df)\n",
    "\n",
    "_, x_validation, stsc, _, xst_validation, _, Y_validation = mimic.train_valid_ml(df_ml, \n",
    "                                                                                 include_valid='case_users.npy')\n",
    "\n",
    "stsc2, series_means, _, df_series_valid, _, _, xt_valid, Yt_valid = mimic.train_valid_series(df_time, Y_validation)"
   ]
  },
  {
   "cell_type": "code",
   "execution_count": 6,
   "metadata": {},
   "outputs": [
    {
     "data": {
      "text/plain": [
       "platelet                    250.565683\n",
       "wbc                          12.167143\n",
       "chloride                    101.871247\n",
       "aniongap                     16.297438\n",
       "congestive_heart_failure      0.271010\n",
       "ptt                          35.473116\n",
       "creatinine                    1.546555\n",
       "age                          62.244080\n",
       "bilirubin                     1.591420\n",
       "glucose                     160.903257\n",
       "bun                          28.839523\n",
       "chronic_pulmonary             0.199298\n",
       "spo2_mean                    96.682270\n",
       "pt                           16.078363\n",
       "phosphate                     3.566423\n",
       "gender                        0.562583\n",
       "tempc_mean                   36.765522\n",
       "glucose_mean                141.827799\n",
       "resprate_mean                19.664887\n",
       "sodium                      137.578144\n",
       "albumin                       3.379839\n",
       "pulmonary_circulation         0.064002\n",
       "hemoglobin                   11.875867\n",
       "diasbp_mean                  62.553436\n",
       "magnesium                     1.947650\n",
       "sysbp_mean                  120.738031\n",
       "bicarbonate                  23.595292\n",
       "heartrate_mean               85.105305\n",
       "potassium                     4.323906\n",
       "lactate                       2.411456\n",
       "meanbp_mean                  79.125184\n",
       "inr                           1.558623\n",
       "dtype: float64"
      ]
     },
     "execution_count": 6,
     "metadata": {},
     "output_type": "execute_result"
    }
   ],
   "source": [
    "series_means"
   ]
  },
  {
   "cell_type": "markdown",
   "metadata": {},
   "source": [
    "### Load cohort data (demographics, vitals, labs and co-morbidities)"
   ]
  },
  {
   "cell_type": "code",
   "execution_count": 7,
   "metadata": {},
   "outputs": [
    {
     "data": {
      "text/plain": [
       "<sqlalchemy.engine.result.ResultProxy at 0x1a5f900650>"
      ]
     },
     "execution_count": 7,
     "metadata": {},
     "output_type": "execute_result"
    }
   ],
   "source": [
    "# information used to create a database connection\n",
    "sqluser = 'postgres'\n",
    "dbname = 'mimic'\n",
    "engine = create_engine(\"postgresql+psycopg2://{}:{}@/{}\".format(sqluser, sqluser, dbname))\n",
    "\n",
    "conn = engine.connect()\n",
    "schema_name = 'mimiciii'\n",
    "conn.execute('SET search_path to ' + schema_name)"
   ]
  },
  {
   "cell_type": "code",
   "execution_count": 8,
   "metadata": {},
   "outputs": [],
   "source": [
    "df_cohort = pd.read_sql(\"select * from mimic_users_study;\", conn)"
   ]
  },
  {
   "cell_type": "markdown",
   "metadata": {},
   "source": [
    "### Get notes for patients in our cohort"
   ]
  },
  {
   "cell_type": "code",
   "execution_count": 9,
   "metadata": {},
   "outputs": [],
   "source": [
    "from mimic_queries import notes_query\n",
    "df_notes = pd.read_sql(notes_query(prior_hours=48), conn)"
   ]
  },
  {
   "cell_type": "markdown",
   "metadata": {},
   "source": [
    "### Get meds for patients in our cohort"
   ]
  },
  {
   "cell_type": "code",
   "execution_count": 10,
   "metadata": {},
   "outputs": [],
   "source": [
    "from mimic_queries import meds_query\n",
    "df_meds = pd.read_sql(meds_query(prior_hours=48), conn)"
   ]
  },
  {
   "cell_type": "code",
   "execution_count": 11,
   "metadata": {},
   "outputs": [],
   "source": [
    "conn.close()"
   ]
  },
  {
   "cell_type": "markdown",
   "metadata": {},
   "source": [
    "### Get MAgEC results for validation data (2128 patients)"
   ]
  },
  {
   "cell_type": "code",
   "execution_count": 12,
   "metadata": {},
   "outputs": [],
   "source": [
    "joined = pd.read_csv('time_mimic_magecs_valid.csv')\n",
    "joined['orig_prob_ensemble'] = joined[['orig_prob_mlp', 'orig_prob_lr', \n",
    "                                       'orig_prob_rf', 'orig_prob_lstm']].apply(np.mean, 1)"
   ]
  },
  {
   "cell_type": "code",
   "execution_count": 13,
   "metadata": {},
   "outputs": [
    {
     "data": {
      "text/plain": [
       "2128"
      ]
     },
     "execution_count": 13,
     "metadata": {},
     "output_type": "execute_result"
    }
   ],
   "source": [
    "joined.case.nunique()"
   ]
  },
  {
   "cell_type": "markdown",
   "metadata": {},
   "source": [
    "### Cases with most potential"
   ]
  },
  {
   "cell_type": "code",
   "execution_count": 14,
   "metadata": {},
   "outputs": [],
   "source": [
    "df_anno = pd.read_csv('physionet.org/files/phenotype-annotations-mimic/1.20.03/ACTdb102003.csv')"
   ]
  },
  {
   "cell_type": "code",
   "execution_count": 15,
   "metadata": {},
   "outputs": [],
   "source": [
    "def print_notes(case):\n",
    "    print('\\n***NEXT NOTE***\\n\\n'.join(df_notes[df_notes.subject_id==case].\\\n",
    "                                   sort_values('charttime')['text'].values.tolist()))\n",
    "    \n",
    "def make_panel(case, t_0=None):\n",
    "    t_min = df_cohort[df_cohort.subject_id==case]['timepoint'].min()\n",
    "    t_max = df_cohort[df_cohort.subject_id==case]['timepoint'].max()\n",
    "    print(t_min, t_max)\n",
    "    timepoint = t_min if t_0 is None else t_0\n",
    "    mg.panel_plot(xst_validation.columns, features, stsc2, joined, case, timepoint, \n",
    "                  models=('lr','rf','mlp','lstm', 'ensemble'), label='label', limit=8, rotate=25)\n",
    "    \n",
    "def best_feature(data, cols, feat=None):\n",
    "    models = list(set([c.split('_')[-1] for c in cols]))\n",
    "    if feat is not None:\n",
    "        features = [feat]\n",
    "    else:\n",
    "        features = list(set(['_'.join(c.split('_')[1:-2]) for c in cols]))  \n",
    "    best_feat = ''\n",
    "    new_risk = None\n",
    "    for feat in features:\n",
    "        feat_risks = []\n",
    "        orig_probs = []\n",
    "        for model in models:\n",
    "            magec = model + '_' + feat\n",
    "            perturb = 'perturb_' + feat + '_prob_' + model\n",
    "            orig = 'orig_prob_' + model\n",
    "            if magec in data and perturb in data and orig in data:\n",
    "                magec = data[magec]\n",
    "                perturb = data[perturb]\n",
    "                orig = data[orig]\n",
    "                feat_risks.append(perturb)\n",
    "                orig_probs.append(orig)\n",
    "        # model average \n",
    "        feat_risk = np.mean(feat_risks)\n",
    "        orig_prob = np.mean(orig_probs)\n",
    "        if new_risk is None or feat_risk < new_risk and feat_risk < orig_prob:\n",
    "            new_risk = feat_risk\n",
    "            best_feat = feat\n",
    "    return pd.Series((best_feat, new_risk), index=['best_feat', 'new_risk'])"
   ]
  },
  {
   "cell_type": "code",
   "execution_count": 16,
   "metadata": {},
   "outputs": [],
   "source": [
    "prob_cols = [c for c in joined.columns if c.startswith('perturb')]"
   ]
  },
  {
   "cell_type": "code",
   "execution_count": 17,
   "metadata": {},
   "outputs": [],
   "source": [
    "joined[['best_feat', 'new_risk']] = joined.apply(lambda x: best_feature(x, prob_cols), axis=1)"
   ]
  },
  {
   "cell_type": "code",
   "execution_count": 18,
   "metadata": {},
   "outputs": [
    {
     "data": {
      "text/html": [
       "<div>\n",
       "<style scoped>\n",
       "    .dataframe tbody tr th:only-of-type {\n",
       "        vertical-align: middle;\n",
       "    }\n",
       "\n",
       "    .dataframe tbody tr th {\n",
       "        vertical-align: top;\n",
       "    }\n",
       "\n",
       "    .dataframe thead th {\n",
       "        text-align: right;\n",
       "    }\n",
       "</style>\n",
       "<table border=\"1\" class=\"dataframe\">\n",
       "  <thead>\n",
       "    <tr style=\"text-align: right;\">\n",
       "      <th></th>\n",
       "      <th>case</th>\n",
       "      <th>timepoint</th>\n",
       "      <th>orig_prob_ensemble</th>\n",
       "      <th>best_feat</th>\n",
       "      <th>new_risk</th>\n",
       "    </tr>\n",
       "  </thead>\n",
       "  <tbody>\n",
       "    <tr>\n",
       "      <th>10839</th>\n",
       "      <td>15044</td>\n",
       "      <td>12</td>\n",
       "      <td>0.549959</td>\n",
       "      <td>meanbp_mean</td>\n",
       "      <td>0.122119</td>\n",
       "    </tr>\n",
       "    <tr>\n",
       "      <th>13061</th>\n",
       "      <td>18250</td>\n",
       "      <td>5</td>\n",
       "      <td>0.556930</td>\n",
       "      <td>spo2_mean</td>\n",
       "      <td>0.123945</td>\n",
       "    </tr>\n",
       "    <tr>\n",
       "      <th>12515</th>\n",
       "      <td>17596</td>\n",
       "      <td>11</td>\n",
       "      <td>0.514156</td>\n",
       "      <td>meanbp_mean</td>\n",
       "      <td>0.126662</td>\n",
       "    </tr>\n",
       "    <tr>\n",
       "      <th>4058</th>\n",
       "      <td>5860</td>\n",
       "      <td>11</td>\n",
       "      <td>0.535313</td>\n",
       "      <td>resprate_mean</td>\n",
       "      <td>0.146461</td>\n",
       "    </tr>\n",
       "    <tr>\n",
       "      <th>4057</th>\n",
       "      <td>5860</td>\n",
       "      <td>12</td>\n",
       "      <td>0.506284</td>\n",
       "      <td>resprate_mean</td>\n",
       "      <td>0.153252</td>\n",
       "    </tr>\n",
       "  </tbody>\n",
       "</table>\n",
       "</div>"
      ],
      "text/plain": [
       "        case  timepoint  orig_prob_ensemble      best_feat  new_risk\n",
       "10839  15044         12            0.549959    meanbp_mean  0.122119\n",
       "13061  18250          5            0.556930      spo2_mean  0.123945\n",
       "12515  17596         11            0.514156    meanbp_mean  0.126662\n",
       "4058    5860         11            0.535313  resprate_mean  0.146461\n",
       "4057    5860         12            0.506284  resprate_mean  0.153252"
      ]
     },
     "execution_count": 18,
     "metadata": {},
     "output_type": "execute_result"
    }
   ],
   "source": [
    "predicate = (joined.orig_prob_ensemble > 0.5) & (joined.new_risk < 0.5)\n",
    "\n",
    "my_cols = ['case', 'timepoint', 'orig_prob_ensemble', 'best_feat', 'new_risk']\n",
    "\n",
    "joined[predicate][my_cols].sort_values('new_risk').head()"
   ]
  },
  {
   "cell_type": "code",
   "execution_count": 19,
   "metadata": {},
   "outputs": [
    {
     "data": {
      "text/plain": [
       "resprate_mean     984\n",
       "lactate           368\n",
       "meanbp_mean       365\n",
       "bilirubin         155\n",
       "heartrate_mean    148\n",
       "ptt               111\n",
       "glucose_mean       50\n",
       "spo2_mean          46\n",
       "diasbp_mean        44\n",
       "albumin            30\n",
       "aniongap           24\n",
       "tempc_mean         22\n",
       "phosphate          21\n",
       "platelet           15\n",
       "sysbp_mean         10\n",
       "magnesium           7\n",
       "bicarbonate         6\n",
       "sodium              4\n",
       "inr                 4\n",
       "chloride            3\n",
       "bun                 2\n",
       "creatinine          1\n",
       "pt                  1\n",
       "wbc                 1\n",
       "Name: best_feat, dtype: int64"
      ]
     },
     "execution_count": 19,
     "metadata": {},
     "output_type": "execute_result"
    }
   ],
   "source": [
    "joined[predicate]['best_feat'].value_counts()"
   ]
  },
  {
   "cell_type": "code",
   "execution_count": 20,
   "metadata": {},
   "outputs": [
    {
     "data": {
      "text/html": [
       "<div>\n",
       "<style scoped>\n",
       "    .dataframe tbody tr th:only-of-type {\n",
       "        vertical-align: middle;\n",
       "    }\n",
       "\n",
       "    .dataframe tbody tr th {\n",
       "        vertical-align: top;\n",
       "    }\n",
       "\n",
       "    .dataframe thead th {\n",
       "        text-align: right;\n",
       "    }\n",
       "</style>\n",
       "<table border=\"1\" class=\"dataframe\">\n",
       "  <thead>\n",
       "    <tr style=\"text-align: right;\">\n",
       "      <th></th>\n",
       "      <th>new_risk</th>\n",
       "    </tr>\n",
       "    <tr>\n",
       "      <th>best_feat</th>\n",
       "      <th></th>\n",
       "    </tr>\n",
       "  </thead>\n",
       "  <tbody>\n",
       "    <tr>\n",
       "      <th>spo2_mean</th>\n",
       "      <td>0.392355</td>\n",
       "    </tr>\n",
       "    <tr>\n",
       "      <th>resprate_mean</th>\n",
       "      <td>0.406148</td>\n",
       "    </tr>\n",
       "    <tr>\n",
       "      <th>meanbp_mean</th>\n",
       "      <td>0.407277</td>\n",
       "    </tr>\n",
       "    <tr>\n",
       "      <th>sysbp_mean</th>\n",
       "      <td>0.407364</td>\n",
       "    </tr>\n",
       "    <tr>\n",
       "      <th>magnesium</th>\n",
       "      <td>0.410702</td>\n",
       "    </tr>\n",
       "    <tr>\n",
       "      <th>ptt</th>\n",
       "      <td>0.424390</td>\n",
       "    </tr>\n",
       "    <tr>\n",
       "      <th>diasbp_mean</th>\n",
       "      <td>0.427088</td>\n",
       "    </tr>\n",
       "    <tr>\n",
       "      <th>phosphate</th>\n",
       "      <td>0.427166</td>\n",
       "    </tr>\n",
       "    <tr>\n",
       "      <th>heartrate_mean</th>\n",
       "      <td>0.429840</td>\n",
       "    </tr>\n",
       "    <tr>\n",
       "      <th>bicarbonate</th>\n",
       "      <td>0.433288</td>\n",
       "    </tr>\n",
       "  </tbody>\n",
       "</table>\n",
       "</div>"
      ],
      "text/plain": [
       "                new_risk\n",
       "best_feat               \n",
       "spo2_mean       0.392355\n",
       "resprate_mean   0.406148\n",
       "meanbp_mean     0.407277\n",
       "sysbp_mean      0.407364\n",
       "magnesium       0.410702\n",
       "ptt             0.424390\n",
       "diasbp_mean     0.427088\n",
       "phosphate       0.427166\n",
       "heartrate_mean  0.429840\n",
       "bicarbonate     0.433288"
      ]
     },
     "execution_count": 20,
     "metadata": {},
     "output_type": "execute_result"
    }
   ],
   "source": [
    "joined[predicate][['best_feat', 'new_risk']].groupby('best_feat').mean().\\\n",
    "    sort_values('new_risk').head(10)"
   ]
  },
  {
   "cell_type": "markdown",
   "metadata": {},
   "source": [
    "### Is sysbp_mean ever identified by MAgEC w/ estimated risk below 0.5?"
   ]
  },
  {
   "cell_type": "code",
   "execution_count": 21,
   "metadata": {},
   "outputs": [
    {
     "data": {
      "text/html": [
       "<div>\n",
       "<style scoped>\n",
       "    .dataframe tbody tr th:only-of-type {\n",
       "        vertical-align: middle;\n",
       "    }\n",
       "\n",
       "    .dataframe tbody tr th {\n",
       "        vertical-align: top;\n",
       "    }\n",
       "\n",
       "    .dataframe thead th {\n",
       "        text-align: right;\n",
       "    }\n",
       "</style>\n",
       "<table border=\"1\" class=\"dataframe\">\n",
       "  <thead>\n",
       "    <tr style=\"text-align: right;\">\n",
       "      <th></th>\n",
       "      <th>case</th>\n",
       "      <th>timepoint</th>\n",
       "      <th>orig_prob_ensemble</th>\n",
       "      <th>best_feat</th>\n",
       "      <th>new_risk</th>\n",
       "    </tr>\n",
       "  </thead>\n",
       "  <tbody>\n",
       "    <tr>\n",
       "      <th>14075</th>\n",
       "      <td>19845</td>\n",
       "      <td>15</td>\n",
       "      <td>0.526594</td>\n",
       "      <td>sysbp_mean</td>\n",
       "      <td>0.353429</td>\n",
       "    </tr>\n",
       "    <tr>\n",
       "      <th>22050</th>\n",
       "      <td>30591</td>\n",
       "      <td>11</td>\n",
       "      <td>0.502281</td>\n",
       "      <td>sysbp_mean</td>\n",
       "      <td>0.358490</td>\n",
       "    </tr>\n",
       "    <tr>\n",
       "      <th>22051</th>\n",
       "      <td>30591</td>\n",
       "      <td>10</td>\n",
       "      <td>0.517878</td>\n",
       "      <td>sysbp_mean</td>\n",
       "      <td>0.383553</td>\n",
       "    </tr>\n",
       "    <tr>\n",
       "      <th>16262</th>\n",
       "      <td>23121</td>\n",
       "      <td>16</td>\n",
       "      <td>0.586907</td>\n",
       "      <td>sysbp_mean</td>\n",
       "      <td>0.385466</td>\n",
       "    </tr>\n",
       "    <tr>\n",
       "      <th>16268</th>\n",
       "      <td>23121</td>\n",
       "      <td>7</td>\n",
       "      <td>0.510494</td>\n",
       "      <td>sysbp_mean</td>\n",
       "      <td>0.411352</td>\n",
       "    </tr>\n",
       "    <tr>\n",
       "      <th>14070</th>\n",
       "      <td>19845</td>\n",
       "      <td>21</td>\n",
       "      <td>0.500272</td>\n",
       "      <td>sysbp_mean</td>\n",
       "      <td>0.412268</td>\n",
       "    </tr>\n",
       "    <tr>\n",
       "      <th>16260</th>\n",
       "      <td>23121</td>\n",
       "      <td>18</td>\n",
       "      <td>0.557247</td>\n",
       "      <td>sysbp_mean</td>\n",
       "      <td>0.418320</td>\n",
       "    </tr>\n",
       "    <tr>\n",
       "      <th>16258</th>\n",
       "      <td>23121</td>\n",
       "      <td>20</td>\n",
       "      <td>0.560218</td>\n",
       "      <td>sysbp_mean</td>\n",
       "      <td>0.440637</td>\n",
       "    </tr>\n",
       "    <tr>\n",
       "      <th>14068</th>\n",
       "      <td>19845</td>\n",
       "      <td>24</td>\n",
       "      <td>0.565455</td>\n",
       "      <td>sysbp_mean</td>\n",
       "      <td>0.453739</td>\n",
       "    </tr>\n",
       "    <tr>\n",
       "      <th>24197</th>\n",
       "      <td>41251</td>\n",
       "      <td>9</td>\n",
       "      <td>0.528327</td>\n",
       "      <td>sysbp_mean</td>\n",
       "      <td>0.456383</td>\n",
       "    </tr>\n",
       "  </tbody>\n",
       "</table>\n",
       "</div>"
      ],
      "text/plain": [
       "        case  timepoint  orig_prob_ensemble   best_feat  new_risk\n",
       "14075  19845         15            0.526594  sysbp_mean  0.353429\n",
       "22050  30591         11            0.502281  sysbp_mean  0.358490\n",
       "22051  30591         10            0.517878  sysbp_mean  0.383553\n",
       "16262  23121         16            0.586907  sysbp_mean  0.385466\n",
       "16268  23121          7            0.510494  sysbp_mean  0.411352\n",
       "14070  19845         21            0.500272  sysbp_mean  0.412268\n",
       "16260  23121         18            0.557247  sysbp_mean  0.418320\n",
       "16258  23121         20            0.560218  sysbp_mean  0.440637\n",
       "14068  19845         24            0.565455  sysbp_mean  0.453739\n",
       "24197  41251          9            0.528327  sysbp_mean  0.456383"
      ]
     },
     "execution_count": 21,
     "metadata": {},
     "output_type": "execute_result"
    }
   ],
   "source": [
    "joined[predicate][joined[predicate]['best_feat'] == 'sysbp_mean'][my_cols].\\\n",
    "    sort_values('new_risk').head(10)"
   ]
  },
  {
   "cell_type": "markdown",
   "metadata": {},
   "source": [
    "### Time-series plot"
   ]
  },
  {
   "cell_type": "code",
   "execution_count": 22,
   "metadata": {},
   "outputs": [
    {
     "data": {
      "image/png": "[encoded data removed]",
      "text/plain": [
       "<Figure size 720x864 with 2 Axes>"
      ]
     },
     "metadata": {
      "needs_background": "light"
     },
     "output_type": "display_data"
    }
   ],
   "source": [
    "index = 14075\n",
    "mimic.best_feat_plot(joined, df_cohort, index)"
   ]
  },
  {
   "cell_type": "code",
   "execution_count": 23,
   "metadata": {},
   "outputs": [
    {
     "data": {
      "image/png": "[encoded data removed]",
      "text/plain": [
       "<Figure size 720x864 with 2 Axes>"
      ]
     },
     "metadata": {
      "needs_background": "light"
     },
     "output_type": "display_data"
    }
   ],
   "source": [
    "index = 22050\n",
    "mimic.best_feat_plot(joined, df_cohort, index)"
   ]
  },
  {
   "cell_type": "code",
   "execution_count": null,
   "metadata": {},
   "outputs": [],
   "source": []
  },
  {
   "cell_type": "code",
   "execution_count": null,
   "metadata": {},
   "outputs": [],
   "source": [
    "index = 14075\n",
    "case = 19845\n",
    "mimic.feat_plot(joined, df_cohort, index)"
   ]
  },
  {
   "cell_type": "code",
   "execution_count": null,
   "metadata": {},
   "outputs": [],
   "source": [
    "print_notes(case)"
   ]
  },
  {
   "cell_type": "code",
   "execution_count": null,
   "metadata": {},
   "outputs": [],
   "source": [
    "cols = ['subject_id', 'timepoint', 'admittime', 'admission_type', 'los_icu',\n",
    "        'diagnosis', 'curr_service', 'dischtime', 'mort_icu',\n",
    "        'mv_start', 'mv_end', 'mv_hours', 'event_time',\n",
    "        'age', 'gender', 'ethnicity']\n",
    "\n",
    "data = df_cohort[(df_cohort.subject_id==case) & (df_cohort.timepoint==15)][cols]\n",
    "data"
   ]
  },
  {
   "cell_type": "code",
   "execution_count": null,
   "metadata": {},
   "outputs": [],
   "source": [
    "txt1 = (data.event_time - datetime.timedelta(hours=int(data.timepoint.values[0])) -\n",
    "        data.admittime \n",
    "       ).iloc[0]\n",
    "\n",
    "txt1 = (txt1.days)*24 + (txt1.seconds) // 3600\n",
    "\n",
    "txt2 = (data.event_time - datetime.timedelta(hours=3) -\n",
    "        data.admittime \n",
    "       ).iloc[0]\n",
    "\n",
    "txt2 = (txt2.days)*24 + (txt2.seconds) // 3600"
   ]
  },
  {
   "cell_type": "code",
   "execution_count": null,
   "metadata": {},
   "outputs": [],
   "source": [
    "txt1, txt2"
   ]
  },
  {
   "cell_type": "code",
   "execution_count": null,
   "metadata": {},
   "outputs": [],
   "source": [
    "mg.panel_plot(xst_validation.columns, features, stsc2, joined, case, timepoint=int(data.timepoint.values[0]),\n",
    "              models=('lr','rf','mlp','lstm'), label='label', limit=8, rotate=25, \n",
    "              save='case{}_t_{}'.format(case, int(data.timepoint.values[0])), \n",
    "              title='Case #{} {} hours after ICU admission'.format(case, txt1))"
   ]
  },
  {
   "cell_type": "code",
   "execution_count": null,
   "metadata": {},
   "outputs": [],
   "source": [
    "mg.panel_plot(xst_validation.columns, features, stsc2, joined, case, timepoint=3,\n",
    "              models=('lr','rf','mlp','lstm'), label='label', limit=8, rotate=25, \n",
    "              save='case{}_t_{}'.format(case, 3), \n",
    "              title='Case #{} {} hours after ICU admission'.format(case, txt2))"
   ]
  },
  {
   "cell_type": "code",
   "execution_count": null,
   "metadata": {},
   "outputs": [],
   "source": [
    "set(df_meds[df_meds.subject_id==case]['drug_name_generic'].tolist())"
   ]
  },
  {
   "cell_type": "markdown",
   "metadata": {},
   "source": [
    "### Find interesting patients for whom we have annotations"
   ]
  },
  {
   "cell_type": "code",
   "execution_count": null,
   "metadata": {},
   "outputs": [],
   "source": [
    "cols = ['subject_id', 'timepoint', 'admittime', 'admission_type', 'los_icu',\n",
    "        'diagnosis', 'curr_service', 'dischtime', 'mort_icu',\n",
    "        'mv_start', 'mv_end', 'mv_hours',\n",
    "        'age', 'gender', 'ethnicity']\n",
    "\n",
    "valid_cases = df_cohort[np.isin(df_cohort.subject_id, users)].\\\n",
    "               sort_values(['subject_id', 'timepoint']).\\\n",
    "               groupby(['subject_id'])[cols].first()"
   ]
  },
  {
   "cell_type": "code",
   "execution_count": null,
   "metadata": {},
   "outputs": [],
   "source": [
    "valid_cases[valid_cases['mv_hours'] > 0]"
   ]
  },
  {
   "cell_type": "markdown",
   "metadata": {},
   "source": [
    "### Potential new cases"
   ]
  },
  {
   "cell_type": "code",
   "execution_count": null,
   "metadata": {},
   "outputs": [],
   "source": [
    "# 6451, 19823\n",
    "case = 29043\n",
    "df_anno[df_anno.SUBJECT_ID==case].iloc[0]"
   ]
  },
  {
   "cell_type": "code",
   "execution_count": null,
   "metadata": {},
   "outputs": [],
   "source": [
    "set(df_meds[df_meds.subject_id==case]['drug_name_generic'].tolist())"
   ]
  },
  {
   "cell_type": "code",
   "execution_count": null,
   "metadata": {},
   "outputs": [],
   "source": [
    "t_min = df_cohort[df_cohort.subject_id==case]['timepoint'].min()\n",
    "t_max = df_cohort[df_cohort.subject_id==case]['timepoint'].max()\n",
    "print(t_min, t_max)"
   ]
  },
  {
   "cell_type": "code",
   "execution_count": null,
   "metadata": {},
   "outputs": [],
   "source": [
    "timepoint = t_max\n",
    "mg.panel_plot(xst_validation.columns, features, stsc2, joined, case, timepoint, \n",
    "              models=('lr','rf','mlp','lstm', 'ensemble'), label='label', limit=8, rotate=25)"
   ]
  },
  {
   "cell_type": "code",
   "execution_count": null,
   "metadata": {},
   "outputs": [],
   "source": [
    "timepoint = t_min\n",
    "mg.panel_plot(xst_validation.columns, features, stsc2, joined, case, timepoint, \n",
    "              models=('lr','rf','mlp','lstm', 'ensemble'), label='label', limit=8, rotate=25)"
   ]
  },
  {
   "cell_type": "code",
   "execution_count": null,
   "metadata": {},
   "outputs": [],
   "source": []
  }
 ],
 "metadata": {
  "kernelspec": {
   "display_name": "Python 3",
   "language": "python",
   "name": "python3"
  },
  "language_info": {
   "codemirror_mode": {
    "name": "ipython",
    "version": 3
   },
   "file_extension": ".py",
   "mimetype": "text/x-python",
   "name": "python",
   "nbconvert_exporter": "python",
   "pygments_lexer": "ipython3",
   "version": "3.7.7"
  }
 },
 "nbformat": 4,
 "nbformat_minor": 2
}
