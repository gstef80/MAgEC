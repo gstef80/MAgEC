{
 "cells": [
  {
   "cell_type": "code",
   "execution_count": 1,
   "metadata": {},
   "outputs": [
    {
     "name": "stderr",
     "output_type": "stream",
     "text": [
      "Using TensorFlow backend.\n"
     ]
    }
   ],
   "source": [
    "import numpy as np\n",
    "import pandas as pd\n",
    "import magec_utils as mg\n",
    "import mimic_utils as mimic\n",
    "import matplotlib\n",
    "import matplotlib.pyplot as plt\n",
    "from sklearn.utils import class_weight\n",
    "import seaborn as sns\n",
    "import shap\n",
    "from keras.models import Sequential, Model\n",
    "from keras.layers import Dense\n",
    "from keras.layers import Dropout\n",
    "from keras.layers import BatchNormalization\n",
    "from keras.layers import ReLU\n",
    "from keras.layers import Input\n",
    "from keras.wrappers.scikit_learn import KerasClassifier\n",
    "from sklearn.preprocessing import StandardScaler\n",
    "from sklearn.ensemble import RandomForestClassifier\n",
    "from sklearn.calibration import CalibratedClassifierCV\n",
    "from sklearn.linear_model import LogisticRegression\n",
    "from sklearn import svm\n",
    "from sklearn.preprocessing import StandardScaler\n",
    "import xgboost\n",
    "import lime\n",
    "\n",
    "try:\n",
    "    import cPickle as pickle\n",
    "except BaseException:\n",
    "    import pickle\n",
    "    \n",
    "# with open(\"shap_values\", \"rb\") as f:\n",
    "#     shap_values = pickle.load(f)\n",
    "\n",
    "# with open(\"shap_explainer\", \"rb\") as f:\n",
    "#     explainer = pickle.load(f)\n",
    "\n",
    "\n",
    "pd.set_option('display.max_columns', None)\n",
    "\n",
    "%matplotlib inline"
   ]
  },
  {
   "cell_type": "code",
   "execution_count": 2,
   "metadata": {},
   "outputs": [],
   "source": [
    "def relu_bn(input_tensor):\n",
    "    relu = ReLU()(input_tensor)\n",
    "    bn = BatchNormalization()(relu)\n",
    "    return bn\n",
    "\n",
    "def get_dropout(input_tensor, p=0.5):\n",
    "    return Dropout(p)(input_tensor)\n",
    "\n",
    "\n",
    "def get_model():\n",
    "    input_shape = xst_train.shape[1:]\n",
    "    inp = Input(input_shape)\n",
    "    x = Dense(32, activation=None)(inp)\n",
    "    x = relu_bn(x)\n",
    "    x = get_dropout(x, p=0.5)\n",
    "    x = Dense(64, activation=None)(inp)\n",
    "    x = relu_bn(x)\n",
    "    x = get_dropout(x, p=0.5)\n",
    "    x = Dense(32, activation=None)(inp)\n",
    "    x = relu_bn(x)\n",
    "    x = get_dropout(x, p=0.5)\n",
    "    out = Dense(1, activation='sigmoid')(x)\n",
    "    model = Model(inputs=inp, outputs=out)\n",
    "    model.compile(loss='binary_crossentropy',\n",
    "                  optimizer='adam',\n",
    "                  metrics=['accuracy'])\n",
    "    return model\n",
    "\n",
    "def create_mlp():\n",
    "    mlp = Sequential()\n",
    "    mlp.add(Dense(60, input_dim=len(xst_train.columns), activation='relu'))\n",
    "    mlp.add(Dropout(0.2))\n",
    "    mlp.add(Dense(30, input_dim=60, activation='relu'))\n",
    "    mlp.add(Dropout(0.2))\n",
    "    mlp.add(Dense(1, activation='sigmoid'))\n",
    "    mlp.compile(loss='binary_crossentropy',\n",
    "                optimizer='adam', metrics=['accuracy'])\n",
    "    return mlp\n",
    "\n",
    "def impute(df):\n",
    "    df[labs] = df[labs].fillna(df[labs].mean())\n",
    "    for vital in vitals:\n",
    "        df['first_'+vital] = df['first_'+vital].fillna(df['first_'+vital].mean())\n",
    "        df['last_'+vital] = df['last_'+vital].fillna(df['last_'+vital].mean())    \n",
    "    df[comobs] = df[comobs].fillna(0)\n",
    "    return df\n",
    "\n",
    "def featurize(df, outcome):\n",
    "    out = dict()\n",
    "    for lab in labs:\n",
    "        out[lab] = last_val(df[lab])\n",
    "    for vital in vitals:\n",
    "        out['first_'+vital] = first_val(df[vital])\n",
    "        out['last_'+vital] = last_val(df[vital])\n",
    "    for comob in comobs:\n",
    "        out[comob] = last_val(df[comob])\n",
    "    for other in others:\n",
    "        out[other] = last_val(df[other])\n",
    "    out['label'] = int(df[outcome].iloc[-1])\n",
    "    return pd.Series(out)\n",
    "\n",
    "def first_val(x):\n",
    "    vals = list(x[~np.isnan(x)])\n",
    "    if len(vals):\n",
    "        return vals[0]\n",
    "    else:\n",
    "        return None\n",
    "\n",
    "def last_val(x):\n",
    "    vals = list(x[~np.isnan(x)])\n",
    "    if len(vals):\n",
    "        return vals[-1]\n",
    "    else:\n",
    "        return None\n",
    "\n",
    "def train_valid_ml(df_ml, test_size=0.2, seed=7):\n",
    "    np.random.seed(seed)\n",
    "\n",
    "    x_cols = list(set(df_ml.columns) - {'label'})\n",
    "    y_cols = ['case', 'label']\n",
    "\n",
    "    cases = df_ml['case'].unique()\n",
    "\n",
    "    np.random.shuffle(cases)  # inplace shuffle\n",
    "\n",
    "    valid_cases = cases[:int(len(cases) * test_size)]\n",
    "    train_cases = cases[int(len(cases) * test_size):]\n",
    "\n",
    "    train_cases = np.isin(df_ml['case'], train_cases)\n",
    "    valid_cases = np.isin(df_ml['case'], valid_cases)\n",
    "\n",
    "    xy_train = df_ml.loc[train_cases, :]\n",
    "    x_train = xy_train[x_cols].copy()\n",
    "    Y_train = xy_train[y_cols].copy()\n",
    "\n",
    "    Y_train['label'] = Y_train['label'].astype(int)\n",
    "    Y_train['timepoint'] = 0\n",
    "    Y_train = Y_train.set_index(['case', 'timepoint'])\n",
    "    \n",
    "    xy_valid = df_ml.loc[valid_cases, :]\n",
    "    x_valid = xy_valid[x_cols].copy()\n",
    "    Y_valid = xy_valid[y_cols].copy()\n",
    "    \n",
    "    Y_valid['label'] = Y_valid['label'].astype(int)\n",
    "    Y_valid['timepoint'] = 0\n",
    "    Y_valid = Y_valid.set_index(['case', 'timepoint'])\n",
    "    \n",
    "    x_train = impute(x_train)\n",
    "    x_train['timepoint'] = 0\n",
    "    x_valid = impute(x_valid)\n",
    "    x_valid['timepoint'] = 0\n",
    "    \n",
    "    x_train = x_train.set_index(['case', 'timepoint'])\n",
    "    \n",
    "    x_valid = x_valid.set_index(['case', 'timepoint'])\n",
    "    \n",
    "    feats = x_train.columns\n",
    "    \n",
    "    bool_cols = [col for col in feats if df_ml[col].dropna().value_counts().index.isin([0,1]).all()]\n",
    "    non_bool_cols = [col for col in feats if col not in bool_cols]\n",
    "     \n",
    "    stsc = StandardScaler()\n",
    "    xst_train = x_train.copy()\n",
    "    xst_train[non_bool_cols] = stsc.fit_transform(x_train[non_bool_cols])\n",
    "    xst_train = pd.DataFrame(xst_train, index=x_train.index, columns=x_train.columns)\n",
    "\n",
    "    xst_valid = x_valid.copy()\n",
    "    xst_valid[non_bool_cols] = stsc.transform(x_valid[non_bool_cols])\n",
    "    xst_valid = pd.DataFrame(xst_valid, index=x_valid.index, columns=x_valid.columns)\n",
    "\n",
    "    return x_train, x_valid, stsc, xst_train, xst_valid, Y_train, Y_valid"
   ]
  },
  {
   "cell_type": "code",
   "execution_count": 3,
   "metadata": {},
   "outputs": [],
   "source": [
    "# MIMIC-III\n",
    "vitals = ['heartrate_mean', 'sysbp_mean', 'diasbp_mean', 'meanbp_mean',\n",
    "          'resprate_mean', 'tempc_mean', 'spo2_mean', 'glucose_mean']\n",
    "\n",
    "labs = ['aniongap', 'albumin', 'bicarbonate', 'bilirubin', 'creatinine', \n",
    "        'chloride', 'glucose', 'hemoglobin', 'lactate', \n",
    "        'magnesium', 'phosphate', 'platelet', 'potassium', 'ptt', 'inr', \n",
    "        'pt', 'sodium', 'bun', 'wbc']  # -hematocrit\n",
    "\n",
    "comobs = ['congestive_heart_failure', 'chronic_pulmonary', 'pulmonary_circulation']\n",
    "\n",
    "others = ['age', 'gender']\n",
    "\n",
    "features = vitals+labs\n",
    "\n",
    "df_cohort = mimic.get_mimic_data()"
   ]
  },
  {
   "cell_type": "code",
   "execution_count": 4,
   "metadata": {},
   "outputs": [],
   "source": [
    "df_ml = df_cohort.rename(columns={'subject_id': 'case'})\n",
    "df_ml = df_ml.set_index(['case', 'timepoint'])\n",
    "df_ml = df_ml.sort_index(level=[0, 1], ascending=[1, 0])"
   ]
  },
  {
   "cell_type": "code",
   "execution_count": 5,
   "metadata": {},
   "outputs": [],
   "source": [
    "df_ml = df_ml.reset_index(1).groupby(level=0, group_keys=False).apply(lambda x: featurize(x, 'ventilated'))"
   ]
  },
  {
   "cell_type": "code",
   "execution_count": 6,
   "metadata": {},
   "outputs": [],
   "source": [
    "x_train, x_valid, stsc, xst_train, xst_valid, Y_train, Y_valid = train_valid_ml(df_ml.reset_index())"
   ]
  },
  {
   "cell_type": "code",
   "execution_count": 7,
   "metadata": {},
   "outputs": [
    {
     "name": "stdout",
     "output_type": "stream",
     "text": [
      "[0.61911131 2.59887711]\n"
     ]
    }
   ],
   "source": [
    "class_weights = class_weight.compute_class_weight('balanced',\n",
    "                                                  np.unique(Y_train['label']),\n",
    "                                                  Y_train['label'])\n",
    "print(class_weights)"
   ]
  },
  {
   "cell_type": "code",
   "execution_count": 8,
   "metadata": {},
   "outputs": [],
   "source": [
    "# mlp2 = KerasClassifier(build_fn=get_model, epochs=100, batch_size=64, verbose=0)\n",
    "# mlp2.fit(xst_train, \n",
    "#          Y_train['label'], \n",
    "#          epochs=100, \n",
    "#          batch_size=64, \n",
    "#          verbose=0, \n",
    "#          class_weight={0:class_weights[0], 1:class_weights[1]}, )\n",
    "# print('Built new MLP classifier!')\n",
    "# mg.evaluate(mlp2, xst_valid, Y_valid['label'], verbose=True);"
   ]
  },
  {
   "cell_type": "code",
   "execution_count": 9,
   "metadata": {},
   "outputs": [
    {
     "name": "stdout",
     "output_type": "stream",
     "text": [
      "Built MLP classifier!\n",
      "Built SVM classifier!\n",
      "Built LR classifier!\n"
     ]
    }
   ],
   "source": [
    "mlp = KerasClassifier(build_fn=create_mlp, epochs=100, batch_size=64, verbose=0)\n",
    "mlp.fit(xst_train, Y_train['label'], \n",
    "        epochs=100, \n",
    "        batch_size=64, \n",
    "        verbose=0, \n",
    "        class_weight={0:class_weights[0], 1:class_weights[1]}, )\n",
    "print('Built MLP classifier!')\n",
    "\n",
    "sv = svm.SVC(probability=True, class_weight=\"balanced\")\n",
    "sv.fit(xst_train, Y_train['label'])\n",
    "print('Built SVM classifier!')\n",
    "\n",
    "lr = LogisticRegression(C=1., class_weight='balanced', solver='lbfgs')\n",
    "lr.fit(xst_train, Y_train['label'])\n",
    "print('Built LR classifier!')"
   ]
  },
  {
   "cell_type": "code",
   "execution_count": 10,
   "metadata": {},
   "outputs": [
    {
     "name": "stdout",
     "output_type": "stream",
     "text": [
      "Accuracy: 0.820931\n",
      "Precision: 0.548246\n",
      "Recall: 0.599520\n",
      "F1 score: 0.572738\n",
      "ROC AUC: 0.824429\n",
      "[[1460  206]\n",
      " [ 167  250]]\n",
      "Accuracy: 0.783485\n",
      "Precision: 0.472131\n",
      "Recall: 0.690647\n",
      "F1 score: 0.560857\n",
      "ROC AUC: 0.813892\n",
      "[[1344  322]\n",
      " [ 129  288]]\n",
      "Accuracy: 0.672588\n",
      "Precision: 0.339782\n",
      "Recall: 0.673861\n",
      "F1 score: 0.451768\n",
      "ROC AUC: 0.721519\n",
      "[[1120  546]\n",
      " [ 136  281]]\n"
     ]
    }
   ],
   "source": [
    "mg.evaluate(mlp, xst_valid, Y_valid['label'], verbose=True);\n",
    "mg.evaluate(sv, xst_valid, Y_valid['label'], verbose=True);\n",
    "mg.evaluate(lr, xst_valid, Y_valid['label'], verbose=True);"
   ]
  },
  {
   "cell_type": "code",
   "execution_count": 11,
   "metadata": {},
   "outputs": [],
   "source": [
    "# mg.evaluate(mlp, xst_valid, Y_valid['label'], verbose=True);\n",
    "# mg.evaluate(sv, xst_valid, Y_valid['label'], verbose=True);\n",
    "# mg.evaluate(lr, xst_valid, Y_valid['label'], verbose=True);"
   ]
  },
  {
   "cell_type": "code",
   "execution_count": 12,
   "metadata": {},
   "outputs": [
    {
     "name": "stdout",
     "output_type": "stream",
     "text": [
      "Accuracy: 0.818051\n",
      "Precision: 0.536260\n",
      "Recall: 0.673861\n",
      "F1 score: 0.597237\n",
      "ROC AUC: 0.835186\n",
      "[[1423  243]\n",
      " [ 136  281]]\n"
     ]
    }
   ],
   "source": [
    "xg = xgboost.XGBClassifier(scale_pos_weight=4)\n",
    "xg.fit(xst_train, Y_train['label'])\n",
    "mg.evaluate(xg, xst_valid, Y_valid['label'], verbose=True);"
   ]
  },
  {
   "cell_type": "code",
   "execution_count": 13,
   "metadata": {},
   "outputs": [],
   "source": [
    "explainer = shap.TreeExplainer(xg)"
   ]
  },
  {
   "cell_type": "code",
   "execution_count": 14,
   "metadata": {},
   "outputs": [],
   "source": [
    "shap_values = explainer.shap_values(xst_valid)"
   ]
  },
  {
   "cell_type": "code",
   "execution_count": 15,
   "metadata": {},
   "outputs": [
    {
     "data": {
      "image/png": "[encoded data removed]",
      "text/plain": [
       "<Figure size 576x684 with 1 Axes>"
      ]
     },
     "metadata": {
      "needs_background": "light"
     },
     "output_type": "display_data"
    }
   ],
   "source": [
    "shap.summary_plot(shap_values, xst_valid, plot_type=\"bar\")"
   ]
  },
  {
   "cell_type": "code",
   "execution_count": 46,
   "metadata": {},
   "outputs": [
    {
     "data": {
      "text/plain": [
       "(2083, 40)"
      ]
     },
     "execution_count": 46,
     "metadata": {},
     "output_type": "execute_result"
    }
   ],
   "source": [
    "shap_values.shape"
   ]
  },
  {
   "cell_type": "code",
   "execution_count": 49,
   "metadata": {},
   "outputs": [
    {
     "data": {
      "text/html": [
       "<div>\n",
       "<style scoped>\n",
       "    .dataframe tbody tr th:only-of-type {\n",
       "        vertical-align: middle;\n",
       "    }\n",
       "\n",
       "    .dataframe tbody tr th {\n",
       "        vertical-align: top;\n",
       "    }\n",
       "\n",
       "    .dataframe thead th {\n",
       "        text-align: right;\n",
       "    }\n",
       "</style>\n",
       "<table border=\"1\" class=\"dataframe\">\n",
       "  <thead>\n",
       "    <tr style=\"text-align: right;\">\n",
       "      <th></th>\n",
       "      <th></th>\n",
       "      <th>label</th>\n",
       "    </tr>\n",
       "    <tr>\n",
       "      <th>case</th>\n",
       "      <th>timepoint</th>\n",
       "      <th></th>\n",
       "    </tr>\n",
       "  </thead>\n",
       "  <tbody>\n",
       "    <tr>\n",
       "      <th>4</th>\n",
       "      <th>0</th>\n",
       "      <td>0</td>\n",
       "    </tr>\n",
       "    <tr>\n",
       "      <th>33</th>\n",
       "      <th>0</th>\n",
       "      <td>0</td>\n",
       "    </tr>\n",
       "    <tr>\n",
       "      <th>43</th>\n",
       "      <th>0</th>\n",
       "      <td>1</td>\n",
       "    </tr>\n",
       "    <tr>\n",
       "      <th>55</th>\n",
       "      <th>0</th>\n",
       "      <td>0</td>\n",
       "    </tr>\n",
       "    <tr>\n",
       "      <th>65</th>\n",
       "      <th>0</th>\n",
       "      <td>0</td>\n",
       "    </tr>\n",
       "  </tbody>\n",
       "</table>\n",
       "</div>"
      ],
      "text/plain": [
       "                label\n",
       "case timepoint       \n",
       "4    0              0\n",
       "33   0              0\n",
       "43   0              1\n",
       "55   0              0\n",
       "65   0              0"
      ]
     },
     "execution_count": 49,
     "metadata": {},
     "output_type": "execute_result"
    }
   ],
   "source": [
    "Y_valid.head()"
   ]
  },
  {
   "cell_type": "code",
   "execution_count": 50,
   "metadata": {},
   "outputs": [
    {
     "data": {
      "text/html": [
       "<div>\n",
       "<style scoped>\n",
       "    .dataframe tbody tr th:only-of-type {\n",
       "        vertical-align: middle;\n",
       "    }\n",
       "\n",
       "    .dataframe tbody tr th {\n",
       "        vertical-align: top;\n",
       "    }\n",
       "\n",
       "    .dataframe thead th {\n",
       "        text-align: right;\n",
       "    }\n",
       "</style>\n",
       "<table border=\"1\" class=\"dataframe\">\n",
       "  <thead>\n",
       "    <tr style=\"text-align: right;\">\n",
       "      <th></th>\n",
       "      <th></th>\n",
       "      <th>wbc</th>\n",
       "      <th>bun</th>\n",
       "      <th>platelet</th>\n",
       "      <th>lactate</th>\n",
       "      <th>first_spo2_mean</th>\n",
       "      <th>first_meanbp_mean</th>\n",
       "      <th>bicarbonate</th>\n",
       "      <th>chloride</th>\n",
       "      <th>phosphate</th>\n",
       "      <th>ptt</th>\n",
       "      <th>first_tempc_mean</th>\n",
       "      <th>first_diasbp_mean</th>\n",
       "      <th>pulmonary_circulation</th>\n",
       "      <th>gender</th>\n",
       "      <th>last_resprate_mean</th>\n",
       "      <th>last_glucose_mean</th>\n",
       "      <th>inr</th>\n",
       "      <th>congestive_heart_failure</th>\n",
       "      <th>creatinine</th>\n",
       "      <th>last_heartrate_mean</th>\n",
       "      <th>first_glucose_mean</th>\n",
       "      <th>bilirubin</th>\n",
       "      <th>age</th>\n",
       "      <th>last_sysbp_mean</th>\n",
       "      <th>last_spo2_mean</th>\n",
       "      <th>first_sysbp_mean</th>\n",
       "      <th>chronic_pulmonary</th>\n",
       "      <th>last_diasbp_mean</th>\n",
       "      <th>glucose</th>\n",
       "      <th>aniongap</th>\n",
       "      <th>first_resprate_mean</th>\n",
       "      <th>albumin</th>\n",
       "      <th>magnesium</th>\n",
       "      <th>last_meanbp_mean</th>\n",
       "      <th>sodium</th>\n",
       "      <th>pt</th>\n",
       "      <th>last_tempc_mean</th>\n",
       "      <th>hemoglobin</th>\n",
       "      <th>potassium</th>\n",
       "      <th>first_heartrate_mean</th>\n",
       "    </tr>\n",
       "    <tr>\n",
       "      <th>case</th>\n",
       "      <th>timepoint</th>\n",
       "      <th></th>\n",
       "      <th></th>\n",
       "      <th></th>\n",
       "      <th></th>\n",
       "      <th></th>\n",
       "      <th></th>\n",
       "      <th></th>\n",
       "      <th></th>\n",
       "      <th></th>\n",
       "      <th></th>\n",
       "      <th></th>\n",
       "      <th></th>\n",
       "      <th></th>\n",
       "      <th></th>\n",
       "      <th></th>\n",
       "      <th></th>\n",
       "      <th></th>\n",
       "      <th></th>\n",
       "      <th></th>\n",
       "      <th></th>\n",
       "      <th></th>\n",
       "      <th></th>\n",
       "      <th></th>\n",
       "      <th></th>\n",
       "      <th></th>\n",
       "      <th></th>\n",
       "      <th></th>\n",
       "      <th></th>\n",
       "      <th></th>\n",
       "      <th></th>\n",
       "      <th></th>\n",
       "      <th></th>\n",
       "      <th></th>\n",
       "      <th></th>\n",
       "      <th></th>\n",
       "      <th></th>\n",
       "      <th></th>\n",
       "      <th></th>\n",
       "      <th></th>\n",
       "      <th></th>\n",
       "    </tr>\n",
       "  </thead>\n",
       "  <tbody>\n",
       "    <tr>\n",
       "      <th>4</th>\n",
       "      <th>0</th>\n",
       "      <td>-0.171242</td>\n",
       "      <td>-0.824249</td>\n",
       "      <td>-0.330941</td>\n",
       "      <td>-0.202360</td>\n",
       "      <td>0.348770</td>\n",
       "      <td>-0.120820</td>\n",
       "      <td>0.042734</td>\n",
       "      <td>-0.758602</td>\n",
       "      <td>-0.287811</td>\n",
       "      <td>-0.200462</td>\n",
       "      <td>0.921802</td>\n",
       "      <td>-0.173510</td>\n",
       "      <td>0.0</td>\n",
       "      <td>0.0</td>\n",
       "      <td>1.501105</td>\n",
       "      <td>0.306662</td>\n",
       "      <td>-0.398171</td>\n",
       "      <td>0.0</td>\n",
       "      <td>-0.584849</td>\n",
       "      <td>0.710907</td>\n",
       "      <td>0.354783</td>\n",
       "      <td>0.191665</td>\n",
       "      <td>-0.910736</td>\n",
       "      <td>-0.115785</td>\n",
       "      <td>0.532726</td>\n",
       "      <td>-0.402026</td>\n",
       "      <td>0.0</td>\n",
       "      <td>0.429973</td>\n",
       "      <td>-0.158078</td>\n",
       "      <td>0.183659</td>\n",
       "      <td>-0.354140</td>\n",
       "      <td>-1.225641</td>\n",
       "      <td>-0.096368</td>\n",
       "      <td>0.408233</td>\n",
       "      <td>-0.475392</td>\n",
       "      <td>-0.414082</td>\n",
       "      <td>-0.186672</td>\n",
       "      <td>-0.169271</td>\n",
       "      <td>-1.323230</td>\n",
       "      <td>1.134114</td>\n",
       "    </tr>\n",
       "    <tr>\n",
       "      <th>33</th>\n",
       "      <th>0</th>\n",
       "      <td>1.660973</td>\n",
       "      <td>-0.317773</td>\n",
       "      <td>2.299771</td>\n",
       "      <td>1.630072</td>\n",
       "      <td>0.348770</td>\n",
       "      <td>-1.434568</td>\n",
       "      <td>0.250460</td>\n",
       "      <td>-0.292485</td>\n",
       "      <td>-0.134892</td>\n",
       "      <td>-0.419155</td>\n",
       "      <td>0.358203</td>\n",
       "      <td>-1.580235</td>\n",
       "      <td>0.0</td>\n",
       "      <td>1.0</td>\n",
       "      <td>-0.888076</td>\n",
       "      <td>-0.434814</td>\n",
       "      <td>-0.249566</td>\n",
       "      <td>0.0</td>\n",
       "      <td>-0.243049</td>\n",
       "      <td>-1.325479</td>\n",
       "      <td>-0.679400</td>\n",
       "      <td>-0.261980</td>\n",
       "      <td>1.136444</td>\n",
       "      <td>-0.210368</td>\n",
       "      <td>-0.496049</td>\n",
       "      <td>-1.278374</td>\n",
       "      <td>1.0</td>\n",
       "      <td>-0.794722</td>\n",
       "      <td>-0.140721</td>\n",
       "      <td>-0.024151</td>\n",
       "      <td>-0.929795</td>\n",
       "      <td>1.023372</td>\n",
       "      <td>-0.893547</td>\n",
       "      <td>-0.441476</td>\n",
       "      <td>-0.110263</td>\n",
       "      <td>-0.299008</td>\n",
       "      <td>-0.272538</td>\n",
       "      <td>1.163270</td>\n",
       "      <td>-0.337515</td>\n",
       "      <td>0.567798</td>\n",
       "    </tr>\n",
       "    <tr>\n",
       "      <th>43</th>\n",
       "      <th>0</th>\n",
       "      <td>0.383042</td>\n",
       "      <td>-0.486598</td>\n",
       "      <td>0.431810</td>\n",
       "      <td>-0.919399</td>\n",
       "      <td>-0.263593</td>\n",
       "      <td>1.110833</td>\n",
       "      <td>-0.372716</td>\n",
       "      <td>0.329004</td>\n",
       "      <td>-0.823029</td>\n",
       "      <td>-0.499491</td>\n",
       "      <td>1.414947</td>\n",
       "      <td>0.721679</td>\n",
       "      <td>0.0</td>\n",
       "      <td>1.0</td>\n",
       "      <td>0.398406</td>\n",
       "      <td>-1.020190</td>\n",
       "      <td>-0.398171</td>\n",
       "      <td>0.0</td>\n",
       "      <td>-0.243049</td>\n",
       "      <td>0.654341</td>\n",
       "      <td>-0.845185</td>\n",
       "      <td>0.312637</td>\n",
       "      <td>-1.788099</td>\n",
       "      <td>0.971924</td>\n",
       "      <td>0.532726</td>\n",
       "      <td>1.000131</td>\n",
       "      <td>0.0</td>\n",
       "      <td>0.225857</td>\n",
       "      <td>-0.470502</td>\n",
       "      <td>-1.271009</td>\n",
       "      <td>0.797168</td>\n",
       "      <td>0.410005</td>\n",
       "      <td>-0.694252</td>\n",
       "      <td>0.788361</td>\n",
       "      <td>0.985125</td>\n",
       "      <td>-0.460111</td>\n",
       "      <td>1.015477</td>\n",
       "      <td>1.621331</td>\n",
       "      <td>0.429153</td>\n",
       "      <td>0.001481</td>\n",
       "    </tr>\n",
       "    <tr>\n",
       "      <th>55</th>\n",
       "      <th>0</th>\n",
       "      <td>-0.024973</td>\n",
       "      <td>-0.233360</td>\n",
       "      <td>0.727570</td>\n",
       "      <td>-0.031654</td>\n",
       "      <td>0.654952</td>\n",
       "      <td>-0.326097</td>\n",
       "      <td>-0.372716</td>\n",
       "      <td>1.105866</td>\n",
       "      <td>0.782624</td>\n",
       "      <td>-0.008282</td>\n",
       "      <td>-0.487191</td>\n",
       "      <td>-0.237452</td>\n",
       "      <td>0.0</td>\n",
       "      <td>0.0</td>\n",
       "      <td>0.398406</td>\n",
       "      <td>-1.020190</td>\n",
       "      <td>0.043779</td>\n",
       "      <td>1.0</td>\n",
       "      <td>-0.413949</td>\n",
       "      <td>-0.250719</td>\n",
       "      <td>-0.785976</td>\n",
       "      <td>-0.035112</td>\n",
       "      <td>0.083609</td>\n",
       "      <td>-1.014327</td>\n",
       "      <td>0.532726</td>\n",
       "      <td>-0.752565</td>\n",
       "      <td>0.0</td>\n",
       "      <td>-0.386491</td>\n",
       "      <td>-0.453145</td>\n",
       "      <td>-0.024151</td>\n",
       "      <td>-0.546025</td>\n",
       "      <td>-0.013588</td>\n",
       "      <td>-1.092842</td>\n",
       "      <td>-0.553282</td>\n",
       "      <td>0.985125</td>\n",
       "      <td>0.024545</td>\n",
       "      <td>-1.045349</td>\n",
       "      <td>-0.294196</td>\n",
       "      <td>-0.008943</td>\n",
       "      <td>-0.616318</td>\n",
       "    </tr>\n",
       "    <tr>\n",
       "      <th>65</th>\n",
       "      <th>0</th>\n",
       "      <td>0.914230</td>\n",
       "      <td>-0.866455</td>\n",
       "      <td>0.392894</td>\n",
       "      <td>1.470730</td>\n",
       "      <td>0.961134</td>\n",
       "      <td>0.761849</td>\n",
       "      <td>0.250460</td>\n",
       "      <td>0.639749</td>\n",
       "      <td>-1.128868</td>\n",
       "      <td>-0.539659</td>\n",
       "      <td>0.005954</td>\n",
       "      <td>0.274085</td>\n",
       "      <td>0.0</td>\n",
       "      <td>1.0</td>\n",
       "      <td>0.765972</td>\n",
       "      <td>-0.005539</td>\n",
       "      <td>-0.249566</td>\n",
       "      <td>0.0</td>\n",
       "      <td>-0.356983</td>\n",
       "      <td>-0.872948</td>\n",
       "      <td>-0.182045</td>\n",
       "      <td>-0.035112</td>\n",
       "      <td>-2.139045</td>\n",
       "      <td>1.208383</td>\n",
       "      <td>0.875651</td>\n",
       "      <td>0.868679</td>\n",
       "      <td>0.0</td>\n",
       "      <td>0.021741</td>\n",
       "      <td>0.058884</td>\n",
       "      <td>-1.271009</td>\n",
       "      <td>-0.162256</td>\n",
       "      <td>-0.013588</td>\n",
       "      <td>-1.092842</td>\n",
       "      <td>0.766002</td>\n",
       "      <td>0.985125</td>\n",
       "      <td>-0.287500</td>\n",
       "      <td>1.788288</td>\n",
       "      <td>1.829540</td>\n",
       "      <td>-0.447039</td>\n",
       "      <td>0.155931</td>\n",
       "    </tr>\n",
       "  </tbody>\n",
       "</table>\n",
       "</div>"
      ],
      "text/plain": [
       "                     wbc       bun  platelet   lactate  first_spo2_mean  \\\n",
       "case timepoint                                                            \n",
       "4    0         -0.171242 -0.824249 -0.330941 -0.202360         0.348770   \n",
       "33   0          1.660973 -0.317773  2.299771  1.630072         0.348770   \n",
       "43   0          0.383042 -0.486598  0.431810 -0.919399        -0.263593   \n",
       "55   0         -0.024973 -0.233360  0.727570 -0.031654         0.654952   \n",
       "65   0          0.914230 -0.866455  0.392894  1.470730         0.961134   \n",
       "\n",
       "                first_meanbp_mean  bicarbonate  chloride  phosphate       ptt  \\\n",
       "case timepoint                                                                  \n",
       "4    0                  -0.120820     0.042734 -0.758602  -0.287811 -0.200462   \n",
       "33   0                  -1.434568     0.250460 -0.292485  -0.134892 -0.419155   \n",
       "43   0                   1.110833    -0.372716  0.329004  -0.823029 -0.499491   \n",
       "55   0                  -0.326097    -0.372716  1.105866   0.782624 -0.008282   \n",
       "65   0                   0.761849     0.250460  0.639749  -1.128868 -0.539659   \n",
       "\n",
       "                first_tempc_mean  first_diasbp_mean  pulmonary_circulation  \\\n",
       "case timepoint                                                               \n",
       "4    0                  0.921802          -0.173510                    0.0   \n",
       "33   0                  0.358203          -1.580235                    0.0   \n",
       "43   0                  1.414947           0.721679                    0.0   \n",
       "55   0                 -0.487191          -0.237452                    0.0   \n",
       "65   0                  0.005954           0.274085                    0.0   \n",
       "\n",
       "                gender  last_resprate_mean  last_glucose_mean       inr  \\\n",
       "case timepoint                                                            \n",
       "4    0             0.0            1.501105           0.306662 -0.398171   \n",
       "33   0             1.0           -0.888076          -0.434814 -0.249566   \n",
       "43   0             1.0            0.398406          -1.020190 -0.398171   \n",
       "55   0             0.0            0.398406          -1.020190  0.043779   \n",
       "65   0             1.0            0.765972          -0.005539 -0.249566   \n",
       "\n",
       "                congestive_heart_failure  creatinine  last_heartrate_mean  \\\n",
       "case timepoint                                                              \n",
       "4    0                               0.0   -0.584849             0.710907   \n",
       "33   0                               0.0   -0.243049            -1.325479   \n",
       "43   0                               0.0   -0.243049             0.654341   \n",
       "55   0                               1.0   -0.413949            -0.250719   \n",
       "65   0                               0.0   -0.356983            -0.872948   \n",
       "\n",
       "                first_glucose_mean  bilirubin       age  last_sysbp_mean  \\\n",
       "case timepoint                                                             \n",
       "4    0                    0.354783   0.191665 -0.910736        -0.115785   \n",
       "33   0                   -0.679400  -0.261980  1.136444        -0.210368   \n",
       "43   0                   -0.845185   0.312637 -1.788099         0.971924   \n",
       "55   0                   -0.785976  -0.035112  0.083609        -1.014327   \n",
       "65   0                   -0.182045  -0.035112 -2.139045         1.208383   \n",
       "\n",
       "                last_spo2_mean  first_sysbp_mean  chronic_pulmonary  \\\n",
       "case timepoint                                                        \n",
       "4    0                0.532726         -0.402026                0.0   \n",
       "33   0               -0.496049         -1.278374                1.0   \n",
       "43   0                0.532726          1.000131                0.0   \n",
       "55   0                0.532726         -0.752565                0.0   \n",
       "65   0                0.875651          0.868679                0.0   \n",
       "\n",
       "                last_diasbp_mean   glucose  aniongap  first_resprate_mean  \\\n",
       "case timepoint                                                              \n",
       "4    0                  0.429973 -0.158078  0.183659            -0.354140   \n",
       "33   0                 -0.794722 -0.140721 -0.024151            -0.929795   \n",
       "43   0                  0.225857 -0.470502 -1.271009             0.797168   \n",
       "55   0                 -0.386491 -0.453145 -0.024151            -0.546025   \n",
       "65   0                  0.021741  0.058884 -1.271009            -0.162256   \n",
       "\n",
       "                 albumin  magnesium  last_meanbp_mean    sodium        pt  \\\n",
       "case timepoint                                                              \n",
       "4    0         -1.225641  -0.096368          0.408233 -0.475392 -0.414082   \n",
       "33   0          1.023372  -0.893547         -0.441476 -0.110263 -0.299008   \n",
       "43   0          0.410005  -0.694252          0.788361  0.985125 -0.460111   \n",
       "55   0         -0.013588  -1.092842         -0.553282  0.985125  0.024545   \n",
       "65   0         -0.013588  -1.092842          0.766002  0.985125 -0.287500   \n",
       "\n",
       "                last_tempc_mean  hemoglobin  potassium  first_heartrate_mean  \n",
       "case timepoint                                                                \n",
       "4    0                -0.186672   -0.169271  -1.323230              1.134114  \n",
       "33   0                -0.272538    1.163270  -0.337515              0.567798  \n",
       "43   0                 1.015477    1.621331   0.429153              0.001481  \n",
       "55   0                -1.045349   -0.294196  -0.008943             -0.616318  \n",
       "65   0                 1.788288    1.829540  -0.447039              0.155931  "
      ]
     },
     "execution_count": 50,
     "metadata": {},
     "output_type": "execute_result"
    }
   ],
   "source": [
    "xst_valid.head()"
   ]
  },
  {
   "cell_type": "code",
   "execution_count": 61,
   "metadata": {},
   "outputs": [
    {
     "data": {
      "text/plain": [
       "(1666, 417)"
      ]
     },
     "execution_count": 61,
     "metadata": {},
     "output_type": "execute_result"
    }
   ],
   "source": [
    "y = Y_valid.reset_index()\n",
    "y0 = y[y['label'] == 0].index.values\n",
    "y1 = y[y['label'] == 1].index.values\n",
    "len(y0), len(y1)"
   ]
  },
  {
   "cell_type": "code",
   "execution_count": 65,
   "metadata": {},
   "outputs": [
    {
     "data": {
      "text/plain": [
       "((1666, 40), (417, 40))"
      ]
     },
     "execution_count": 65,
     "metadata": {},
     "output_type": "execute_result"
    }
   ],
   "source": [
    "sh0 = shap_values[y0,:]\n",
    "sh1 = shap_values[y1,:]\n",
    "sh0.shape, sh1.shape"
   ]
  },
  {
   "cell_type": "code",
   "execution_count": 72,
   "metadata": {},
   "outputs": [],
   "source": [
    "shaps0 = {x[1]:x[0] for x in zip(list(np.abs(sh0).mean(0)), list(xst_valid.columns))}\n",
    "shaps0 = pd.DataFrame.from_dict(shaps0, orient='index', columns=['shap']).\\\n",
    "    reset_index().rename(columns={'index': 'feature'})\n",
    "shaps0['label'] = 0\n",
    "\n",
    "shaps1 = {x[1]:x[0] for x in zip(list(np.abs(sh1).mean(0)), list(xst_valid.columns))}\n",
    "shaps1 = pd.DataFrame.from_dict(shaps1, orient='index', columns=['shap']).\\\n",
    "    reset_index().rename(columns={'index': 'feature'})\n",
    "shaps1['label'] = 1\n",
    "\n",
    "shaps = pd.concat([shaps0, shaps1], axis=0)"
   ]
  },
  {
   "cell_type": "code",
   "execution_count": 75,
   "metadata": {},
   "outputs": [
    {
     "data": {
      "text/plain": [
       "80"
      ]
     },
     "execution_count": 75,
     "metadata": {},
     "output_type": "execute_result"
    }
   ],
   "source": [
    "len(shaps)"
   ]
  },
  {
   "cell_type": "code",
   "execution_count": 48,
   "metadata": {},
   "outputs": [
    {
     "data": {
      "text/plain": [
       "(40,)"
      ]
     },
     "execution_count": 48,
     "metadata": {},
     "output_type": "execute_result"
    }
   ],
   "source": [
    "np.abs(shap_values).mean(0).shape"
   ]
  },
  {
   "cell_type": "code",
   "execution_count": 76,
   "metadata": {},
   "outputs": [],
   "source": [
    "# shaps = {x[1]:x[0] for x in zip(list(np.abs(shap_values).mean(0)), list(xst_valid.columns))}\n",
    "# shaps = pd.DataFrame.from_dict(shaps, orient='index', columns=['shap']).\\\n",
    "#     reset_index().rename(columns={'index': 'feature'})"
   ]
  },
  {
   "cell_type": "code",
   "execution_count": 77,
   "metadata": {},
   "outputs": [],
   "source": [
    "# shaps.head()"
   ]
  },
  {
   "cell_type": "code",
   "execution_count": 18,
   "metadata": {},
   "outputs": [],
   "source": [
    "bool_cols = [col for col in list(xst_valid.columns) \n",
    "             if df_ml[col].dropna().value_counts().index.isin([0,1]).all()]\n",
    "non_bool_cols = [col for col in list(xst_valid.columns) \n",
    "                 if col not in bool_cols]"
   ]
  },
  {
   "cell_type": "code",
   "execution_count": 23,
   "metadata": {},
   "outputs": [],
   "source": [
    "lime.lime_tabular.LimeTabularExplainer?"
   ]
  },
  {
   "cell_type": "code",
   "execution_count": 19,
   "metadata": {},
   "outputs": [
    {
     "data": {
      "text/html": [
       "[12, 13, 17, 26]"
      ],
      "text/plain": [
       "[12, 13, 17, 26]"
      ]
     },
     "execution_count": 19,
     "metadata": {},
     "output_type": "execute_result"
    }
   ],
   "source": [
    "feats = list(xst_train.columns)\n",
    "feats == list(xst_valid.columns)\n",
    "categorical_features = [feats.index(x) for x in bool_cols]\n",
    "categorical_features"
   ]
  },
  {
   "cell_type": "code",
   "execution_count": 26,
   "metadata": {},
   "outputs": [],
   "source": [
    "# from sklearn import preprocessing \n",
    "# train = xst_train.copy()\n",
    "# for f in xst_train.columns: \n",
    "#     if xst_train[f].dtype=='object': \n",
    "#         lbl = preprocessing.LabelEncoder() \n",
    "#         lbl.fit(list(xst_train[f].values)) \n",
    "#         train[f] = lbl.transform(list(train[f].values))\n",
    "\n",
    "# test = xst_valid.copy()\n",
    "# for f in xst_valid.columns: \n",
    "#     if xst_valid[f].dtype=='object': \n",
    "#         lbl = preprocessing.LabelEncoder() \n",
    "#         lbl.fit(list(xst_valid[f].values)) \n",
    "#         test[f] = lbl.transform(list(test[f].values))\n",
    "\n",
    "# train.fillna((-999), inplace=True) \n",
    "# test.fillna((-999), inplace=True)\n",
    "\n",
    "# train = np.array(train) \n",
    "# test = np.array(test) \n",
    "# train = train.astype(float) \n",
    "# test = test.astype(float)"
   ]
  },
  {
   "cell_type": "code",
   "execution_count": 55,
   "metadata": {},
   "outputs": [],
   "source": [
    "# train.shape, test.shape, test[0,:].shape"
   ]
  },
  {
   "cell_type": "code",
   "execution_count": 27,
   "metadata": {},
   "outputs": [],
   "source": [
    "explainer = lime.lime_tabular.LimeTabularExplainer(train,\n",
    "                                                   feature_names=xst_train.columns.to_list(),\n",
    "                                                   categorical_features=categorical_features, \n",
    "                                                   categorical_names=bool_cols, \n",
    "                                                   kernel_width=3, \n",
    "                                                   discretize_continuous=False)"
   ]
  },
  {
   "cell_type": "code",
   "execution_count": 54,
   "metadata": {},
   "outputs": [],
   "source": [
    "# exp = explainer.explain_instance(test[0,:], xg.predict_proba)"
   ]
  },
  {
   "cell_type": "code",
   "execution_count": null,
   "metadata": {},
   "outputs": [],
   "source": [
    "from lime import submodular_pick\n",
    "sp_obj = submodular_pick.SubmodularPick(lime_explainer, \n",
    "                                        xst_train.values, \n",
    "                                        xg.predict_proba, \n",
    "                                        sample_size=500, \n",
    "                                        num_features=41, \n",
    "                                        num_exps_desired=5)\n",
    "#Plot the 5 explanations\n",
    "[exp.as_pyplot_figure(label=exp.available_labels()[0]) for exp in sp_obj.sp_explanations];\n",
    "# Make it into a dataframe\n",
    "W_pick = pd.DataFrame([dict(this.as_list(this.available_labels()[0])) for this in sp_obj.sp_explanations]).fillna(0)\n",
    " \n",
    "W_pick['prediction'] = [this.available_labels()[0] for this in sp_obj.sp_explanations]\n",
    " \n",
    "#Making a dataframe of all the explanations of sampled points\n",
    "W = pd.DataFrame([dict(this.as_list(this.available_labels()[0])) for this in sp_obj.explanations]).fillna(0)\n",
    "W['prediction'] = [this.available_labels()[0] for this in sp_obj.explanations]\n",
    " \n",
    "#Plotting the aggregate importances\n",
    "np.abs(W.drop(\"prediction\", axis=1)).mean(axis=0).sort_values(ascending=False).head(\n",
    "    25\n",
    ").sort_values(ascending=True).iplot(kind=\"barh\")\n",
    " \n",
    "#Aggregate importances split by classes\n",
    "grped_coeff = W.groupby(\"prediction\").mean()\n",
    " \n",
    "grped_coeff = grped_coeff.T\n",
    "grped_coeff[\"abs\"] = np.abs(grped_coeff.iloc[:, 0])\n",
    "grped_coeff.sort_values(\"abs\", inplace=True, ascending=False)\n",
    "grped_coeff.head(25).sort_values(\"abs\", ascending=True).drop(\"abs\", axis=1).iplot(\n",
    "    kind=\"barh\", bargap=0.5\n",
    ") "
   ]
  },
  {
   "cell_type": "code",
   "execution_count": 78,
   "metadata": {},
   "outputs": [],
   "source": [
    "def most_abnormal(x, features):\n",
    "    res = None\n",
    "    feat = None\n",
    "    for f in features:\n",
    "        if res is None or abs(x[f]) > res:\n",
    "            res = abs(x[f])\n",
    "            feat = f\n",
    "    return feat\n",
    "\n",
    "def get_magecs(lr, sv, mlp, xst_valid, Ydata, baseline=None):\n",
    "    magecs_lr = mg.case_magecs(lr, xst_valid, model_name='lr', baseline=baseline)\n",
    "    magecs_lr = mg.normalize_magecs(magecs_lr, features=None, model_name='lr')\n",
    "\n",
    "    magecs_svm = mg.case_magecs(sv, xst_valid, model_name='svm', baseline=baseline)\n",
    "    magecs_svm = mg.normalize_magecs(magecs_svm, features=None, model_name='svm')\n",
    "\n",
    "    magecs_mlp = mg.case_magecs(mlp, xst_valid, model_name='mlp', baseline=baseline)\n",
    "    magecs_mlp = mg.normalize_magecs(magecs_mlp, features=None, model_name='mlp')\n",
    "    \n",
    "    feats = list(xst_valid.columns)\n",
    "    \n",
    "    joined = mg.magec_models(magecs_mlp, magecs_svm, magecs_lr, \n",
    "                             Xdata=xst_valid, Ydata=Ydata['label'], features=feats)\n",
    "    \n",
    "    prob_cols = [c for c in joined.columns if c.startswith('perturb') and '_'.join(c.split('_')[1:-2]) in feats]\n",
    "    joined['orig_prob_ensemble'] = joined[['orig_prob_mlp', 'orig_prob_lr', 'orig_prob_svm']].apply(np.mean, 1)\n",
    "    joined[['best_feat', 'new_risk', 'rank_feat', 'rank_val', 'top_rank_prob']] = joined.apply(\n",
    "        lambda x: mimic.best_feature(x, prob_cols), axis=1)\n",
    "    joined['most_abnormal'] = joined.apply(lambda x: most_abnormal(x, feats), axis=1)\n",
    "    \n",
    "    ranks = mg.magec_rank(joined, rank=len(feats), features=feats, models=('mlp', 'lr', 'svm'))\n",
    "    \n",
    "    rbos = mg.magec_rbos(ranks, models=('mlp', 'lr', 'svm'))\n",
    "    rbos['rbo'] = rbos[['mlp_lr', 'svm_lr', 'svm_mlp']].apply(np.mean, 1)\n",
    "    \n",
    "    consensus = mg.magec_consensus(ranks, models=('mlp', 'lr', 'svm'))\n",
    "    \n",
    "    consensus = consensus.merge(Ydata.reset_index()[['case','label']], left_on='case', right_on='case')\n",
    "    \n",
    "    consensus = consensus.merge(rbos[['rbo', 'case']], left_on='case', right_on='case')\n",
    "    \n",
    "    return joined, ranks, consensus"
   ]
  },
  {
   "cell_type": "code",
   "execution_count": 79,
   "metadata": {},
   "outputs": [],
   "source": [
    "joined_zero, ranks_zero, consensus_zero = get_magecs(lr, sv, mlp, xst_valid, Y_valid, baseline=None)"
   ]
  },
  {
   "cell_type": "code",
   "execution_count": 141,
   "metadata": {},
   "outputs": [],
   "source": [
    "def plot_feat_importance(consensus, shaps, feats=None, save=''):\n",
    "    if feats is not None:\n",
    "        df = consensus[np.isin(consensus['winner'], feats)]\n",
    "    else:\n",
    "        df = consensus\n",
    "    \n",
    "    sh1 = shaps[shaps['label']==1]\n",
    "    sh0 = shaps[shaps['label']==0]\n",
    "    \n",
    "    df1 = df[df['label']==1]\n",
    "    df0 = df[df['label']==0]\n",
    "    \n",
    "    order1 = list(df1.winner.value_counts().index.values)\n",
    "    order0 = list(df0.winner.value_counts().index.values)\n",
    "    \n",
    "    a4_dims = (20, 20)\n",
    "    \n",
    "    fig, ax = plt.subplots(nrows=2, ncols=2, sharey=True, figsize=a4_dims)\n",
    "    \n",
    "    sns.countplot(y=\"winner\", \n",
    "                  palette=\"pastel\", \n",
    "                  edgecolor=\".6\",\n",
    "                  data=df1, \n",
    "                  order=order1,\n",
    "                  ax=ax[0][0]);\n",
    "    \n",
    "    sns.countplot(y=\"winner\", \n",
    "                  palette=\"pastel\", \n",
    "                  edgecolor=\".6\",\n",
    "                  data=df0, \n",
    "                  order=order0,\n",
    "                  ax=ax[1][0]);\n",
    "\n",
    "    sns.barplot(x='shap', \n",
    "                y='feature' ,\n",
    "                data=sh1, \n",
    "                order=order1,\n",
    "                palette=\"pastel\", \n",
    "                edgecolor=\".6\",\n",
    "                ax=ax[0][1]);\n",
    "    \n",
    "    sns.barplot(x='shap', \n",
    "                y='feature' ,\n",
    "                data=sh0, \n",
    "                order=order0,\n",
    "                palette=\"pastel\", \n",
    "                edgecolor=\".6\",\n",
    "                ax=ax[1][1]);\n",
    "    \n",
    "    ax[0][0].set_title('Top MAgEC Feature for Label=1')\n",
    "    ax[1][0].set_title('Top MAgEC Feature for Label=0')\n",
    "    ax[0][0].set_ylabel('Top Magec')\n",
    "    ax[1][0].set_ylabel('Top Magec')\n",
    "    \n",
    "    ax[0][1].set_title('Feature importance using SHAP for Label=1')\n",
    "    ax[1][1].set_title('Feature importance using SHAP for Label=0')\n",
    "    ax[0][1].set_xlabel('mean(|SHAP value|)')\n",
    "    ax[1][1].set_xlabel('mean(|SHAP value|)')\n",
    "    ax[0][1].set_ylabel('')\n",
    "    ax[1][1].set_ylabel('')\n",
    "    \n",
    "    ax[0][0].grid('on')\n",
    "    ax[0][1].grid('on')\n",
    "    ax[1][0].grid('on')\n",
    "    ax[1][1].grid('on')\n",
    "    \n",
    "#     ax[0][0].legend(['label 1'], loc='center right', fontsize='x-large')\n",
    "#     ax[1][0].legend(['label 0'], loc='center right', fontsize='x-large')\n",
    "#     ax[0][1].legend(['label 1'], loc='center right', fontsize='x-large')\n",
    "#     ax[1][1].legend(['label 0'], loc='center right', fontsize='x-large')\n",
    "    \n",
    "    for item in ([ax[0][0].title, ax[0][1].title, ax[0][0].xaxis.label, ax[0][0].yaxis.label] + \n",
    "                 [ax[1][0].title, ax[1][1].title, ax[0][1].xaxis.label, ax[0][1].yaxis.label] + \n",
    "                 [ax[1][0].xaxis.label, ax[1][0].yaxis.label, ax[1][1].xaxis.label, ax[1][1].yaxis.label] + \n",
    "                 ax[0][0].get_xticklabels() + ax[0][0].get_yticklabels() + \n",
    "                 ax[0][1].get_xticklabels() + ax[0][1].get_yticklabels() + \n",
    "                 ax[1][1].get_xticklabels() + ax[1][1].get_yticklabels() + \n",
    "                 ax[1][0].get_xticklabels() + ax[1][0].get_yticklabels()):\n",
    "        item.set_fontsize(20)\n",
    "        \n",
    "    plt.tight_layout()\n",
    "\n",
    "    if save:\n",
    "        fig.savefig(save, bbox_inches='tight')"
   ]
  },
  {
   "cell_type": "code",
   "execution_count": 142,
   "metadata": {},
   "outputs": [
    {
     "data": {
      "image/png": "[encoded data removed]",
      "text/plain": [
       "<Figure size 1440x1440 with 4 Axes>"
      ]
     },
     "metadata": {
      "needs_background": "light"
     },
     "output_type": "display_data"
    }
   ],
   "source": [
    "plot_feat_importance(consensus_zero, shaps, save='magec_shap_splits.png')"
   ]
  },
  {
   "cell_type": "code",
   "execution_count": null,
   "metadata": {},
   "outputs": [],
   "source": [
    "def plot_feat_importance2(consensus, shaps, title='', feats=None, save=''):\n",
    "    if feats is not None:\n",
    "        df = consensus[np.isin(consensus['winner'], feats)]\n",
    "    else:\n",
    "        df = consensus\n",
    "    order = list(df[df['label']==1][['winner']].winner.value_counts().index.values)\n",
    "    \n",
    "    a4_dims = (28, 12)\n",
    "    fig, ax = plt.subplots(nrows=1, ncols=2, sharey=True, figsize=a4_dims)\n",
    "    \n",
    "    sns.countplot(y=\"winner\", \n",
    "                  hue=\"label\", \n",
    "                  palette=\"pastel\", \n",
    "                  edgecolor=\".6\",\n",
    "                  data=df, \n",
    "                  order=order,\n",
    "                  ax=ax[0]);\n",
    "\n",
    "    sns.barplot(x='shap', \n",
    "                y='feature' ,\n",
    "                data=shaps, \n",
    "                order=order,\n",
    "                palette=\"pastel\", \n",
    "                edgecolor=\".6\",\n",
    "                ax=ax[1]);\n",
    "    \n",
    "    ax[1].set_ylabel('')\n",
    "    ax[0].set_title('Top MAgEC Feature' + title)\n",
    "    ax[0].set_ylabel('Top Magec')\n",
    "    ax[1].set_xlabel('mean(|SHAP value|)')\n",
    "    ax[1].set_title('Feature importance using SHAP')\n",
    "    \n",
    "    ax[0].grid('on')\n",
    "    ax[1].grid('on')\n",
    "    \n",
    "    for item in ([ax[0].title, ax[0].xaxis.label, ax[0].yaxis.label] +\n",
    "             ax[0].get_xticklabels() + ax[0].get_yticklabels()):\n",
    "        item.set_fontsize(21)\n",
    "        \n",
    "    for item in ([ax[1].title, ax[1].xaxis.label, ax[1].yaxis.label] +\n",
    "             ax[1].get_xticklabels() + ax[1].get_yticklabels()):\n",
    "        item.set_fontsize(21)\n",
    "    \n",
    "    plt.tight_layout()\n",
    "\n",
    "    if save:\n",
    "        fig.savefig(save, bbox_inches='tight')"
   ]
  },
  {
   "cell_type": "code",
   "execution_count": null,
   "metadata": {},
   "outputs": [],
   "source": [
    "plot_feat_importance(consensus_zero, shaps, save='magec_shap.png')"
   ]
  },
  {
   "cell_type": "code",
   "execution_count": null,
   "metadata": {},
   "outputs": [],
   "source": [
    "consensus_zero.head()"
   ]
  },
  {
   "cell_type": "code",
   "execution_count": null,
   "metadata": {},
   "outputs": [],
   "source": [
    "ranks_zero.head()"
   ]
  },
  {
   "cell_type": "code",
   "execution_count": null,
   "metadata": {},
   "outputs": [],
   "source": [
    "joined_p5, ranks_p5, consensus_p5 = get_magecs(lr, sv, mlp, xst_valid, Y_valid, baseline=0.5)"
   ]
  },
  {
   "cell_type": "code",
   "execution_count": null,
   "metadata": {},
   "outputs": [],
   "source": [
    "joined_p3, ranks_p3, consensus_p3 = get_magecs(lr, sv, mlp, xst_valid, Y_valid, baseline=0.3)"
   ]
  },
  {
   "cell_type": "code",
   "execution_count": null,
   "metadata": {},
   "outputs": [],
   "source": [
    "joined_p1, ranks_p1, consensus_p1 = get_magecs(lr, sv, mlp, xst_valid, Y_valid, baseline=0.1)"
   ]
  },
  {
   "cell_type": "code",
   "execution_count": null,
   "metadata": {},
   "outputs": [],
   "source": [
    "def plot_consensus(consensus, score=False, title='', feats=None, save=''):\n",
    "    if feats is not None:\n",
    "        df = consensus[np.isin(consensus['winner'], feats)]\n",
    "    else:\n",
    "        df = consensus\n",
    "    order = list(df[df['label']==1][['winner']].winner.value_counts().index.values)\n",
    "    \n",
    "    a4_dims = (28, 12)\n",
    "    fig, ax = plt.subplots(nrows=1, ncols=2, sharey=True, figsize=a4_dims)\n",
    "    \n",
    "    if score:\n",
    "        sns.barplot(x='score', \n",
    "                    y='winner',\n",
    "                    hue=\"label\",\n",
    "                    data=df, \n",
    "                    order=order,\n",
    "                    palette=\"pastel\", \n",
    "                    edgecolor=\".6\",\n",
    "                    ax=ax[0]);\n",
    "    else:\n",
    "        sns.countplot(y=\"winner\", \n",
    "                      hue=\"label\", \n",
    "                      palette=\"pastel\", \n",
    "                      edgecolor=\".6\",\n",
    "                      data=df, \n",
    "                      order=order,\n",
    "                      ax=ax[0]);\n",
    "\n",
    "    sns.barplot(x='rbo', \n",
    "                y='winner' ,\n",
    "                data=df, \n",
    "                order=order,\n",
    "                palette=\"pastel\", \n",
    "                edgecolor=\".6\",\n",
    "                ax=ax[1]);\n",
    "    \n",
    "    ax[1].set_ylabel('')\n",
    "    ax[0].set_title('Top MAgEC Feature' + title)\n",
    "    ax[0].set_ylabel('Top Magec')\n",
    "    ax[1].set_xlabel('Average RBO')\n",
    "    ax[1].set_title('Top MAgEC Feature Average RBO')\n",
    "    \n",
    "    ax[0].grid('on')\n",
    "    ax[1].grid('on')\n",
    "    \n",
    "    for item in ([ax[0].title, ax[0].xaxis.label, ax[0].yaxis.label] +\n",
    "             ax[0].get_xticklabels() + ax[0].get_yticklabels()):\n",
    "        item.set_fontsize(21)\n",
    "        \n",
    "    for item in ([ax[1].title, ax[1].xaxis.label, ax[1].yaxis.label] +\n",
    "             ax[1].get_xticklabels() + ax[1].get_yticklabels()):\n",
    "        item.set_fontsize(21)\n",
    "    \n",
    "    plt.tight_layout()\n",
    "\n",
    "    if save:\n",
    "        fig.savefig(save, bbox_inches='tight')"
   ]
  },
  {
   "cell_type": "code",
   "execution_count": null,
   "metadata": {},
   "outputs": [],
   "source": [
    "# pd.DataFrame(consensus_zero.groupby(['winner'])['score'].mean()).reset_index()"
   ]
  },
  {
   "cell_type": "code",
   "execution_count": null,
   "metadata": {},
   "outputs": [],
   "source": [
    "# plot_consensus(consensus_zero, title=' (\"full\" perturbation)')"
   ]
  },
  {
   "cell_type": "code",
   "execution_count": null,
   "metadata": {},
   "outputs": [],
   "source": [
    "# plot_consensus(consensus_zero, title=' (\"full\" perturbation)', save='magec_top_rbo_full.png')"
   ]
  },
  {
   "cell_type": "code",
   "execution_count": null,
   "metadata": {},
   "outputs": [],
   "source": [
    "# plot_consensus(consensus_p5, title=' (\"0.5\" perturbation)', save='magec_top_rbo_p5.png')"
   ]
  },
  {
   "cell_type": "code",
   "execution_count": null,
   "metadata": {},
   "outputs": [],
   "source": [
    "# plot_consensus(consensus_p1, title=' (\"0.1\" perturbation)', save='magec_top_rbo_p1.png')"
   ]
  },
  {
   "cell_type": "code",
   "execution_count": null,
   "metadata": {},
   "outputs": [],
   "source": [
    "bool_cols = [col for col in list(xst_valid.columns) \n",
    "             if df_ml[col].dropna().value_counts().index.isin([0,1]).all()]\n",
    "non_bool_cols = [col for col in list(xst_valid.columns) \n",
    "                 if col not in bool_cols]"
   ]
  },
  {
   "cell_type": "code",
   "execution_count": null,
   "metadata": {},
   "outputs": [],
   "source": [
    "# plot_consensus(consensus_p1, non_bool_cols)"
   ]
  },
  {
   "cell_type": "code",
   "execution_count": null,
   "metadata": {},
   "outputs": [],
   "source": [
    "# plot_consensus(consensus_zero, non_bool_cols)"
   ]
  },
  {
   "cell_type": "code",
   "execution_count": null,
   "metadata": {},
   "outputs": [],
   "source": [
    "# consensus_zero.groupby(['winner'])['consensus'].agg(count=np.sum, mean=np.mean, std=np.std).\\\n",
    "#     sort_values('count', ascending=False).head(10)"
   ]
  },
  {
   "cell_type": "code",
   "execution_count": null,
   "metadata": {},
   "outputs": [],
   "source": [
    "# consensus_p5.groupby(['winner'])['consensus'].agg(count=np.sum, mean=np.mean, std=np.std).\\\n",
    "#     sort_values('count', ascending=False).head(10)"
   ]
  },
  {
   "cell_type": "code",
   "execution_count": null,
   "metadata": {},
   "outputs": [],
   "source": [
    "# consensus_p1.groupby(['winner'])['consensus'].agg(count=np.sum, mean=np.mean, std=np.std).\\\n",
    "#     sort_values('count', ascending=False).head(10)"
   ]
  },
  {
   "cell_type": "code",
   "execution_count": null,
   "metadata": {},
   "outputs": [],
   "source": [
    "c1 = consensus_zero[['case','winner','label','score']].copy()\n",
    "c1['perturb'] = 'full'\n",
    "\n",
    "c2 = consensus_p5[['case','winner','label','score']].copy()\n",
    "c2['perturb'] = '0.5'\n",
    "\n",
    "c3 = consensus_p3[['case','winner','label','score']].copy()\n",
    "c3['perturb'] = '0.3'\n",
    "\n",
    "c4 = consensus_p1[['case','winner','label','score']].copy()\n",
    "c4['perturb'] = '0.1'\n",
    "\n",
    "consens = pd.concat([c1, c2, c3, c4], axis=0)"
   ]
  },
  {
   "cell_type": "code",
   "execution_count": null,
   "metadata": {},
   "outputs": [],
   "source": [
    "len(consens) == 4 * len(consensus_zero)"
   ]
  },
  {
   "cell_type": "code",
   "execution_count": null,
   "metadata": {},
   "outputs": [],
   "source": [
    "consens.head()"
   ]
  },
  {
   "cell_type": "code",
   "execution_count": null,
   "metadata": {},
   "outputs": [],
   "source": [
    "consens = consens[np.isin(consens['winner'], non_bool_cols)]"
   ]
  },
  {
   "cell_type": "code",
   "execution_count": null,
   "metadata": {},
   "outputs": [],
   "source": [
    "def plot_sensitivity(consens, title='', topK=None, save=''):\n",
    "\n",
    "    \n",
    "    fig, ax = plt.subplots(nrows=1, ncols=2,figsize=(28, 12), sharey=True)\n",
    "        \n",
    "    df = consens\n",
    "    order = list(df[(df['label']==1)&(df['perturb']=='full')][['winner']].winner.value_counts().index.values) \n",
    "    if topK is not None:\n",
    "        order =  order[:topK]\n",
    "        df = df[np.isin(df['winner'], order)]\n",
    "        \n",
    "    sns.countplot(y=\"winner\", \n",
    "                  hue=\"perturb\", \n",
    "                  palette=\"pastel\", \n",
    "                  edgecolor=\".6\",\n",
    "                  data=df[df['label']==1], \n",
    "                  order=order,\n",
    "                  ax=ax[0]);\n",
    "    \n",
    "    sns.countplot(y=\"winner\", \n",
    "                  hue=\"perturb\", \n",
    "                  palette=\"pastel\", \n",
    "                  edgecolor=\".6\",\n",
    "                  data=df[df['label']==0], \n",
    "                  order=order,\n",
    "                  ax=ax[1]);\n",
    "        \n",
    "    \n",
    "    ax[0].set_title('Label=1' + title)\n",
    "    ax[0].set_ylabel('Top Magec')\n",
    "    ax[0].grid('on')\n",
    "    \n",
    "    ax[1].set_ylabel('')\n",
    "    ax[1].set_title('Label=0' + title)\n",
    "    ax[1].grid('on')\n",
    "    \n",
    "    for item in ([ax[0].title, ax[0].xaxis.label, ax[0].yaxis.label] +\n",
    "             ax[0].get_xticklabels() + ax[0].get_yticklabels()):\n",
    "        item.set_fontsize(21)\n",
    "        \n",
    "    for item in ([ax[1].title, ax[1].xaxis.label, ax[1].yaxis.label] +\n",
    "             ax[1].get_xticklabels() + ax[1].get_yticklabels()):\n",
    "        item.set_fontsize(21)\n",
    "    \n",
    "    plt.tight_layout()\n",
    "\n",
    "    if save:\n",
    "        fig.savefig(save, bbox_inches='tight')"
   ]
  },
  {
   "cell_type": "code",
   "execution_count": null,
   "metadata": {},
   "outputs": [],
   "source": [
    "plot_sensitivity(consens, topK=15, title=' (top 15 features)', save='magec_sensitivity.png')"
   ]
  },
  {
   "cell_type": "code",
   "execution_count": null,
   "metadata": {},
   "outputs": [],
   "source": [
    "def plot_rbo(df, save=''):\n",
    "    fig, ax = plt.subplots(nrows=1, ncols=1,figsize=(12, 14))\n",
    "    order = list(df.winner.value_counts().index.values)\n",
    "    sns.barplot(x='rbo', \n",
    "                y='winner' ,\n",
    "                data=df, \n",
    "                order=order,\n",
    "                palette=\"pastel\", \n",
    "                edgecolor=\".6\",\n",
    "                ci=None,\n",
    "                ax=ax);\n",
    "    ax.grid('on')\n",
    "    ax.set_title('MAgEC Average RBO')\n",
    "    ax.set_ylabel('Top MAgEC')\n",
    "    ax.set_xlabel('Average RBO from pairwise model RBOs')\n",
    "    for item in ([ax.title, ax.xaxis.label, ax.yaxis.label] +\n",
    "             ax.get_xticklabels() + ax.get_yticklabels()):\n",
    "        item.set_fontsize(21)\n",
    "    if save:\n",
    "        fig.savefig(save, bbox_inches='tight')"
   ]
  },
  {
   "cell_type": "code",
   "execution_count": null,
   "metadata": {},
   "outputs": [],
   "source": [
    "plot_rbo(consensus_zero, save='magec_rbos.png')"
   ]
  },
  {
   "cell_type": "code",
   "execution_count": null,
   "metadata": {},
   "outputs": [],
   "source": [
    "def rank_scores(ranks):\n",
    "    scores = {}\n",
    "    for (idx, row) in ranks.iterrows():\n",
    "        for i in range(1, 41):\n",
    "            for m in ('lr', 'svm', 'mlp'):\n",
    "                tmp = row[m + '_feat_' + str(i)]\n",
    "                if tmp != 'not_found':\n",
    "                    score = row[m + '_magec_' + str(i)]\n",
    "                    if tmp not in scores:\n",
    "                        scores[tmp] = abs(score)  # 1/i\n",
    "                    else:\n",
    "                        scores[tmp] += abs(score) # 1/i\n",
    "    scores = pd.DataFrame.from_dict(scores, orient='index')\n",
    "    scores = scores.reset_index()\n",
    "    scores.columns = ['feature', 'score']\n",
    "    return scores "
   ]
  },
  {
   "cell_type": "code",
   "execution_count": null,
   "metadata": {},
   "outputs": [],
   "source": [
    "ranks_zero_scores = rank_scores(ranks_zero)\n",
    "ranks_zero_scores['perturb'] = 'full'\n",
    "ranks_p5_scores = rank_scores(ranks_p5)\n",
    "ranks_p5_scores['perturb'] = '0.5'\n",
    "ranks_p1_scores = rank_scores(ranks_p1)\n",
    "ranks_p1_scores['perturb'] = '0.1'\n",
    "ranks_scores = pd.concat([ranks_zero_scores, ranks_p5_scores, ranks_p1_scores])"
   ]
  },
  {
   "cell_type": "code",
   "execution_count": null,
   "metadata": {},
   "outputs": [],
   "source": [
    "ranks_scores.head()"
   ]
  },
  {
   "cell_type": "code",
   "execution_count": null,
   "metadata": {},
   "outputs": [],
   "source": [
    "def bar_plot(df, score='score', feats=None, save=False,  topK=None):\n",
    "    if feats is not None:\n",
    "        df = df[np.isin(df['feature'], feats)]\n",
    "    else:\n",
    "        df = df\n",
    "    order = list(df.sort_values(score, ascending=False)['feature'].unique())\n",
    "    if topK is not None:\n",
    "        order =  order[:topK]\n",
    "        df = df[np.isin(df['feature'], order)]\n",
    "    #a4_dims = (11.7, 8.27)\n",
    "    a4_dims = (12, 20)\n",
    "    fig, ax = plt.subplots(figsize=a4_dims)\n",
    "    sns.barplot(x=score, y='feature', hue='perturb', \n",
    "                data=df, \n",
    "                order=order,\n",
    "                palette=\"pastel\", \n",
    "                edgecolor=\".6\",\n",
    "                ax=ax)\n",
    "    \n",
    "    for item in ([ax.title, ax.xaxis.label, ax.yaxis.label] +\n",
    "             ax.get_xticklabels() + ax.get_yticklabels()):\n",
    "        item.set_fontsize(21)\n",
    "        \n",
    "    if save:\n",
    "        fig.savefig(\"magec_ranks.png\", bbox_inches='tight')"
   ]
  },
  {
   "cell_type": "code",
   "execution_count": null,
   "metadata": {},
   "outputs": [],
   "source": [
    "bar_plot(ranks_scores, feats=non_bool_cols)"
   ]
  },
  {
   "cell_type": "code",
   "execution_count": null,
   "metadata": {},
   "outputs": [],
   "source": [
    "bar_plot(ranks_scores, feats=non_bool_cols, save=True)"
   ]
  },
  {
   "cell_type": "code",
   "execution_count": null,
   "metadata": {},
   "outputs": [],
   "source": [
    "bar_plot(ranks_scores, topK=10)"
   ]
  },
  {
   "cell_type": "code",
   "execution_count": null,
   "metadata": {},
   "outputs": [],
   "source": [
    "sns.barplot(x='', y='feature', hue='perturb', \n",
    "            data=df, \n",
    "                order=order,\n",
    "                palette=\"pastel\", \n",
    "                edgecolor=\".6\",\n",
    "                )"
   ]
  },
  {
   "cell_type": "code",
   "execution_count": null,
   "metadata": {},
   "outputs": [],
   "source": [
    "foo = pd.DataFrame(consensus_zero.groupby(['winner','label'])['rbo'].mean()).reset_index()\n",
    "order = list(foo.sort_values('rbo', ascending=False)['winner'].unique())"
   ]
  },
  {
   "cell_type": "code",
   "execution_count": null,
   "metadata": {},
   "outputs": [],
   "source": [
    "a4_dims = (12, 20)\n",
    "fig, ax = plt.subplots(figsize=a4_dims)\n",
    "sns.barplot(x='rbo', y='winner' ,\n",
    "            data=foo, \n",
    "            order=order,\n",
    "            palette=\"pastel\", \n",
    "            edgecolor=\".6\",\n",
    "            ax=ax);"
   ]
  },
  {
   "cell_type": "code",
   "execution_count": null,
   "metadata": {},
   "outputs": [],
   "source": [
    "a4_dims = (12, 20)\n",
    "fig, ax = plt.subplots(figsize=a4_dims)\n",
    "sns.barplot(x='rbo', y='winner' ,\n",
    "            data=consensus_zero, \n",
    "            order=order,\n",
    "            palette=\"pastel\", \n",
    "            edgecolor=\".6\",\n",
    "            ax=ax);"
   ]
  },
  {
   "cell_type": "code",
   "execution_count": null,
   "metadata": {},
   "outputs": [],
   "source": [
    "with open(\"shap_values\", \"rb\") as f:\n",
    "    shap_values = pickle.load(f)"
   ]
  },
  {
   "cell_type": "code",
   "execution_count": null,
   "metadata": {},
   "outputs": [],
   "source": [
    "plt.figure()\n",
    "shap.summary_plot(shap_values, plot_type=\"bar\", show=False)\n",
    "plt.savefig('mimic_svm_shap.png', bbox_inches='tight')"
   ]
  },
  {
   "cell_type": "code",
   "execution_count": null,
   "metadata": {},
   "outputs": [],
   "source": [
    "ranks_scores"
   ]
  },
  {
   "cell_type": "code",
   "execution_count": null,
   "metadata": {},
   "outputs": [],
   "source": [
    "ranks_scores[ranks_scores['feature'] == 'last_resprate_mean']"
   ]
  },
  {
   "cell_type": "code",
   "execution_count": null,
   "metadata": {},
   "outputs": [],
   "source": [
    "512.517392 / 438.626176, 438.626176 / 168.315313"
   ]
  },
  {
   "cell_type": "code",
   "execution_count": null,
   "metadata": {},
   "outputs": [],
   "source": [
    "ranks_scores[ranks_scores['feature'] == 'last_heartrate_mean']"
   ]
  },
  {
   "cell_type": "code",
   "execution_count": null,
   "metadata": {},
   "outputs": [],
   "source": [
    "654.573176 / 525.322429, 525.322429 / 188.130093"
   ]
  },
  {
   "cell_type": "code",
   "execution_count": null,
   "metadata": {},
   "outputs": [],
   "source": [
    "np.sqrt(5)"
   ]
  },
  {
   "cell_type": "code",
   "execution_count": null,
   "metadata": {},
   "outputs": [],
   "source": [
    "others = list()\n",
    "models = ('lr', 'svm', 'mlp')\n",
    "for i,m in enumerate([lr, sv, mlp]):\n",
    "    preds = pd.DataFrame(m.predict_proba(xst_valid)[:, 1])\n",
    "    preds.columns = [models[i] + '_prob_1']\n",
    "    others.append(preds)"
   ]
  },
  {
   "cell_type": "code",
   "execution_count": null,
   "metadata": {},
   "outputs": [],
   "source": [
    "preds = pd.concat(others + [Y_valid.reset_index()], axis=1)"
   ]
  },
  {
   "cell_type": "code",
   "execution_count": null,
   "metadata": {},
   "outputs": [],
   "source": [
    "preds['ensemble_prob'] = preds[['lr_prob_1','svm_prob_1','mlp_prob_1']].mean(axis=1)"
   ]
  },
  {
   "cell_type": "code",
   "execution_count": null,
   "metadata": {},
   "outputs": [],
   "source": [
    "preds['class_1'] = (preds['ensemble_prob'] >= 0.5).astype(int)"
   ]
  },
  {
   "cell_type": "code",
   "execution_count": null,
   "metadata": {},
   "outputs": [],
   "source": [
    "preds.head()"
   ]
  },
  {
   "cell_type": "code",
   "execution_count": null,
   "metadata": {},
   "outputs": [],
   "source": [
    "accuracy, precision, recall, f1, auc = mg.model_metrics(preds['ensemble_prob'],\n",
    "                                                        preds['class_1'],\n",
    "                                                        preds['label'],\n",
    "                                                        verbose=True)"
   ]
  },
  {
   "cell_type": "code",
   "execution_count": null,
   "metadata": {},
   "outputs": [],
   "source": []
  }
 ],
 "metadata": {
  "kernelspec": {
   "display_name": "Python 3",
   "language": "python",
   "name": "python3"
  },
  "language_info": {
   "codemirror_mode": {
    "name": "ipython",
    "version": 3
   },
   "file_extension": ".py",
   "mimetype": "text/x-python",
   "name": "python",
   "nbconvert_exporter": "python",
   "pygments_lexer": "ipython3",
   "version": "3.7.7"
  }
 },
 "nbformat": 4,
 "nbformat_minor": 4
}
