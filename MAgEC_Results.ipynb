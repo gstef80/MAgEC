{
 "cells": [
  {
   "cell_type": "code",
   "execution_count": 1,
   "metadata": {},
   "outputs": [
    {
     "name": "stderr",
     "output_type": "stream",
     "text": [
      "Using TensorFlow backend.\n"
     ]
    }
   ],
   "source": [
    "import numpy as np\n",
    "import pandas as pd\n",
    "import magec_utils as mg\n",
    "import mimic_utils as mimic\n",
    "import matplotlib\n",
    "import matplotlib.pyplot as plt\n",
    "from sklearn.utils import class_weight\n",
    "import seaborn as sns\n",
    "import shap\n",
    "from keras.models import Sequential, Model\n",
    "from keras.layers import Dense\n",
    "from keras.layers import Dropout\n",
    "from keras.layers import BatchNormalization\n",
    "from keras.layers import ReLU\n",
    "from keras.layers import Input\n",
    "from keras.wrappers.scikit_learn import KerasClassifier\n",
    "from sklearn.preprocessing import StandardScaler\n",
    "from sklearn.ensemble import RandomForestClassifier\n",
    "from sklearn.calibration import CalibratedClassifierCV\n",
    "from sklearn.linear_model import LogisticRegression\n",
    "from sklearn import svm\n",
    "from sklearn.preprocessing import StandardScaler\n",
    "import xgboost\n",
    "import lime\n",
    "\n",
    "try:\n",
    "    import cPickle as pickle\n",
    "except BaseException:\n",
    "    import pickle\n",
    "    \n",
    "# with open(\"shap_values\", \"rb\") as f:\n",
    "#     shap_values = pickle.load(f)\n",
    "\n",
    "# with open(\"shap_explainer\", \"rb\") as f:\n",
    "#     explainer = pickle.load(f)\n",
    "\n",
    "\n",
    "pd.set_option('display.max_columns', None)\n",
    "\n",
    "%matplotlib inline"
   ]
  },
  {
   "cell_type": "code",
   "execution_count": 2,
   "metadata": {},
   "outputs": [],
   "source": [
    "def relu_bn(input_tensor):\n",
    "    relu = ReLU()(input_tensor)\n",
    "    bn = BatchNormalization()(relu)\n",
    "    return bn\n",
    "\n",
    "def get_dropout(input_tensor, p=0.5):\n",
    "    return Dropout(p)(input_tensor)\n",
    "\n",
    "\n",
    "def get_model():\n",
    "    input_shape = xst_train.shape[1:]\n",
    "    inp = Input(input_shape)\n",
    "    x = Dense(32, activation=None)(inp)\n",
    "    x = relu_bn(x)\n",
    "    x = get_dropout(x, p=0.5)\n",
    "    x = Dense(64, activation=None)(inp)\n",
    "    x = relu_bn(x)\n",
    "    x = get_dropout(x, p=0.5)\n",
    "    x = Dense(32, activation=None)(inp)\n",
    "    x = relu_bn(x)\n",
    "    x = get_dropout(x, p=0.5)\n",
    "    out = Dense(1, activation='sigmoid')(x)\n",
    "    model = Model(inputs=inp, outputs=out)\n",
    "    model.compile(loss='binary_crossentropy',\n",
    "                  optimizer='adam',\n",
    "                  metrics=['accuracy'])\n",
    "    return model\n",
    "\n",
    "def create_mlp():\n",
    "    mlp = Sequential()\n",
    "    mlp.add(Dense(60, input_dim=len(xst_train.columns), activation='relu'))\n",
    "    mlp.add(Dropout(0.2))\n",
    "    mlp.add(Dense(30, input_dim=60, activation='relu'))\n",
    "    mlp.add(Dropout(0.2))\n",
    "    mlp.add(Dense(1, activation='sigmoid'))\n",
    "    mlp.compile(loss='binary_crossentropy',\n",
    "                optimizer='adam', metrics=['accuracy'])\n",
    "    return mlp\n",
    "\n",
    "def impute(df):\n",
    "    df[labs] = df[labs].fillna(df[labs].mean())\n",
    "    for vital in vitals:\n",
    "        df['first_'+vital] = df['first_'+vital].fillna(df['first_'+vital].mean())\n",
    "        df['last_'+vital] = df['last_'+vital].fillna(df['last_'+vital].mean())    \n",
    "    df[comobs] = df[comobs].fillna(0)\n",
    "    return df\n",
    "\n",
    "def featurize(df, outcome):\n",
    "    out = dict()\n",
    "    for lab in labs:\n",
    "        out[lab] = last_val(df[lab])\n",
    "    for vital in vitals:\n",
    "        out['first_'+vital] = first_val(df[vital])\n",
    "        out['last_'+vital] = last_val(df[vital])\n",
    "    for comob in comobs:\n",
    "        out[comob] = last_val(df[comob])\n",
    "    for other in others:\n",
    "        out[other] = last_val(df[other])\n",
    "    out['label'] = int(df[outcome].iloc[-1])\n",
    "    return pd.Series(out)\n",
    "\n",
    "def first_val(x):\n",
    "    vals = list(x[~np.isnan(x)])\n",
    "    if len(vals):\n",
    "        return vals[0]\n",
    "    else:\n",
    "        return None\n",
    "\n",
    "def last_val(x):\n",
    "    vals = list(x[~np.isnan(x)])\n",
    "    if len(vals):\n",
    "        return vals[-1]\n",
    "    else:\n",
    "        return None\n",
    "\n",
    "def train_valid_ml(df_ml, test_size=0.2, seed=7):\n",
    "    np.random.seed(seed)\n",
    "\n",
    "    x_cols = list(set(df_ml.columns) - {'label'})\n",
    "    y_cols = ['case', 'label']\n",
    "\n",
    "    cases = df_ml['case'].unique()\n",
    "\n",
    "    np.random.shuffle(cases)  # inplace shuffle\n",
    "\n",
    "    valid_cases = cases[:int(len(cases) * test_size)]\n",
    "    train_cases = cases[int(len(cases) * test_size):]\n",
    "\n",
    "    train_cases = np.isin(df_ml['case'], train_cases)\n",
    "    valid_cases = np.isin(df_ml['case'], valid_cases)\n",
    "\n",
    "    xy_train = df_ml.loc[train_cases, :]\n",
    "    x_train = xy_train[x_cols].copy()\n",
    "    Y_train = xy_train[y_cols].copy()\n",
    "\n",
    "    Y_train['label'] = Y_train['label'].astype(int)\n",
    "    Y_train['timepoint'] = 0\n",
    "    Y_train = Y_train.set_index(['case', 'timepoint'])\n",
    "    \n",
    "    xy_valid = df_ml.loc[valid_cases, :]\n",
    "    x_valid = xy_valid[x_cols].copy()\n",
    "    Y_valid = xy_valid[y_cols].copy()\n",
    "    \n",
    "    Y_valid['label'] = Y_valid['label'].astype(int)\n",
    "    Y_valid['timepoint'] = 0\n",
    "    Y_valid = Y_valid.set_index(['case', 'timepoint'])\n",
    "    \n",
    "    x_train = impute(x_train)\n",
    "    x_train['timepoint'] = 0\n",
    "    x_valid = impute(x_valid)\n",
    "    x_valid['timepoint'] = 0\n",
    "    \n",
    "    x_train = x_train.set_index(['case', 'timepoint'])\n",
    "    \n",
    "    x_valid = x_valid.set_index(['case', 'timepoint'])\n",
    "    \n",
    "    feats = x_train.columns\n",
    "    \n",
    "    bool_cols = [col for col in feats if df_ml[col].dropna().value_counts().index.isin([0,1]).all()]\n",
    "    non_bool_cols = [col for col in feats if col not in bool_cols]\n",
    "     \n",
    "    stsc = StandardScaler()\n",
    "    xst_train = x_train.copy()\n",
    "    xst_train[non_bool_cols] = stsc.fit_transform(x_train[non_bool_cols])\n",
    "    xst_train = pd.DataFrame(xst_train, index=x_train.index, columns=x_train.columns)\n",
    "\n",
    "    xst_valid = x_valid.copy()\n",
    "    xst_valid[non_bool_cols] = stsc.transform(x_valid[non_bool_cols])\n",
    "    xst_valid = pd.DataFrame(xst_valid, index=x_valid.index, columns=x_valid.columns)\n",
    "\n",
    "    return x_train, x_valid, stsc, xst_train, xst_valid, Y_train, Y_valid"
   ]
  },
  {
   "cell_type": "code",
   "execution_count": 3,
   "metadata": {},
   "outputs": [],
   "source": [
    "# MIMIC-III\n",
    "vitals = ['heartrate_mean', 'sysbp_mean', 'diasbp_mean', 'meanbp_mean',\n",
    "          'resprate_mean', 'tempc_mean', 'spo2_mean', 'glucose_mean']\n",
    "\n",
    "labs = ['aniongap', 'albumin', 'bicarbonate', 'bilirubin', 'creatinine', \n",
    "        'chloride', 'glucose', 'hemoglobin', 'lactate', \n",
    "        'magnesium', 'phosphate', 'platelet', 'potassium', 'ptt', 'inr', \n",
    "        'pt', 'sodium', 'bun', 'wbc']  # -hematocrit\n",
    "\n",
    "comobs = ['congestive_heart_failure', 'chronic_pulmonary', 'pulmonary_circulation']\n",
    "\n",
    "others = ['age', 'gender']\n",
    "\n",
    "features = vitals+labs\n",
    "\n",
    "df_cohort = mimic.get_mimic_data()"
   ]
  },
  {
   "cell_type": "code",
   "execution_count": 4,
   "metadata": {},
   "outputs": [],
   "source": [
    "df_ml = df_cohort.rename(columns={'subject_id': 'case'})\n",
    "df_ml = df_ml.set_index(['case', 'timepoint'])\n",
    "df_ml = df_ml.sort_index(level=[0, 1], ascending=[1, 0])"
   ]
  },
  {
   "cell_type": "code",
   "execution_count": 5,
   "metadata": {},
   "outputs": [],
   "source": [
    "df_ml = df_ml.reset_index(1).groupby(level=0, group_keys=False).apply(lambda x: featurize(x, 'ventilated'))"
   ]
  },
  {
   "cell_type": "code",
   "execution_count": 6,
   "metadata": {},
   "outputs": [],
   "source": [
    "x_train, x_valid, stsc, xst_train, xst_valid, Y_train, Y_valid = train_valid_ml(df_ml.reset_index())"
   ]
  },
  {
   "cell_type": "code",
   "execution_count": 7,
   "metadata": {},
   "outputs": [
    {
     "name": "stdout",
     "output_type": "stream",
     "text": [
      "[0.61911131 2.59887711]\n"
     ]
    }
   ],
   "source": [
    "class_weights = class_weight.compute_class_weight('balanced',\n",
    "                                                  np.unique(Y_train['label']),\n",
    "                                                  Y_train['label'])\n",
    "print(class_weights)"
   ]
  },
  {
   "cell_type": "code",
   "execution_count": 8,
   "metadata": {},
   "outputs": [],
   "source": [
    "# mlp2 = KerasClassifier(build_fn=get_model, epochs=100, batch_size=64, verbose=0)\n",
    "# mlp2.fit(xst_train, \n",
    "#          Y_train['label'], \n",
    "#          epochs=100, \n",
    "#          batch_size=64, \n",
    "#          verbose=0, \n",
    "#          class_weight={0:class_weights[0], 1:class_weights[1]}, )\n",
    "# print('Built new MLP classifier!')\n",
    "# mg.evaluate(mlp2, xst_valid, Y_valid['label'], verbose=True);"
   ]
  },
  {
   "cell_type": "code",
   "execution_count": 9,
   "metadata": {},
   "outputs": [
    {
     "name": "stdout",
     "output_type": "stream",
     "text": [
      "Built MLP classifier!\n",
      "Built SVM classifier!\n",
      "Built LR classifier!\n"
     ]
    }
   ],
   "source": [
    "mlp = KerasClassifier(build_fn=create_mlp, epochs=100, batch_size=64, verbose=0)\n",
    "mlp.fit(xst_train, Y_train['label'], \n",
    "        epochs=100, \n",
    "        batch_size=64, \n",
    "        verbose=0, \n",
    "        class_weight={0:class_weights[0], 1:class_weights[1]}, )\n",
    "print('Built MLP classifier!')\n",
    "\n",
    "sv = svm.SVC(probability=True, class_weight=\"balanced\")\n",
    "sv.fit(xst_train, Y_train['label'])\n",
    "print('Built SVM classifier!')\n",
    "\n",
    "lr = LogisticRegression(C=1., class_weight='balanced', solver='lbfgs')\n",
    "lr.fit(xst_train, Y_train['label'])\n",
    "print('Built LR classifier!')"
   ]
  },
  {
   "cell_type": "code",
   "execution_count": 10,
   "metadata": {},
   "outputs": [
    {
     "name": "stdout",
     "output_type": "stream",
     "text": [
      "Accuracy: 0.821411\n",
      "Precision: 0.545825\n",
      "Recall: 0.642686\n",
      "F1 score: 0.590308\n",
      "ROC AUC: 0.834504\n",
      "[[1443  223]\n",
      " [ 149  268]]\n",
      "Accuracy: 0.783485\n",
      "Precision: 0.472131\n",
      "Recall: 0.690647\n",
      "F1 score: 0.560857\n",
      "ROC AUC: 0.813892\n",
      "[[1344  322]\n",
      " [ 129  288]]\n",
      "Accuracy: 0.672588\n",
      "Precision: 0.339782\n",
      "Recall: 0.673861\n",
      "F1 score: 0.451768\n",
      "ROC AUC: 0.721519\n",
      "[[1120  546]\n",
      " [ 136  281]]\n"
     ]
    }
   ],
   "source": [
    "mg.evaluate(mlp, xst_valid, Y_valid['label'], verbose=True);\n",
    "mg.evaluate(sv, xst_valid, Y_valid['label'], verbose=True);\n",
    "mg.evaluate(lr, xst_valid, Y_valid['label'], verbose=True);"
   ]
  },
  {
   "cell_type": "code",
   "execution_count": null,
   "metadata": {},
   "outputs": [],
   "source": [
    "# mg.evaluate(mlp, xst_valid, Y_valid['label'], verbose=True);\n",
    "# mg.evaluate(sv, xst_valid, Y_valid['label'], verbose=True);\n",
    "# mg.evaluate(lr, xst_valid, Y_valid['label'], verbose=True);"
   ]
  },
  {
   "cell_type": "code",
   "execution_count": 11,
   "metadata": {},
   "outputs": [
    {
     "name": "stdout",
     "output_type": "stream",
     "text": [
      "Accuracy: 0.818051\n",
      "Precision: 0.536260\n",
      "Recall: 0.673861\n",
      "F1 score: 0.597237\n",
      "ROC AUC: 0.835186\n",
      "[[1423  243]\n",
      " [ 136  281]]\n"
     ]
    }
   ],
   "source": [
    "xg = xgboost.XGBClassifier(scale_pos_weight=4)\n",
    "xg.fit(xst_train, Y_train['label'])\n",
    "mg.evaluate(xg, xst_valid, Y_valid['label'], verbose=True);"
   ]
  },
  {
   "cell_type": "code",
   "execution_count": 12,
   "metadata": {},
   "outputs": [],
   "source": [
    "explainer = shap.TreeExplainer(xg)"
   ]
  },
  {
   "cell_type": "code",
   "execution_count": 13,
   "metadata": {},
   "outputs": [],
   "source": [
    "shap_values = explainer.shap_values(xst_valid)"
   ]
  },
  {
   "cell_type": "code",
   "execution_count": 14,
   "metadata": {},
   "outputs": [
    {
     "data": {
      "image/png": "[encoded data removed]",
      "text/plain": [
       "<Figure size 576x684 with 1 Axes>"
      ]
     },
     "metadata": {
      "needs_background": "light"
     },
     "output_type": "display_data"
    }
   ],
   "source": [
    "shap.summary_plot(shap_values, xst_valid, plot_type=\"bar\")"
   ]
  },
  {
   "cell_type": "code",
   "execution_count": 15,
   "metadata": {},
   "outputs": [],
   "source": [
    "shaps = {x[1]:x[0] for x in zip(list(np.abs(shap_values).mean(0)), list(xst_valid.columns))}\n",
    "shaps = pd.DataFrame.from_dict(shaps, orient='index', columns=['shap']).\\\n",
    "    reset_index().rename(columns={'index': 'feature'})"
   ]
  },
  {
   "cell_type": "code",
   "execution_count": 16,
   "metadata": {},
   "outputs": [
    {
     "data": {
      "text/html": [
       "<div>\n",
       "<style scoped>\n",
       "    .dataframe tbody tr th:only-of-type {\n",
       "        vertical-align: middle;\n",
       "    }\n",
       "\n",
       "    .dataframe tbody tr th {\n",
       "        vertical-align: top;\n",
       "    }\n",
       "\n",
       "    .dataframe thead th {\n",
       "        text-align: right;\n",
       "    }\n",
       "</style>\n",
       "<table border=\"1\" class=\"dataframe\">\n",
       "  <thead>\n",
       "    <tr style=\"text-align: right;\">\n",
       "      <th></th>\n",
       "      <th>feature</th>\n",
       "      <th>shap</th>\n",
       "    </tr>\n",
       "  </thead>\n",
       "  <tbody>\n",
       "    <tr>\n",
       "      <th>0</th>\n",
       "      <td>last_tempc_mean</td>\n",
       "      <td>0.057257</td>\n",
       "    </tr>\n",
       "    <tr>\n",
       "      <th>1</th>\n",
       "      <td>chloride</td>\n",
       "      <td>0.003261</td>\n",
       "    </tr>\n",
       "    <tr>\n",
       "      <th>2</th>\n",
       "      <td>first_glucose_mean</td>\n",
       "      <td>0.013679</td>\n",
       "    </tr>\n",
       "    <tr>\n",
       "      <th>3</th>\n",
       "      <td>inr</td>\n",
       "      <td>0.037258</td>\n",
       "    </tr>\n",
       "    <tr>\n",
       "      <th>4</th>\n",
       "      <td>first_diasbp_mean</td>\n",
       "      <td>0.150705</td>\n",
       "    </tr>\n",
       "  </tbody>\n",
       "</table>\n",
       "</div>"
      ],
      "text/plain": [
       "              feature      shap\n",
       "0     last_tempc_mean  0.057257\n",
       "1            chloride  0.003261\n",
       "2  first_glucose_mean  0.013679\n",
       "3                 inr  0.037258\n",
       "4   first_diasbp_mean  0.150705"
      ]
     },
     "execution_count": 16,
     "metadata": {},
     "output_type": "execute_result"
    }
   ],
   "source": [
    "shaps.head()"
   ]
  },
  {
   "cell_type": "code",
   "execution_count": 17,
   "metadata": {},
   "outputs": [],
   "source": [
    "lime_explainer = lime.lime_tabular.LimeTabularExplainer(\n",
    "    xst_train.values,\n",
    "    training_labels=Y_train['label'].values,\n",
    "    feature_names=xst_train.columns.tolist(),\n",
    "    feature_selection=\"lasso_path\",\n",
    "    class_names=[0, 1],\n",
    "    discretize_continuous=True,\n",
    "    discretizer=\"entropy\",\n",
    ")"
   ]
  },
  {
   "cell_type": "code",
   "execution_count": 21,
   "metadata": {},
   "outputs": [],
   "source": [
    "lime_explainerxplainer = lime.lime_tabular.LimeTabularExplainer(\n",
    "    xst_train, \n",
    "    feature_names=list(xst_train.columns), \n",
    "    class_names=[\"0\", \"1\"], \n",
    "    discretize_continuous=True)"
   ]
  },
  {
   "cell_type": "code",
   "execution_count": 23,
   "metadata": {},
   "outputs": [],
   "source": [
    "exp = lime_explainerxplainer.explain_instance(xst_valid.iloc[0], xg.predict_proba)"
   ]
  },
  {
   "cell_type": "code",
   "execution_count": 26,
   "metadata": {},
   "outputs": [],
   "source": [
    "print(3)"
   ]
  },
  {
   "cell_type": "code",
   "execution_count": 19,
   "metadata": {},
   "outputs": [
    {
     "ename": "ValueError",
     "evalue": "feature_names mismatch: ['last_tempc_mean', 'chloride', 'first_glucose_mean', 'inr', 'first_diasbp_mean', 'platelet', 'first_meanbp_mean', 'last_resprate_mean', 'magnesium', 'last_sysbp_mean', 'sodium', 'last_meanbp_mean', 'first_spo2_mean', 'first_tempc_mean', 'glucose', 'aniongap', 'first_sysbp_mean', 'last_diasbp_mean', 'pulmonary_circulation', 'gender', 'bilirubin', 'lactate', 'creatinine', 'pt', 'congestive_heart_failure', 'age', 'last_heartrate_mean', 'ptt', 'first_resprate_mean', 'last_glucose_mean', 'chronic_pulmonary', 'first_heartrate_mean', 'bun', 'hemoglobin', 'wbc', 'bicarbonate', 'last_spo2_mean', 'phosphate', 'potassium', 'albumin'] ['f0', 'f1', 'f2', 'f3', 'f4', 'f5', 'f6', 'f7', 'f8', 'f9', 'f10', 'f11', 'f12', 'f13', 'f14', 'f15', 'f16', 'f17', 'f18', 'f19', 'f20', 'f21', 'f22', 'f23', 'f24', 'f25', 'f26', 'f27', 'f28', 'f29', 'f30', 'f31', 'f32', 'f33', 'f34', 'f35', 'f36', 'f37', 'f38', 'f39']\nexpected last_tempc_mean, chloride, first_glucose_mean, inr, first_diasbp_mean, platelet, first_meanbp_mean, last_resprate_mean, magnesium, last_sysbp_mean, sodium, last_meanbp_mean, first_spo2_mean, first_tempc_mean, glucose, aniongap, first_sysbp_mean, last_diasbp_mean, pulmonary_circulation, gender, bilirubin, lactate, creatinine, pt, congestive_heart_failure, age, last_heartrate_mean, ptt, first_resprate_mean, last_glucose_mean, chronic_pulmonary, first_heartrate_mean, bun, hemoglobin, wbc, bicarbonate, last_spo2_mean, phosphate, potassium, albumin in input data\ntraining data did not have the following fields: f30, f16, f17, f2, f27, f31, f12, f38, f1, f37, f18, f20, f10, f21, f24, f6, f22, f4, f5, f35, f32, f23, f34, f13, f36, f19, f9, f28, f26, f0, f7, f39, f33, f8, f3, f29, f15, f14, f25, f11",
     "output_type": "error",
     "traceback": [
      "\u001b[0;31m---------------------------------------------------------------------------\u001b[0m",
      "\u001b[0;31mValueError\u001b[0m                                Traceback (most recent call last)",
      "\u001b[0;32m<ipython-input-19-8be7ac131c3a>\u001b[0m in \u001b[0;36m<module>\u001b[0;34m\u001b[0m\n\u001b[1;32m      5\u001b[0m                                              \u001b[0msample_size\u001b[0m\u001b[0;34m=\u001b[0m\u001b[0;36m500\u001b[0m\u001b[0;34m,\u001b[0m\u001b[0;34m\u001b[0m\u001b[0;34m\u001b[0m\u001b[0m\n\u001b[1;32m      6\u001b[0m                                              \u001b[0mnum_features\u001b[0m\u001b[0;34m=\u001b[0m\u001b[0;36m41\u001b[0m\u001b[0;34m,\u001b[0m\u001b[0;34m\u001b[0m\u001b[0;34m\u001b[0m\u001b[0m\n\u001b[0;32m----> 7\u001b[0;31m                                              num_exps_desired=5)\n\u001b[0m\u001b[1;32m      8\u001b[0m \u001b[0;31m#Plot the 5 explanations\u001b[0m\u001b[0;34m\u001b[0m\u001b[0;34m\u001b[0m\u001b[0;34m\u001b[0m\u001b[0m\n\u001b[1;32m      9\u001b[0m \u001b[0;34m[\u001b[0m\u001b[0mexp\u001b[0m\u001b[0;34m.\u001b[0m\u001b[0mas_pyplot_figure\u001b[0m\u001b[0;34m(\u001b[0m\u001b[0mlabel\u001b[0m\u001b[0;34m=\u001b[0m\u001b[0mexp\u001b[0m\u001b[0;34m.\u001b[0m\u001b[0mavailable_labels\u001b[0m\u001b[0;34m(\u001b[0m\u001b[0;34m)\u001b[0m\u001b[0;34m[\u001b[0m\u001b[0;36m0\u001b[0m\u001b[0;34m]\u001b[0m\u001b[0;34m)\u001b[0m \u001b[0;32mfor\u001b[0m \u001b[0mexp\u001b[0m \u001b[0;32min\u001b[0m \u001b[0msp_obj\u001b[0m\u001b[0;34m.\u001b[0m\u001b[0msp_explanations\u001b[0m\u001b[0;34m]\u001b[0m\u001b[0;34m;\u001b[0m\u001b[0;34m\u001b[0m\u001b[0;34m\u001b[0m\u001b[0m\n",
      "\u001b[0;32m~/miniconda3/envs/magec/lib/python3.7/site-packages/lime/submodular_pick.py\u001b[0m in \u001b[0;36m__init__\u001b[0;34m(self, explainer, data, predict_fn, method, sample_size, num_exps_desired, num_features, **kwargs)\u001b[0m\n\u001b[1;32m     73\u001b[0m                     \u001b[0mdata\u001b[0m\u001b[0;34m[\u001b[0m\u001b[0mi\u001b[0m\u001b[0;34m]\u001b[0m\u001b[0;34m,\u001b[0m \u001b[0mpredict_fn\u001b[0m\u001b[0;34m,\u001b[0m \u001b[0mnum_features\u001b[0m\u001b[0;34m=\u001b[0m\u001b[0mnum_features\u001b[0m\u001b[0;34m,\u001b[0m\u001b[0;34m\u001b[0m\u001b[0;34m\u001b[0m\u001b[0m\n\u001b[1;32m     74\u001b[0m                     \u001b[0mtop_labels\u001b[0m\u001b[0;34m=\u001b[0m\u001b[0mtop_labels\u001b[0m\u001b[0;34m,\u001b[0m\u001b[0;34m\u001b[0m\u001b[0;34m\u001b[0m\u001b[0m\n\u001b[0;32m---> 75\u001b[0;31m                     **kwargs))\n\u001b[0m\u001b[1;32m     76\u001b[0m         \u001b[0;31m# Error handling\u001b[0m\u001b[0;34m\u001b[0m\u001b[0;34m\u001b[0m\u001b[0;34m\u001b[0m\u001b[0m\n\u001b[1;32m     77\u001b[0m         \u001b[0;32mtry\u001b[0m\u001b[0;34m:\u001b[0m\u001b[0;34m\u001b[0m\u001b[0;34m\u001b[0m\u001b[0m\n",
      "\u001b[0;32m~/miniconda3/envs/magec/lib/python3.7/site-packages/lime/lime_tabular.py\u001b[0m in \u001b[0;36mexplain_instance\u001b[0;34m(self, data_row, predict_fn, labels, top_labels, num_features, num_samples, distance_metric, model_regressor)\u001b[0m\n\u001b[1;32m    353\u001b[0m         ).ravel()\n\u001b[1;32m    354\u001b[0m \u001b[0;34m\u001b[0m\u001b[0m\n\u001b[0;32m--> 355\u001b[0;31m         \u001b[0myss\u001b[0m \u001b[0;34m=\u001b[0m \u001b[0mpredict_fn\u001b[0m\u001b[0;34m(\u001b[0m\u001b[0minverse\u001b[0m\u001b[0;34m)\u001b[0m\u001b[0;34m\u001b[0m\u001b[0;34m\u001b[0m\u001b[0m\n\u001b[0m\u001b[1;32m    356\u001b[0m \u001b[0;34m\u001b[0m\u001b[0m\n\u001b[1;32m    357\u001b[0m         \u001b[0;31m# for classification, the model needs to provide a list of tuples - classes\u001b[0m\u001b[0;34m\u001b[0m\u001b[0;34m\u001b[0m\u001b[0;34m\u001b[0m\u001b[0m\n",
      "\u001b[0;32m~/miniconda3/envs/magec/lib/python3.7/site-packages/xgboost/sklearn.py\u001b[0m in \u001b[0;36mpredict_proba\u001b[0;34m(self, data, ntree_limit, validate_features)\u001b[0m\n\u001b[1;32m    832\u001b[0m         class_probs = self.get_booster().predict(test_dmatrix,\n\u001b[1;32m    833\u001b[0m                                                  \u001b[0mntree_limit\u001b[0m\u001b[0;34m=\u001b[0m\u001b[0mntree_limit\u001b[0m\u001b[0;34m,\u001b[0m\u001b[0;34m\u001b[0m\u001b[0;34m\u001b[0m\u001b[0m\n\u001b[0;32m--> 834\u001b[0;31m                                                  validate_features=validate_features)\n\u001b[0m\u001b[1;32m    835\u001b[0m         \u001b[0;32mif\u001b[0m \u001b[0mself\u001b[0m\u001b[0;34m.\u001b[0m\u001b[0mobjective\u001b[0m \u001b[0;34m==\u001b[0m \u001b[0;34m\"multi:softprob\"\u001b[0m\u001b[0;34m:\u001b[0m\u001b[0;34m\u001b[0m\u001b[0;34m\u001b[0m\u001b[0m\n\u001b[1;32m    836\u001b[0m             \u001b[0;32mreturn\u001b[0m \u001b[0mclass_probs\u001b[0m\u001b[0;34m\u001b[0m\u001b[0;34m\u001b[0m\u001b[0m\n",
      "\u001b[0;32m~/miniconda3/envs/magec/lib/python3.7/site-packages/xgboost/core.py\u001b[0m in \u001b[0;36mpredict\u001b[0;34m(self, data, output_margin, ntree_limit, pred_leaf, pred_contribs, approx_contribs, pred_interactions, validate_features)\u001b[0m\n\u001b[1;32m   1282\u001b[0m \u001b[0;34m\u001b[0m\u001b[0m\n\u001b[1;32m   1283\u001b[0m         \u001b[0;32mif\u001b[0m \u001b[0mvalidate_features\u001b[0m\u001b[0;34m:\u001b[0m\u001b[0;34m\u001b[0m\u001b[0;34m\u001b[0m\u001b[0m\n\u001b[0;32m-> 1284\u001b[0;31m             \u001b[0mself\u001b[0m\u001b[0;34m.\u001b[0m\u001b[0m_validate_features\u001b[0m\u001b[0;34m(\u001b[0m\u001b[0mdata\u001b[0m\u001b[0;34m)\u001b[0m\u001b[0;34m\u001b[0m\u001b[0;34m\u001b[0m\u001b[0m\n\u001b[0m\u001b[1;32m   1285\u001b[0m \u001b[0;34m\u001b[0m\u001b[0m\n\u001b[1;32m   1286\u001b[0m         \u001b[0mlength\u001b[0m \u001b[0;34m=\u001b[0m \u001b[0mc_bst_ulong\u001b[0m\u001b[0;34m(\u001b[0m\u001b[0;34m)\u001b[0m\u001b[0;34m\u001b[0m\u001b[0;34m\u001b[0m\u001b[0m\n",
      "\u001b[0;32m~/miniconda3/envs/magec/lib/python3.7/site-packages/xgboost/core.py\u001b[0m in \u001b[0;36m_validate_features\u001b[0;34m(self, data)\u001b[0m\n\u001b[1;32m   1688\u001b[0m \u001b[0;34m\u001b[0m\u001b[0m\n\u001b[1;32m   1689\u001b[0m                 raise ValueError(msg.format(self.feature_names,\n\u001b[0;32m-> 1690\u001b[0;31m                                             data.feature_names))\n\u001b[0m\u001b[1;32m   1691\u001b[0m \u001b[0;34m\u001b[0m\u001b[0m\n\u001b[1;32m   1692\u001b[0m     \u001b[0;32mdef\u001b[0m \u001b[0mget_split_value_histogram\u001b[0m\u001b[0;34m(\u001b[0m\u001b[0mself\u001b[0m\u001b[0;34m,\u001b[0m \u001b[0mfeature\u001b[0m\u001b[0;34m,\u001b[0m \u001b[0mfmap\u001b[0m\u001b[0;34m=\u001b[0m\u001b[0;34m''\u001b[0m\u001b[0;34m,\u001b[0m \u001b[0mbins\u001b[0m\u001b[0;34m=\u001b[0m\u001b[0;32mNone\u001b[0m\u001b[0;34m,\u001b[0m \u001b[0mas_pandas\u001b[0m\u001b[0;34m=\u001b[0m\u001b[0;32mTrue\u001b[0m\u001b[0;34m)\u001b[0m\u001b[0;34m:\u001b[0m\u001b[0;34m\u001b[0m\u001b[0;34m\u001b[0m\u001b[0m\n",
      "\u001b[0;31mValueError\u001b[0m: feature_names mismatch: ['last_tempc_mean', 'chloride', 'first_glucose_mean', 'inr', 'first_diasbp_mean', 'platelet', 'first_meanbp_mean', 'last_resprate_mean', 'magnesium', 'last_sysbp_mean', 'sodium', 'last_meanbp_mean', 'first_spo2_mean', 'first_tempc_mean', 'glucose', 'aniongap', 'first_sysbp_mean', 'last_diasbp_mean', 'pulmonary_circulation', 'gender', 'bilirubin', 'lactate', 'creatinine', 'pt', 'congestive_heart_failure', 'age', 'last_heartrate_mean', 'ptt', 'first_resprate_mean', 'last_glucose_mean', 'chronic_pulmonary', 'first_heartrate_mean', 'bun', 'hemoglobin', 'wbc', 'bicarbonate', 'last_spo2_mean', 'phosphate', 'potassium', 'albumin'] ['f0', 'f1', 'f2', 'f3', 'f4', 'f5', 'f6', 'f7', 'f8', 'f9', 'f10', 'f11', 'f12', 'f13', 'f14', 'f15', 'f16', 'f17', 'f18', 'f19', 'f20', 'f21', 'f22', 'f23', 'f24', 'f25', 'f26', 'f27', 'f28', 'f29', 'f30', 'f31', 'f32', 'f33', 'f34', 'f35', 'f36', 'f37', 'f38', 'f39']\nexpected last_tempc_mean, chloride, first_glucose_mean, inr, first_diasbp_mean, platelet, first_meanbp_mean, last_resprate_mean, magnesium, last_sysbp_mean, sodium, last_meanbp_mean, first_spo2_mean, first_tempc_mean, glucose, aniongap, first_sysbp_mean, last_diasbp_mean, pulmonary_circulation, gender, bilirubin, lactate, creatinine, pt, congestive_heart_failure, age, last_heartrate_mean, ptt, first_resprate_mean, last_glucose_mean, chronic_pulmonary, first_heartrate_mean, bun, hemoglobin, wbc, bicarbonate, last_spo2_mean, phosphate, potassium, albumin in input data\ntraining data did not have the following fields: f30, f16, f17, f2, f27, f31, f12, f38, f1, f37, f18, f20, f10, f21, f24, f6, f22, f4, f5, f35, f32, f23, f34, f13, f36, f19, f9, f28, f26, f0, f7, f39, f33, f8, f3, f29, f15, f14, f25, f11"
     ]
    }
   ],
   "source": [
    "from lime import submodular_pick\n",
    "sp_obj = submodular_pick.SubmodularPick(lime_explainer, \n",
    "                                        xst_train.values, \n",
    "                                        xg.predict_proba, \n",
    "                                        sample_size=500, \n",
    "                                        num_features=41, \n",
    "                                        num_exps_desired=5)\n",
    "#Plot the 5 explanations\n",
    "[exp.as_pyplot_figure(label=exp.available_labels()[0]) for exp in sp_obj.sp_explanations];\n",
    "# Make it into a dataframe\n",
    "W_pick = pd.DataFrame([dict(this.as_list(this.available_labels()[0])) for this in sp_obj.sp_explanations]).fillna(0)\n",
    " \n",
    "W_pick['prediction'] = [this.available_labels()[0] for this in sp_obj.sp_explanations]\n",
    " \n",
    "#Making a dataframe of all the explanations of sampled points\n",
    "W = pd.DataFrame([dict(this.as_list(this.available_labels()[0])) for this in sp_obj.explanations]).fillna(0)\n",
    "W['prediction'] = [this.available_labels()[0] for this in sp_obj.explanations]\n",
    " \n",
    "#Plotting the aggregate importances\n",
    "np.abs(W.drop(\"prediction\", axis=1)).mean(axis=0).sort_values(ascending=False).head(\n",
    "    25\n",
    ").sort_values(ascending=True).iplot(kind=\"barh\")\n",
    " \n",
    "#Aggregate importances split by classes\n",
    "grped_coeff = W.groupby(\"prediction\").mean()\n",
    " \n",
    "grped_coeff = grped_coeff.T\n",
    "grped_coeff[\"abs\"] = np.abs(grped_coeff.iloc[:, 0])\n",
    "grped_coeff.sort_values(\"abs\", inplace=True, ascending=False)\n",
    "grped_coeff.head(25).sort_values(\"abs\", ascending=True).drop(\"abs\", axis=1).iplot(\n",
    "    kind=\"barh\", bargap=0.5\n",
    ") "
   ]
  },
  {
   "cell_type": "code",
   "execution_count": null,
   "metadata": {},
   "outputs": [],
   "source": [
    "def most_abnormal(x, features):\n",
    "    res = None\n",
    "    feat = None\n",
    "    for f in features:\n",
    "        if res is None or abs(x[f]) > res:\n",
    "            res = abs(x[f])\n",
    "            feat = f\n",
    "    return feat\n",
    "\n",
    "def get_magecs(lr, sv, mlp, xst_valid, Ydata, baseline=None):\n",
    "    magecs_lr = mg.case_magecs(lr, xst_valid, model_name='lr', baseline=baseline)\n",
    "    magecs_lr = mg.normalize_magecs(magecs_lr, features=None, model_name='lr')\n",
    "\n",
    "    magecs_svm = mg.case_magecs(sv, xst_valid, model_name='svm', baseline=baseline)\n",
    "    magecs_svm = mg.normalize_magecs(magecs_svm, features=None, model_name='svm')\n",
    "\n",
    "    magecs_mlp = mg.case_magecs(mlp, xst_valid, model_name='mlp', baseline=baseline)\n",
    "    magecs_mlp = mg.normalize_magecs(magecs_mlp, features=None, model_name='mlp')\n",
    "    \n",
    "    feats = list(xst_valid.columns)\n",
    "    \n",
    "    joined = mg.magec_models(magecs_mlp, magecs_svm, magecs_lr, \n",
    "                             Xdata=xst_valid, Ydata=Ydata['label'], features=feats)\n",
    "    \n",
    "    prob_cols = [c for c in joined.columns if c.startswith('perturb') and '_'.join(c.split('_')[1:-2]) in feats]\n",
    "    joined['orig_prob_ensemble'] = joined[['orig_prob_mlp', 'orig_prob_lr', 'orig_prob_svm']].apply(np.mean, 1)\n",
    "    joined[['best_feat', 'new_risk', 'rank_feat', 'rank_val', 'top_rank_prob']] = joined.apply(\n",
    "        lambda x: mimic.best_feature(x, prob_cols), axis=1)\n",
    "    joined['most_abnormal'] = joined.apply(lambda x: most_abnormal(x, feats), axis=1)\n",
    "    \n",
    "    ranks = mg.magec_rank(joined, rank=len(feats), features=feats, models=('mlp', 'lr', 'svm'))\n",
    "    \n",
    "    rbos = mg.magec_rbos(ranks, models=('mlp', 'lr', 'svm'))\n",
    "    rbos['rbo'] = rbos[['mlp_lr', 'svm_lr', 'svm_mlp']].apply(np.mean, 1)\n",
    "    \n",
    "    consensus = mg.magec_consensus(ranks, models=('mlp', 'lr', 'svm'))\n",
    "    \n",
    "    consensus = consensus.merge(Ydata.reset_index()[['case','label']], left_on='case', right_on='case')\n",
    "    \n",
    "    consensus = consensus.merge(rbos[['rbo', 'case']], left_on='case', right_on='case')\n",
    "    \n",
    "    return joined, ranks, consensus"
   ]
  },
  {
   "cell_type": "code",
   "execution_count": null,
   "metadata": {},
   "outputs": [],
   "source": [
    "joined_zero, ranks_zero, consensus_zero = get_magecs(lr, sv, mlp, xst_valid, Y_valid, baseline=None)"
   ]
  },
  {
   "cell_type": "code",
   "execution_count": null,
   "metadata": {},
   "outputs": [],
   "source": [
    "def plot_feat_importance(consensus, shaps, title='', feats=None, save=''):\n",
    "    if feats is not None:\n",
    "        df = consensus[np.isin(consensus['winner'], feats)]\n",
    "    else:\n",
    "        df = consensus\n",
    "    order = list(df[df['label']==1][['winner']].winner.value_counts().index.values)\n",
    "    \n",
    "    a4_dims = (28, 12)\n",
    "    fig, ax = plt.subplots(nrows=1, ncols=2, sharey=True, figsize=a4_dims)\n",
    "    \n",
    "    sns.countplot(y=\"winner\", \n",
    "                  hue=\"label\", \n",
    "                  palette=\"pastel\", \n",
    "                  edgecolor=\".6\",\n",
    "                  data=df, \n",
    "                  order=order,\n",
    "                  ax=ax[0]);\n",
    "\n",
    "    sns.barplot(x='shap', \n",
    "                y='feature' ,\n",
    "                data=shaps, \n",
    "                order=order,\n",
    "                palette=\"pastel\", \n",
    "                edgecolor=\".6\",\n",
    "                ax=ax[1]);\n",
    "    \n",
    "    ax[1].set_ylabel('')\n",
    "    ax[0].set_title('Top MAgEC Feature' + title)\n",
    "    ax[0].set_ylabel('Top Magec')\n",
    "    ax[1].set_xlabel('mean(|SHAP value|)')\n",
    "    ax[1].set_title('Feature importance using SHAP')\n",
    "    \n",
    "    ax[0].grid('on')\n",
    "    ax[1].grid('on')\n",
    "    \n",
    "    for item in ([ax[0].title, ax[0].xaxis.label, ax[0].yaxis.label] +\n",
    "             ax[0].get_xticklabels() + ax[0].get_yticklabels()):\n",
    "        item.set_fontsize(21)\n",
    "        \n",
    "    for item in ([ax[1].title, ax[1].xaxis.label, ax[1].yaxis.label] +\n",
    "             ax[1].get_xticklabels() + ax[1].get_yticklabels()):\n",
    "        item.set_fontsize(21)\n",
    "    \n",
    "    plt.tight_layout()\n",
    "\n",
    "    if save:\n",
    "        fig.savefig(save, bbox_inches='tight')"
   ]
  },
  {
   "cell_type": "code",
   "execution_count": null,
   "metadata": {},
   "outputs": [],
   "source": [
    "plot_feat_importance(consensus_zero, shaps, save='magec_shap.png')"
   ]
  },
  {
   "cell_type": "code",
   "execution_count": null,
   "metadata": {},
   "outputs": [],
   "source": [
    "consensus_zero.head()"
   ]
  },
  {
   "cell_type": "code",
   "execution_count": null,
   "metadata": {},
   "outputs": [],
   "source": [
    "ranks_zero.head()"
   ]
  },
  {
   "cell_type": "code",
   "execution_count": null,
   "metadata": {},
   "outputs": [],
   "source": [
    "joined_p5, ranks_p5, consensus_p5 = get_magecs(lr, sv, mlp, xst_valid, Y_valid, baseline=0.5)"
   ]
  },
  {
   "cell_type": "code",
   "execution_count": null,
   "metadata": {},
   "outputs": [],
   "source": [
    "joined_p3, ranks_p3, consensus_p3 = get_magecs(lr, sv, mlp, xst_valid, Y_valid, baseline=0.3)"
   ]
  },
  {
   "cell_type": "code",
   "execution_count": null,
   "metadata": {},
   "outputs": [],
   "source": [
    "joined_p1, ranks_p1, consensus_p1 = get_magecs(lr, sv, mlp, xst_valid, Y_valid, baseline=0.1)"
   ]
  },
  {
   "cell_type": "code",
   "execution_count": null,
   "metadata": {},
   "outputs": [],
   "source": [
    "def plot_consensus(consensus, score=False, title='', feats=None, save=''):\n",
    "    if feats is not None:\n",
    "        df = consensus[np.isin(consensus['winner'], feats)]\n",
    "    else:\n",
    "        df = consensus\n",
    "    order = list(df[df['label']==1][['winner']].winner.value_counts().index.values)\n",
    "    \n",
    "    a4_dims = (28, 12)\n",
    "    fig, ax = plt.subplots(nrows=1, ncols=2, sharey=True, figsize=a4_dims)\n",
    "    \n",
    "    if score:\n",
    "        sns.barplot(x='score', \n",
    "                    y='winner',\n",
    "                    hue=\"label\",\n",
    "                    data=df, \n",
    "                    order=order,\n",
    "                    palette=\"pastel\", \n",
    "                    edgecolor=\".6\",\n",
    "                    ax=ax[0]);\n",
    "    else:\n",
    "        sns.countplot(y=\"winner\", \n",
    "                      hue=\"label\", \n",
    "                      palette=\"pastel\", \n",
    "                      edgecolor=\".6\",\n",
    "                      data=df, \n",
    "                      order=order,\n",
    "                      ax=ax[0]);\n",
    "\n",
    "    sns.barplot(x='rbo', \n",
    "                y='winner' ,\n",
    "                data=df, \n",
    "                order=order,\n",
    "                palette=\"pastel\", \n",
    "                edgecolor=\".6\",\n",
    "                ax=ax[1]);\n",
    "    \n",
    "    ax[1].set_ylabel('')\n",
    "    ax[0].set_title('Top MAgEC Feature' + title)\n",
    "    ax[0].set_ylabel('Top Magec')\n",
    "    ax[1].set_xlabel('Average RBO')\n",
    "    ax[1].set_title('Top MAgEC Feature Average RBO')\n",
    "    \n",
    "    ax[0].grid('on')\n",
    "    ax[1].grid('on')\n",
    "    \n",
    "    for item in ([ax[0].title, ax[0].xaxis.label, ax[0].yaxis.label] +\n",
    "             ax[0].get_xticklabels() + ax[0].get_yticklabels()):\n",
    "        item.set_fontsize(21)\n",
    "        \n",
    "    for item in ([ax[1].title, ax[1].xaxis.label, ax[1].yaxis.label] +\n",
    "             ax[1].get_xticklabels() + ax[1].get_yticklabels()):\n",
    "        item.set_fontsize(21)\n",
    "    \n",
    "    plt.tight_layout()\n",
    "\n",
    "    if save:\n",
    "        fig.savefig(save, bbox_inches='tight')"
   ]
  },
  {
   "cell_type": "code",
   "execution_count": null,
   "metadata": {},
   "outputs": [],
   "source": [
    "# pd.DataFrame(consensus_zero.groupby(['winner'])['score'].mean()).reset_index()"
   ]
  },
  {
   "cell_type": "code",
   "execution_count": null,
   "metadata": {},
   "outputs": [],
   "source": [
    "# plot_consensus(consensus_zero, title=' (\"full\" perturbation)')"
   ]
  },
  {
   "cell_type": "code",
   "execution_count": null,
   "metadata": {},
   "outputs": [],
   "source": [
    "# plot_consensus(consensus_zero, title=' (\"full\" perturbation)', save='magec_top_rbo_full.png')"
   ]
  },
  {
   "cell_type": "code",
   "execution_count": null,
   "metadata": {},
   "outputs": [],
   "source": [
    "# plot_consensus(consensus_p5, title=' (\"0.5\" perturbation)', save='magec_top_rbo_p5.png')"
   ]
  },
  {
   "cell_type": "code",
   "execution_count": null,
   "metadata": {},
   "outputs": [],
   "source": [
    "# plot_consensus(consensus_p1, title=' (\"0.1\" perturbation)', save='magec_top_rbo_p1.png')"
   ]
  },
  {
   "cell_type": "code",
   "execution_count": null,
   "metadata": {},
   "outputs": [],
   "source": [
    "bool_cols = [col for col in list(xst_valid.columns) \n",
    "             if df_ml[col].dropna().value_counts().index.isin([0,1]).all()]\n",
    "non_bool_cols = [col for col in list(xst_valid.columns) \n",
    "                 if col not in bool_cols]"
   ]
  },
  {
   "cell_type": "code",
   "execution_count": null,
   "metadata": {},
   "outputs": [],
   "source": [
    "# plot_consensus(consensus_p1, non_bool_cols)"
   ]
  },
  {
   "cell_type": "code",
   "execution_count": null,
   "metadata": {},
   "outputs": [],
   "source": [
    "# plot_consensus(consensus_zero, non_bool_cols)"
   ]
  },
  {
   "cell_type": "code",
   "execution_count": null,
   "metadata": {},
   "outputs": [],
   "source": [
    "# consensus_zero.groupby(['winner'])['consensus'].agg(count=np.sum, mean=np.mean, std=np.std).\\\n",
    "#     sort_values('count', ascending=False).head(10)"
   ]
  },
  {
   "cell_type": "code",
   "execution_count": null,
   "metadata": {},
   "outputs": [],
   "source": [
    "# consensus_p5.groupby(['winner'])['consensus'].agg(count=np.sum, mean=np.mean, std=np.std).\\\n",
    "#     sort_values('count', ascending=False).head(10)"
   ]
  },
  {
   "cell_type": "code",
   "execution_count": null,
   "metadata": {},
   "outputs": [],
   "source": [
    "# consensus_p1.groupby(['winner'])['consensus'].agg(count=np.sum, mean=np.mean, std=np.std).\\\n",
    "#     sort_values('count', ascending=False).head(10)"
   ]
  },
  {
   "cell_type": "code",
   "execution_count": null,
   "metadata": {},
   "outputs": [],
   "source": [
    "c1 = consensus_zero[['case','winner','label','score']].copy()\n",
    "c1['perturb'] = 'full'\n",
    "\n",
    "c2 = consensus_p5[['case','winner','label','score']].copy()\n",
    "c2['perturb'] = '0.5'\n",
    "\n",
    "c3 = consensus_p3[['case','winner','label','score']].copy()\n",
    "c3['perturb'] = '0.3'\n",
    "\n",
    "c4 = consensus_p1[['case','winner','label','score']].copy()\n",
    "c4['perturb'] = '0.1'\n",
    "\n",
    "consens = pd.concat([c1, c2, c3, c4], axis=0)"
   ]
  },
  {
   "cell_type": "code",
   "execution_count": null,
   "metadata": {},
   "outputs": [],
   "source": [
    "len(consens) == 4 * len(consensus_zero)"
   ]
  },
  {
   "cell_type": "code",
   "execution_count": null,
   "metadata": {},
   "outputs": [],
   "source": [
    "consens.head()"
   ]
  },
  {
   "cell_type": "code",
   "execution_count": null,
   "metadata": {},
   "outputs": [],
   "source": [
    "consens = consens[np.isin(consens['winner'], non_bool_cols)]"
   ]
  },
  {
   "cell_type": "code",
   "execution_count": null,
   "metadata": {},
   "outputs": [],
   "source": [
    "def plot_sensitivity(consens, title='', topK=None, save=''):\n",
    "\n",
    "    \n",
    "    fig, ax = plt.subplots(nrows=1, ncols=2,figsize=(28, 12), sharey=True)\n",
    "        \n",
    "    df = consens\n",
    "    order = list(df[(df['label']==1)&(df['perturb']=='full')][['winner']].winner.value_counts().index.values) \n",
    "    if topK is not None:\n",
    "        order =  order[:topK]\n",
    "        df = df[np.isin(df['winner'], order)]\n",
    "        \n",
    "    sns.countplot(y=\"winner\", \n",
    "                  hue=\"perturb\", \n",
    "                  palette=\"pastel\", \n",
    "                  edgecolor=\".6\",\n",
    "                  data=df[df['label']==1], \n",
    "                  order=order,\n",
    "                  ax=ax[0]);\n",
    "    \n",
    "    sns.countplot(y=\"winner\", \n",
    "                  hue=\"perturb\", \n",
    "                  palette=\"pastel\", \n",
    "                  edgecolor=\".6\",\n",
    "                  data=df[df['label']==0], \n",
    "                  order=order,\n",
    "                  ax=ax[1]);\n",
    "        \n",
    "    \n",
    "    ax[0].set_title('Label=1' + title)\n",
    "    ax[0].set_ylabel('Top Magec')\n",
    "    ax[0].grid('on')\n",
    "    \n",
    "    ax[1].set_ylabel('')\n",
    "    ax[1].set_title('Label=0' + title)\n",
    "    ax[1].grid('on')\n",
    "    \n",
    "    for item in ([ax[0].title, ax[0].xaxis.label, ax[0].yaxis.label] +\n",
    "             ax[0].get_xticklabels() + ax[0].get_yticklabels()):\n",
    "        item.set_fontsize(21)\n",
    "        \n",
    "    for item in ([ax[1].title, ax[1].xaxis.label, ax[1].yaxis.label] +\n",
    "             ax[1].get_xticklabels() + ax[1].get_yticklabels()):\n",
    "        item.set_fontsize(21)\n",
    "    \n",
    "    plt.tight_layout()\n",
    "\n",
    "    if save:\n",
    "        fig.savefig(save, bbox_inches='tight')"
   ]
  },
  {
   "cell_type": "code",
   "execution_count": null,
   "metadata": {},
   "outputs": [],
   "source": [
    "plot_sensitivity(consens, topK=15, title=' (top 15 features)', save='magec_sensitivity.png')"
   ]
  },
  {
   "cell_type": "code",
   "execution_count": null,
   "metadata": {},
   "outputs": [],
   "source": [
    "def plot_rbo(df, save=''):\n",
    "    fig, ax = plt.subplots(nrows=1, ncols=1,figsize=(12, 14))\n",
    "    order = list(df.winner.value_counts().index.values)\n",
    "    sns.barplot(x='rbo', \n",
    "                y='winner' ,\n",
    "                data=df, \n",
    "                order=order,\n",
    "                palette=\"pastel\", \n",
    "                edgecolor=\".6\",\n",
    "                ci=None,\n",
    "                ax=ax);\n",
    "    ax.grid('on')\n",
    "    ax.set_title('MAgEC Average RBO')\n",
    "    ax.set_ylabel('Top MAgEC')\n",
    "    ax.set_xlabel('Average RBO from pairwise model RBOs')\n",
    "    for item in ([ax.title, ax.xaxis.label, ax.yaxis.label] +\n",
    "             ax.get_xticklabels() + ax.get_yticklabels()):\n",
    "        item.set_fontsize(21)\n",
    "    if save:\n",
    "        fig.savefig(save, bbox_inches='tight')"
   ]
  },
  {
   "cell_type": "code",
   "execution_count": null,
   "metadata": {},
   "outputs": [],
   "source": [
    "plot_rbo(consensus_zero, save='magec_rbos.png')"
   ]
  },
  {
   "cell_type": "code",
   "execution_count": null,
   "metadata": {},
   "outputs": [],
   "source": [
    "def rank_scores(ranks):\n",
    "    scores = {}\n",
    "    for (idx, row) in ranks.iterrows():\n",
    "        for i in range(1, 41):\n",
    "            for m in ('lr', 'svm', 'mlp'):\n",
    "                tmp = row[m + '_feat_' + str(i)]\n",
    "                if tmp != 'not_found':\n",
    "                    score = row[m + '_magec_' + str(i)]\n",
    "                    if tmp not in scores:\n",
    "                        scores[tmp] = abs(score)  # 1/i\n",
    "                    else:\n",
    "                        scores[tmp] += abs(score) # 1/i\n",
    "    scores = pd.DataFrame.from_dict(scores, orient='index')\n",
    "    scores = scores.reset_index()\n",
    "    scores.columns = ['feature', 'score']\n",
    "    return scores "
   ]
  },
  {
   "cell_type": "code",
   "execution_count": null,
   "metadata": {},
   "outputs": [],
   "source": [
    "ranks_zero_scores = rank_scores(ranks_zero)\n",
    "ranks_zero_scores['perturb'] = 'full'\n",
    "ranks_p5_scores = rank_scores(ranks_p5)\n",
    "ranks_p5_scores['perturb'] = '0.5'\n",
    "ranks_p1_scores = rank_scores(ranks_p1)\n",
    "ranks_p1_scores['perturb'] = '0.1'\n",
    "ranks_scores = pd.concat([ranks_zero_scores, ranks_p5_scores, ranks_p1_scores])"
   ]
  },
  {
   "cell_type": "code",
   "execution_count": null,
   "metadata": {},
   "outputs": [],
   "source": [
    "ranks_scores.head()"
   ]
  },
  {
   "cell_type": "code",
   "execution_count": null,
   "metadata": {},
   "outputs": [],
   "source": [
    "def bar_plot(df, score='score', feats=None, save=False,  topK=None):\n",
    "    if feats is not None:\n",
    "        df = df[np.isin(df['feature'], feats)]\n",
    "    else:\n",
    "        df = df\n",
    "    order = list(df.sort_values(score, ascending=False)['feature'].unique())\n",
    "    if topK is not None:\n",
    "        order =  order[:topK]\n",
    "        df = df[np.isin(df['feature'], order)]\n",
    "    #a4_dims = (11.7, 8.27)\n",
    "    a4_dims = (12, 20)\n",
    "    fig, ax = plt.subplots(figsize=a4_dims)\n",
    "    sns.barplot(x=score, y='feature', hue='perturb', \n",
    "                data=df, \n",
    "                order=order,\n",
    "                palette=\"pastel\", \n",
    "                edgecolor=\".6\",\n",
    "                ax=ax)\n",
    "    \n",
    "    for item in ([ax.title, ax.xaxis.label, ax.yaxis.label] +\n",
    "             ax.get_xticklabels() + ax.get_yticklabels()):\n",
    "        item.set_fontsize(21)\n",
    "        \n",
    "    if save:\n",
    "        fig.savefig(\"magec_ranks.png\", bbox_inches='tight')"
   ]
  },
  {
   "cell_type": "code",
   "execution_count": null,
   "metadata": {},
   "outputs": [],
   "source": [
    "bar_plot(ranks_scores, feats=non_bool_cols)"
   ]
  },
  {
   "cell_type": "code",
   "execution_count": null,
   "metadata": {},
   "outputs": [],
   "source": [
    "bar_plot(ranks_scores, feats=non_bool_cols, save=True)"
   ]
  },
  {
   "cell_type": "code",
   "execution_count": null,
   "metadata": {},
   "outputs": [],
   "source": [
    "bar_plot(ranks_scores, topK=10)"
   ]
  },
  {
   "cell_type": "code",
   "execution_count": null,
   "metadata": {},
   "outputs": [],
   "source": [
    "sns.barplot(x='', y='feature', hue='perturb', \n",
    "            data=df, \n",
    "                order=order,\n",
    "                palette=\"pastel\", \n",
    "                edgecolor=\".6\",\n",
    "                )"
   ]
  },
  {
   "cell_type": "code",
   "execution_count": null,
   "metadata": {},
   "outputs": [],
   "source": [
    "foo = pd.DataFrame(consensus_zero.groupby(['winner','label'])['rbo'].mean()).reset_index()\n",
    "order = list(foo.sort_values('rbo', ascending=False)['winner'].unique())"
   ]
  },
  {
   "cell_type": "code",
   "execution_count": null,
   "metadata": {},
   "outputs": [],
   "source": [
    "a4_dims = (12, 20)\n",
    "fig, ax = plt.subplots(figsize=a4_dims)\n",
    "sns.barplot(x='rbo', y='winner' ,\n",
    "            data=foo, \n",
    "            order=order,\n",
    "            palette=\"pastel\", \n",
    "            edgecolor=\".6\",\n",
    "            ax=ax);"
   ]
  },
  {
   "cell_type": "code",
   "execution_count": null,
   "metadata": {},
   "outputs": [],
   "source": [
    "a4_dims = (12, 20)\n",
    "fig, ax = plt.subplots(figsize=a4_dims)\n",
    "sns.barplot(x='rbo', y='winner' ,\n",
    "            data=consensus_zero, \n",
    "            order=order,\n",
    "            palette=\"pastel\", \n",
    "            edgecolor=\".6\",\n",
    "            ax=ax);"
   ]
  },
  {
   "cell_type": "code",
   "execution_count": null,
   "metadata": {},
   "outputs": [],
   "source": [
    "with open(\"shap_values\", \"rb\") as f:\n",
    "    shap_values = pickle.load(f)"
   ]
  },
  {
   "cell_type": "code",
   "execution_count": null,
   "metadata": {},
   "outputs": [],
   "source": [
    "plt.figure()\n",
    "shap.summary_plot(shap_values, plot_type=\"bar\", show=False)\n",
    "plt.savefig('mimic_svm_shap.png', bbox_inches='tight')"
   ]
  },
  {
   "cell_type": "code",
   "execution_count": null,
   "metadata": {},
   "outputs": [],
   "source": [
    "ranks_scores"
   ]
  },
  {
   "cell_type": "code",
   "execution_count": null,
   "metadata": {},
   "outputs": [],
   "source": [
    "ranks_scores[ranks_scores['feature'] == 'last_resprate_mean']"
   ]
  },
  {
   "cell_type": "code",
   "execution_count": null,
   "metadata": {},
   "outputs": [],
   "source": [
    "512.517392 / 438.626176, 438.626176 / 168.315313"
   ]
  },
  {
   "cell_type": "code",
   "execution_count": null,
   "metadata": {},
   "outputs": [],
   "source": [
    "ranks_scores[ranks_scores['feature'] == 'last_heartrate_mean']"
   ]
  },
  {
   "cell_type": "code",
   "execution_count": null,
   "metadata": {},
   "outputs": [],
   "source": [
    "654.573176 / 525.322429, 525.322429 / 188.130093"
   ]
  },
  {
   "cell_type": "code",
   "execution_count": null,
   "metadata": {},
   "outputs": [],
   "source": [
    "np.sqrt(5)"
   ]
  },
  {
   "cell_type": "code",
   "execution_count": null,
   "metadata": {},
   "outputs": [],
   "source": [
    "others = list()\n",
    "models = ('lr', 'svm', 'mlp')\n",
    "for i,m in enumerate([lr, sv, mlp]):\n",
    "    preds = pd.DataFrame(m.predict_proba(xst_valid)[:, 1])\n",
    "    preds.columns = [models[i] + '_prob_1']\n",
    "    others.append(preds)"
   ]
  },
  {
   "cell_type": "code",
   "execution_count": null,
   "metadata": {},
   "outputs": [],
   "source": [
    "preds = pd.concat(others + [Y_valid.reset_index()], axis=1)"
   ]
  },
  {
   "cell_type": "code",
   "execution_count": null,
   "metadata": {},
   "outputs": [],
   "source": [
    "preds['ensemble_prob'] = preds[['lr_prob_1','svm_prob_1','mlp_prob_1']].mean(axis=1)"
   ]
  },
  {
   "cell_type": "code",
   "execution_count": null,
   "metadata": {},
   "outputs": [],
   "source": [
    "preds['class_1'] = (preds['ensemble_prob'] >= 0.5).astype(int)"
   ]
  },
  {
   "cell_type": "code",
   "execution_count": null,
   "metadata": {},
   "outputs": [],
   "source": [
    "preds.head()"
   ]
  },
  {
   "cell_type": "code",
   "execution_count": null,
   "metadata": {},
   "outputs": [],
   "source": [
    "accuracy, precision, recall, f1, auc = mg.model_metrics(preds['ensemble_prob'],\n",
    "                                                        preds['class_1'],\n",
    "                                                        preds['label'],\n",
    "                                                        verbose=True)"
   ]
  },
  {
   "cell_type": "code",
   "execution_count": null,
   "metadata": {},
   "outputs": [],
   "source": []
  }
 ],
 "metadata": {
  "kernelspec": {
   "display_name": "Python 3",
   "language": "python",
   "name": "python3"
  },
  "language_info": {
   "codemirror_mode": {
    "name": "ipython",
    "version": 3
   },
   "file_extension": ".py",
   "mimetype": "text/x-python",
   "name": "python",
   "nbconvert_exporter": "python",
   "pygments_lexer": "ipython3",
   "version": "3.7.7"
  }
 },
 "nbformat": 4,
 "nbformat_minor": 4
}
