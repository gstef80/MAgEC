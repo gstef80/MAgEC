{
 "cells": [
  {
   "cell_type": "code",
   "execution_count": 1,
   "metadata": {},
   "outputs": [
    {
     "name": "stderr",
     "output_type": "stream",
     "text": [
      "Using TensorFlow backend.\n"
     ]
    }
   ],
   "source": [
    "import numpy as np\n",
    "import pandas as pd\n",
    "import magec_utils as mg\n",
    "import mimic_utils as mimic\n",
    "import matplotlib\n",
    "import matplotlib.pyplot as plt\n",
    "from sklearn.utils import class_weight\n",
    "\n",
    "pd.set_option('display.max_columns', None)\n",
    "\n",
    "%matplotlib inline"
   ]
  },
  {
   "cell_type": "code",
   "execution_count": 2,
   "metadata": {},
   "outputs": [],
   "source": [
    "# MIMIC-III\n",
    "vitals = ['heartrate_mean', 'sysbp_mean', 'diasbp_mean', 'meanbp_mean',\n",
    "          'resprate_mean', 'tempc_mean', 'spo2_mean', 'glucose_mean']\n",
    "\n",
    "labs = ['aniongap', 'albumin', 'bicarbonate', 'bilirubin', 'creatinine', \n",
    "        'chloride', 'glucose', 'hemoglobin', 'lactate', \n",
    "        'magnesium', 'phosphate', 'platelet', 'potassium', 'ptt', 'inr', \n",
    "        'pt', 'sodium', 'bun', 'wbc']  # -hematocrit\n",
    "\n",
    "comobs = ['congestive_heart_failure', 'chronic_pulmonary', 'pulmonary_circulation']\n",
    "\n",
    "others = ['age', 'gender']\n",
    "\n",
    "features = vitals+labs\n",
    "\n",
    "df_cohort = mimic.get_mimic_data()"
   ]
  },
  {
   "cell_type": "code",
   "execution_count": 3,
   "metadata": {},
   "outputs": [],
   "source": [
    "df_ml = df_cohort.set_index(['subject_id', 'timepoint'])\n",
    "df_ml = df_ml.sort_index(level=[0, 1], ascending=[1, 0])"
   ]
  },
  {
   "cell_type": "code",
   "execution_count": 4,
   "metadata": {},
   "outputs": [],
   "source": [
    "def featurize(df, outcome):\n",
    "    out = dict()\n",
    "    for lab in labs:\n",
    "        out[lab] = last_val(df[lab])\n",
    "    for vital in vitals:\n",
    "        out['first_'+vital] = first_val(df[vital])\n",
    "        out['last_'+vital] = last_val(df[vital])\n",
    "    for comob in comobs:\n",
    "        out[comob] = last_val(df[comob])\n",
    "    for other in others:\n",
    "        out[other] = last_val(df[other])\n",
    "    out['label'] = int(df[outcome].iloc[-1])\n",
    "    return pd.Series(out)\n",
    "\n",
    "def first_val(x):\n",
    "    vals = list(x[~np.isnan(x)])\n",
    "    if len(vals):\n",
    "        return vals[0]\n",
    "    else:\n",
    "        return None\n",
    "\n",
    "def last_val(x):\n",
    "    vals = list(x[~np.isnan(x)])\n",
    "    if len(vals):\n",
    "        return vals[-1]\n",
    "    else:\n",
    "        return None"
   ]
  },
  {
   "cell_type": "code",
   "execution_count": 5,
   "metadata": {},
   "outputs": [],
   "source": [
    "df_ml = df_ml.reset_index(1).groupby(level=0, group_keys=False).apply(lambda x: featurize(x, 'ventilated'))"
   ]
  },
  {
   "cell_type": "code",
   "execution_count": 6,
   "metadata": {},
   "outputs": [],
   "source": [
    "from sklearn.preprocessing import StandardScaler\n",
    "\n",
    "def impute(df):\n",
    "    df[labs] = df[labs].fillna(df[labs].mean())\n",
    "    for vital in vitals:\n",
    "        df['first_'+vital] = df['first_'+vital].fillna(df['first_'+vital].mean())\n",
    "        df['last_'+vital] = df['last_'+vital].fillna(df['last_'+vital].mean())    \n",
    "    df[comobs] = df[comobs].fillna(0)\n",
    "    return df\n",
    "\n",
    "def train_valid_ml(df_ml, test_size=0.2, seed=7):\n",
    "    np.random.seed(seed)\n",
    "\n",
    "    x_cols = list(set(df_ml.columns) - {'subject_id', 'label'})\n",
    "    y_cols = ['subject_id', 'label']\n",
    "\n",
    "    cases = df_ml['subject_id'].unique()\n",
    "\n",
    "    np.random.shuffle(cases)  # inplace shuffle\n",
    "\n",
    "    valid_cases = cases[:int(len(cases) * test_size)]\n",
    "    train_cases = cases[int(len(cases) * test_size):]\n",
    "\n",
    "    train_cases = np.isin(df_ml['subject_id'], train_cases)\n",
    "    valid_cases = np.isin(df_ml['subject_id'], valid_cases)\n",
    "\n",
    "    xy_train = df_ml.loc[train_cases, :]\n",
    "    x_train = xy_train[x_cols].copy()\n",
    "    Y_train = xy_train[y_cols].copy()\n",
    "\n",
    "    xy_valid = df_ml.loc[valid_cases, :]\n",
    "    x_valid = xy_valid[x_cols].copy()\n",
    "    Y_valid = xy_valid[y_cols].copy()\n",
    "\n",
    "    x_train = impute(x_train)\n",
    "    x_valid = impute(x_valid)\n",
    "\n",
    "    stsc = StandardScaler()\n",
    "    xst_train = stsc.fit_transform(x_train)\n",
    "    xst_train = pd.DataFrame(xst_train, index=x_train.index, columns=x_train.columns)\n",
    "\n",
    "    xst_valid = stsc.transform(x_valid)\n",
    "    xst_valid = pd.DataFrame(xst_valid, index=x_valid.index, columns=x_valid.columns)\n",
    "\n",
    "    return x_train, x_valid, stsc, xst_train, xst_valid, Y_train, Y_valid"
   ]
  },
  {
   "cell_type": "code",
   "execution_count": 7,
   "metadata": {},
   "outputs": [],
   "source": [
    "x_train, x_valid, stsc, xst_train, xst_valid, Y_train, Y_valid = train_valid_ml(df_ml.reset_index())"
   ]
  },
  {
   "cell_type": "code",
   "execution_count": 8,
   "metadata": {},
   "outputs": [],
   "source": [
    "def add_timepoint(df):\n",
    "    df.index.names = [\"case\"]\n",
    "    df = df.reset_index()\n",
    "    df['timepoint'] = 0\n",
    "    df = df.set_index(['case','timepoint'])\n",
    "    return df"
   ]
  },
  {
   "cell_type": "code",
   "execution_count": 9,
   "metadata": {},
   "outputs": [],
   "source": [
    "xst_valid = add_timepoint(xst_valid)\n",
    "Y_valid = add_timepoint(Y_valid)"
   ]
  },
  {
   "cell_type": "code",
   "execution_count": 10,
   "metadata": {},
   "outputs": [],
   "source": [
    "from keras.models import Sequential\n",
    "from keras.layers import Dense\n",
    "from keras.layers import Dropout\n",
    "from keras.wrappers.scikit_learn import KerasClassifier\n",
    "from sklearn.preprocessing import StandardScaler\n",
    "from sklearn.ensemble import RandomForestClassifier\n",
    "from sklearn.calibration import CalibratedClassifierCV\n",
    "from sklearn.linear_model import LogisticRegression\n",
    "from sklearn import svm"
   ]
  },
  {
   "cell_type": "code",
   "execution_count": 11,
   "metadata": {},
   "outputs": [],
   "source": [
    "from sklearn.utils import class_weight\n",
    "\n",
    "class_weights = class_weight.compute_class_weight('balanced',\n",
    "                                                  np.unique(Y_train['label']),\n",
    "                                                  Y_train['label'])"
   ]
  },
  {
   "cell_type": "code",
   "execution_count": 12,
   "metadata": {},
   "outputs": [
    {
     "data": {
      "text/plain": [
       "array([0.61911131, 2.59887711])"
      ]
     },
     "execution_count": 12,
     "metadata": {},
     "output_type": "execute_result"
    }
   ],
   "source": [
    "class_weights"
   ]
  },
  {
   "cell_type": "code",
   "execution_count": 13,
   "metadata": {},
   "outputs": [
    {
     "name": "stdout",
     "output_type": "stream",
     "text": [
      "Built MLP classifier!\n",
      "Built SVM classifier!\n",
      "Built LR classifier!\n"
     ]
    }
   ],
   "source": [
    "def create_mlp():\n",
    "    mlp = Sequential()\n",
    "    mlp.add(Dense(60, input_dim=len(xst_train.columns), activation='relu'))\n",
    "    mlp.add(Dropout(0.2))\n",
    "    mlp.add(Dense(30, input_dim=60, activation='relu'))\n",
    "    mlp.add(Dropout(0.2))\n",
    "    mlp.add(Dense(1, activation='sigmoid'))\n",
    "    mlp.compile(loss='binary_crossentropy',\n",
    "                loss_weights=[class_weights[0]], optimizer='adam', metrics=['accuracy'])\n",
    "    return mlp\n",
    "\n",
    "mlp = KerasClassifier(build_fn=create_mlp, epochs=100, batch_size=64, verbose=0)\n",
    "mlp.fit(xst_train, Y_train['label'], epochs=100, batch_size=64, verbose=0)\n",
    "print('Built MLP classifier!')\n",
    "\n",
    "sv = svm.SVC(probability=True, class_weight=\"balanced\")\n",
    "sv.fit(xst_train, Y_train['label'])\n",
    "print('Built SVM classifier!')\n",
    "\n",
    "lr = LogisticRegression(C=1., class_weight='balanced', solver='lbfgs')\n",
    "lr.fit(xst_train, Y_train['label'])\n",
    "print('Built LR classifier!')"
   ]
  },
  {
   "cell_type": "code",
   "execution_count": 14,
   "metadata": {},
   "outputs": [
    {
     "name": "stdout",
     "output_type": "stream",
     "text": [
      "Built RF classifier!\n"
     ]
    }
   ],
   "source": [
    "rf = CalibratedClassifierCV(RandomForestClassifier(n_estimators=100,\n",
    "                                                   min_samples_split=50,\n",
    "                                                   min_samples_leaf=3,\n",
    "                                                   max_features='sqrt',\n",
    "                                                   max_depth=10,\n",
    "                                                   bootstrap=True,\n",
    "                                                   n_jobs=-1,\n",
    "                                                   class_weight=\"balanced\"),\n",
    "                            method='sigmoid', cv=5)\n",
    "rf.fit(xst_train, Y_train['label'])\n",
    "print('Built RF classifier!')"
   ]
  },
  {
   "cell_type": "code",
   "execution_count": 15,
   "metadata": {},
   "outputs": [
    {
     "name": "stdout",
     "output_type": "stream",
     "text": [
      "Accuracy: 0.860298\n",
      "Precision: 0.769231\n",
      "Recall: 0.431655\n",
      "F1 score: 0.552995\n",
      "ROC AUC: 0.824334\n",
      "[[1612   54]\n",
      " [ 237  180]]\n"
     ]
    }
   ],
   "source": [
    "mg.evaluate(mlp, xst_valid, Y_valid['label'], verbose=True);"
   ]
  },
  {
   "cell_type": "code",
   "execution_count": 16,
   "metadata": {},
   "outputs": [
    {
     "name": "stdout",
     "output_type": "stream",
     "text": [
      "Accuracy: 0.779165\n",
      "Precision: 0.465154\n",
      "Recall: 0.688249\n",
      "F1 score: 0.555126\n",
      "ROC AUC: 0.809303\n",
      "[[1336  330]\n",
      " [ 130  287]]\n"
     ]
    }
   ],
   "source": [
    "mg.evaluate(sv, xst_valid, Y_valid['label'], verbose=True);"
   ]
  },
  {
   "cell_type": "code",
   "execution_count": 17,
   "metadata": {},
   "outputs": [
    {
     "name": "stdout",
     "output_type": "stream",
     "text": [
      "Accuracy: 0.672108\n",
      "Precision: 0.338983\n",
      "Recall: 0.671463\n",
      "F1 score: 0.450523\n",
      "ROC AUC: 0.721503\n",
      "[[1120  546]\n",
      " [ 137  280]]\n"
     ]
    }
   ],
   "source": [
    "mg.evaluate(lr, xst_valid, Y_valid['label'], verbose=True);"
   ]
  },
  {
   "cell_type": "code",
   "execution_count": 18,
   "metadata": {},
   "outputs": [
    {
     "name": "stdout",
     "output_type": "stream",
     "text": [
      "Accuracy: 0.806049\n",
      "Precision: 0.606557\n",
      "Recall: 0.088729\n",
      "F1 score: 0.154812\n",
      "ROC AUC: 0.827203\n",
      "[[1642   24]\n",
      " [ 380   37]]\n"
     ]
    }
   ],
   "source": [
    "mg.evaluate(rf, xst_valid, Y_valid['label'], verbose=True);"
   ]
  },
  {
   "cell_type": "code",
   "execution_count": 19,
   "metadata": {},
   "outputs": [],
   "source": [
    "magecs_lr = mg.case_magecs(lr, xst_valid, model_name='lr')\n",
    "magecs_lr = mg.normalize_magecs(magecs_lr, features=None, model_name='lr')\n",
    "\n",
    "magecs_svm = mg.case_magecs(sv, xst_valid, model_name='svm')\n",
    "magecs_svm = mg.normalize_magecs(magecs_svm, features=None, model_name='svm')\n",
    "\n",
    "magecs_mlp = mg.case_magecs(mlp, xst_valid, model_name='mlp')\n",
    "magecs_mlp = mg.normalize_magecs(magecs_mlp, features=None, model_name='mlp')"
   ]
  },
  {
   "cell_type": "code",
   "execution_count": 20,
   "metadata": {},
   "outputs": [],
   "source": [
    "vits = ['heartrate_mean', 'sysbp_mean', 'diasbp_mean', \n",
    "        'meanbp_mean', 'resprate_mean', 'spo2_mean']\n",
    "\n",
    "drivers = ['first_' + x for x in vits] + ['last_' + x for x in vits]"
   ]
  },
  {
   "cell_type": "code",
   "execution_count": 21,
   "metadata": {},
   "outputs": [],
   "source": [
    "feats = drivers + labs"
   ]
  },
  {
   "cell_type": "code",
   "execution_count": 22,
   "metadata": {},
   "outputs": [],
   "source": [
    "joined = mg.magec_models(magecs_mlp, magecs_svm, magecs_lr, \n",
    "                         Xdata=xst_valid, Ydata=Y_valid['label'], features=feats)"
   ]
  },
  {
   "cell_type": "code",
   "execution_count": 23,
   "metadata": {},
   "outputs": [],
   "source": [
    "def most_abnormal(x, features):\n",
    "    res = None\n",
    "    feat = None\n",
    "    for f in features:\n",
    "        if res is None or abs(x[f]) > res:\n",
    "            res = abs(x[f])\n",
    "            feat = f\n",
    "    return feat"
   ]
  },
  {
   "cell_type": "code",
   "execution_count": 24,
   "metadata": {},
   "outputs": [],
   "source": [
    "prob_cols = [c for c in joined.columns if c.startswith('perturb') and '_'.join(c.split('_')[1:-2]) in feats]"
   ]
  },
  {
   "cell_type": "code",
   "execution_count": 25,
   "metadata": {},
   "outputs": [],
   "source": [
    "joined['orig_prob_ensemble'] = joined[['orig_prob_mlp', 'orig_prob_lr', 'orig_prob_svm']].apply(np.mean, 1)"
   ]
  },
  {
   "cell_type": "code",
   "execution_count": 26,
   "metadata": {},
   "outputs": [],
   "source": [
    "joined[['best_feat', 'new_risk', 'rank_feat', 'rank_val', 'top_rank_prob']] = joined.apply(\n",
    "    lambda x: mimic.best_feature(x, prob_cols), axis=1)"
   ]
  },
  {
   "cell_type": "code",
   "execution_count": 27,
   "metadata": {},
   "outputs": [],
   "source": [
    "joined['most_abnormal'] = joined.apply(lambda x: most_abnormal(x, feats), axis=1)"
   ]
  },
  {
   "cell_type": "code",
   "execution_count": 31,
   "metadata": {},
   "outputs": [
    {
     "data": {
      "text/html": [
       "<div>\n",
       "<style scoped>\n",
       "    .dataframe tbody tr th:only-of-type {\n",
       "        vertical-align: middle;\n",
       "    }\n",
       "\n",
       "    .dataframe tbody tr th {\n",
       "        vertical-align: top;\n",
       "    }\n",
       "\n",
       "    .dataframe thead th {\n",
       "        text-align: right;\n",
       "    }\n",
       "</style>\n",
       "<table border=\"1\" class=\"dataframe\">\n",
       "  <thead>\n",
       "    <tr style=\"text-align: right;\">\n",
       "      <th></th>\n",
       "      <th>orig_prob_ensemble</th>\n",
       "      <th>most_abnormal</th>\n",
       "      <th>best_feat</th>\n",
       "      <th>new_risk</th>\n",
       "      <th>rank_feat</th>\n",
       "      <th>rank_val</th>\n",
       "      <th>top_rank_prob</th>\n",
       "    </tr>\n",
       "  </thead>\n",
       "  <tbody>\n",
       "    <tr>\n",
       "      <th>0</th>\n",
       "      <td>0.383190</td>\n",
       "      <td>last_resprate_mean</td>\n",
       "      <td>last_resprate_mean</td>\n",
       "      <td>0.278798</td>\n",
       "      <td>last_resprate_mean</td>\n",
       "      <td>-1.002250</td>\n",
       "      <td>0.278798</td>\n",
       "    </tr>\n",
       "    <tr>\n",
       "      <th>1</th>\n",
       "      <td>0.071798</td>\n",
       "      <td>platelet</td>\n",
       "      <td>first_diasbp_mean</td>\n",
       "      <td>0.044894</td>\n",
       "      <td>first_diasbp_mean</td>\n",
       "      <td>-0.577057</td>\n",
       "      <td>0.044894</td>\n",
       "    </tr>\n",
       "    <tr>\n",
       "      <th>2</th>\n",
       "      <td>0.274793</td>\n",
       "      <td>hemoglobin</td>\n",
       "      <td>aniongap</td>\n",
       "      <td>0.209148</td>\n",
       "      <td>aniongap</td>\n",
       "      <td>-0.770798</td>\n",
       "      <td>0.209148</td>\n",
       "    </tr>\n",
       "    <tr>\n",
       "      <th>3</th>\n",
       "      <td>0.224739</td>\n",
       "      <td>chloride</td>\n",
       "      <td>last_diasbp_mean</td>\n",
       "      <td>0.202640</td>\n",
       "      <td>last_sysbp_mean</td>\n",
       "      <td>-0.489628</td>\n",
       "      <td>0.204541</td>\n",
       "    </tr>\n",
       "    <tr>\n",
       "      <th>4</th>\n",
       "      <td>0.086288</td>\n",
       "      <td>hemoglobin</td>\n",
       "      <td>last_meanbp_mean</td>\n",
       "      <td>0.055838</td>\n",
       "      <td>last_meanbp_mean</td>\n",
       "      <td>-0.898212</td>\n",
       "      <td>0.055838</td>\n",
       "    </tr>\n",
       "  </tbody>\n",
       "</table>\n",
       "</div>"
      ],
      "text/plain": [
       "   orig_prob_ensemble       most_abnormal           best_feat  new_risk  \\\n",
       "0            0.383190  last_resprate_mean  last_resprate_mean  0.278798   \n",
       "1            0.071798            platelet   first_diasbp_mean  0.044894   \n",
       "2            0.274793          hemoglobin            aniongap  0.209148   \n",
       "3            0.224739            chloride    last_diasbp_mean  0.202640   \n",
       "4            0.086288          hemoglobin    last_meanbp_mean  0.055838   \n",
       "\n",
       "            rank_feat  rank_val  top_rank_prob  \n",
       "0  last_resprate_mean -1.002250       0.278798  \n",
       "1   first_diasbp_mean -0.577057       0.044894  \n",
       "2            aniongap -0.770798       0.209148  \n",
       "3     last_sysbp_mean -0.489628       0.204541  \n",
       "4    last_meanbp_mean -0.898212       0.055838  "
      ]
     },
     "execution_count": 31,
     "metadata": {},
     "output_type": "execute_result"
    }
   ],
   "source": [
    "joined[['orig_prob_ensemble', 'most_abnormal','best_feat', 'new_risk', \n",
    "        'rank_feat', 'rank_val', 'top_rank_prob']].head()"
   ]
  },
  {
   "cell_type": "code",
   "execution_count": 32,
   "metadata": {},
   "outputs": [
    {
     "data": {
      "text/plain": [
       "0.19635141622659624"
      ]
     },
     "execution_count": 32,
     "metadata": {},
     "output_type": "execute_result"
    }
   ],
   "source": [
    "np.sum(joined['best_feat'] != joined['rank_feat']) / len(joined)"
   ]
  },
  {
   "cell_type": "code",
   "execution_count": 33,
   "metadata": {},
   "outputs": [],
   "source": [
    "def expected(x, drivers, sigmas=0.5, threshold=0.5):\n",
    "    orig_prob_ensemble = x['orig_prob_ensemble']\n",
    "    best_feat = x['best_feat']\n",
    "    rank_feat = x['rank_feat']\n",
    "    label = x['label']\n",
    "    # some predicates\n",
    "    cond1 = orig_prob_ensemble > threshold  # models predict MV (ventilated)\n",
    "    cond2 = np.all(abs(x[drivers]) <= sigmas)  # all drivers are 'normal'\n",
    "    cond3 = np.isin(best_feat, drivers) or np.isin(rank_feat, drivers) # MAgEC 'best/ranked feature' is a driver\n",
    "#     cond4 = x[best_feat] > sigmas # MAgEC 'best feature' is 'abnormal'\n",
    "    cond5 = label == 1  # patient was ventilated\n",
    "    # Unexpected (ventilated):\n",
    "    # 1. ensemble_probability greater than 0.5, \n",
    "    # 2. all drivers are normal\n",
    "    # 3. best feature is not a driver \n",
    "    # 4. patient was ventillated\n",
    "    if cond1 and cond2 and (not cond3) and cond5:\n",
    "        return 'unexpected_ventilated_nondriver'\n",
    "    elif cond1 and cond2 and cond3 and cond5:\n",
    "        return 'unexpected_ventilated_driver'\n",
    "    # Missed Unexpected (ventilated)\n",
    "    elif (not cond1) and cond2 and cond5:\n",
    "        return 'missed_unexpected_ventilated'\n",
    "    # Expected (ventilated): \n",
    "    # 1. one or more drivers were abnormal\n",
    "    # 2. patient was ventillated\n",
    "    elif cond1 and (not cond2) and (not cond3) and cond5:\n",
    "        return 'expected_ventilated_nondriver'\n",
    "    elif cond1 and (not cond2) and cond3 and cond5:\n",
    "        return 'expected_ventilated_driver'\n",
    "    elif (not cond1) and (not cond2) and cond5:\n",
    "        return 'missed_expected_ventilated'\n",
    "    # Other (ventilated)\n",
    "    elif cond5:\n",
    "        return 'other_ventilated'\n",
    "    # Unexpected (not ventilated)\n",
    "    # 1. ensemble_probability less than 0.5\n",
    "    # 2. one or more drivers are abnormal\n",
    "    # 3. patient was not ventilated\n",
    "    elif (not cond1) and (not cond2) and (not cond5):\n",
    "        return 'unexpected_notventilated'\n",
    "    # Expected (not ventilated)\n",
    "    # 1. ensemble_probability less than 0.5\n",
    "    # 2. all drivers are normal\n",
    "    # 3. patient was not ventilated\n",
    "    elif (not cond1) and cond2 and (not cond5):\n",
    "        return 'expected_notventilated'\n",
    "    elif cond1 and (not cond5):\n",
    "        return 'missed_notventilated'\n",
    "    elif (not cond5):\n",
    "        return 'other_notventilated'\n",
    "    else:\n",
    "        return 'other'"
   ]
  },
  {
   "cell_type": "code",
   "execution_count": 34,
   "metadata": {},
   "outputs": [],
   "source": [
    "joined['stats'] = joined.apply(lambda x: expected(x, drivers), axis=1)"
   ]
  },
  {
   "cell_type": "code",
   "execution_count": 35,
   "metadata": {},
   "outputs": [
    {
     "data": {
      "text/plain": [
       "unexpected_notventilated           1564\n",
       "missed_expected_ventilated          200\n",
       "unexpected_ventilated_nondriver     124\n",
       "missed_notventilated                 97\n",
       "expected_ventilated_driver           75\n",
       "missed_unexpected_ventilated          9\n",
       "expected_ventilated_nondriver         8\n",
       "expected_notventilated                5\n",
       "unexpected_ventilated_driver          1\n",
       "Name: stats, dtype: int64"
      ]
     },
     "execution_count": 35,
     "metadata": {},
     "output_type": "execute_result"
    }
   ],
   "source": [
    "joined['stats'].value_counts()"
   ]
  },
  {
   "cell_type": "code",
   "execution_count": 36,
   "metadata": {},
   "outputs": [],
   "source": [
    "excluded = set(df_ml[np.all(np.isnan(df_ml[drivers]), axis=1)].index.values)"
   ]
  },
  {
   "cell_type": "code",
   "execution_count": 37,
   "metadata": {},
   "outputs": [
    {
     "data": {
      "text/plain": [
       "(705, 10415)"
      ]
     },
     "execution_count": 37,
     "metadata": {},
     "output_type": "execute_result"
    }
   ],
   "source": [
    "len(excluded), df_cohort.subject_id.nunique()"
   ]
  },
  {
   "cell_type": "code",
   "execution_count": 38,
   "metadata": {},
   "outputs": [
    {
     "data": {
      "text/plain": [
       "(2083, 2047)"
      ]
     },
     "execution_count": 38,
     "metadata": {},
     "output_type": "execute_result"
    }
   ],
   "source": [
    "filtered = joined[~np.isin(joined.case, list(excluded))]\n",
    "len(joined), len(filtered)"
   ]
  },
  {
   "cell_type": "code",
   "execution_count": 39,
   "metadata": {},
   "outputs": [
    {
     "data": {
      "text/plain": [
       "expected_notventilated                5\n",
       "expected_ventilated_driver           74\n",
       "expected_ventilated_nondriver         8\n",
       "missed_expected_ventilated          196\n",
       "missed_notventilated                 96\n",
       "missed_unexpected_ventilated          9\n",
       "unexpected_notventilated           1535\n",
       "unexpected_ventilated_driver          1\n",
       "unexpected_ventilated_nondriver     123\n",
       "Name: stats, dtype: int64"
      ]
     },
     "execution_count": 39,
     "metadata": {},
     "output_type": "execute_result"
    }
   ],
   "source": [
    "filtered['stats'].value_counts().sort_index()"
   ]
  },
  {
   "cell_type": "code",
   "execution_count": 41,
   "metadata": {},
   "outputs": [
    {
     "data": {
      "text/html": [
       "<div>\n",
       "<style scoped>\n",
       "    .dataframe tbody tr th:only-of-type {\n",
       "        vertical-align: middle;\n",
       "    }\n",
       "\n",
       "    .dataframe tbody tr th {\n",
       "        vertical-align: top;\n",
       "    }\n",
       "\n",
       "    .dataframe thead th {\n",
       "        text-align: right;\n",
       "    }\n",
       "</style>\n",
       "<table border=\"1\" class=\"dataframe\">\n",
       "  <thead>\n",
       "    <tr style=\"text-align: right;\">\n",
       "      <th></th>\n",
       "      <th>first_heartrate_mean</th>\n",
       "      <th>first_sysbp_mean</th>\n",
       "      <th>first_diasbp_mean</th>\n",
       "      <th>first_meanbp_mean</th>\n",
       "      <th>first_resprate_mean</th>\n",
       "      <th>first_spo2_mean</th>\n",
       "      <th>last_heartrate_mean</th>\n",
       "      <th>last_sysbp_mean</th>\n",
       "      <th>last_diasbp_mean</th>\n",
       "      <th>last_meanbp_mean</th>\n",
       "      <th>last_resprate_mean</th>\n",
       "      <th>last_spo2_mean</th>\n",
       "      <th>orig_prob_ensemble</th>\n",
       "      <th>new_risk</th>\n",
       "      <th>most_abnormal</th>\n",
       "      <th>best_feat</th>\n",
       "      <th>rank_feat</th>\n",
       "      <th>rank_val</th>\n",
       "      <th>top_rank_prob</th>\n",
       "      <th>stats</th>\n",
       "      <th>case</th>\n",
       "    </tr>\n",
       "  </thead>\n",
       "  <tbody>\n",
       "    <tr>\n",
       "      <th>13</th>\n",
       "      <td>-0.003458</td>\n",
       "      <td>-0.062489</td>\n",
       "      <td>-0.038729</td>\n",
       "      <td>-0.049032</td>\n",
       "      <td>0.01624</td>\n",
       "      <td>-0.009033</td>\n",
       "      <td>0.008451</td>\n",
       "      <td>-0.035547</td>\n",
       "      <td>-0.037171</td>\n",
       "      <td>-0.048262</td>\n",
       "      <td>0.050648</td>\n",
       "      <td>0.036792</td>\n",
       "      <td>0.642958</td>\n",
       "      <td>0.568236</td>\n",
       "      <td>lactate</td>\n",
       "      <td>aniongap</td>\n",
       "      <td>aniongap</td>\n",
       "      <td>-0.344505</td>\n",
       "      <td>0.568236</td>\n",
       "      <td>unexpected_ventilated_nondriver</td>\n",
       "      <td>53</td>\n",
       "    </tr>\n",
       "    <tr>\n",
       "      <th>32</th>\n",
       "      <td>-0.003458</td>\n",
       "      <td>-0.062489</td>\n",
       "      <td>-0.038729</td>\n",
       "      <td>-0.049032</td>\n",
       "      <td>0.01624</td>\n",
       "      <td>-0.009033</td>\n",
       "      <td>0.008451</td>\n",
       "      <td>-0.035547</td>\n",
       "      <td>-0.037171</td>\n",
       "      <td>-0.048262</td>\n",
       "      <td>0.050648</td>\n",
       "      <td>0.036792</td>\n",
       "      <td>0.749292</td>\n",
       "      <td>0.712471</td>\n",
       "      <td>sodium</td>\n",
       "      <td>aniongap</td>\n",
       "      <td>aniongap</td>\n",
       "      <td>-0.649668</td>\n",
       "      <td>0.712471</td>\n",
       "      <td>unexpected_ventilated_nondriver</td>\n",
       "      <td>140</td>\n",
       "    </tr>\n",
       "    <tr>\n",
       "      <th>33</th>\n",
       "      <td>-0.003458</td>\n",
       "      <td>-0.062489</td>\n",
       "      <td>-0.038729</td>\n",
       "      <td>-0.049032</td>\n",
       "      <td>0.01624</td>\n",
       "      <td>-0.009033</td>\n",
       "      <td>0.008451</td>\n",
       "      <td>-0.035547</td>\n",
       "      <td>-0.037171</td>\n",
       "      <td>-0.048262</td>\n",
       "      <td>0.050648</td>\n",
       "      <td>0.036792</td>\n",
       "      <td>0.624619</td>\n",
       "      <td>0.598686</td>\n",
       "      <td>albumin</td>\n",
       "      <td>bilirubin</td>\n",
       "      <td>albumin</td>\n",
       "      <td>-0.604841</td>\n",
       "      <td>0.599112</td>\n",
       "      <td>unexpected_ventilated_nondriver</td>\n",
       "      <td>147</td>\n",
       "    </tr>\n",
       "    <tr>\n",
       "      <th>44</th>\n",
       "      <td>-0.003458</td>\n",
       "      <td>-0.062489</td>\n",
       "      <td>-0.038729</td>\n",
       "      <td>-0.049032</td>\n",
       "      <td>0.01624</td>\n",
       "      <td>-0.009033</td>\n",
       "      <td>0.008451</td>\n",
       "      <td>-0.035547</td>\n",
       "      <td>-0.037171</td>\n",
       "      <td>-0.048262</td>\n",
       "      <td>0.050648</td>\n",
       "      <td>0.036792</td>\n",
       "      <td>0.701293</td>\n",
       "      <td>0.671838</td>\n",
       "      <td>albumin</td>\n",
       "      <td>wbc</td>\n",
       "      <td>wbc</td>\n",
       "      <td>-0.449433</td>\n",
       "      <td>0.671838</td>\n",
       "      <td>unexpected_ventilated_nondriver</td>\n",
       "      <td>187</td>\n",
       "    </tr>\n",
       "    <tr>\n",
       "      <th>79</th>\n",
       "      <td>-0.003458</td>\n",
       "      <td>-0.062489</td>\n",
       "      <td>-0.038729</td>\n",
       "      <td>-0.049032</td>\n",
       "      <td>0.01624</td>\n",
       "      <td>-0.009033</td>\n",
       "      <td>0.008451</td>\n",
       "      <td>-0.035547</td>\n",
       "      <td>-0.037171</td>\n",
       "      <td>-0.048262</td>\n",
       "      <td>0.050648</td>\n",
       "      <td>0.036792</td>\n",
       "      <td>0.760826</td>\n",
       "      <td>0.730942</td>\n",
       "      <td>hemoglobin</td>\n",
       "      <td>wbc</td>\n",
       "      <td>wbc</td>\n",
       "      <td>-0.809944</td>\n",
       "      <td>0.730942</td>\n",
       "      <td>unexpected_ventilated_nondriver</td>\n",
       "      <td>420</td>\n",
       "    </tr>\n",
       "    <tr>\n",
       "      <th>118</th>\n",
       "      <td>-0.003458</td>\n",
       "      <td>-0.062489</td>\n",
       "      <td>-0.038729</td>\n",
       "      <td>-0.049032</td>\n",
       "      <td>0.01624</td>\n",
       "      <td>-0.009033</td>\n",
       "      <td>0.008451</td>\n",
       "      <td>-0.035547</td>\n",
       "      <td>-0.037171</td>\n",
       "      <td>-0.048262</td>\n",
       "      <td>0.050648</td>\n",
       "      <td>0.036792</td>\n",
       "      <td>0.750825</td>\n",
       "      <td>0.697661</td>\n",
       "      <td>phosphate</td>\n",
       "      <td>phosphate</td>\n",
       "      <td>phosphate</td>\n",
       "      <td>-0.808123</td>\n",
       "      <td>0.697661</td>\n",
       "      <td>unexpected_ventilated_nondriver</td>\n",
       "      <td>639</td>\n",
       "    </tr>\n",
       "    <tr>\n",
       "      <th>120</th>\n",
       "      <td>-0.003458</td>\n",
       "      <td>-0.062489</td>\n",
       "      <td>-0.038729</td>\n",
       "      <td>-0.049032</td>\n",
       "      <td>0.01624</td>\n",
       "      <td>-0.009033</td>\n",
       "      <td>0.008451</td>\n",
       "      <td>-0.035547</td>\n",
       "      <td>-0.037171</td>\n",
       "      <td>-0.048262</td>\n",
       "      <td>0.050648</td>\n",
       "      <td>0.036792</td>\n",
       "      <td>0.600142</td>\n",
       "      <td>0.563376</td>\n",
       "      <td>glucose</td>\n",
       "      <td>pt</td>\n",
       "      <td>pt</td>\n",
       "      <td>-0.381452</td>\n",
       "      <td>0.563376</td>\n",
       "      <td>unexpected_ventilated_nondriver</td>\n",
       "      <td>652</td>\n",
       "    </tr>\n",
       "    <tr>\n",
       "      <th>123</th>\n",
       "      <td>-0.003458</td>\n",
       "      <td>-0.062489</td>\n",
       "      <td>-0.038729</td>\n",
       "      <td>-0.049032</td>\n",
       "      <td>0.01624</td>\n",
       "      <td>-0.009033</td>\n",
       "      <td>0.008451</td>\n",
       "      <td>-0.035547</td>\n",
       "      <td>-0.037171</td>\n",
       "      <td>-0.048262</td>\n",
       "      <td>0.050648</td>\n",
       "      <td>0.036792</td>\n",
       "      <td>0.582762</td>\n",
       "      <td>0.493781</td>\n",
       "      <td>hemoglobin</td>\n",
       "      <td>albumin</td>\n",
       "      <td>aniongap</td>\n",
       "      <td>-0.314123</td>\n",
       "      <td>0.526259</td>\n",
       "      <td>unexpected_ventilated_nondriver</td>\n",
       "      <td>663</td>\n",
       "    </tr>\n",
       "    <tr>\n",
       "      <th>136</th>\n",
       "      <td>-0.003458</td>\n",
       "      <td>-0.062489</td>\n",
       "      <td>-0.038729</td>\n",
       "      <td>-0.049032</td>\n",
       "      <td>0.01624</td>\n",
       "      <td>-0.009033</td>\n",
       "      <td>0.008451</td>\n",
       "      <td>-0.035547</td>\n",
       "      <td>-0.037171</td>\n",
       "      <td>-0.048262</td>\n",
       "      <td>0.050648</td>\n",
       "      <td>0.036792</td>\n",
       "      <td>0.718197</td>\n",
       "      <td>0.703782</td>\n",
       "      <td>albumin</td>\n",
       "      <td>phosphate</td>\n",
       "      <td>phosphate</td>\n",
       "      <td>-0.272070</td>\n",
       "      <td>0.703782</td>\n",
       "      <td>unexpected_ventilated_nondriver</td>\n",
       "      <td>721</td>\n",
       "    </tr>\n",
       "    <tr>\n",
       "      <th>140</th>\n",
       "      <td>-0.003458</td>\n",
       "      <td>-0.062489</td>\n",
       "      <td>-0.038729</td>\n",
       "      <td>-0.049032</td>\n",
       "      <td>0.01624</td>\n",
       "      <td>-0.009033</td>\n",
       "      <td>0.008451</td>\n",
       "      <td>-0.035547</td>\n",
       "      <td>-0.037171</td>\n",
       "      <td>-0.048262</td>\n",
       "      <td>0.050648</td>\n",
       "      <td>0.036792</td>\n",
       "      <td>0.695824</td>\n",
       "      <td>0.660301</td>\n",
       "      <td>hemoglobin</td>\n",
       "      <td>bilirubin</td>\n",
       "      <td>bilirubin</td>\n",
       "      <td>-0.658736</td>\n",
       "      <td>0.660301</td>\n",
       "      <td>unexpected_ventilated_nondriver</td>\n",
       "      <td>737</td>\n",
       "    </tr>\n",
       "  </tbody>\n",
       "</table>\n",
       "</div>"
      ],
      "text/plain": [
       "     first_heartrate_mean  first_sysbp_mean  first_diasbp_mean  \\\n",
       "13              -0.003458         -0.062489          -0.038729   \n",
       "32              -0.003458         -0.062489          -0.038729   \n",
       "33              -0.003458         -0.062489          -0.038729   \n",
       "44              -0.003458         -0.062489          -0.038729   \n",
       "79              -0.003458         -0.062489          -0.038729   \n",
       "118             -0.003458         -0.062489          -0.038729   \n",
       "120             -0.003458         -0.062489          -0.038729   \n",
       "123             -0.003458         -0.062489          -0.038729   \n",
       "136             -0.003458         -0.062489          -0.038729   \n",
       "140             -0.003458         -0.062489          -0.038729   \n",
       "\n",
       "     first_meanbp_mean  first_resprate_mean  first_spo2_mean  \\\n",
       "13           -0.049032              0.01624        -0.009033   \n",
       "32           -0.049032              0.01624        -0.009033   \n",
       "33           -0.049032              0.01624        -0.009033   \n",
       "44           -0.049032              0.01624        -0.009033   \n",
       "79           -0.049032              0.01624        -0.009033   \n",
       "118          -0.049032              0.01624        -0.009033   \n",
       "120          -0.049032              0.01624        -0.009033   \n",
       "123          -0.049032              0.01624        -0.009033   \n",
       "136          -0.049032              0.01624        -0.009033   \n",
       "140          -0.049032              0.01624        -0.009033   \n",
       "\n",
       "     last_heartrate_mean  last_sysbp_mean  last_diasbp_mean  last_meanbp_mean  \\\n",
       "13              0.008451        -0.035547         -0.037171         -0.048262   \n",
       "32              0.008451        -0.035547         -0.037171         -0.048262   \n",
       "33              0.008451        -0.035547         -0.037171         -0.048262   \n",
       "44              0.008451        -0.035547         -0.037171         -0.048262   \n",
       "79              0.008451        -0.035547         -0.037171         -0.048262   \n",
       "118             0.008451        -0.035547         -0.037171         -0.048262   \n",
       "120             0.008451        -0.035547         -0.037171         -0.048262   \n",
       "123             0.008451        -0.035547         -0.037171         -0.048262   \n",
       "136             0.008451        -0.035547         -0.037171         -0.048262   \n",
       "140             0.008451        -0.035547         -0.037171         -0.048262   \n",
       "\n",
       "     last_resprate_mean  last_spo2_mean  orig_prob_ensemble  new_risk  \\\n",
       "13             0.050648        0.036792            0.642958  0.568236   \n",
       "32             0.050648        0.036792            0.749292  0.712471   \n",
       "33             0.050648        0.036792            0.624619  0.598686   \n",
       "44             0.050648        0.036792            0.701293  0.671838   \n",
       "79             0.050648        0.036792            0.760826  0.730942   \n",
       "118            0.050648        0.036792            0.750825  0.697661   \n",
       "120            0.050648        0.036792            0.600142  0.563376   \n",
       "123            0.050648        0.036792            0.582762  0.493781   \n",
       "136            0.050648        0.036792            0.718197  0.703782   \n",
       "140            0.050648        0.036792            0.695824  0.660301   \n",
       "\n",
       "    most_abnormal  best_feat  rank_feat  rank_val  top_rank_prob  \\\n",
       "13        lactate   aniongap   aniongap -0.344505       0.568236   \n",
       "32         sodium   aniongap   aniongap -0.649668       0.712471   \n",
       "33        albumin  bilirubin    albumin -0.604841       0.599112   \n",
       "44        albumin        wbc        wbc -0.449433       0.671838   \n",
       "79     hemoglobin        wbc        wbc -0.809944       0.730942   \n",
       "118     phosphate  phosphate  phosphate -0.808123       0.697661   \n",
       "120       glucose         pt         pt -0.381452       0.563376   \n",
       "123    hemoglobin    albumin   aniongap -0.314123       0.526259   \n",
       "136       albumin  phosphate  phosphate -0.272070       0.703782   \n",
       "140    hemoglobin  bilirubin  bilirubin -0.658736       0.660301   \n",
       "\n",
       "                               stats  case  \n",
       "13   unexpected_ventilated_nondriver    53  \n",
       "32   unexpected_ventilated_nondriver   140  \n",
       "33   unexpected_ventilated_nondriver   147  \n",
       "44   unexpected_ventilated_nondriver   187  \n",
       "79   unexpected_ventilated_nondriver   420  \n",
       "118  unexpected_ventilated_nondriver   639  \n",
       "120  unexpected_ventilated_nondriver   652  \n",
       "123  unexpected_ventilated_nondriver   663  \n",
       "136  unexpected_ventilated_nondriver   721  \n",
       "140  unexpected_ventilated_nondriver   737  "
      ]
     },
     "execution_count": 41,
     "metadata": {},
     "output_type": "execute_result"
    }
   ],
   "source": [
    "cols = drivers+['orig_prob_ensemble', 'new_risk', 'most_abnormal','best_feat', \n",
    "                'rank_feat', 'rank_val',  'top_rank_prob', 'stats','case']\n",
    "\n",
    "filtered[filtered['stats'] == 'unexpected_ventilated_nondriver'][cols].head(10)"
   ]
  },
  {
   "cell_type": "code",
   "execution_count": 42,
   "metadata": {},
   "outputs": [
    {
     "data": {
      "text/plain": [
       "lactate        28\n",
       "bilirubin      24\n",
       "aniongap       23\n",
       "wbc            12\n",
       "albumin        12\n",
       "hemoglobin      8\n",
       "ptt             7\n",
       "phosphate       6\n",
       "pt              1\n",
       "chloride        1\n",
       "bicarbonate     1\n",
       "Name: rank_feat, dtype: int64"
      ]
     },
     "execution_count": 42,
     "metadata": {},
     "output_type": "execute_result"
    }
   ],
   "source": [
    "filtered[filtered['stats'] == 'unexpected_ventilated_nondriver']['rank_feat'].value_counts()"
   ]
  },
  {
   "cell_type": "code",
   "execution_count": 43,
   "metadata": {},
   "outputs": [
    {
     "data": {
      "text/plain": [
       "aniongap       32\n",
       "lactate        29\n",
       "bilirubin      17\n",
       "ptt            12\n",
       "wbc             9\n",
       "hemoglobin      7\n",
       "phosphate       7\n",
       "albumin         4\n",
       "bicarbonate     3\n",
       "pt              1\n",
       "inr             1\n",
       "platelet        1\n",
       "Name: best_feat, dtype: int64"
      ]
     },
     "execution_count": 43,
     "metadata": {},
     "output_type": "execute_result"
    }
   ],
   "source": [
    "filtered[filtered['stats'] == 'unexpected_ventilated_nondriver']['best_feat'].value_counts()"
   ]
  },
  {
   "cell_type": "code",
   "execution_count": null,
   "metadata": {},
   "outputs": [],
   "source": []
  }
 ],
 "metadata": {
  "kernelspec": {
   "display_name": "Python 3",
   "language": "python",
   "name": "python3"
  },
  "language_info": {
   "codemirror_mode": {
    "name": "ipython",
    "version": 3
   },
   "file_extension": ".py",
   "mimetype": "text/x-python",
   "name": "python",
   "nbconvert_exporter": "python",
   "pygments_lexer": "ipython3",
   "version": "3.7.7"
  }
 },
 "nbformat": 4,
 "nbformat_minor": 4
}
