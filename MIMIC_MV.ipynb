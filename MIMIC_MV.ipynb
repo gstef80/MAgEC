{
 "cells": [
  {
   "cell_type": "markdown",
   "metadata": {},
   "source": [
    "## Mimic EDA\n",
    "#### Predicting and Understanding Unexpected Respiratory Decompensation in Critical Care Using Sparse and Heterogeneous Clinical Data"
   ]
  },
  {
   "cell_type": "code",
   "execution_count": null,
   "metadata": {},
   "outputs": [],
   "source": [
    "import numpy as np\n",
    "import pandas as pd\n",
    "import psycopg2\n",
    "import os \n",
    "import random\n",
    "import datetime\n",
    "from sqlalchemy import create_engine\n",
    "\n",
    "random.seed(22891)\n",
    "\n",
    "# information used to create a database connection\n",
    "sqluser = 'postgres'\n",
    "dbname = 'mimic'\n",
    "schema_name = 'mimiciii'\n",
    "\n",
    "engine = create_engine(\"postgresql+psycopg2://{}:{}@/{}\".format(sqluser, sqluser, dbname))"
   ]
  },
  {
   "cell_type": "code",
   "execution_count": null,
   "metadata": {},
   "outputs": [],
   "source": [
    "schema_name = 'mimiciii'\n",
    "conn = engine.connect()\n",
    "conn.execute('SET search_path to ' + schema_name)"
   ]
  },
  {
   "cell_type": "code",
   "execution_count": null,
   "metadata": {},
   "outputs": [],
   "source": [
    "from mimic_queries import services_query, demo_query, vent_query, vital_and_labs_query\n",
    "from mimic_queries import clean_demo_df, comob_query"
   ]
  },
  {
   "cell_type": "markdown",
   "metadata": {},
   "source": [
    "### Mimic Services"
   ]
  },
  {
   "cell_type": "markdown",
   "metadata": {},
   "source": [
    "| Service |                                 Description                                               |\n",
    "|---------|-------------------------------------------------------------------------------------------|\n",
    "|   CMED  | Cardiac Medical - for non-surgical cardiac related admissions                             |\n",
    "|   CSURG |\tCardiac Surgery - for surgical cardiac admissions                                         |\n",
    "|   DENT  |\tDental - for dental/jaw related admissions                                                |\n",
    "|   ENT   |\tEar, nose, and throat - conditions primarily affecting these areas                        |\n",
    "|   GU\t  | Genitourinary - reproductive organs/urinary system                                        |\n",
    "|   GYN\t  | Gynecological - female reproductive systems and breasts                                   |\n",
    "|   MED\t  | Medical - general service for internal medicine                                           |\n",
    "|   NB\t  | Newborn - infants born at the hospital                                                    |\n",
    "|   NBB\t  | Newborn baby - infants born at the hospital                                               |\n",
    "|   NMED  |\tNeurologic Medical - non-surgical, relating to the brain                                  |\n",
    "|   NSURG |\tNeurologic Surgical - surgical, relating to the brain                                     |\n",
    "|   OBS\t  | Obstetrics - conerned with childbirth and the care of women giving birth                  |\n",
    "|   ORTHO |\tOrthopaedic - surgical, relating to the musculoskeletal system                            |\n",
    "|   OMED  |\tOrthopaedic medicine - non-surgical, relating to musculoskeletal system                   |\n",
    "|   PSURG |\tPlastic - restortation/reconstruction of the human body (including cosmetic or aesthetic) |\n",
    "|   PSYCH |\tPsychiatric - mental disorders relating to mood, behaviour, cognition, or perceptions     |\n",
    "|   SURG  |\tSurgical - general surgical service not classified elsewhere                              |\n",
    "|   TRAUM |\tTrauma - injury or damage caused by physical harm from an external source                 |\n",
    "|   TSURG |\tThoracic Surgical - surgery on the thorax, located between the neck and the abdomen       |\n",
    "|   VSURG |\tVascular Surgical - surgery relating to the circulatory system                            |"
   ]
  },
  {
   "cell_type": "code",
   "execution_count": null,
   "metadata": {},
   "outputs": [],
   "source": [
    "df_services = pd.read_sql(services_query(), conn)"
   ]
  },
  {
   "cell_type": "code",
   "execution_count": null,
   "metadata": {},
   "outputs": [],
   "source": [
    "df_services.head(3)"
   ]
  },
  {
   "cell_type": "code",
   "execution_count": null,
   "metadata": {},
   "outputs": [],
   "source": [
    "df_services.curr_service.value_counts()"
   ]
  },
  {
   "cell_type": "markdown",
   "metadata": {},
   "source": [
    "### Mimic Demographics"
   ]
  },
  {
   "cell_type": "code",
   "execution_count": null,
   "metadata": {},
   "outputs": [],
   "source": [
    "df_demo = pd.read_sql_query(demo_query(), conn)"
   ]
  },
  {
   "cell_type": "code",
   "execution_count": null,
   "metadata": {},
   "outputs": [],
   "source": [
    "df_demo_clean = clean_demo_df(df_demo, 27)  #  stay in ICU a minimum of 27h"
   ]
  },
  {
   "cell_type": "code",
   "execution_count": null,
   "metadata": {},
   "outputs": [],
   "source": [
    "len(df_demo), len(df_demo_clean)"
   ]
  },
  {
   "cell_type": "code",
   "execution_count": null,
   "metadata": {},
   "outputs": [],
   "source": [
    "df_demo_clean.adult_icu.value_counts()"
   ]
  },
  {
   "cell_type": "code",
   "execution_count": null,
   "metadata": {},
   "outputs": [],
   "source": [
    "df_demo_clean.age.value_counts()"
   ]
  },
  {
   "cell_type": "code",
   "execution_count": null,
   "metadata": {},
   "outputs": [],
   "source": [
    "df_demo_clean.admission_type.value_counts()"
   ]
  },
  {
   "cell_type": "code",
   "execution_count": null,
   "metadata": {},
   "outputs": [],
   "source": [
    "df_demo_clean.ethnicity.value_counts()"
   ]
  },
  {
   "cell_type": "code",
   "execution_count": null,
   "metadata": {},
   "outputs": [],
   "source": [
    "df_demo_clean.diagnosis.value_counts()"
   ]
  },
  {
   "cell_type": "code",
   "execution_count": null,
   "metadata": {},
   "outputs": [],
   "source": [
    "df_demo_clean.first_hosp_stay.value_counts()"
   ]
  },
  {
   "cell_type": "code",
   "execution_count": null,
   "metadata": {},
   "outputs": [],
   "source": [
    "df_demo_clean.first_icu_stay.value_counts()"
   ]
  },
  {
   "cell_type": "code",
   "execution_count": null,
   "metadata": {},
   "outputs": [],
   "source": [
    "df_demo_clean.mort_icu.value_counts()"
   ]
  },
  {
   "cell_type": "markdown",
   "metadata": {},
   "source": [
    "### Mimic Mechanical Ventilation"
   ]
  },
  {
   "cell_type": "code",
   "execution_count": null,
   "metadata": {},
   "outputs": [],
   "source": [
    "df_vent = pd.read_sql_query(vent_query(), conn)\n",
    "# there are 34 instances of MV without an icustay_id, we remove those\n",
    "# also, there are a few indididuals with multiple instances of MV that we remove\n",
    "df_vent = df_vent[~df_vent.icustay_id.isnull()]\n",
    "df_vent = df_vent.astype({\"icustay_id\": int})\n",
    "df_vent = df_vent[df_vent['ventnum'] == 1]"
   ]
  },
  {
   "cell_type": "code",
   "execution_count": null,
   "metadata": {},
   "outputs": [],
   "source": [
    "len(df_vent), len(df_demo_clean)"
   ]
  },
  {
   "cell_type": "code",
   "execution_count": null,
   "metadata": {},
   "outputs": [],
   "source": [
    "df_cohort = df_demo_clean.merge(df_vent, left_on='icustay_id', right_on='icustay_id', how='left')\n",
    "df_cohort = df_cohort.merge(df_services, \n",
    "                            left_on=['subject_id','hadm_id'], \n",
    "                            right_on=['subject_id','hadm_id'], how='inner')\n",
    "\n",
    "\n",
    "df_cohort = df_cohort[(df_cohort.transfertime > df_cohort.admittime) & \n",
    "                      (df_cohort.transfertime < df_cohort.outtime)]\n",
    "\n",
    "df_cohort = df_cohort[(np.isnan(df_cohort.ventnum)) | \n",
    "                      (df_cohort.mv_start > df_cohort.transfertime)]"
   ]
  },
  {
   "cell_type": "code",
   "execution_count": null,
   "metadata": {},
   "outputs": [],
   "source": [
    "len(df_demo_clean), len(df_cohort)"
   ]
  },
  {
   "cell_type": "code",
   "execution_count": null,
   "metadata": {},
   "outputs": [],
   "source": [
    "df_demo_clean.subject_id.nunique(), df_cohort.subject_id.nunique()"
   ]
  },
  {
   "cell_type": "markdown",
   "metadata": {},
   "source": [
    "#### Almost exactly following:\n",
    "Cohort: We used data from adult patients from MIMIC\n",
    "III in this study (age greater than 16 at admission). Next,\n",
    "for patients with multiple hospital or ICU stays, we only\n",
    "considered the first ICU stay for the first hospital stay. We\n",
    "excluded patients admitted under surgical service because\n",
    "surgical patients are frequently intubated due to anesthesia\n",
    "rather than respiratory failure. Patients who were intubated on\n",
    "admission were excluded, as were patients who were intubated\n",
    "or discharged from the ICU within 27 hours from admission.\n",
    "Finally, we removed patients who requested a withdrawal of\n",
    "care within the first 27 hours as these patients will not be\n",
    "intubated despite respiratory decompensation"
   ]
  },
  {
   "cell_type": "code",
   "execution_count": null,
   "metadata": {},
   "outputs": [],
   "source": [
    "# keep only adult patient admissions\n",
    "df_cohort = df_cohort.loc[df_cohort.adult_icu == 1]\n",
    "# keep only admissions that are first time ICU admissions and hospitalizations\n",
    "df_cohort = df_cohort.loc[(df_cohort.first_icu_stay == 1) & (df_cohort.first_hosp_stay == 1)]\n",
    "# remove admissions of patients intubated at admition time\n",
    "df_cohort = df_cohort[np.isnan(df_cohort.ventnum) | (df_cohort.mv_start - df_cohort.admittime).dt.days > 0]\n",
    "# remove admissions of surgical patients \n",
    "surgical = ['CSURG', 'NSURG', 'ORTHO', 'SURG', 'TSURG', 'VSURG']\n",
    "df_cohort = df_cohort.loc[~np.isin(df_cohort.curr_service, surgical)]"
   ]
  },
  {
   "cell_type": "code",
   "execution_count": null,
   "metadata": {},
   "outputs": [],
   "source": [
    "len(df_cohort), df_cohort.subject_id.nunique()"
   ]
  },
  {
   "cell_type": "code",
   "execution_count": null,
   "metadata": {},
   "outputs": [],
   "source": [
    "cols = list(set(df_cohort.columns) - {'transfertime', 'prev_service', 'curr_service'})\n",
    "df_cohort = df_cohort.sort_values(['transfertime']).drop_duplicates(cols, keep='last')"
   ]
  },
  {
   "cell_type": "code",
   "execution_count": null,
   "metadata": {},
   "outputs": [],
   "source": [
    "len(df_cohort)"
   ]
  },
  {
   "cell_type": "code",
   "execution_count": null,
   "metadata": {},
   "outputs": [],
   "source": [
    "df_cohort.ventnum.value_counts(dropna=False)"
   ]
  },
  {
   "cell_type": "code",
   "execution_count": null,
   "metadata": {},
   "outputs": [],
   "source": [
    "df_cohort.head(3)"
   ]
  },
  {
   "cell_type": "code",
   "execution_count": null,
   "metadata": {},
   "outputs": [],
   "source": [
    "conn.execute(\"DROP TABLE IF EXISTS mv_users;\")"
   ]
  },
  {
   "cell_type": "code",
   "execution_count": null,
   "metadata": {},
   "outputs": [],
   "source": [
    "conn.close()\n",
    "schema_name = 'mimiciii'\n",
    "conn = engine.connect()\n",
    "conn.execute('SET search_path to ' + schema_name)\n",
    "df_columns = ['subject_id', 'hadm_id', 'icustay_id', 'ventnum', 'mv_start', 'transfertime']\n",
    "df_cohort[df_columns].to_sql('mv_users', conn, if_exists='replace', index=False)"
   ]
  },
  {
   "cell_type": "code",
   "execution_count": null,
   "metadata": {},
   "outputs": [],
   "source": [
    "conn.close()\n",
    "schema_name = 'mimiciii'\n",
    "conn = engine.connect()\n",
    "conn.execute('SET search_path to ' + schema_name)"
   ]
  },
  {
   "cell_type": "code",
   "execution_count": null,
   "metadata": {},
   "outputs": [],
   "source": [
    "df_comob = pd.read_sql(comob_query(), conn)"
   ]
  },
  {
   "cell_type": "code",
   "execution_count": null,
   "metadata": {},
   "outputs": [],
   "source": [
    "df_comob.head()"
   ]
  },
  {
   "cell_type": "markdown",
   "metadata": {},
   "source": [
    "#### Loosely following:\n",
    "Data extraction: For each patient in our cohort, we\n",
    "extracted data from a window of size W hours, located L\n",
    "hours before a given event time. Specifically, we extracted\n",
    "a number of features, (see Table I), from the data window\n",
    "[te − W − L, te − L], where te represents the event time. For\n",
    "intubated patients, the event time was the time of intubation.\n",
    "For non-intubated patients, the event time was a random time\n",
    "after the 27th hour during their ICU stay. For non-intubated\n",
    "patients with a code status change (e.g. changed to do not\n",
    "resuscitate or do not intubate), we ensured that the event\n",
    "time was before the code status change. For all patients,\n",
    "we evaluated and extracted features from data windows with\n",
    "window sizes of W ∈ {8, 12, 16, 20, 24} hours and lead times\n",
    "of L ∈ {3, 6, 9, 12, 15} hours."
   ]
  },
  {
   "cell_type": "code",
   "execution_count": null,
   "metadata": {},
   "outputs": [],
   "source": [
    "vitals_labs_df = pd.read_sql(vital_and_labs_query(27, 3), conn)"
   ]
  },
  {
   "cell_type": "code",
   "execution_count": null,
   "metadata": {},
   "outputs": [],
   "source": [
    "len(vitals_labs_df), vitals_labs_df.subject_id.nunique()"
   ]
  },
  {
   "cell_type": "code",
   "execution_count": null,
   "metadata": {},
   "outputs": [],
   "source": [
    "vitals_labs_df.columns"
   ]
  },
  {
   "cell_type": "code",
   "execution_count": null,
   "metadata": {},
   "outputs": [],
   "source": [
    "from IPython.display import display\n",
    "pd.options.display.max_columns = None\n",
    "display(vitals_labs_df.head())"
   ]
  },
  {
   "cell_type": "code",
   "execution_count": null,
   "metadata": {},
   "outputs": [],
   "source": [
    "conn.close()"
   ]
  },
  {
   "cell_type": "code",
   "execution_count": null,
   "metadata": {},
   "outputs": [],
   "source": [
    "print(vital_and_labs_query(27, 3))"
   ]
  },
  {
   "cell_type": "code",
   "execution_count": null,
   "metadata": {},
   "outputs": [],
   "source": []
  }
 ],
 "metadata": {
  "kernelspec": {
   "display_name": "py36",
   "language": "python",
   "name": "py36"
  },
  "language_info": {
   "codemirror_mode": {
    "name": "ipython",
    "version": 3
   },
   "file_extension": ".py",
   "mimetype": "text/x-python",
   "name": "python",
   "nbconvert_exporter": "python",
   "pygments_lexer": "ipython3",
   "version": "3.6.0"
  }
 },
 "nbformat": 4,
 "nbformat_minor": 2
}
