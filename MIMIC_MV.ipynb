{
 "cells": [
  {
   "cell_type": "markdown",
   "metadata": {},
   "source": [
    "## Mimic EDA\n",
    "#### Predicting and Understanding Unexpected Respiratory Decompensation in Critical Care Using Sparse and Heterogeneous Clinical Data"
   ]
  },
  {
   "cell_type": "code",
   "execution_count": 1,
   "metadata": {},
   "outputs": [],
   "source": [
    "import numpy as np\n",
    "import pandas as pd\n",
    "import psycopg2\n",
    "import os \n",
    "import random\n",
    "import datetime\n",
    "from sqlalchemy import create_engine\n",
    "\n",
    "random.seed(22891)\n",
    "\n",
    "# information used to create a database connection\n",
    "sqluser = 'postgres'\n",
    "dbname = 'mimic'\n",
    "schema_name = 'mimiciii'\n",
    "\n",
    "engine = create_engine(\"postgresql+psycopg2://{}:{}@/{}\".format(sqluser, sqluser, dbname))"
   ]
  },
  {
   "cell_type": "code",
   "execution_count": 2,
   "metadata": {},
   "outputs": [
    {
     "data": {
      "text/plain": [
       "<sqlalchemy.engine.result.ResultProxy at 0x111d5dcc0>"
      ]
     },
     "execution_count": 2,
     "metadata": {},
     "output_type": "execute_result"
    }
   ],
   "source": [
    "schema_name = 'mimiciii'\n",
    "conn = engine.connect()\n",
    "conn.execute('SET search_path to ' + schema_name)"
   ]
  },
  {
   "cell_type": "code",
   "execution_count": 3,
   "metadata": {},
   "outputs": [],
   "source": [
    "from mimic_queries import services_query, demo_query, vent_query, vital_and_labs_query\n",
    "from mimic_queries import clean_demo_df, comob_query"
   ]
  },
  {
   "cell_type": "markdown",
   "metadata": {},
   "source": [
    "### Mimic Services"
   ]
  },
  {
   "cell_type": "markdown",
   "metadata": {},
   "source": [
    "| Service |                                 Description                                               |\n",
    "|---------|-------------------------------------------------------------------------------------------|\n",
    "|   CMED  | Cardiac Medical - for non-surgical cardiac related admissions                             |\n",
    "|   CSURG |\tCardiac Surgery - for surgical cardiac admissions                                         |\n",
    "|   DENT  |\tDental - for dental/jaw related admissions                                                |\n",
    "|   ENT   |\tEar, nose, and throat - conditions primarily affecting these areas                        |\n",
    "|   GU\t  | Genitourinary - reproductive organs/urinary system                                        |\n",
    "|   GYN\t  | Gynecological - female reproductive systems and breasts                                   |\n",
    "|   MED\t  | Medical - general service for internal medicine                                           |\n",
    "|   NB\t  | Newborn - infants born at the hospital                                                    |\n",
    "|   NBB\t  | Newborn baby - infants born at the hospital                                               |\n",
    "|   NMED  |\tNeurologic Medical - non-surgical, relating to the brain                                  |\n",
    "|   NSURG |\tNeurologic Surgical - surgical, relating to the brain                                     |\n",
    "|   OBS\t  | Obstetrics - conerned with childbirth and the care of women giving birth                  |\n",
    "|   ORTHO |\tOrthopaedic - surgical, relating to the musculoskeletal system                            |\n",
    "|   OMED  |\tOrthopaedic medicine - non-surgical, relating to musculoskeletal system                   |\n",
    "|   PSURG |\tPlastic - restortation/reconstruction of the human body (including cosmetic or aesthetic) |\n",
    "|   PSYCH |\tPsychiatric - mental disorders relating to mood, behaviour, cognition, or perceptions     |\n",
    "|   SURG  |\tSurgical - general surgical service not classified elsewhere                              |\n",
    "|   TRAUM |\tTrauma - injury or damage caused by physical harm from an external source                 |\n",
    "|   TSURG |\tThoracic Surgical - surgery on the thorax, located between the neck and the abdomen       |\n",
    "|   VSURG |\tVascular Surgical - surgery relating to the circulatory system                            |"
   ]
  },
  {
   "cell_type": "code",
   "execution_count": 4,
   "metadata": {},
   "outputs": [],
   "source": [
    "df_services = pd.read_sql(services_query(), conn)"
   ]
  },
  {
   "cell_type": "code",
   "execution_count": 5,
   "metadata": {},
   "outputs": [
    {
     "data": {
      "text/html": [
       "<div>\n",
       "<style scoped>\n",
       "    .dataframe tbody tr th:only-of-type {\n",
       "        vertical-align: middle;\n",
       "    }\n",
       "\n",
       "    .dataframe tbody tr th {\n",
       "        vertical-align: top;\n",
       "    }\n",
       "\n",
       "    .dataframe thead th {\n",
       "        text-align: right;\n",
       "    }\n",
       "</style>\n",
       "<table border=\"1\" class=\"dataframe\">\n",
       "  <thead>\n",
       "    <tr style=\"text-align: right;\">\n",
       "      <th></th>\n",
       "      <th>subject_id</th>\n",
       "      <th>hadm_id</th>\n",
       "      <th>transfertime</th>\n",
       "      <th>prev_service</th>\n",
       "      <th>curr_service</th>\n",
       "    </tr>\n",
       "  </thead>\n",
       "  <tbody>\n",
       "    <tr>\n",
       "      <td>0</td>\n",
       "      <td>471</td>\n",
       "      <td>135879</td>\n",
       "      <td>2122-07-22 14:07:27</td>\n",
       "      <td>TSURG</td>\n",
       "      <td>MED</td>\n",
       "    </tr>\n",
       "    <tr>\n",
       "      <td>1</td>\n",
       "      <td>471</td>\n",
       "      <td>135879</td>\n",
       "      <td>2122-07-26 18:31:49</td>\n",
       "      <td>MED</td>\n",
       "      <td>TSURG</td>\n",
       "    </tr>\n",
       "    <tr>\n",
       "      <td>2</td>\n",
       "      <td>472</td>\n",
       "      <td>173064</td>\n",
       "      <td>2172-09-28 19:22:15</td>\n",
       "      <td>None</td>\n",
       "      <td>CMED</td>\n",
       "    </tr>\n",
       "  </tbody>\n",
       "</table>\n",
       "</div>"
      ],
      "text/plain": [
       "   subject_id  hadm_id        transfertime prev_service curr_service\n",
       "0         471   135879 2122-07-22 14:07:27        TSURG          MED\n",
       "1         471   135879 2122-07-26 18:31:49          MED        TSURG\n",
       "2         472   173064 2172-09-28 19:22:15         None         CMED"
      ]
     },
     "execution_count": 5,
     "metadata": {},
     "output_type": "execute_result"
    }
   ],
   "source": [
    "df_services.head(3)"
   ]
  },
  {
   "cell_type": "code",
   "execution_count": 6,
   "metadata": {},
   "outputs": [
    {
     "data": {
      "text/plain": [
       "MED      24866\n",
       "CMED      9135\n",
       "CSURG     7911\n",
       "NB        7806\n",
       "SURG      5514\n",
       "NSURG     4100\n",
       "TRAUM     3137\n",
       "NMED      2957\n",
       "OMED      2286\n",
       "VSURG     1455\n",
       "TSURG     1338\n",
       "ORTHO     1101\n",
       "GU         436\n",
       "NBB        346\n",
       "GYN        306\n",
       "PSURG      283\n",
       "ENT        247\n",
       "OBS        113\n",
       "DENT         5\n",
       "PSYCH        1\n",
       "Name: curr_service, dtype: int64"
      ]
     },
     "execution_count": 6,
     "metadata": {},
     "output_type": "execute_result"
    }
   ],
   "source": [
    "df_services.curr_service.value_counts()"
   ]
  },
  {
   "cell_type": "markdown",
   "metadata": {},
   "source": [
    "### Mimic Demographics"
   ]
  },
  {
   "cell_type": "code",
   "execution_count": 7,
   "metadata": {},
   "outputs": [],
   "source": [
    "df_demo = pd.read_sql_query(demo_query(), conn)"
   ]
  },
  {
   "cell_type": "code",
   "execution_count": 8,
   "metadata": {},
   "outputs": [],
   "source": [
    "df_demo_clean = clean_demo_df(df_demo, 27)  #  stay in ICU a minimum of 27h"
   ]
  },
  {
   "cell_type": "code",
   "execution_count": 9,
   "metadata": {},
   "outputs": [
    {
     "data": {
      "text/plain": [
       "(61051, 43324)"
      ]
     },
     "execution_count": 9,
     "metadata": {},
     "output_type": "execute_result"
    }
   ],
   "source": [
    "len(df_demo), len(df_demo_clean)"
   ]
  },
  {
   "cell_type": "code",
   "execution_count": 10,
   "metadata": {},
   "outputs": [
    {
     "data": {
      "text/plain": [
       "1    39553\n",
       "0     3771\n",
       "Name: adult_icu, dtype: int64"
      ]
     },
     "execution_count": 10,
     "metadata": {},
     "output_type": "execute_result"
    }
   ],
   "source": [
    "df_demo_clean.adult_icu.value_counts()"
   ]
  },
  {
   "cell_type": "code",
   "execution_count": null,
   "metadata": {},
   "outputs": [],
   "source": [
    "df_demo_clean.age.value_counts()"
   ]
  },
  {
   "cell_type": "code",
   "execution_count": null,
   "metadata": {},
   "outputs": [],
   "source": [
    "df_demo_clean.admission_type.value_counts()"
   ]
  },
  {
   "cell_type": "code",
   "execution_count": null,
   "metadata": {},
   "outputs": [],
   "source": [
    "df_demo_clean.ethnicity.value_counts()"
   ]
  },
  {
   "cell_type": "code",
   "execution_count": null,
   "metadata": {},
   "outputs": [],
   "source": [
    "df_demo_clean.diagnosis.value_counts()"
   ]
  },
  {
   "cell_type": "code",
   "execution_count": null,
   "metadata": {},
   "outputs": [],
   "source": [
    "df_demo_clean.first_hosp_stay.value_counts()"
   ]
  },
  {
   "cell_type": "code",
   "execution_count": null,
   "metadata": {},
   "outputs": [],
   "source": [
    "df_demo_clean.first_icu_stay.value_counts()"
   ]
  },
  {
   "cell_type": "code",
   "execution_count": null,
   "metadata": {},
   "outputs": [],
   "source": [
    "df_demo_clean.mort_icu.value_counts()"
   ]
  },
  {
   "cell_type": "markdown",
   "metadata": {},
   "source": [
    "### Mimic Mechanical Ventilation"
   ]
  },
  {
   "cell_type": "code",
   "execution_count": 11,
   "metadata": {},
   "outputs": [],
   "source": [
    "df_vent = pd.read_sql_query(vent_query(), conn)\n",
    "# there are 34 instances of MV without an icustay_id, we remove those\n",
    "# also, there are a few indididuals with multiple instances of MV that we remove\n",
    "df_vent = df_vent[~df_vent.icustay_id.isnull()]\n",
    "df_vent = df_vent.astype({\"icustay_id\": int})\n",
    "df_vent = df_vent[df_vent['ventnum'] == 1]"
   ]
  },
  {
   "cell_type": "code",
   "execution_count": 12,
   "metadata": {},
   "outputs": [
    {
     "data": {
      "text/plain": [
       "(26800, 43324)"
      ]
     },
     "execution_count": 12,
     "metadata": {},
     "output_type": "execute_result"
    }
   ],
   "source": [
    "len(df_vent), len(df_demo_clean)"
   ]
  },
  {
   "cell_type": "code",
   "execution_count": 13,
   "metadata": {},
   "outputs": [],
   "source": [
    "df_cohort = df_demo_clean.merge(df_vent, left_on='icustay_id', right_on='icustay_id', how='left')\n",
    "df_cohort = df_cohort.merge(df_services, \n",
    "                            left_on=['subject_id','hadm_id'], \n",
    "                            right_on=['subject_id','hadm_id'], how='inner')\n",
    "\n",
    "\n",
    "df_cohort = df_cohort[(df_cohort.transfertime > df_cohort.admittime) & \n",
    "                      (df_cohort.transfertime < df_cohort.outtime)]\n",
    "\n",
    "df_cohort = df_cohort[(np.isnan(df_cohort.ventnum)) | \n",
    "                      (df_cohort.mv_start > df_cohort.transfertime)]"
   ]
  },
  {
   "cell_type": "code",
   "execution_count": 14,
   "metadata": {},
   "outputs": [
    {
     "data": {
      "text/plain": [
       "(43324, 42609)"
      ]
     },
     "execution_count": 14,
     "metadata": {},
     "output_type": "execute_result"
    }
   ],
   "source": [
    "len(df_demo_clean), len(df_cohort)"
   ]
  },
  {
   "cell_type": "code",
   "execution_count": 15,
   "metadata": {},
   "outputs": [
    {
     "data": {
      "text/plain": [
       "(33472, 27753)"
      ]
     },
     "execution_count": 15,
     "metadata": {},
     "output_type": "execute_result"
    }
   ],
   "source": [
    "df_demo_clean.subject_id.nunique(), df_cohort.subject_id.nunique()"
   ]
  },
  {
   "cell_type": "markdown",
   "metadata": {},
   "source": [
    "#### Almost exactly following:\n",
    "Cohort: We used data from adult patients from MIMIC\n",
    "III in this study (age greater than 16 at admission). Next,\n",
    "for patients with multiple hospital or ICU stays, we only\n",
    "considered the first ICU stay for the first hospital stay. We\n",
    "excluded patients admitted under surgical service because\n",
    "surgical patients are frequently intubated due to anesthesia\n",
    "rather than respiratory failure. Patients who were intubated on\n",
    "admission were excluded, as were patients who were intubated\n",
    "or discharged from the ICU within 27 hours from admission.\n",
    "Finally, we removed patients who requested a withdrawal of\n",
    "care within the first 27 hours as these patients will not be\n",
    "intubated despite respiratory decompensation"
   ]
  },
  {
   "cell_type": "code",
   "execution_count": 16,
   "metadata": {},
   "outputs": [],
   "source": [
    "# keep only adult patient admissions\n",
    "df_cohort = df_cohort.loc[df_cohort.adult_icu == 1]\n",
    "# keep only admissions that are first time ICU admissions and hospitalizations\n",
    "df_cohort = df_cohort.loc[(df_cohort.first_icu_stay == 1) & (df_cohort.first_hosp_stay == 1)]\n",
    "# remove admissions of patients intubated at admition time\n",
    "df_cohort = df_cohort[np.isnan(df_cohort.ventnum) | (df_cohort.mv_start - df_cohort.admittime).dt.days > 0]\n",
    "# remove admissions of surgical patients \n",
    "surgical = ['CSURG', 'NSURG', 'ORTHO', 'SURG', 'TSURG', 'VSURG']\n",
    "df_cohort = df_cohort.loc[~np.isin(df_cohort.curr_service, surgical)]"
   ]
  },
  {
   "cell_type": "code",
   "execution_count": 17,
   "metadata": {},
   "outputs": [
    {
     "data": {
      "text/plain": [
       "(13920, 12791)"
      ]
     },
     "execution_count": 17,
     "metadata": {},
     "output_type": "execute_result"
    }
   ],
   "source": [
    "len(df_cohort), df_cohort.subject_id.nunique()"
   ]
  },
  {
   "cell_type": "code",
   "execution_count": 18,
   "metadata": {},
   "outputs": [],
   "source": [
    "cols = list(set(df_cohort.columns) - {'transfertime', 'prev_service', 'curr_service'})\n",
    "df_cohort = df_cohort.sort_values(['transfertime']).drop_duplicates(cols, keep='last')"
   ]
  },
  {
   "cell_type": "code",
   "execution_count": 19,
   "metadata": {},
   "outputs": [
    {
     "data": {
      "text/plain": [
       "12791"
      ]
     },
     "execution_count": 19,
     "metadata": {},
     "output_type": "execute_result"
    }
   ],
   "source": [
    "len(df_cohort)"
   ]
  },
  {
   "cell_type": "code",
   "execution_count": 20,
   "metadata": {},
   "outputs": [
    {
     "data": {
      "text/plain": [
       "NaN    9541\n",
       "1.0    3250\n",
       "Name: ventnum, dtype: int64"
      ]
     },
     "execution_count": 20,
     "metadata": {},
     "output_type": "execute_result"
    }
   ],
   "source": [
    "df_cohort.ventnum.value_counts(dropna=False)"
   ]
  },
  {
   "cell_type": "code",
   "execution_count": 22,
   "metadata": {},
   "outputs": [
    {
     "data": {
      "text/plain": [
       "<sqlalchemy.engine.result.ResultProxy at 0x123afee10>"
      ]
     },
     "execution_count": 22,
     "metadata": {},
     "output_type": "execute_result"
    }
   ],
   "source": [
    "conn.execute(\"DROP TABLE IF EXISTS mv_users;\")"
   ]
  },
  {
   "cell_type": "code",
   "execution_count": 23,
   "metadata": {},
   "outputs": [],
   "source": [
    "conn.close()\n",
    "schema_name = 'mimiciii'\n",
    "conn = engine.connect()\n",
    "conn.execute('SET search_path to ' + schema_name)\n",
    "df_columns = ['subject_id', 'hadm_id', 'icustay_id', 'ventnum', 'mv_start', 'transfertime']\n",
    "df_cohort[df_columns].to_sql('mv_users', conn, if_exists='replace', index=False)"
   ]
  },
  {
   "cell_type": "code",
   "execution_count": 24,
   "metadata": {},
   "outputs": [
    {
     "data": {
      "text/plain": [
       "<sqlalchemy.engine.result.ResultProxy at 0x127932eb8>"
      ]
     },
     "execution_count": 24,
     "metadata": {},
     "output_type": "execute_result"
    }
   ],
   "source": [
    "conn.close()\n",
    "schema_name = 'mimiciii'\n",
    "conn = engine.connect()\n",
    "conn.execute('SET search_path to ' + schema_name)"
   ]
  },
  {
   "cell_type": "code",
   "execution_count": 25,
   "metadata": {},
   "outputs": [],
   "source": [
    "df_comob = pd.read_sql(comob_query(), conn)"
   ]
  },
  {
   "cell_type": "code",
   "execution_count": 26,
   "metadata": {},
   "outputs": [
    {
     "data": {
      "text/html": [
       "<div>\n",
       "<style scoped>\n",
       "    .dataframe tbody tr th:only-of-type {\n",
       "        vertical-align: middle;\n",
       "    }\n",
       "\n",
       "    .dataframe tbody tr th {\n",
       "        vertical-align: top;\n",
       "    }\n",
       "\n",
       "    .dataframe thead th {\n",
       "        text-align: right;\n",
       "    }\n",
       "</style>\n",
       "<table border=\"1\" class=\"dataframe\">\n",
       "  <thead>\n",
       "    <tr style=\"text-align: right;\">\n",
       "      <th></th>\n",
       "      <th>hadm_id</th>\n",
       "      <th>congestive_heart_failure</th>\n",
       "      <th>cardiac_arrhythmias</th>\n",
       "      <th>valvular_disease</th>\n",
       "      <th>pulmonary_circulation</th>\n",
       "      <th>peripheral_vascular</th>\n",
       "      <th>hypertension</th>\n",
       "      <th>paralysis</th>\n",
       "      <th>other_neurological</th>\n",
       "      <th>chronic_pulmonary</th>\n",
       "      <th>...</th>\n",
       "      <th>coagulopathy</th>\n",
       "      <th>obesity</th>\n",
       "      <th>weight_loss</th>\n",
       "      <th>fluid_electrolyte</th>\n",
       "      <th>blood_loss_anemia</th>\n",
       "      <th>deficiency_anemias</th>\n",
       "      <th>alcohol_abuse</th>\n",
       "      <th>drug_abuse</th>\n",
       "      <th>psychoses</th>\n",
       "      <th>depression</th>\n",
       "    </tr>\n",
       "  </thead>\n",
       "  <tbody>\n",
       "    <tr>\n",
       "      <td>0</td>\n",
       "      <td>100001</td>\n",
       "      <td>0.0</td>\n",
       "      <td>0.0</td>\n",
       "      <td>0.0</td>\n",
       "      <td>0.0</td>\n",
       "      <td>0.0</td>\n",
       "      <td>1</td>\n",
       "      <td>0.0</td>\n",
       "      <td>0.0</td>\n",
       "      <td>0.0</td>\n",
       "      <td>...</td>\n",
       "      <td>0.0</td>\n",
       "      <td>0.0</td>\n",
       "      <td>0.0</td>\n",
       "      <td>0.0</td>\n",
       "      <td>0.0</td>\n",
       "      <td>0.0</td>\n",
       "      <td>0.0</td>\n",
       "      <td>0.0</td>\n",
       "      <td>0.0</td>\n",
       "      <td>0.0</td>\n",
       "    </tr>\n",
       "  </tbody>\n",
       "</table>\n",
       "<p>1 rows × 31 columns</p>\n",
       "</div>"
      ],
      "text/plain": [
       "   hadm_id  congestive_heart_failure  cardiac_arrhythmias  valvular_disease  \\\n",
       "0   100001                       0.0                  0.0               0.0   \n",
       "\n",
       "   pulmonary_circulation  peripheral_vascular  hypertension  paralysis  \\\n",
       "0                    0.0                  0.0             1        0.0   \n",
       "\n",
       "   other_neurological  chronic_pulmonary  ...  coagulopathy  obesity  \\\n",
       "0                 0.0                0.0  ...           0.0      0.0   \n",
       "\n",
       "   weight_loss  fluid_electrolyte  blood_loss_anemia  deficiency_anemias  \\\n",
       "0          0.0                0.0                0.0                 0.0   \n",
       "\n",
       "   alcohol_abuse  drug_abuse  psychoses  depression  \n",
       "0            0.0         0.0        0.0         0.0  \n",
       "\n",
       "[1 rows x 31 columns]"
      ]
     },
     "execution_count": 26,
     "metadata": {},
     "output_type": "execute_result"
    }
   ],
   "source": [
    "df_comob.head(1)"
   ]
  },
  {
   "cell_type": "code",
   "execution_count": 30,
   "metadata": {},
   "outputs": [
    {
     "data": {
      "text/plain": [
       "Index(['hadm_id', 'congestive_heart_failure', 'cardiac_arrhythmias',\n",
       "       'valvular_disease', 'pulmonary_circulation', 'peripheral_vascular',\n",
       "       'hypertension', 'paralysis', 'other_neurological', 'chronic_pulmonary',\n",
       "       'diabetes_uncomplicated', 'diabetes_complicated', 'hypothyroidism',\n",
       "       'renal_failure', 'liver_disease', 'peptic_ulcer', 'aids', 'lymphoma',\n",
       "       'metastatic_cancer', 'solid_tumor', 'rheumatoid_arthritis',\n",
       "       'coagulopathy', 'obesity', 'weight_loss', 'fluid_electrolyte',\n",
       "       'blood_loss_anemia', 'deficiency_anemias', 'alcohol_abuse',\n",
       "       'drug_abuse', 'psychoses', 'depression'],\n",
       "      dtype='object')"
      ]
     },
     "execution_count": 30,
     "metadata": {},
     "output_type": "execute_result"
    }
   ],
   "source": [
    "df_comob.columns"
   ]
  },
  {
   "cell_type": "code",
   "execution_count": 31,
   "metadata": {},
   "outputs": [
    {
     "data": {
      "text/plain": [
       "58976"
      ]
     },
     "execution_count": 31,
     "metadata": {},
     "output_type": "execute_result"
    }
   ],
   "source": [
    "len(df_comob)"
   ]
  },
  {
   "cell_type": "markdown",
   "metadata": {},
   "source": [
    "#### Loosely following:\n",
    "Data extraction: For each patient in our cohort, we\n",
    "extracted data from a window of size W hours, located L\n",
    "hours before a given event time. Specifically, we extracted\n",
    "a number of features, (see Table I), from the data window\n",
    "[te − W − L, te − L], where te represents the event time. For\n",
    "intubated patients, the event time was the time of intubation.\n",
    "For non-intubated patients, the event time was a random time\n",
    "after the 27th hour during their ICU stay. For non-intubated\n",
    "patients with a code status change (e.g. changed to do not\n",
    "resuscitate or do not intubate), we ensured that the event\n",
    "time was before the code status change. For all patients,\n",
    "we evaluated and extracted features from data windows with\n",
    "window sizes of W ∈ {8, 12, 16, 20, 24} hours and lead times\n",
    "of L ∈ {3, 6, 9, 12, 15} hours."
   ]
  },
  {
   "cell_type": "code",
   "execution_count": 27,
   "metadata": {},
   "outputs": [],
   "source": [
    "vitals_labs_df = pd.read_sql(vital_and_labs_query(27, 3), conn)"
   ]
  },
  {
   "cell_type": "code",
   "execution_count": 28,
   "metadata": {},
   "outputs": [
    {
     "data": {
      "text/plain": [
       "(204198, 10415)"
      ]
     },
     "execution_count": 28,
     "metadata": {},
     "output_type": "execute_result"
    }
   ],
   "source": [
    "len(vitals_labs_df), vitals_labs_df.subject_id.nunique()"
   ]
  },
  {
   "cell_type": "code",
   "execution_count": 29,
   "metadata": {},
   "outputs": [
    {
     "data": {
      "text/plain": [
       "Index(['subject_id', 'hadm_id', 'icustay_id', 'timepoint', 'event_time',\n",
       "       'ventilated', 'mv_start', 'aniongap', 'albumin', 'bicarbonate',\n",
       "       'bilirubin', 'creatinine', 'chloride', 'glucose', 'hematocrit',\n",
       "       'hemoglobin', 'lactate', 'magnesium', 'phosphate', 'platelet',\n",
       "       'potassium', 'ptt', 'inr', 'pt', 'sodium', 'bun', 'wbc',\n",
       "       'heartrate_mean', 'sysbp_mean', 'diasbp_mean', 'meanbp_mean',\n",
       "       'resprate_mean', 'tempc_mean', 'spo2_mean', 'glucose_mean'],\n",
       "      dtype='object')"
      ]
     },
     "execution_count": 29,
     "metadata": {},
     "output_type": "execute_result"
    }
   ],
   "source": [
    "vitals_labs_df.columns"
   ]
  },
  {
   "cell_type": "code",
   "execution_count": 38,
   "metadata": {},
   "outputs": [],
   "source": [
    "cols = list(set(df_cohort.columns) - {'mv_start'})\n",
    "df_selected = vitals_labs_df.merge(df_cohort[cols], \n",
    "                                   left_on=['subject_id', 'hadm_id', 'icustay_id'],\n",
    "                                   right_on=['subject_id', 'hadm_id', 'icustay_id'])\n",
    "df_selected = df_selected.merge(df_comob, left_on='hadm_id', right_on='hadm_id', how='left')"
   ]
  },
  {
   "cell_type": "code",
   "execution_count": 39,
   "metadata": {},
   "outputs": [
    {
     "data": {
      "text/plain": [
       "(204198, 10415)"
      ]
     },
     "execution_count": 39,
     "metadata": {},
     "output_type": "execute_result"
    }
   ],
   "source": [
    "len(df_selected), df_selected.subject_id.nunique()"
   ]
  },
  {
   "cell_type": "code",
   "execution_count": 40,
   "metadata": {},
   "outputs": [
    {
     "data": {
      "text/html": [
       "<div>\n",
       "<style scoped>\n",
       "    .dataframe tbody tr th:only-of-type {\n",
       "        vertical-align: middle;\n",
       "    }\n",
       "\n",
       "    .dataframe tbody tr th {\n",
       "        vertical-align: top;\n",
       "    }\n",
       "\n",
       "    .dataframe thead th {\n",
       "        text-align: right;\n",
       "    }\n",
       "</style>\n",
       "<table border=\"1\" class=\"dataframe\">\n",
       "  <thead>\n",
       "    <tr style=\"text-align: right;\">\n",
       "      <th></th>\n",
       "      <th>subject_id</th>\n",
       "      <th>hadm_id</th>\n",
       "      <th>icustay_id</th>\n",
       "      <th>timepoint</th>\n",
       "      <th>event_time</th>\n",
       "      <th>ventilated</th>\n",
       "      <th>mv_start</th>\n",
       "      <th>aniongap</th>\n",
       "      <th>albumin</th>\n",
       "      <th>bicarbonate</th>\n",
       "      <th>bilirubin</th>\n",
       "      <th>creatinine</th>\n",
       "      <th>chloride</th>\n",
       "      <th>glucose</th>\n",
       "      <th>hematocrit</th>\n",
       "      <th>hemoglobin</th>\n",
       "      <th>lactate</th>\n",
       "      <th>magnesium</th>\n",
       "      <th>phosphate</th>\n",
       "      <th>platelet</th>\n",
       "      <th>potassium</th>\n",
       "      <th>ptt</th>\n",
       "      <th>inr</th>\n",
       "      <th>pt</th>\n",
       "      <th>sodium</th>\n",
       "      <th>bun</th>\n",
       "      <th>wbc</th>\n",
       "      <th>heartrate_mean</th>\n",
       "      <th>sysbp_mean</th>\n",
       "      <th>diasbp_mean</th>\n",
       "      <th>meanbp_mean</th>\n",
       "      <th>resprate_mean</th>\n",
       "      <th>tempc_mean</th>\n",
       "      <th>spo2_mean</th>\n",
       "      <th>glucose_mean</th>\n",
       "      <th>age</th>\n",
       "      <th>first_icu_stay</th>\n",
       "      <th>adult_icu</th>\n",
       "      <th>first_careunit</th>\n",
       "      <th>diagnosis</th>\n",
       "      <th>curr_service</th>\n",
       "      <th>dischtime</th>\n",
       "      <th>admission_type</th>\n",
       "      <th>mort_icu</th>\n",
       "      <th>gender</th>\n",
       "      <th>admittime</th>\n",
       "      <th>los_icu</th>\n",
       "      <th>mv_hours</th>\n",
       "      <th>los_icu_hr</th>\n",
       "      <th>mv_end</th>\n",
       "      <th>los_hospital</th>\n",
       "      <th>first_hosp_stay</th>\n",
       "      <th>outtime</th>\n",
       "      <th>intime</th>\n",
       "      <th>ventnum</th>\n",
       "      <th>prev_service</th>\n",
       "      <th>transfertime</th>\n",
       "      <th>ethnicity</th>\n",
       "      <th>congestive_heart_failure</th>\n",
       "      <th>cardiac_arrhythmias</th>\n",
       "      <th>valvular_disease</th>\n",
       "      <th>pulmonary_circulation</th>\n",
       "      <th>peripheral_vascular</th>\n",
       "      <th>hypertension</th>\n",
       "      <th>paralysis</th>\n",
       "      <th>other_neurological</th>\n",
       "      <th>chronic_pulmonary</th>\n",
       "      <th>diabetes_uncomplicated</th>\n",
       "      <th>diabetes_complicated</th>\n",
       "      <th>hypothyroidism</th>\n",
       "      <th>renal_failure</th>\n",
       "      <th>liver_disease</th>\n",
       "      <th>peptic_ulcer</th>\n",
       "      <th>aids</th>\n",
       "      <th>lymphoma</th>\n",
       "      <th>metastatic_cancer</th>\n",
       "      <th>solid_tumor</th>\n",
       "      <th>rheumatoid_arthritis</th>\n",
       "      <th>coagulopathy</th>\n",
       "      <th>obesity</th>\n",
       "      <th>weight_loss</th>\n",
       "      <th>fluid_electrolyte</th>\n",
       "      <th>blood_loss_anemia</th>\n",
       "      <th>deficiency_anemias</th>\n",
       "      <th>alcohol_abuse</th>\n",
       "      <th>drug_abuse</th>\n",
       "      <th>psychoses</th>\n",
       "      <th>depression</th>\n",
       "    </tr>\n",
       "  </thead>\n",
       "  <tbody>\n",
       "    <tr>\n",
       "      <td>0</td>\n",
       "      <td>4</td>\n",
       "      <td>185777</td>\n",
       "      <td>294638</td>\n",
       "      <td>3</td>\n",
       "      <td>2191-03-17 03:29:31</td>\n",
       "      <td>0</td>\n",
       "      <td>NaT</td>\n",
       "      <td>17.0</td>\n",
       "      <td>2.8</td>\n",
       "      <td>24.0</td>\n",
       "      <td>2.2</td>\n",
       "      <td>0.5</td>\n",
       "      <td>97.0</td>\n",
       "      <td>140.0</td>\n",
       "      <td>34.2</td>\n",
       "      <td>11.5</td>\n",
       "      <td>2.1</td>\n",
       "      <td>1.9</td>\n",
       "      <td>3.2</td>\n",
       "      <td>207.0</td>\n",
       "      <td>3.1</td>\n",
       "      <td>31.3</td>\n",
       "      <td>1.0</td>\n",
       "      <td>12.3</td>\n",
       "      <td>135.0</td>\n",
       "      <td>9.0</td>\n",
       "      <td>9.7</td>\n",
       "      <td>97.0</td>\n",
       "      <td>119.0</td>\n",
       "      <td>69.0</td>\n",
       "      <td>85.666702</td>\n",
       "      <td>28.0</td>\n",
       "      <td>NaN</td>\n",
       "      <td>98.0</td>\n",
       "      <td>NaN</td>\n",
       "      <td>47.0</td>\n",
       "      <td>1</td>\n",
       "      <td>1</td>\n",
       "      <td>MICU</td>\n",
       "      <td>FEVER,DEHYDRATION,FAILURE TO THRIVE</td>\n",
       "      <td>MED</td>\n",
       "      <td>2191-03-23 18:41:00</td>\n",
       "      <td>EMERGENCY</td>\n",
       "      <td>0</td>\n",
       "      <td>0</td>\n",
       "      <td>2191-03-16 00:28:00</td>\n",
       "      <td>1.0</td>\n",
       "      <td>NaN</td>\n",
       "      <td>40.0</td>\n",
       "      <td>NaT</td>\n",
       "      <td>7.0</td>\n",
       "      <td>1</td>\n",
       "      <td>2191-03-17 16:46:31</td>\n",
       "      <td>2191-03-16 00:29:31</td>\n",
       "      <td>NaN</td>\n",
       "      <td>None</td>\n",
       "      <td>2191-03-16 00:29:31</td>\n",
       "      <td>white</td>\n",
       "      <td>0.0</td>\n",
       "      <td>0.0</td>\n",
       "      <td>0.0</td>\n",
       "      <td>0.0</td>\n",
       "      <td>0.0</td>\n",
       "      <td>0</td>\n",
       "      <td>0.0</td>\n",
       "      <td>0.0</td>\n",
       "      <td>0.0</td>\n",
       "      <td>0</td>\n",
       "      <td>0.0</td>\n",
       "      <td>0.0</td>\n",
       "      <td>0.0</td>\n",
       "      <td>1.0</td>\n",
       "      <td>0.0</td>\n",
       "      <td>0.0</td>\n",
       "      <td>0.0</td>\n",
       "      <td>0.0</td>\n",
       "      <td>0</td>\n",
       "      <td>0.0</td>\n",
       "      <td>0.0</td>\n",
       "      <td>0.0</td>\n",
       "      <td>1.0</td>\n",
       "      <td>1.0</td>\n",
       "      <td>0.0</td>\n",
       "      <td>0.0</td>\n",
       "      <td>0.0</td>\n",
       "      <td>0.0</td>\n",
       "      <td>0.0</td>\n",
       "      <td>0.0</td>\n",
       "    </tr>\n",
       "    <tr>\n",
       "      <td>1</td>\n",
       "      <td>4</td>\n",
       "      <td>185777</td>\n",
       "      <td>294638</td>\n",
       "      <td>4</td>\n",
       "      <td>2191-03-17 03:29:31</td>\n",
       "      <td>0</td>\n",
       "      <td>NaT</td>\n",
       "      <td>17.0</td>\n",
       "      <td>2.8</td>\n",
       "      <td>24.0</td>\n",
       "      <td>2.2</td>\n",
       "      <td>0.5</td>\n",
       "      <td>97.0</td>\n",
       "      <td>140.0</td>\n",
       "      <td>34.2</td>\n",
       "      <td>11.5</td>\n",
       "      <td>2.1</td>\n",
       "      <td>1.9</td>\n",
       "      <td>3.2</td>\n",
       "      <td>207.0</td>\n",
       "      <td>3.1</td>\n",
       "      <td>31.3</td>\n",
       "      <td>1.0</td>\n",
       "      <td>12.3</td>\n",
       "      <td>135.0</td>\n",
       "      <td>9.0</td>\n",
       "      <td>9.7</td>\n",
       "      <td>94.0</td>\n",
       "      <td>NaN</td>\n",
       "      <td>NaN</td>\n",
       "      <td>NaN</td>\n",
       "      <td>NaN</td>\n",
       "      <td>NaN</td>\n",
       "      <td>97.0</td>\n",
       "      <td>153.0</td>\n",
       "      <td>47.0</td>\n",
       "      <td>1</td>\n",
       "      <td>1</td>\n",
       "      <td>MICU</td>\n",
       "      <td>FEVER,DEHYDRATION,FAILURE TO THRIVE</td>\n",
       "      <td>MED</td>\n",
       "      <td>2191-03-23 18:41:00</td>\n",
       "      <td>EMERGENCY</td>\n",
       "      <td>0</td>\n",
       "      <td>0</td>\n",
       "      <td>2191-03-16 00:28:00</td>\n",
       "      <td>1.0</td>\n",
       "      <td>NaN</td>\n",
       "      <td>40.0</td>\n",
       "      <td>NaT</td>\n",
       "      <td>7.0</td>\n",
       "      <td>1</td>\n",
       "      <td>2191-03-17 16:46:31</td>\n",
       "      <td>2191-03-16 00:29:31</td>\n",
       "      <td>NaN</td>\n",
       "      <td>None</td>\n",
       "      <td>2191-03-16 00:29:31</td>\n",
       "      <td>white</td>\n",
       "      <td>0.0</td>\n",
       "      <td>0.0</td>\n",
       "      <td>0.0</td>\n",
       "      <td>0.0</td>\n",
       "      <td>0.0</td>\n",
       "      <td>0</td>\n",
       "      <td>0.0</td>\n",
       "      <td>0.0</td>\n",
       "      <td>0.0</td>\n",
       "      <td>0</td>\n",
       "      <td>0.0</td>\n",
       "      <td>0.0</td>\n",
       "      <td>0.0</td>\n",
       "      <td>1.0</td>\n",
       "      <td>0.0</td>\n",
       "      <td>0.0</td>\n",
       "      <td>0.0</td>\n",
       "      <td>0.0</td>\n",
       "      <td>0</td>\n",
       "      <td>0.0</td>\n",
       "      <td>0.0</td>\n",
       "      <td>0.0</td>\n",
       "      <td>1.0</td>\n",
       "      <td>1.0</td>\n",
       "      <td>0.0</td>\n",
       "      <td>0.0</td>\n",
       "      <td>0.0</td>\n",
       "      <td>0.0</td>\n",
       "      <td>0.0</td>\n",
       "      <td>0.0</td>\n",
       "    </tr>\n",
       "    <tr>\n",
       "      <td>2</td>\n",
       "      <td>4</td>\n",
       "      <td>185777</td>\n",
       "      <td>294638</td>\n",
       "      <td>5</td>\n",
       "      <td>2191-03-17 03:29:31</td>\n",
       "      <td>0</td>\n",
       "      <td>NaT</td>\n",
       "      <td>17.0</td>\n",
       "      <td>2.8</td>\n",
       "      <td>24.0</td>\n",
       "      <td>2.2</td>\n",
       "      <td>0.5</td>\n",
       "      <td>97.0</td>\n",
       "      <td>140.0</td>\n",
       "      <td>34.2</td>\n",
       "      <td>11.5</td>\n",
       "      <td>2.1</td>\n",
       "      <td>1.9</td>\n",
       "      <td>3.2</td>\n",
       "      <td>207.0</td>\n",
       "      <td>3.1</td>\n",
       "      <td>31.3</td>\n",
       "      <td>1.0</td>\n",
       "      <td>12.3</td>\n",
       "      <td>135.0</td>\n",
       "      <td>9.0</td>\n",
       "      <td>9.7</td>\n",
       "      <td>99.0</td>\n",
       "      <td>133.0</td>\n",
       "      <td>79.0</td>\n",
       "      <td>97.000000</td>\n",
       "      <td>26.0</td>\n",
       "      <td>NaN</td>\n",
       "      <td>98.0</td>\n",
       "      <td>NaN</td>\n",
       "      <td>47.0</td>\n",
       "      <td>1</td>\n",
       "      <td>1</td>\n",
       "      <td>MICU</td>\n",
       "      <td>FEVER,DEHYDRATION,FAILURE TO THRIVE</td>\n",
       "      <td>MED</td>\n",
       "      <td>2191-03-23 18:41:00</td>\n",
       "      <td>EMERGENCY</td>\n",
       "      <td>0</td>\n",
       "      <td>0</td>\n",
       "      <td>2191-03-16 00:28:00</td>\n",
       "      <td>1.0</td>\n",
       "      <td>NaN</td>\n",
       "      <td>40.0</td>\n",
       "      <td>NaT</td>\n",
       "      <td>7.0</td>\n",
       "      <td>1</td>\n",
       "      <td>2191-03-17 16:46:31</td>\n",
       "      <td>2191-03-16 00:29:31</td>\n",
       "      <td>NaN</td>\n",
       "      <td>None</td>\n",
       "      <td>2191-03-16 00:29:31</td>\n",
       "      <td>white</td>\n",
       "      <td>0.0</td>\n",
       "      <td>0.0</td>\n",
       "      <td>0.0</td>\n",
       "      <td>0.0</td>\n",
       "      <td>0.0</td>\n",
       "      <td>0</td>\n",
       "      <td>0.0</td>\n",
       "      <td>0.0</td>\n",
       "      <td>0.0</td>\n",
       "      <td>0</td>\n",
       "      <td>0.0</td>\n",
       "      <td>0.0</td>\n",
       "      <td>0.0</td>\n",
       "      <td>1.0</td>\n",
       "      <td>0.0</td>\n",
       "      <td>0.0</td>\n",
       "      <td>0.0</td>\n",
       "      <td>0.0</td>\n",
       "      <td>0</td>\n",
       "      <td>0.0</td>\n",
       "      <td>0.0</td>\n",
       "      <td>0.0</td>\n",
       "      <td>1.0</td>\n",
       "      <td>1.0</td>\n",
       "      <td>0.0</td>\n",
       "      <td>0.0</td>\n",
       "      <td>0.0</td>\n",
       "      <td>0.0</td>\n",
       "      <td>0.0</td>\n",
       "      <td>0.0</td>\n",
       "    </tr>\n",
       "    <tr>\n",
       "      <td>3</td>\n",
       "      <td>4</td>\n",
       "      <td>185777</td>\n",
       "      <td>294638</td>\n",
       "      <td>6</td>\n",
       "      <td>2191-03-17 03:29:31</td>\n",
       "      <td>0</td>\n",
       "      <td>NaT</td>\n",
       "      <td>17.0</td>\n",
       "      <td>2.8</td>\n",
       "      <td>24.0</td>\n",
       "      <td>2.2</td>\n",
       "      <td>0.5</td>\n",
       "      <td>97.0</td>\n",
       "      <td>140.0</td>\n",
       "      <td>34.2</td>\n",
       "      <td>11.5</td>\n",
       "      <td>2.1</td>\n",
       "      <td>1.9</td>\n",
       "      <td>3.2</td>\n",
       "      <td>207.0</td>\n",
       "      <td>3.1</td>\n",
       "      <td>31.3</td>\n",
       "      <td>1.0</td>\n",
       "      <td>12.3</td>\n",
       "      <td>135.0</td>\n",
       "      <td>9.0</td>\n",
       "      <td>9.7</td>\n",
       "      <td>92.0</td>\n",
       "      <td>NaN</td>\n",
       "      <td>NaN</td>\n",
       "      <td>NaN</td>\n",
       "      <td>24.0</td>\n",
       "      <td>36.666667</td>\n",
       "      <td>97.0</td>\n",
       "      <td>NaN</td>\n",
       "      <td>47.0</td>\n",
       "      <td>1</td>\n",
       "      <td>1</td>\n",
       "      <td>MICU</td>\n",
       "      <td>FEVER,DEHYDRATION,FAILURE TO THRIVE</td>\n",
       "      <td>MED</td>\n",
       "      <td>2191-03-23 18:41:00</td>\n",
       "      <td>EMERGENCY</td>\n",
       "      <td>0</td>\n",
       "      <td>0</td>\n",
       "      <td>2191-03-16 00:28:00</td>\n",
       "      <td>1.0</td>\n",
       "      <td>NaN</td>\n",
       "      <td>40.0</td>\n",
       "      <td>NaT</td>\n",
       "      <td>7.0</td>\n",
       "      <td>1</td>\n",
       "      <td>2191-03-17 16:46:31</td>\n",
       "      <td>2191-03-16 00:29:31</td>\n",
       "      <td>NaN</td>\n",
       "      <td>None</td>\n",
       "      <td>2191-03-16 00:29:31</td>\n",
       "      <td>white</td>\n",
       "      <td>0.0</td>\n",
       "      <td>0.0</td>\n",
       "      <td>0.0</td>\n",
       "      <td>0.0</td>\n",
       "      <td>0.0</td>\n",
       "      <td>0</td>\n",
       "      <td>0.0</td>\n",
       "      <td>0.0</td>\n",
       "      <td>0.0</td>\n",
       "      <td>0</td>\n",
       "      <td>0.0</td>\n",
       "      <td>0.0</td>\n",
       "      <td>0.0</td>\n",
       "      <td>1.0</td>\n",
       "      <td>0.0</td>\n",
       "      <td>0.0</td>\n",
       "      <td>0.0</td>\n",
       "      <td>0.0</td>\n",
       "      <td>0</td>\n",
       "      <td>0.0</td>\n",
       "      <td>0.0</td>\n",
       "      <td>0.0</td>\n",
       "      <td>1.0</td>\n",
       "      <td>1.0</td>\n",
       "      <td>0.0</td>\n",
       "      <td>0.0</td>\n",
       "      <td>0.0</td>\n",
       "      <td>0.0</td>\n",
       "      <td>0.0</td>\n",
       "      <td>0.0</td>\n",
       "    </tr>\n",
       "    <tr>\n",
       "      <td>4</td>\n",
       "      <td>4</td>\n",
       "      <td>185777</td>\n",
       "      <td>294638</td>\n",
       "      <td>7</td>\n",
       "      <td>2191-03-17 03:29:31</td>\n",
       "      <td>0</td>\n",
       "      <td>NaT</td>\n",
       "      <td>17.0</td>\n",
       "      <td>2.8</td>\n",
       "      <td>24.0</td>\n",
       "      <td>2.2</td>\n",
       "      <td>0.5</td>\n",
       "      <td>97.0</td>\n",
       "      <td>140.0</td>\n",
       "      <td>34.2</td>\n",
       "      <td>11.5</td>\n",
       "      <td>2.1</td>\n",
       "      <td>1.9</td>\n",
       "      <td>3.2</td>\n",
       "      <td>207.0</td>\n",
       "      <td>3.1</td>\n",
       "      <td>31.3</td>\n",
       "      <td>1.0</td>\n",
       "      <td>12.3</td>\n",
       "      <td>135.0</td>\n",
       "      <td>9.0</td>\n",
       "      <td>9.7</td>\n",
       "      <td>89.0</td>\n",
       "      <td>139.0</td>\n",
       "      <td>81.0</td>\n",
       "      <td>100.333000</td>\n",
       "      <td>25.0</td>\n",
       "      <td>NaN</td>\n",
       "      <td>97.0</td>\n",
       "      <td>NaN</td>\n",
       "      <td>47.0</td>\n",
       "      <td>1</td>\n",
       "      <td>1</td>\n",
       "      <td>MICU</td>\n",
       "      <td>FEVER,DEHYDRATION,FAILURE TO THRIVE</td>\n",
       "      <td>MED</td>\n",
       "      <td>2191-03-23 18:41:00</td>\n",
       "      <td>EMERGENCY</td>\n",
       "      <td>0</td>\n",
       "      <td>0</td>\n",
       "      <td>2191-03-16 00:28:00</td>\n",
       "      <td>1.0</td>\n",
       "      <td>NaN</td>\n",
       "      <td>40.0</td>\n",
       "      <td>NaT</td>\n",
       "      <td>7.0</td>\n",
       "      <td>1</td>\n",
       "      <td>2191-03-17 16:46:31</td>\n",
       "      <td>2191-03-16 00:29:31</td>\n",
       "      <td>NaN</td>\n",
       "      <td>None</td>\n",
       "      <td>2191-03-16 00:29:31</td>\n",
       "      <td>white</td>\n",
       "      <td>0.0</td>\n",
       "      <td>0.0</td>\n",
       "      <td>0.0</td>\n",
       "      <td>0.0</td>\n",
       "      <td>0.0</td>\n",
       "      <td>0</td>\n",
       "      <td>0.0</td>\n",
       "      <td>0.0</td>\n",
       "      <td>0.0</td>\n",
       "      <td>0</td>\n",
       "      <td>0.0</td>\n",
       "      <td>0.0</td>\n",
       "      <td>0.0</td>\n",
       "      <td>1.0</td>\n",
       "      <td>0.0</td>\n",
       "      <td>0.0</td>\n",
       "      <td>0.0</td>\n",
       "      <td>0.0</td>\n",
       "      <td>0</td>\n",
       "      <td>0.0</td>\n",
       "      <td>0.0</td>\n",
       "      <td>0.0</td>\n",
       "      <td>1.0</td>\n",
       "      <td>1.0</td>\n",
       "      <td>0.0</td>\n",
       "      <td>0.0</td>\n",
       "      <td>0.0</td>\n",
       "      <td>0.0</td>\n",
       "      <td>0.0</td>\n",
       "      <td>0.0</td>\n",
       "    </tr>\n",
       "  </tbody>\n",
       "</table>\n",
       "</div>"
      ],
      "text/plain": [
       "   subject_id  hadm_id  icustay_id  timepoint          event_time  ventilated  \\\n",
       "0           4   185777      294638          3 2191-03-17 03:29:31           0   \n",
       "1           4   185777      294638          4 2191-03-17 03:29:31           0   \n",
       "2           4   185777      294638          5 2191-03-17 03:29:31           0   \n",
       "3           4   185777      294638          6 2191-03-17 03:29:31           0   \n",
       "4           4   185777      294638          7 2191-03-17 03:29:31           0   \n",
       "\n",
       "  mv_start  aniongap  albumin  bicarbonate  bilirubin  creatinine  chloride  \\\n",
       "0      NaT      17.0      2.8         24.0        2.2         0.5      97.0   \n",
       "1      NaT      17.0      2.8         24.0        2.2         0.5      97.0   \n",
       "2      NaT      17.0      2.8         24.0        2.2         0.5      97.0   \n",
       "3      NaT      17.0      2.8         24.0        2.2         0.5      97.0   \n",
       "4      NaT      17.0      2.8         24.0        2.2         0.5      97.0   \n",
       "\n",
       "   glucose  hematocrit  hemoglobin  lactate  magnesium  phosphate  platelet  \\\n",
       "0    140.0        34.2        11.5      2.1        1.9        3.2     207.0   \n",
       "1    140.0        34.2        11.5      2.1        1.9        3.2     207.0   \n",
       "2    140.0        34.2        11.5      2.1        1.9        3.2     207.0   \n",
       "3    140.0        34.2        11.5      2.1        1.9        3.2     207.0   \n",
       "4    140.0        34.2        11.5      2.1        1.9        3.2     207.0   \n",
       "\n",
       "   potassium   ptt  inr    pt  sodium  bun  wbc  heartrate_mean  sysbp_mean  \\\n",
       "0        3.1  31.3  1.0  12.3   135.0  9.0  9.7            97.0       119.0   \n",
       "1        3.1  31.3  1.0  12.3   135.0  9.0  9.7            94.0         NaN   \n",
       "2        3.1  31.3  1.0  12.3   135.0  9.0  9.7            99.0       133.0   \n",
       "3        3.1  31.3  1.0  12.3   135.0  9.0  9.7            92.0         NaN   \n",
       "4        3.1  31.3  1.0  12.3   135.0  9.0  9.7            89.0       139.0   \n",
       "\n",
       "   diasbp_mean  meanbp_mean  resprate_mean  tempc_mean  spo2_mean  \\\n",
       "0         69.0    85.666702           28.0         NaN       98.0   \n",
       "1          NaN          NaN            NaN         NaN       97.0   \n",
       "2         79.0    97.000000           26.0         NaN       98.0   \n",
       "3          NaN          NaN           24.0   36.666667       97.0   \n",
       "4         81.0   100.333000           25.0         NaN       97.0   \n",
       "\n",
       "   glucose_mean   age  first_icu_stay  adult_icu first_careunit  \\\n",
       "0           NaN  47.0               1          1           MICU   \n",
       "1         153.0  47.0               1          1           MICU   \n",
       "2           NaN  47.0               1          1           MICU   \n",
       "3           NaN  47.0               1          1           MICU   \n",
       "4           NaN  47.0               1          1           MICU   \n",
       "\n",
       "                             diagnosis curr_service           dischtime  \\\n",
       "0  FEVER,DEHYDRATION,FAILURE TO THRIVE          MED 2191-03-23 18:41:00   \n",
       "1  FEVER,DEHYDRATION,FAILURE TO THRIVE          MED 2191-03-23 18:41:00   \n",
       "2  FEVER,DEHYDRATION,FAILURE TO THRIVE          MED 2191-03-23 18:41:00   \n",
       "3  FEVER,DEHYDRATION,FAILURE TO THRIVE          MED 2191-03-23 18:41:00   \n",
       "4  FEVER,DEHYDRATION,FAILURE TO THRIVE          MED 2191-03-23 18:41:00   \n",
       "\n",
       "  admission_type  mort_icu  gender           admittime  los_icu  mv_hours  \\\n",
       "0      EMERGENCY         0       0 2191-03-16 00:28:00      1.0       NaN   \n",
       "1      EMERGENCY         0       0 2191-03-16 00:28:00      1.0       NaN   \n",
       "2      EMERGENCY         0       0 2191-03-16 00:28:00      1.0       NaN   \n",
       "3      EMERGENCY         0       0 2191-03-16 00:28:00      1.0       NaN   \n",
       "4      EMERGENCY         0       0 2191-03-16 00:28:00      1.0       NaN   \n",
       "\n",
       "   los_icu_hr mv_end  los_hospital  first_hosp_stay             outtime  \\\n",
       "0        40.0    NaT           7.0                1 2191-03-17 16:46:31   \n",
       "1        40.0    NaT           7.0                1 2191-03-17 16:46:31   \n",
       "2        40.0    NaT           7.0                1 2191-03-17 16:46:31   \n",
       "3        40.0    NaT           7.0                1 2191-03-17 16:46:31   \n",
       "4        40.0    NaT           7.0                1 2191-03-17 16:46:31   \n",
       "\n",
       "               intime  ventnum prev_service        transfertime ethnicity  \\\n",
       "0 2191-03-16 00:29:31      NaN         None 2191-03-16 00:29:31     white   \n",
       "1 2191-03-16 00:29:31      NaN         None 2191-03-16 00:29:31     white   \n",
       "2 2191-03-16 00:29:31      NaN         None 2191-03-16 00:29:31     white   \n",
       "3 2191-03-16 00:29:31      NaN         None 2191-03-16 00:29:31     white   \n",
       "4 2191-03-16 00:29:31      NaN         None 2191-03-16 00:29:31     white   \n",
       "\n",
       "   congestive_heart_failure  cardiac_arrhythmias  valvular_disease  \\\n",
       "0                       0.0                  0.0               0.0   \n",
       "1                       0.0                  0.0               0.0   \n",
       "2                       0.0                  0.0               0.0   \n",
       "3                       0.0                  0.0               0.0   \n",
       "4                       0.0                  0.0               0.0   \n",
       "\n",
       "   pulmonary_circulation  peripheral_vascular  hypertension  paralysis  \\\n",
       "0                    0.0                  0.0             0        0.0   \n",
       "1                    0.0                  0.0             0        0.0   \n",
       "2                    0.0                  0.0             0        0.0   \n",
       "3                    0.0                  0.0             0        0.0   \n",
       "4                    0.0                  0.0             0        0.0   \n",
       "\n",
       "   other_neurological  chronic_pulmonary  diabetes_uncomplicated  \\\n",
       "0                 0.0                0.0                       0   \n",
       "1                 0.0                0.0                       0   \n",
       "2                 0.0                0.0                       0   \n",
       "3                 0.0                0.0                       0   \n",
       "4                 0.0                0.0                       0   \n",
       "\n",
       "   diabetes_complicated  hypothyroidism  renal_failure  liver_disease  \\\n",
       "0                   0.0             0.0            0.0            1.0   \n",
       "1                   0.0             0.0            0.0            1.0   \n",
       "2                   0.0             0.0            0.0            1.0   \n",
       "3                   0.0             0.0            0.0            1.0   \n",
       "4                   0.0             0.0            0.0            1.0   \n",
       "\n",
       "   peptic_ulcer  aids  lymphoma  metastatic_cancer  solid_tumor  \\\n",
       "0           0.0   0.0       0.0                0.0            0   \n",
       "1           0.0   0.0       0.0                0.0            0   \n",
       "2           0.0   0.0       0.0                0.0            0   \n",
       "3           0.0   0.0       0.0                0.0            0   \n",
       "4           0.0   0.0       0.0                0.0            0   \n",
       "\n",
       "   rheumatoid_arthritis  coagulopathy  obesity  weight_loss  \\\n",
       "0                   0.0           0.0      0.0          1.0   \n",
       "1                   0.0           0.0      0.0          1.0   \n",
       "2                   0.0           0.0      0.0          1.0   \n",
       "3                   0.0           0.0      0.0          1.0   \n",
       "4                   0.0           0.0      0.0          1.0   \n",
       "\n",
       "   fluid_electrolyte  blood_loss_anemia  deficiency_anemias  alcohol_abuse  \\\n",
       "0                1.0                0.0                 0.0            0.0   \n",
       "1                1.0                0.0                 0.0            0.0   \n",
       "2                1.0                0.0                 0.0            0.0   \n",
       "3                1.0                0.0                 0.0            0.0   \n",
       "4                1.0                0.0                 0.0            0.0   \n",
       "\n",
       "   drug_abuse  psychoses  depression  \n",
       "0         0.0        0.0         0.0  \n",
       "1         0.0        0.0         0.0  \n",
       "2         0.0        0.0         0.0  \n",
       "3         0.0        0.0         0.0  \n",
       "4         0.0        0.0         0.0  "
      ]
     },
     "metadata": {},
     "output_type": "display_data"
    }
   ],
   "source": [
    "from IPython.display import display\n",
    "pd.options.display.max_columns = None\n",
    "display(df_selected.head())"
   ]
  },
  {
   "cell_type": "code",
   "execution_count": 41,
   "metadata": {},
   "outputs": [
    {
     "data": {
      "text/plain": [
       "Index(['subject_id', 'hadm_id', 'icustay_id', 'timepoint', 'event_time',\n",
       "       'ventilated', 'mv_start', 'aniongap', 'albumin', 'bicarbonate',\n",
       "       'bilirubin', 'creatinine', 'chloride', 'glucose', 'hematocrit',\n",
       "       'hemoglobin', 'lactate', 'magnesium', 'phosphate', 'platelet',\n",
       "       'potassium', 'ptt', 'inr', 'pt', 'sodium', 'bun', 'wbc',\n",
       "       'heartrate_mean', 'sysbp_mean', 'diasbp_mean', 'meanbp_mean',\n",
       "       'resprate_mean', 'tempc_mean', 'spo2_mean', 'glucose_mean', 'age',\n",
       "       'first_icu_stay', 'adult_icu', 'first_careunit', 'diagnosis',\n",
       "       'curr_service', 'dischtime', 'admission_type', 'mort_icu', 'gender',\n",
       "       'admittime', 'los_icu', 'mv_hours', 'los_icu_hr', 'mv_end',\n",
       "       'los_hospital', 'first_hosp_stay', 'outtime', 'intime', 'ventnum',\n",
       "       'prev_service', 'transfertime', 'ethnicity', 'congestive_heart_failure',\n",
       "       'cardiac_arrhythmias', 'valvular_disease', 'pulmonary_circulation',\n",
       "       'peripheral_vascular', 'hypertension', 'paralysis',\n",
       "       'other_neurological', 'chronic_pulmonary', 'diabetes_uncomplicated',\n",
       "       'diabetes_complicated', 'hypothyroidism', 'renal_failure',\n",
       "       'liver_disease', 'peptic_ulcer', 'aids', 'lymphoma',\n",
       "       'metastatic_cancer', 'solid_tumor', 'rheumatoid_arthritis',\n",
       "       'coagulopathy', 'obesity', 'weight_loss', 'fluid_electrolyte',\n",
       "       'blood_loss_anemia', 'deficiency_anemias', 'alcohol_abuse',\n",
       "       'drug_abuse', 'psychoses', 'depression'],\n",
       "      dtype='object')"
      ]
     },
     "execution_count": 41,
     "metadata": {},
     "output_type": "execute_result"
    }
   ],
   "source": [
    "df_selected.columns"
   ]
  },
  {
   "cell_type": "code",
   "execution_count": 42,
   "metadata": {},
   "outputs": [],
   "source": [
    "conn.execute(\"DROP TABLE IF EXISTS mimic_users_study;\")\n",
    "conn.close()"
   ]
  },
  {
   "cell_type": "code",
   "execution_count": 43,
   "metadata": {},
   "outputs": [],
   "source": [
    "schema_name = 'mimiciii'\n",
    "conn = engine.connect()\n",
    "conn.execute('SET search_path to ' + schema_name)\n",
    "df_selected.to_sql('mimic_users_study', conn, if_exists='replace', index=False)"
   ]
  },
  {
   "cell_type": "code",
   "execution_count": 44,
   "metadata": {},
   "outputs": [],
   "source": [
    "conn.close()"
   ]
  },
  {
   "cell_type": "code",
   "execution_count": null,
   "metadata": {},
   "outputs": [],
   "source": []
  }
 ],
 "metadata": {
  "kernelspec": {
   "display_name": "py36",
   "language": "python",
   "name": "py36"
  },
  "language_info": {
   "codemirror_mode": {
    "name": "ipython",
    "version": 3
   },
   "file_extension": ".py",
   "mimetype": "text/x-python",
   "name": "python",
   "nbconvert_exporter": "python",
   "pygments_lexer": "ipython3",
   "version": "3.6.0"
  }
 },
 "nbformat": 4,
 "nbformat_minor": 2
}
