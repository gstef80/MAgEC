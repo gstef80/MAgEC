{
 "cells": [
  {
   "cell_type": "code",
   "execution_count": 1,
   "metadata": {},
   "outputs": [],
   "source": [
    "import numpy as np\n",
    "import pandas as pd\n",
    "import psycopg2\n",
    "import os \n",
    "import random\n",
    "import datetime\n",
    "from sqlalchemy import create_engine\n",
    "import matplotlib.pyplot as plt\n",
    "\n",
    "%matplotlib inline\n",
    "\n",
    "random.seed(22891)"
   ]
  },
  {
   "cell_type": "markdown",
   "metadata": {},
   "source": [
    "### Get data"
   ]
  },
  {
   "cell_type": "code",
   "execution_count": 2,
   "metadata": {},
   "outputs": [],
   "source": [
    "# information used to create a database connection\n",
    "sqluser = 'postgres'\n",
    "dbname = 'mimic'\n",
    "schema_name = 'mimiciii'\n",
    "\n",
    "engine = create_engine(\"postgresql+psycopg2://{}:{}@/{}\".format(sqluser, sqluser, dbname))\n",
    "\n",
    "schema_name = 'mimiciii'\n",
    "conn = engine.connect()\n",
    "conn.execute('SET search_path to ' + schema_name)\n",
    "\n",
    "df = pd.read_sql(\"SELECT * FROM mimic_users_study;\", conn)\n",
    "conn.close()"
   ]
  },
  {
   "cell_type": "markdown",
   "metadata": {},
   "source": [
    "### Create features"
   ]
  },
  {
   "cell_type": "code",
   "execution_count": 3,
   "metadata": {},
   "outputs": [],
   "source": [
    "vitals = ['heartrate_mean', 'sysbp_mean', 'diasbp_mean', 'meanbp_mean',\n",
    "          'resprate_mean', 'tempc_mean', 'spo2_mean', 'glucose_mean']\n",
    "labs = ['aniongap', 'albumin', 'bicarbonate', 'bilirubin', 'creatinine', \n",
    "        'chloride', 'glucose', 'hemoglobin', 'lactate', \n",
    "        'magnesium', 'phosphate', 'platelet', 'potassium', 'ptt', 'inr', \n",
    "        'pt', 'sodium', 'bun', 'wbc']  # -hematocrit\n",
    "comobs = ['congestive_heart_failure', 'chronic_pulmonary', 'pulmonary_circulation']\n",
    "others = ['age', 'gender']"
   ]
  },
  {
   "cell_type": "code",
   "execution_count": 4,
   "metadata": {},
   "outputs": [],
   "source": [
    "def last_val(x):\n",
    "    vals = x[~np.isnan(x)]\n",
    "    if len(vals):\n",
    "        return vals[-1]\n",
    "    else:\n",
    "        return None\n",
    "    \n",
    "def featurize(df):\n",
    "    out = dict()\n",
    "    for lab in labs:\n",
    "        out[lab] = last_val(df[lab])\n",
    "    for vital in vitals:\n",
    "        out[vital] = last_val(df[vital])\n",
    "    for comob in comobs:\n",
    "        out[comob] = last_val(df[comob])\n",
    "    for other in others:\n",
    "        out[other] = last_val(df[other])\n",
    "    out['label'] = int(df.ventilated.iloc[-1])\n",
    "    return pd.Series(out)"
   ]
  },
  {
   "cell_type": "code",
   "execution_count": 5,
   "metadata": {},
   "outputs": [],
   "source": [
    "df_ml = df.set_index(['subject_id', 'timepoint']).groupby(level=0, group_keys=False).\\\n",
    "                                                  apply(featurize).reset_index()"
   ]
  },
  {
   "cell_type": "markdown",
   "metadata": {},
   "source": [
    "### Impute vitals+labs with mean and co-morbidities with 0"
   ]
  },
  {
   "cell_type": "code",
   "execution_count": 6,
   "metadata": {},
   "outputs": [],
   "source": [
    "df_ml[vitals+labs] = df_ml[vitals+labs].fillna(df_ml[vitals+labs].mean())\n",
    "df_ml[comobs] = df_ml[comobs].fillna(0)"
   ]
  },
  {
   "cell_type": "markdown",
   "metadata": {},
   "source": [
    "### Scale data"
   ]
  },
  {
   "cell_type": "code",
   "execution_count": 7,
   "metadata": {},
   "outputs": [],
   "source": [
    "from sklearn import preprocessing\n",
    "\n",
    "for feat in vitals+labs+comobs+others:\n",
    "    df_ml[feat] = preprocessing.StandardScaler().fit_transform(df_ml[feat].values.reshape(-1, 1))"
   ]
  },
  {
   "cell_type": "code",
   "execution_count": 8,
   "metadata": {},
   "outputs": [
    {
     "data": {
      "text/html": [
       "<div>\n",
       "<style scoped>\n",
       "    .dataframe tbody tr th:only-of-type {\n",
       "        vertical-align: middle;\n",
       "    }\n",
       "\n",
       "    .dataframe tbody tr th {\n",
       "        vertical-align: top;\n",
       "    }\n",
       "\n",
       "    .dataframe thead th {\n",
       "        text-align: right;\n",
       "    }\n",
       "</style>\n",
       "<table border=\"1\" class=\"dataframe\">\n",
       "  <thead>\n",
       "    <tr style=\"text-align: right;\">\n",
       "      <th></th>\n",
       "      <th>subject_id</th>\n",
       "      <th>aniongap</th>\n",
       "      <th>albumin</th>\n",
       "      <th>bicarbonate</th>\n",
       "      <th>bilirubin</th>\n",
       "      <th>creatinine</th>\n",
       "      <th>chloride</th>\n",
       "      <th>glucose</th>\n",
       "      <th>hemoglobin</th>\n",
       "      <th>lactate</th>\n",
       "      <th>...</th>\n",
       "      <th>resprate_mean</th>\n",
       "      <th>tempc_mean</th>\n",
       "      <th>spo2_mean</th>\n",
       "      <th>glucose_mean</th>\n",
       "      <th>congestive_heart_failure</th>\n",
       "      <th>chronic_pulmonary</th>\n",
       "      <th>pulmonary_circulation</th>\n",
       "      <th>age</th>\n",
       "      <th>gender</th>\n",
       "      <th>label</th>\n",
       "    </tr>\n",
       "  </thead>\n",
       "  <tbody>\n",
       "    <tr>\n",
       "      <td>0</td>\n",
       "      <td>4</td>\n",
       "      <td>0.193194</td>\n",
       "      <td>-1.220623e+00</td>\n",
       "      <td>0.037682</td>\n",
       "      <td>2.031997e-01</td>\n",
       "      <td>-0.589794</td>\n",
       "      <td>-0.756506</td>\n",
       "      <td>-0.157733</td>\n",
       "      <td>-1.702553e-01</td>\n",
       "      <td>-2.000681e-01</td>\n",
       "      <td>...</td>\n",
       "      <td>-0.353315</td>\n",
       "      <td>0.920057</td>\n",
       "      <td>0.350774</td>\n",
       "      <td>0.375776</td>\n",
       "      <td>-0.623134</td>\n",
       "      <td>-0.4988</td>\n",
       "      <td>-0.26158</td>\n",
       "      <td>-0.913831</td>\n",
       "      <td>-1.142911</td>\n",
       "      <td>0.0</td>\n",
       "    </tr>\n",
       "    <tr>\n",
       "      <td>1</td>\n",
       "      <td>18</td>\n",
       "      <td>0.401561</td>\n",
       "      <td>3.064912e+00</td>\n",
       "      <td>-0.169231</td>\n",
       "      <td>-1.371907e-01</td>\n",
       "      <td>-0.363041</td>\n",
       "      <td>-0.448226</td>\n",
       "      <td>1.492195</td>\n",
       "      <td>1.204078e+00</td>\n",
       "      <td>1.019958e+00</td>\n",
       "      <td>...</td>\n",
       "      <td>0.214905</td>\n",
       "      <td>-0.128543</td>\n",
       "      <td>0.656755</td>\n",
       "      <td>1.079414</td>\n",
       "      <td>-0.623134</td>\n",
       "      <td>-0.4988</td>\n",
       "      <td>-0.26158</td>\n",
       "      <td>-0.738730</td>\n",
       "      <td>0.874959</td>\n",
       "      <td>0.0</td>\n",
       "    </tr>\n",
       "    <tr>\n",
       "      <td>2</td>\n",
       "      <td>21</td>\n",
       "      <td>1.235029</td>\n",
       "      <td>-7.250133e-15</td>\n",
       "      <td>-1.617621</td>\n",
       "      <td>-3.538028e-01</td>\n",
       "      <td>0.940787</td>\n",
       "      <td>0.476616</td>\n",
       "      <td>0.283424</td>\n",
       "      <td>-9.198916e-01</td>\n",
       "      <td>1.263963e+00</td>\n",
       "      <td>...</td>\n",
       "      <td>0.214905</td>\n",
       "      <td>0.500618</td>\n",
       "      <td>0.962736</td>\n",
       "      <td>0.111404</td>\n",
       "      <td>1.604790</td>\n",
       "      <td>-0.4988</td>\n",
       "      <td>-0.26158</td>\n",
       "      <td>1.420848</td>\n",
       "      <td>0.874959</td>\n",
       "      <td>0.0</td>\n",
       "    </tr>\n",
       "    <tr>\n",
       "      <td>3</td>\n",
       "      <td>25</td>\n",
       "      <td>0.609928</td>\n",
       "      <td>-4.043308e-01</td>\n",
       "      <td>-0.169231</td>\n",
       "      <td>-3.538028e-01</td>\n",
       "      <td>0.033776</td>\n",
       "      <td>-1.064787</td>\n",
       "      <td>1.942176</td>\n",
       "      <td>4.960880e-01</td>\n",
       "      <td>-6.067435e-01</td>\n",
       "      <td>...</td>\n",
       "      <td>0.214905</td>\n",
       "      <td>0.011269</td>\n",
       "      <td>-0.567170</td>\n",
       "      <td>2.629045</td>\n",
       "      <td>-0.623134</td>\n",
       "      <td>-0.4988</td>\n",
       "      <td>-0.26158</td>\n",
       "      <td>-0.271795</td>\n",
       "      <td>0.874959</td>\n",
       "      <td>0.0</td>\n",
       "    </tr>\n",
       "    <tr>\n",
       "      <td>4</td>\n",
       "      <td>26</td>\n",
       "      <td>-0.848641</td>\n",
       "      <td>-7.250133e-15</td>\n",
       "      <td>0.865333</td>\n",
       "      <td>-1.374215e-15</td>\n",
       "      <td>-0.192976</td>\n",
       "      <td>0.939037</td>\n",
       "      <td>-0.457720</td>\n",
       "      <td>-3.698949e-15</td>\n",
       "      <td>7.224005e-16</td>\n",
       "      <td>...</td>\n",
       "      <td>0.025499</td>\n",
       "      <td>0.640430</td>\n",
       "      <td>0.350774</td>\n",
       "      <td>0.432718</td>\n",
       "      <td>1.604790</td>\n",
       "      <td>-0.4988</td>\n",
       "      <td>-0.26158</td>\n",
       "      <td>0.545343</td>\n",
       "      <td>0.874959</td>\n",
       "      <td>0.0</td>\n",
       "    </tr>\n",
       "  </tbody>\n",
       "</table>\n",
       "<p>5 rows × 34 columns</p>\n",
       "</div>"
      ],
      "text/plain": [
       "   subject_id  aniongap       albumin  bicarbonate     bilirubin  creatinine  \\\n",
       "0           4  0.193194 -1.220623e+00     0.037682  2.031997e-01   -0.589794   \n",
       "1          18  0.401561  3.064912e+00    -0.169231 -1.371907e-01   -0.363041   \n",
       "2          21  1.235029 -7.250133e-15    -1.617621 -3.538028e-01    0.940787   \n",
       "3          25  0.609928 -4.043308e-01    -0.169231 -3.538028e-01    0.033776   \n",
       "4          26 -0.848641 -7.250133e-15     0.865333 -1.374215e-15   -0.192976   \n",
       "\n",
       "   chloride   glucose    hemoglobin       lactate  ...  resprate_mean  \\\n",
       "0 -0.756506 -0.157733 -1.702553e-01 -2.000681e-01  ...      -0.353315   \n",
       "1 -0.448226  1.492195  1.204078e+00  1.019958e+00  ...       0.214905   \n",
       "2  0.476616  0.283424 -9.198916e-01  1.263963e+00  ...       0.214905   \n",
       "3 -1.064787  1.942176  4.960880e-01 -6.067435e-01  ...       0.214905   \n",
       "4  0.939037 -0.457720 -3.698949e-15  7.224005e-16  ...       0.025499   \n",
       "\n",
       "   tempc_mean  spo2_mean  glucose_mean  congestive_heart_failure  \\\n",
       "0    0.920057   0.350774      0.375776                 -0.623134   \n",
       "1   -0.128543   0.656755      1.079414                 -0.623134   \n",
       "2    0.500618   0.962736      0.111404                  1.604790   \n",
       "3    0.011269  -0.567170      2.629045                 -0.623134   \n",
       "4    0.640430   0.350774      0.432718                  1.604790   \n",
       "\n",
       "   chronic_pulmonary  pulmonary_circulation       age    gender  label  \n",
       "0            -0.4988               -0.26158 -0.913831 -1.142911    0.0  \n",
       "1            -0.4988               -0.26158 -0.738730  0.874959    0.0  \n",
       "2            -0.4988               -0.26158  1.420848  0.874959    0.0  \n",
       "3            -0.4988               -0.26158 -0.271795  0.874959    0.0  \n",
       "4            -0.4988               -0.26158  0.545343  0.874959    0.0  \n",
       "\n",
       "[5 rows x 34 columns]"
      ]
     },
     "execution_count": 8,
     "metadata": {},
     "output_type": "execute_result"
    }
   ],
   "source": [
    "df_ml.head()"
   ]
  },
  {
   "cell_type": "code",
   "execution_count": 9,
   "metadata": {},
   "outputs": [],
   "source": [
    "X = df_ml[list(set(df_ml.columns) - {'subject_id', 'label'})]\n",
    "Y = df_ml['label'].astype(int)"
   ]
  },
  {
   "cell_type": "markdown",
   "metadata": {},
   "source": [
    "### Model k-fold CV"
   ]
  },
  {
   "cell_type": "code",
   "execution_count": 12,
   "metadata": {},
   "outputs": [],
   "source": [
    "from sklearn.model_selection import StratifiedKFold\n",
    "from sklearn.model_selection import cross_val_score\n",
    "\n",
    "def kfold(estimator, X, Y):\n",
    "    kfold = StratifiedKFold(n_splits=10, shuffle=True)\n",
    "    results = cross_val_score(estimator, X, Y, cv=kfold)\n",
    "    print(\"Baseline: %.2f%% (%.2f%%)\" % (results.mean()*100, results.std()*100))"
   ]
  },
  {
   "cell_type": "code",
   "execution_count": 13,
   "metadata": {},
   "outputs": [
    {
     "data": {
      "text/plain": [
       "array([0.62030971, 2.5779703 ])"
      ]
     },
     "execution_count": 13,
     "metadata": {},
     "output_type": "execute_result"
    }
   ],
   "source": [
    "from sklearn.utils import class_weight\n",
    "class_weights = class_weight.compute_class_weight('balanced', np.unique(Y), Y)\n",
    "class_weights"
   ]
  },
  {
   "cell_type": "markdown",
   "metadata": {},
   "source": [
    "### LR"
   ]
  },
  {
   "cell_type": "code",
   "execution_count": 14,
   "metadata": {},
   "outputs": [
    {
     "name": "stdout",
     "output_type": "stream",
     "text": [
      "Baseline: 64.85% (0.85%)\n"
     ]
    }
   ],
   "source": [
    "from sklearn.linear_model import LogisticRegression\n",
    "lr = LogisticRegression(C=1., class_weight='balanced', solver='lbfgs')\n",
    "kfold(lr, X, Y)"
   ]
  },
  {
   "cell_type": "markdown",
   "metadata": {},
   "source": [
    "### RF"
   ]
  },
  {
   "cell_type": "code",
   "execution_count": 16,
   "metadata": {},
   "outputs": [
    {
     "name": "stdout",
     "output_type": "stream",
     "text": [
      "Baseline: 87.02% (0.63%)\n"
     ]
    }
   ],
   "source": [
    "from sklearn.ensemble import RandomForestClassifier\n",
    "from sklearn.calibration import CalibratedClassifierCV\n",
    "rf = CalibratedClassifierCV(RandomForestClassifier(n_estimators=800, \n",
    "                                                   min_samples_split=2, \n",
    "                                                   min_samples_leaf=4, \n",
    "                                                   max_features='sqrt', \n",
    "                                                   max_depth=90, \n",
    "                                                   bootstrap=True, \n",
    "                                                   n_jobs=-1),\n",
    "                            method='sigmoid', cv=5)\n",
    "kfold(rf, X, Y)"
   ]
  },
  {
   "cell_type": "markdown",
   "metadata": {},
   "source": [
    "### MLP"
   ]
  },
  {
   "cell_type": "code",
   "execution_count": 17,
   "metadata": {},
   "outputs": [
    {
     "name": "stderr",
     "output_type": "stream",
     "text": [
      "Using TensorFlow backend.\n"
     ]
    },
    {
     "name": "stdout",
     "output_type": "stream",
     "text": [
      "Baseline: 86.30% (0.76%)\n"
     ]
    }
   ],
   "source": [
    "from keras.models import Sequential\n",
    "from keras.layers import Dense\n",
    "from keras.layers import Dropout\n",
    "from keras.wrappers.scikit_learn import KerasClassifier\n",
    "\n",
    "def create_baseline():\n",
    "    model = Sequential()\n",
    "    model.add(Dense(60, input_dim=len(X.columns), activation='relu'))\n",
    "    model.add(Dropout(0.2))\n",
    "    model.add(Dense(30, input_dim=60, activation='relu'))\n",
    "    model.add(Dropout(0.2))\n",
    "    model.add(Dense(1, activation='sigmoid'))\n",
    "    model.compile(loss='binary_crossentropy', \n",
    "                  loss_weights=[class_weights[1]], optimizer='adam', metrics=['accuracy'])\n",
    "    return model\n",
    "\n",
    "mlp = KerasClassifier(build_fn=create_baseline, epochs=100, batch_size=64, verbose=0)\n",
    "kfold(mlp, X, Y)"
   ]
  },
  {
   "cell_type": "code",
   "execution_count": null,
   "metadata": {},
   "outputs": [],
   "source": []
  }
 ],
 "metadata": {
  "kernelspec": {
   "display_name": "py36",
   "language": "python",
   "name": "py36"
  },
  "language_info": {
   "codemirror_mode": {
    "name": "ipython",
    "version": 3
   },
   "file_extension": ".py",
   "mimetype": "text/x-python",
   "name": "python",
   "nbconvert_exporter": "python",
   "pygments_lexer": "ipython3",
   "version": "3.6.1"
  }
 },
 "nbformat": 4,
 "nbformat_minor": 2
}
